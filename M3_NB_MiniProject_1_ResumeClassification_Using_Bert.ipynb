{
  "nbformat": 4,
  "nbformat_minor": 0,
  "metadata": {
    "colab": {
      "provenance": [],
      "include_colab_link": true
    },
    "kernelspec": {
      "name": "python3",
      "display_name": "Python 3"
    },
    "language_info": {
      "name": "python"
    },
    "widgets": {
      "application/vnd.jupyter.widget-state+json": {
        "abb58b19173f4b86890a8db5b704cb11": {
          "model_module": "@jupyter-widgets/controls",
          "model_name": "HBoxModel",
          "model_module_version": "1.5.0",
          "state": {
            "_dom_classes": [],
            "_model_module": "@jupyter-widgets/controls",
            "_model_module_version": "1.5.0",
            "_model_name": "HBoxModel",
            "_view_count": null,
            "_view_module": "@jupyter-widgets/controls",
            "_view_module_version": "1.5.0",
            "_view_name": "HBoxView",
            "box_style": "",
            "children": [
              "IPY_MODEL_24cd1a22c9864a8fab7dbc620760f0d0",
              "IPY_MODEL_2b4a00a69bec4e22b42d282aea903b29",
              "IPY_MODEL_737e7f83ebf34a69915b3a63a703a290"
            ],
            "layout": "IPY_MODEL_198194c64cef4ce6b248a8b4959fa07f"
          }
        },
        "24cd1a22c9864a8fab7dbc620760f0d0": {
          "model_module": "@jupyter-widgets/controls",
          "model_name": "HTMLModel",
          "model_module_version": "1.5.0",
          "state": {
            "_dom_classes": [],
            "_model_module": "@jupyter-widgets/controls",
            "_model_module_version": "1.5.0",
            "_model_name": "HTMLModel",
            "_view_count": null,
            "_view_module": "@jupyter-widgets/controls",
            "_view_module_version": "1.5.0",
            "_view_name": "HTMLView",
            "description": "",
            "description_tooltip": null,
            "layout": "IPY_MODEL_c3feb08bf4c042c5a09f5675ef5de389",
            "placeholder": "​",
            "style": "IPY_MODEL_2d41bd3ab8da42d48d55934bdf9c88bb",
            "value": "tokenizer_config.json: 100%"
          }
        },
        "2b4a00a69bec4e22b42d282aea903b29": {
          "model_module": "@jupyter-widgets/controls",
          "model_name": "FloatProgressModel",
          "model_module_version": "1.5.0",
          "state": {
            "_dom_classes": [],
            "_model_module": "@jupyter-widgets/controls",
            "_model_module_version": "1.5.0",
            "_model_name": "FloatProgressModel",
            "_view_count": null,
            "_view_module": "@jupyter-widgets/controls",
            "_view_module_version": "1.5.0",
            "_view_name": "ProgressView",
            "bar_style": "success",
            "description": "",
            "description_tooltip": null,
            "layout": "IPY_MODEL_3af48c10deb64be09b4585a3d4627223",
            "max": 48,
            "min": 0,
            "orientation": "horizontal",
            "style": "IPY_MODEL_ced03c833c2e425b813f0914ed371feb",
            "value": 48
          }
        },
        "737e7f83ebf34a69915b3a63a703a290": {
          "model_module": "@jupyter-widgets/controls",
          "model_name": "HTMLModel",
          "model_module_version": "1.5.0",
          "state": {
            "_dom_classes": [],
            "_model_module": "@jupyter-widgets/controls",
            "_model_module_version": "1.5.0",
            "_model_name": "HTMLModel",
            "_view_count": null,
            "_view_module": "@jupyter-widgets/controls",
            "_view_module_version": "1.5.0",
            "_view_name": "HTMLView",
            "description": "",
            "description_tooltip": null,
            "layout": "IPY_MODEL_6d44430880ae43b580987ca5afbc27de",
            "placeholder": "​",
            "style": "IPY_MODEL_3f91a1d8ce6545479505d615adea06bf",
            "value": " 48.0/48.0 [00:00&lt;00:00, 780B/s]"
          }
        },
        "198194c64cef4ce6b248a8b4959fa07f": {
          "model_module": "@jupyter-widgets/base",
          "model_name": "LayoutModel",
          "model_module_version": "1.2.0",
          "state": {
            "_model_module": "@jupyter-widgets/base",
            "_model_module_version": "1.2.0",
            "_model_name": "LayoutModel",
            "_view_count": null,
            "_view_module": "@jupyter-widgets/base",
            "_view_module_version": "1.2.0",
            "_view_name": "LayoutView",
            "align_content": null,
            "align_items": null,
            "align_self": null,
            "border": null,
            "bottom": null,
            "display": null,
            "flex": null,
            "flex_flow": null,
            "grid_area": null,
            "grid_auto_columns": null,
            "grid_auto_flow": null,
            "grid_auto_rows": null,
            "grid_column": null,
            "grid_gap": null,
            "grid_row": null,
            "grid_template_areas": null,
            "grid_template_columns": null,
            "grid_template_rows": null,
            "height": null,
            "justify_content": null,
            "justify_items": null,
            "left": null,
            "margin": null,
            "max_height": null,
            "max_width": null,
            "min_height": null,
            "min_width": null,
            "object_fit": null,
            "object_position": null,
            "order": null,
            "overflow": null,
            "overflow_x": null,
            "overflow_y": null,
            "padding": null,
            "right": null,
            "top": null,
            "visibility": null,
            "width": null
          }
        },
        "c3feb08bf4c042c5a09f5675ef5de389": {
          "model_module": "@jupyter-widgets/base",
          "model_name": "LayoutModel",
          "model_module_version": "1.2.0",
          "state": {
            "_model_module": "@jupyter-widgets/base",
            "_model_module_version": "1.2.0",
            "_model_name": "LayoutModel",
            "_view_count": null,
            "_view_module": "@jupyter-widgets/base",
            "_view_module_version": "1.2.0",
            "_view_name": "LayoutView",
            "align_content": null,
            "align_items": null,
            "align_self": null,
            "border": null,
            "bottom": null,
            "display": null,
            "flex": null,
            "flex_flow": null,
            "grid_area": null,
            "grid_auto_columns": null,
            "grid_auto_flow": null,
            "grid_auto_rows": null,
            "grid_column": null,
            "grid_gap": null,
            "grid_row": null,
            "grid_template_areas": null,
            "grid_template_columns": null,
            "grid_template_rows": null,
            "height": null,
            "justify_content": null,
            "justify_items": null,
            "left": null,
            "margin": null,
            "max_height": null,
            "max_width": null,
            "min_height": null,
            "min_width": null,
            "object_fit": null,
            "object_position": null,
            "order": null,
            "overflow": null,
            "overflow_x": null,
            "overflow_y": null,
            "padding": null,
            "right": null,
            "top": null,
            "visibility": null,
            "width": null
          }
        },
        "2d41bd3ab8da42d48d55934bdf9c88bb": {
          "model_module": "@jupyter-widgets/controls",
          "model_name": "DescriptionStyleModel",
          "model_module_version": "1.5.0",
          "state": {
            "_model_module": "@jupyter-widgets/controls",
            "_model_module_version": "1.5.0",
            "_model_name": "DescriptionStyleModel",
            "_view_count": null,
            "_view_module": "@jupyter-widgets/base",
            "_view_module_version": "1.2.0",
            "_view_name": "StyleView",
            "description_width": ""
          }
        },
        "3af48c10deb64be09b4585a3d4627223": {
          "model_module": "@jupyter-widgets/base",
          "model_name": "LayoutModel",
          "model_module_version": "1.2.0",
          "state": {
            "_model_module": "@jupyter-widgets/base",
            "_model_module_version": "1.2.0",
            "_model_name": "LayoutModel",
            "_view_count": null,
            "_view_module": "@jupyter-widgets/base",
            "_view_module_version": "1.2.0",
            "_view_name": "LayoutView",
            "align_content": null,
            "align_items": null,
            "align_self": null,
            "border": null,
            "bottom": null,
            "display": null,
            "flex": null,
            "flex_flow": null,
            "grid_area": null,
            "grid_auto_columns": null,
            "grid_auto_flow": null,
            "grid_auto_rows": null,
            "grid_column": null,
            "grid_gap": null,
            "grid_row": null,
            "grid_template_areas": null,
            "grid_template_columns": null,
            "grid_template_rows": null,
            "height": null,
            "justify_content": null,
            "justify_items": null,
            "left": null,
            "margin": null,
            "max_height": null,
            "max_width": null,
            "min_height": null,
            "min_width": null,
            "object_fit": null,
            "object_position": null,
            "order": null,
            "overflow": null,
            "overflow_x": null,
            "overflow_y": null,
            "padding": null,
            "right": null,
            "top": null,
            "visibility": null,
            "width": null
          }
        },
        "ced03c833c2e425b813f0914ed371feb": {
          "model_module": "@jupyter-widgets/controls",
          "model_name": "ProgressStyleModel",
          "model_module_version": "1.5.0",
          "state": {
            "_model_module": "@jupyter-widgets/controls",
            "_model_module_version": "1.5.0",
            "_model_name": "ProgressStyleModel",
            "_view_count": null,
            "_view_module": "@jupyter-widgets/base",
            "_view_module_version": "1.2.0",
            "_view_name": "StyleView",
            "bar_color": null,
            "description_width": ""
          }
        },
        "6d44430880ae43b580987ca5afbc27de": {
          "model_module": "@jupyter-widgets/base",
          "model_name": "LayoutModel",
          "model_module_version": "1.2.0",
          "state": {
            "_model_module": "@jupyter-widgets/base",
            "_model_module_version": "1.2.0",
            "_model_name": "LayoutModel",
            "_view_count": null,
            "_view_module": "@jupyter-widgets/base",
            "_view_module_version": "1.2.0",
            "_view_name": "LayoutView",
            "align_content": null,
            "align_items": null,
            "align_self": null,
            "border": null,
            "bottom": null,
            "display": null,
            "flex": null,
            "flex_flow": null,
            "grid_area": null,
            "grid_auto_columns": null,
            "grid_auto_flow": null,
            "grid_auto_rows": null,
            "grid_column": null,
            "grid_gap": null,
            "grid_row": null,
            "grid_template_areas": null,
            "grid_template_columns": null,
            "grid_template_rows": null,
            "height": null,
            "justify_content": null,
            "justify_items": null,
            "left": null,
            "margin": null,
            "max_height": null,
            "max_width": null,
            "min_height": null,
            "min_width": null,
            "object_fit": null,
            "object_position": null,
            "order": null,
            "overflow": null,
            "overflow_x": null,
            "overflow_y": null,
            "padding": null,
            "right": null,
            "top": null,
            "visibility": null,
            "width": null
          }
        },
        "3f91a1d8ce6545479505d615adea06bf": {
          "model_module": "@jupyter-widgets/controls",
          "model_name": "DescriptionStyleModel",
          "model_module_version": "1.5.0",
          "state": {
            "_model_module": "@jupyter-widgets/controls",
            "_model_module_version": "1.5.0",
            "_model_name": "DescriptionStyleModel",
            "_view_count": null,
            "_view_module": "@jupyter-widgets/base",
            "_view_module_version": "1.2.0",
            "_view_name": "StyleView",
            "description_width": ""
          }
        },
        "e5f4e2ba756440f8b1863f773d1184dd": {
          "model_module": "@jupyter-widgets/controls",
          "model_name": "HBoxModel",
          "model_module_version": "1.5.0",
          "state": {
            "_dom_classes": [],
            "_model_module": "@jupyter-widgets/controls",
            "_model_module_version": "1.5.0",
            "_model_name": "HBoxModel",
            "_view_count": null,
            "_view_module": "@jupyter-widgets/controls",
            "_view_module_version": "1.5.0",
            "_view_name": "HBoxView",
            "box_style": "",
            "children": [
              "IPY_MODEL_28395d58955948ac899ed96ce1c7bda1",
              "IPY_MODEL_b2c07ff805e743a9a1f146c66173a1bc",
              "IPY_MODEL_a028fb509ae74968b668ada5fe409d29"
            ],
            "layout": "IPY_MODEL_203f1e84c13a45749b6f84ec2d3c8aaf"
          }
        },
        "28395d58955948ac899ed96ce1c7bda1": {
          "model_module": "@jupyter-widgets/controls",
          "model_name": "HTMLModel",
          "model_module_version": "1.5.0",
          "state": {
            "_dom_classes": [],
            "_model_module": "@jupyter-widgets/controls",
            "_model_module_version": "1.5.0",
            "_model_name": "HTMLModel",
            "_view_count": null,
            "_view_module": "@jupyter-widgets/controls",
            "_view_module_version": "1.5.0",
            "_view_name": "HTMLView",
            "description": "",
            "description_tooltip": null,
            "layout": "IPY_MODEL_785e122f7a8a426ca8242d5dcc34f7f7",
            "placeholder": "​",
            "style": "IPY_MODEL_4f2bf04394a443dca2fdafb24418b82d",
            "value": "config.json: 100%"
          }
        },
        "b2c07ff805e743a9a1f146c66173a1bc": {
          "model_module": "@jupyter-widgets/controls",
          "model_name": "FloatProgressModel",
          "model_module_version": "1.5.0",
          "state": {
            "_dom_classes": [],
            "_model_module": "@jupyter-widgets/controls",
            "_model_module_version": "1.5.0",
            "_model_name": "FloatProgressModel",
            "_view_count": null,
            "_view_module": "@jupyter-widgets/controls",
            "_view_module_version": "1.5.0",
            "_view_name": "ProgressView",
            "bar_style": "success",
            "description": "",
            "description_tooltip": null,
            "layout": "IPY_MODEL_8b77fbb14feb4f93983064f00b8334b4",
            "max": 483,
            "min": 0,
            "orientation": "horizontal",
            "style": "IPY_MODEL_9b060d4f67414ce8b287543f9f144730",
            "value": 483
          }
        },
        "a028fb509ae74968b668ada5fe409d29": {
          "model_module": "@jupyter-widgets/controls",
          "model_name": "HTMLModel",
          "model_module_version": "1.5.0",
          "state": {
            "_dom_classes": [],
            "_model_module": "@jupyter-widgets/controls",
            "_model_module_version": "1.5.0",
            "_model_name": "HTMLModel",
            "_view_count": null,
            "_view_module": "@jupyter-widgets/controls",
            "_view_module_version": "1.5.0",
            "_view_name": "HTMLView",
            "description": "",
            "description_tooltip": null,
            "layout": "IPY_MODEL_3aaa3fefd1b94f61bb023e03e5731a58",
            "placeholder": "​",
            "style": "IPY_MODEL_894d377a117b41eca2c78ce396183fc1",
            "value": " 483/483 [00:00&lt;00:00, 5.87kB/s]"
          }
        },
        "203f1e84c13a45749b6f84ec2d3c8aaf": {
          "model_module": "@jupyter-widgets/base",
          "model_name": "LayoutModel",
          "model_module_version": "1.2.0",
          "state": {
            "_model_module": "@jupyter-widgets/base",
            "_model_module_version": "1.2.0",
            "_model_name": "LayoutModel",
            "_view_count": null,
            "_view_module": "@jupyter-widgets/base",
            "_view_module_version": "1.2.0",
            "_view_name": "LayoutView",
            "align_content": null,
            "align_items": null,
            "align_self": null,
            "border": null,
            "bottom": null,
            "display": null,
            "flex": null,
            "flex_flow": null,
            "grid_area": null,
            "grid_auto_columns": null,
            "grid_auto_flow": null,
            "grid_auto_rows": null,
            "grid_column": null,
            "grid_gap": null,
            "grid_row": null,
            "grid_template_areas": null,
            "grid_template_columns": null,
            "grid_template_rows": null,
            "height": null,
            "justify_content": null,
            "justify_items": null,
            "left": null,
            "margin": null,
            "max_height": null,
            "max_width": null,
            "min_height": null,
            "min_width": null,
            "object_fit": null,
            "object_position": null,
            "order": null,
            "overflow": null,
            "overflow_x": null,
            "overflow_y": null,
            "padding": null,
            "right": null,
            "top": null,
            "visibility": null,
            "width": null
          }
        },
        "785e122f7a8a426ca8242d5dcc34f7f7": {
          "model_module": "@jupyter-widgets/base",
          "model_name": "LayoutModel",
          "model_module_version": "1.2.0",
          "state": {
            "_model_module": "@jupyter-widgets/base",
            "_model_module_version": "1.2.0",
            "_model_name": "LayoutModel",
            "_view_count": null,
            "_view_module": "@jupyter-widgets/base",
            "_view_module_version": "1.2.0",
            "_view_name": "LayoutView",
            "align_content": null,
            "align_items": null,
            "align_self": null,
            "border": null,
            "bottom": null,
            "display": null,
            "flex": null,
            "flex_flow": null,
            "grid_area": null,
            "grid_auto_columns": null,
            "grid_auto_flow": null,
            "grid_auto_rows": null,
            "grid_column": null,
            "grid_gap": null,
            "grid_row": null,
            "grid_template_areas": null,
            "grid_template_columns": null,
            "grid_template_rows": null,
            "height": null,
            "justify_content": null,
            "justify_items": null,
            "left": null,
            "margin": null,
            "max_height": null,
            "max_width": null,
            "min_height": null,
            "min_width": null,
            "object_fit": null,
            "object_position": null,
            "order": null,
            "overflow": null,
            "overflow_x": null,
            "overflow_y": null,
            "padding": null,
            "right": null,
            "top": null,
            "visibility": null,
            "width": null
          }
        },
        "4f2bf04394a443dca2fdafb24418b82d": {
          "model_module": "@jupyter-widgets/controls",
          "model_name": "DescriptionStyleModel",
          "model_module_version": "1.5.0",
          "state": {
            "_model_module": "@jupyter-widgets/controls",
            "_model_module_version": "1.5.0",
            "_model_name": "DescriptionStyleModel",
            "_view_count": null,
            "_view_module": "@jupyter-widgets/base",
            "_view_module_version": "1.2.0",
            "_view_name": "StyleView",
            "description_width": ""
          }
        },
        "8b77fbb14feb4f93983064f00b8334b4": {
          "model_module": "@jupyter-widgets/base",
          "model_name": "LayoutModel",
          "model_module_version": "1.2.0",
          "state": {
            "_model_module": "@jupyter-widgets/base",
            "_model_module_version": "1.2.0",
            "_model_name": "LayoutModel",
            "_view_count": null,
            "_view_module": "@jupyter-widgets/base",
            "_view_module_version": "1.2.0",
            "_view_name": "LayoutView",
            "align_content": null,
            "align_items": null,
            "align_self": null,
            "border": null,
            "bottom": null,
            "display": null,
            "flex": null,
            "flex_flow": null,
            "grid_area": null,
            "grid_auto_columns": null,
            "grid_auto_flow": null,
            "grid_auto_rows": null,
            "grid_column": null,
            "grid_gap": null,
            "grid_row": null,
            "grid_template_areas": null,
            "grid_template_columns": null,
            "grid_template_rows": null,
            "height": null,
            "justify_content": null,
            "justify_items": null,
            "left": null,
            "margin": null,
            "max_height": null,
            "max_width": null,
            "min_height": null,
            "min_width": null,
            "object_fit": null,
            "object_position": null,
            "order": null,
            "overflow": null,
            "overflow_x": null,
            "overflow_y": null,
            "padding": null,
            "right": null,
            "top": null,
            "visibility": null,
            "width": null
          }
        },
        "9b060d4f67414ce8b287543f9f144730": {
          "model_module": "@jupyter-widgets/controls",
          "model_name": "ProgressStyleModel",
          "model_module_version": "1.5.0",
          "state": {
            "_model_module": "@jupyter-widgets/controls",
            "_model_module_version": "1.5.0",
            "_model_name": "ProgressStyleModel",
            "_view_count": null,
            "_view_module": "@jupyter-widgets/base",
            "_view_module_version": "1.2.0",
            "_view_name": "StyleView",
            "bar_color": null,
            "description_width": ""
          }
        },
        "3aaa3fefd1b94f61bb023e03e5731a58": {
          "model_module": "@jupyter-widgets/base",
          "model_name": "LayoutModel",
          "model_module_version": "1.2.0",
          "state": {
            "_model_module": "@jupyter-widgets/base",
            "_model_module_version": "1.2.0",
            "_model_name": "LayoutModel",
            "_view_count": null,
            "_view_module": "@jupyter-widgets/base",
            "_view_module_version": "1.2.0",
            "_view_name": "LayoutView",
            "align_content": null,
            "align_items": null,
            "align_self": null,
            "border": null,
            "bottom": null,
            "display": null,
            "flex": null,
            "flex_flow": null,
            "grid_area": null,
            "grid_auto_columns": null,
            "grid_auto_flow": null,
            "grid_auto_rows": null,
            "grid_column": null,
            "grid_gap": null,
            "grid_row": null,
            "grid_template_areas": null,
            "grid_template_columns": null,
            "grid_template_rows": null,
            "height": null,
            "justify_content": null,
            "justify_items": null,
            "left": null,
            "margin": null,
            "max_height": null,
            "max_width": null,
            "min_height": null,
            "min_width": null,
            "object_fit": null,
            "object_position": null,
            "order": null,
            "overflow": null,
            "overflow_x": null,
            "overflow_y": null,
            "padding": null,
            "right": null,
            "top": null,
            "visibility": null,
            "width": null
          }
        },
        "894d377a117b41eca2c78ce396183fc1": {
          "model_module": "@jupyter-widgets/controls",
          "model_name": "DescriptionStyleModel",
          "model_module_version": "1.5.0",
          "state": {
            "_model_module": "@jupyter-widgets/controls",
            "_model_module_version": "1.5.0",
            "_model_name": "DescriptionStyleModel",
            "_view_count": null,
            "_view_module": "@jupyter-widgets/base",
            "_view_module_version": "1.2.0",
            "_view_name": "StyleView",
            "description_width": ""
          }
        },
        "6045f1be8fd647a9ae34b98f59b98bfa": {
          "model_module": "@jupyter-widgets/controls",
          "model_name": "HBoxModel",
          "model_module_version": "1.5.0",
          "state": {
            "_dom_classes": [],
            "_model_module": "@jupyter-widgets/controls",
            "_model_module_version": "1.5.0",
            "_model_name": "HBoxModel",
            "_view_count": null,
            "_view_module": "@jupyter-widgets/controls",
            "_view_module_version": "1.5.0",
            "_view_name": "HBoxView",
            "box_style": "",
            "children": [
              "IPY_MODEL_cc0343810b274de8a9c24ab0012533b7",
              "IPY_MODEL_9cb776ed94fd4a3cbeb616ae89f91dd8",
              "IPY_MODEL_0d6c5389febb46bca655a7bc5c8f05b3"
            ],
            "layout": "IPY_MODEL_054f14540266489787c08c60a13c3002"
          }
        },
        "cc0343810b274de8a9c24ab0012533b7": {
          "model_module": "@jupyter-widgets/controls",
          "model_name": "HTMLModel",
          "model_module_version": "1.5.0",
          "state": {
            "_dom_classes": [],
            "_model_module": "@jupyter-widgets/controls",
            "_model_module_version": "1.5.0",
            "_model_name": "HTMLModel",
            "_view_count": null,
            "_view_module": "@jupyter-widgets/controls",
            "_view_module_version": "1.5.0",
            "_view_name": "HTMLView",
            "description": "",
            "description_tooltip": null,
            "layout": "IPY_MODEL_da15c81f22654969b2a1749081cf940a",
            "placeholder": "​",
            "style": "IPY_MODEL_8f413c481c2f4d2f96a0b143ace10c8f",
            "value": "vocab.txt: 100%"
          }
        },
        "9cb776ed94fd4a3cbeb616ae89f91dd8": {
          "model_module": "@jupyter-widgets/controls",
          "model_name": "FloatProgressModel",
          "model_module_version": "1.5.0",
          "state": {
            "_dom_classes": [],
            "_model_module": "@jupyter-widgets/controls",
            "_model_module_version": "1.5.0",
            "_model_name": "FloatProgressModel",
            "_view_count": null,
            "_view_module": "@jupyter-widgets/controls",
            "_view_module_version": "1.5.0",
            "_view_name": "ProgressView",
            "bar_style": "success",
            "description": "",
            "description_tooltip": null,
            "layout": "IPY_MODEL_2b2db6075d1e42cfa2df8fb70471c0fa",
            "max": 231508,
            "min": 0,
            "orientation": "horizontal",
            "style": "IPY_MODEL_1ddeabfe76744969b7c503ee86717838",
            "value": 231508
          }
        },
        "0d6c5389febb46bca655a7bc5c8f05b3": {
          "model_module": "@jupyter-widgets/controls",
          "model_name": "HTMLModel",
          "model_module_version": "1.5.0",
          "state": {
            "_dom_classes": [],
            "_model_module": "@jupyter-widgets/controls",
            "_model_module_version": "1.5.0",
            "_model_name": "HTMLModel",
            "_view_count": null,
            "_view_module": "@jupyter-widgets/controls",
            "_view_module_version": "1.5.0",
            "_view_name": "HTMLView",
            "description": "",
            "description_tooltip": null,
            "layout": "IPY_MODEL_ddc66db7c7334930abb24f4b6723069d",
            "placeholder": "​",
            "style": "IPY_MODEL_812883bb75464fa98fae5a743927800d",
            "value": " 232k/232k [00:00&lt;00:00, 1.62MB/s]"
          }
        },
        "054f14540266489787c08c60a13c3002": {
          "model_module": "@jupyter-widgets/base",
          "model_name": "LayoutModel",
          "model_module_version": "1.2.0",
          "state": {
            "_model_module": "@jupyter-widgets/base",
            "_model_module_version": "1.2.0",
            "_model_name": "LayoutModel",
            "_view_count": null,
            "_view_module": "@jupyter-widgets/base",
            "_view_module_version": "1.2.0",
            "_view_name": "LayoutView",
            "align_content": null,
            "align_items": null,
            "align_self": null,
            "border": null,
            "bottom": null,
            "display": null,
            "flex": null,
            "flex_flow": null,
            "grid_area": null,
            "grid_auto_columns": null,
            "grid_auto_flow": null,
            "grid_auto_rows": null,
            "grid_column": null,
            "grid_gap": null,
            "grid_row": null,
            "grid_template_areas": null,
            "grid_template_columns": null,
            "grid_template_rows": null,
            "height": null,
            "justify_content": null,
            "justify_items": null,
            "left": null,
            "margin": null,
            "max_height": null,
            "max_width": null,
            "min_height": null,
            "min_width": null,
            "object_fit": null,
            "object_position": null,
            "order": null,
            "overflow": null,
            "overflow_x": null,
            "overflow_y": null,
            "padding": null,
            "right": null,
            "top": null,
            "visibility": null,
            "width": null
          }
        },
        "da15c81f22654969b2a1749081cf940a": {
          "model_module": "@jupyter-widgets/base",
          "model_name": "LayoutModel",
          "model_module_version": "1.2.0",
          "state": {
            "_model_module": "@jupyter-widgets/base",
            "_model_module_version": "1.2.0",
            "_model_name": "LayoutModel",
            "_view_count": null,
            "_view_module": "@jupyter-widgets/base",
            "_view_module_version": "1.2.0",
            "_view_name": "LayoutView",
            "align_content": null,
            "align_items": null,
            "align_self": null,
            "border": null,
            "bottom": null,
            "display": null,
            "flex": null,
            "flex_flow": null,
            "grid_area": null,
            "grid_auto_columns": null,
            "grid_auto_flow": null,
            "grid_auto_rows": null,
            "grid_column": null,
            "grid_gap": null,
            "grid_row": null,
            "grid_template_areas": null,
            "grid_template_columns": null,
            "grid_template_rows": null,
            "height": null,
            "justify_content": null,
            "justify_items": null,
            "left": null,
            "margin": null,
            "max_height": null,
            "max_width": null,
            "min_height": null,
            "min_width": null,
            "object_fit": null,
            "object_position": null,
            "order": null,
            "overflow": null,
            "overflow_x": null,
            "overflow_y": null,
            "padding": null,
            "right": null,
            "top": null,
            "visibility": null,
            "width": null
          }
        },
        "8f413c481c2f4d2f96a0b143ace10c8f": {
          "model_module": "@jupyter-widgets/controls",
          "model_name": "DescriptionStyleModel",
          "model_module_version": "1.5.0",
          "state": {
            "_model_module": "@jupyter-widgets/controls",
            "_model_module_version": "1.5.0",
            "_model_name": "DescriptionStyleModel",
            "_view_count": null,
            "_view_module": "@jupyter-widgets/base",
            "_view_module_version": "1.2.0",
            "_view_name": "StyleView",
            "description_width": ""
          }
        },
        "2b2db6075d1e42cfa2df8fb70471c0fa": {
          "model_module": "@jupyter-widgets/base",
          "model_name": "LayoutModel",
          "model_module_version": "1.2.0",
          "state": {
            "_model_module": "@jupyter-widgets/base",
            "_model_module_version": "1.2.0",
            "_model_name": "LayoutModel",
            "_view_count": null,
            "_view_module": "@jupyter-widgets/base",
            "_view_module_version": "1.2.0",
            "_view_name": "LayoutView",
            "align_content": null,
            "align_items": null,
            "align_self": null,
            "border": null,
            "bottom": null,
            "display": null,
            "flex": null,
            "flex_flow": null,
            "grid_area": null,
            "grid_auto_columns": null,
            "grid_auto_flow": null,
            "grid_auto_rows": null,
            "grid_column": null,
            "grid_gap": null,
            "grid_row": null,
            "grid_template_areas": null,
            "grid_template_columns": null,
            "grid_template_rows": null,
            "height": null,
            "justify_content": null,
            "justify_items": null,
            "left": null,
            "margin": null,
            "max_height": null,
            "max_width": null,
            "min_height": null,
            "min_width": null,
            "object_fit": null,
            "object_position": null,
            "order": null,
            "overflow": null,
            "overflow_x": null,
            "overflow_y": null,
            "padding": null,
            "right": null,
            "top": null,
            "visibility": null,
            "width": null
          }
        },
        "1ddeabfe76744969b7c503ee86717838": {
          "model_module": "@jupyter-widgets/controls",
          "model_name": "ProgressStyleModel",
          "model_module_version": "1.5.0",
          "state": {
            "_model_module": "@jupyter-widgets/controls",
            "_model_module_version": "1.5.0",
            "_model_name": "ProgressStyleModel",
            "_view_count": null,
            "_view_module": "@jupyter-widgets/base",
            "_view_module_version": "1.2.0",
            "_view_name": "StyleView",
            "bar_color": null,
            "description_width": ""
          }
        },
        "ddc66db7c7334930abb24f4b6723069d": {
          "model_module": "@jupyter-widgets/base",
          "model_name": "LayoutModel",
          "model_module_version": "1.2.0",
          "state": {
            "_model_module": "@jupyter-widgets/base",
            "_model_module_version": "1.2.0",
            "_model_name": "LayoutModel",
            "_view_count": null,
            "_view_module": "@jupyter-widgets/base",
            "_view_module_version": "1.2.0",
            "_view_name": "LayoutView",
            "align_content": null,
            "align_items": null,
            "align_self": null,
            "border": null,
            "bottom": null,
            "display": null,
            "flex": null,
            "flex_flow": null,
            "grid_area": null,
            "grid_auto_columns": null,
            "grid_auto_flow": null,
            "grid_auto_rows": null,
            "grid_column": null,
            "grid_gap": null,
            "grid_row": null,
            "grid_template_areas": null,
            "grid_template_columns": null,
            "grid_template_rows": null,
            "height": null,
            "justify_content": null,
            "justify_items": null,
            "left": null,
            "margin": null,
            "max_height": null,
            "max_width": null,
            "min_height": null,
            "min_width": null,
            "object_fit": null,
            "object_position": null,
            "order": null,
            "overflow": null,
            "overflow_x": null,
            "overflow_y": null,
            "padding": null,
            "right": null,
            "top": null,
            "visibility": null,
            "width": null
          }
        },
        "812883bb75464fa98fae5a743927800d": {
          "model_module": "@jupyter-widgets/controls",
          "model_name": "DescriptionStyleModel",
          "model_module_version": "1.5.0",
          "state": {
            "_model_module": "@jupyter-widgets/controls",
            "_model_module_version": "1.5.0",
            "_model_name": "DescriptionStyleModel",
            "_view_count": null,
            "_view_module": "@jupyter-widgets/base",
            "_view_module_version": "1.2.0",
            "_view_name": "StyleView",
            "description_width": ""
          }
        },
        "9ace6a96ab8c4dce85f4d2d050a21ab0": {
          "model_module": "@jupyter-widgets/controls",
          "model_name": "HBoxModel",
          "model_module_version": "1.5.0",
          "state": {
            "_dom_classes": [],
            "_model_module": "@jupyter-widgets/controls",
            "_model_module_version": "1.5.0",
            "_model_name": "HBoxModel",
            "_view_count": null,
            "_view_module": "@jupyter-widgets/controls",
            "_view_module_version": "1.5.0",
            "_view_name": "HBoxView",
            "box_style": "",
            "children": [
              "IPY_MODEL_4de953c2713c4e86be87921b8fa88f56",
              "IPY_MODEL_8caf294bf04a4ea49957bfbeeefa6aaa",
              "IPY_MODEL_5e27783a92134337a8d8120b78df84af"
            ],
            "layout": "IPY_MODEL_969c95eabfdd4ae29c5aaa095ece9084"
          }
        },
        "4de953c2713c4e86be87921b8fa88f56": {
          "model_module": "@jupyter-widgets/controls",
          "model_name": "HTMLModel",
          "model_module_version": "1.5.0",
          "state": {
            "_dom_classes": [],
            "_model_module": "@jupyter-widgets/controls",
            "_model_module_version": "1.5.0",
            "_model_name": "HTMLModel",
            "_view_count": null,
            "_view_module": "@jupyter-widgets/controls",
            "_view_module_version": "1.5.0",
            "_view_name": "HTMLView",
            "description": "",
            "description_tooltip": null,
            "layout": "IPY_MODEL_58585b08974f48d48370fc0a66bb4783",
            "placeholder": "​",
            "style": "IPY_MODEL_45c42877c1cf4b26b92b3119927bdc64",
            "value": "tokenizer.json: 100%"
          }
        },
        "8caf294bf04a4ea49957bfbeeefa6aaa": {
          "model_module": "@jupyter-widgets/controls",
          "model_name": "FloatProgressModel",
          "model_module_version": "1.5.0",
          "state": {
            "_dom_classes": [],
            "_model_module": "@jupyter-widgets/controls",
            "_model_module_version": "1.5.0",
            "_model_name": "FloatProgressModel",
            "_view_count": null,
            "_view_module": "@jupyter-widgets/controls",
            "_view_module_version": "1.5.0",
            "_view_name": "ProgressView",
            "bar_style": "success",
            "description": "",
            "description_tooltip": null,
            "layout": "IPY_MODEL_812a318875844e87afe6a69fc6f2bb16",
            "max": 466062,
            "min": 0,
            "orientation": "horizontal",
            "style": "IPY_MODEL_e55fe701ae064c99bc007c25dd887eb3",
            "value": 466062
          }
        },
        "5e27783a92134337a8d8120b78df84af": {
          "model_module": "@jupyter-widgets/controls",
          "model_name": "HTMLModel",
          "model_module_version": "1.5.0",
          "state": {
            "_dom_classes": [],
            "_model_module": "@jupyter-widgets/controls",
            "_model_module_version": "1.5.0",
            "_model_name": "HTMLModel",
            "_view_count": null,
            "_view_module": "@jupyter-widgets/controls",
            "_view_module_version": "1.5.0",
            "_view_name": "HTMLView",
            "description": "",
            "description_tooltip": null,
            "layout": "IPY_MODEL_2f05127c03d34d089be1c2f95309fe91",
            "placeholder": "​",
            "style": "IPY_MODEL_bf8792f9feb94b70a6d0dc26cdc72328",
            "value": " 466k/466k [00:00&lt;00:00, 3.79MB/s]"
          }
        },
        "969c95eabfdd4ae29c5aaa095ece9084": {
          "model_module": "@jupyter-widgets/base",
          "model_name": "LayoutModel",
          "model_module_version": "1.2.0",
          "state": {
            "_model_module": "@jupyter-widgets/base",
            "_model_module_version": "1.2.0",
            "_model_name": "LayoutModel",
            "_view_count": null,
            "_view_module": "@jupyter-widgets/base",
            "_view_module_version": "1.2.0",
            "_view_name": "LayoutView",
            "align_content": null,
            "align_items": null,
            "align_self": null,
            "border": null,
            "bottom": null,
            "display": null,
            "flex": null,
            "flex_flow": null,
            "grid_area": null,
            "grid_auto_columns": null,
            "grid_auto_flow": null,
            "grid_auto_rows": null,
            "grid_column": null,
            "grid_gap": null,
            "grid_row": null,
            "grid_template_areas": null,
            "grid_template_columns": null,
            "grid_template_rows": null,
            "height": null,
            "justify_content": null,
            "justify_items": null,
            "left": null,
            "margin": null,
            "max_height": null,
            "max_width": null,
            "min_height": null,
            "min_width": null,
            "object_fit": null,
            "object_position": null,
            "order": null,
            "overflow": null,
            "overflow_x": null,
            "overflow_y": null,
            "padding": null,
            "right": null,
            "top": null,
            "visibility": null,
            "width": null
          }
        },
        "58585b08974f48d48370fc0a66bb4783": {
          "model_module": "@jupyter-widgets/base",
          "model_name": "LayoutModel",
          "model_module_version": "1.2.0",
          "state": {
            "_model_module": "@jupyter-widgets/base",
            "_model_module_version": "1.2.0",
            "_model_name": "LayoutModel",
            "_view_count": null,
            "_view_module": "@jupyter-widgets/base",
            "_view_module_version": "1.2.0",
            "_view_name": "LayoutView",
            "align_content": null,
            "align_items": null,
            "align_self": null,
            "border": null,
            "bottom": null,
            "display": null,
            "flex": null,
            "flex_flow": null,
            "grid_area": null,
            "grid_auto_columns": null,
            "grid_auto_flow": null,
            "grid_auto_rows": null,
            "grid_column": null,
            "grid_gap": null,
            "grid_row": null,
            "grid_template_areas": null,
            "grid_template_columns": null,
            "grid_template_rows": null,
            "height": null,
            "justify_content": null,
            "justify_items": null,
            "left": null,
            "margin": null,
            "max_height": null,
            "max_width": null,
            "min_height": null,
            "min_width": null,
            "object_fit": null,
            "object_position": null,
            "order": null,
            "overflow": null,
            "overflow_x": null,
            "overflow_y": null,
            "padding": null,
            "right": null,
            "top": null,
            "visibility": null,
            "width": null
          }
        },
        "45c42877c1cf4b26b92b3119927bdc64": {
          "model_module": "@jupyter-widgets/controls",
          "model_name": "DescriptionStyleModel",
          "model_module_version": "1.5.0",
          "state": {
            "_model_module": "@jupyter-widgets/controls",
            "_model_module_version": "1.5.0",
            "_model_name": "DescriptionStyleModel",
            "_view_count": null,
            "_view_module": "@jupyter-widgets/base",
            "_view_module_version": "1.2.0",
            "_view_name": "StyleView",
            "description_width": ""
          }
        },
        "812a318875844e87afe6a69fc6f2bb16": {
          "model_module": "@jupyter-widgets/base",
          "model_name": "LayoutModel",
          "model_module_version": "1.2.0",
          "state": {
            "_model_module": "@jupyter-widgets/base",
            "_model_module_version": "1.2.0",
            "_model_name": "LayoutModel",
            "_view_count": null,
            "_view_module": "@jupyter-widgets/base",
            "_view_module_version": "1.2.0",
            "_view_name": "LayoutView",
            "align_content": null,
            "align_items": null,
            "align_self": null,
            "border": null,
            "bottom": null,
            "display": null,
            "flex": null,
            "flex_flow": null,
            "grid_area": null,
            "grid_auto_columns": null,
            "grid_auto_flow": null,
            "grid_auto_rows": null,
            "grid_column": null,
            "grid_gap": null,
            "grid_row": null,
            "grid_template_areas": null,
            "grid_template_columns": null,
            "grid_template_rows": null,
            "height": null,
            "justify_content": null,
            "justify_items": null,
            "left": null,
            "margin": null,
            "max_height": null,
            "max_width": null,
            "min_height": null,
            "min_width": null,
            "object_fit": null,
            "object_position": null,
            "order": null,
            "overflow": null,
            "overflow_x": null,
            "overflow_y": null,
            "padding": null,
            "right": null,
            "top": null,
            "visibility": null,
            "width": null
          }
        },
        "e55fe701ae064c99bc007c25dd887eb3": {
          "model_module": "@jupyter-widgets/controls",
          "model_name": "ProgressStyleModel",
          "model_module_version": "1.5.0",
          "state": {
            "_model_module": "@jupyter-widgets/controls",
            "_model_module_version": "1.5.0",
            "_model_name": "ProgressStyleModel",
            "_view_count": null,
            "_view_module": "@jupyter-widgets/base",
            "_view_module_version": "1.2.0",
            "_view_name": "StyleView",
            "bar_color": null,
            "description_width": ""
          }
        },
        "2f05127c03d34d089be1c2f95309fe91": {
          "model_module": "@jupyter-widgets/base",
          "model_name": "LayoutModel",
          "model_module_version": "1.2.0",
          "state": {
            "_model_module": "@jupyter-widgets/base",
            "_model_module_version": "1.2.0",
            "_model_name": "LayoutModel",
            "_view_count": null,
            "_view_module": "@jupyter-widgets/base",
            "_view_module_version": "1.2.0",
            "_view_name": "LayoutView",
            "align_content": null,
            "align_items": null,
            "align_self": null,
            "border": null,
            "bottom": null,
            "display": null,
            "flex": null,
            "flex_flow": null,
            "grid_area": null,
            "grid_auto_columns": null,
            "grid_auto_flow": null,
            "grid_auto_rows": null,
            "grid_column": null,
            "grid_gap": null,
            "grid_row": null,
            "grid_template_areas": null,
            "grid_template_columns": null,
            "grid_template_rows": null,
            "height": null,
            "justify_content": null,
            "justify_items": null,
            "left": null,
            "margin": null,
            "max_height": null,
            "max_width": null,
            "min_height": null,
            "min_width": null,
            "object_fit": null,
            "object_position": null,
            "order": null,
            "overflow": null,
            "overflow_x": null,
            "overflow_y": null,
            "padding": null,
            "right": null,
            "top": null,
            "visibility": null,
            "width": null
          }
        },
        "bf8792f9feb94b70a6d0dc26cdc72328": {
          "model_module": "@jupyter-widgets/controls",
          "model_name": "DescriptionStyleModel",
          "model_module_version": "1.5.0",
          "state": {
            "_model_module": "@jupyter-widgets/controls",
            "_model_module_version": "1.5.0",
            "_model_name": "DescriptionStyleModel",
            "_view_count": null,
            "_view_module": "@jupyter-widgets/base",
            "_view_module_version": "1.2.0",
            "_view_name": "StyleView",
            "description_width": ""
          }
        },
        "f17570c828234b0a8e5c3a9ccde41ecd": {
          "model_module": "@jupyter-widgets/controls",
          "model_name": "HBoxModel",
          "model_module_version": "1.5.0",
          "state": {
            "_dom_classes": [],
            "_model_module": "@jupyter-widgets/controls",
            "_model_module_version": "1.5.0",
            "_model_name": "HBoxModel",
            "_view_count": null,
            "_view_module": "@jupyter-widgets/controls",
            "_view_module_version": "1.5.0",
            "_view_name": "HBoxView",
            "box_style": "",
            "children": [
              "IPY_MODEL_edc82ef4e4754a41958189eb98bf0006",
              "IPY_MODEL_520d481f209d49a0b64f5a05a7786f42",
              "IPY_MODEL_5f9615cc16014372a90fa1c5aa306855"
            ],
            "layout": "IPY_MODEL_d1ac16f6dfad48efb343e50fd23d8673"
          }
        },
        "edc82ef4e4754a41958189eb98bf0006": {
          "model_module": "@jupyter-widgets/controls",
          "model_name": "HTMLModel",
          "model_module_version": "1.5.0",
          "state": {
            "_dom_classes": [],
            "_model_module": "@jupyter-widgets/controls",
            "_model_module_version": "1.5.0",
            "_model_name": "HTMLModel",
            "_view_count": null,
            "_view_module": "@jupyter-widgets/controls",
            "_view_module_version": "1.5.0",
            "_view_name": "HTMLView",
            "description": "",
            "description_tooltip": null,
            "layout": "IPY_MODEL_eea1907ef1bf4b938232632470b4ee6f",
            "placeholder": "​",
            "style": "IPY_MODEL_2d572623b4d64648b4ae7d14410002ca",
            "value": "Map: 100%"
          }
        },
        "520d481f209d49a0b64f5a05a7786f42": {
          "model_module": "@jupyter-widgets/controls",
          "model_name": "FloatProgressModel",
          "model_module_version": "1.5.0",
          "state": {
            "_dom_classes": [],
            "_model_module": "@jupyter-widgets/controls",
            "_model_module_version": "1.5.0",
            "_model_name": "FloatProgressModel",
            "_view_count": null,
            "_view_module": "@jupyter-widgets/controls",
            "_view_module_version": "1.5.0",
            "_view_name": "ProgressView",
            "bar_style": "success",
            "description": "",
            "description_tooltip": null,
            "layout": "IPY_MODEL_fe401bd552a6493da8ebb8dea8a757c2",
            "max": 615,
            "min": 0,
            "orientation": "horizontal",
            "style": "IPY_MODEL_1bbc31b72ba147deb44627d0156b3011",
            "value": 615
          }
        },
        "5f9615cc16014372a90fa1c5aa306855": {
          "model_module": "@jupyter-widgets/controls",
          "model_name": "HTMLModel",
          "model_module_version": "1.5.0",
          "state": {
            "_dom_classes": [],
            "_model_module": "@jupyter-widgets/controls",
            "_model_module_version": "1.5.0",
            "_model_name": "HTMLModel",
            "_view_count": null,
            "_view_module": "@jupyter-widgets/controls",
            "_view_module_version": "1.5.0",
            "_view_name": "HTMLView",
            "description": "",
            "description_tooltip": null,
            "layout": "IPY_MODEL_e70fef1325b2405990e1c5b7755577cf",
            "placeholder": "​",
            "style": "IPY_MODEL_866675d5422a4f2d85c5e720a5a36a86",
            "value": " 615/615 [00:01&lt;00:00, 452.98 examples/s]"
          }
        },
        "d1ac16f6dfad48efb343e50fd23d8673": {
          "model_module": "@jupyter-widgets/base",
          "model_name": "LayoutModel",
          "model_module_version": "1.2.0",
          "state": {
            "_model_module": "@jupyter-widgets/base",
            "_model_module_version": "1.2.0",
            "_model_name": "LayoutModel",
            "_view_count": null,
            "_view_module": "@jupyter-widgets/base",
            "_view_module_version": "1.2.0",
            "_view_name": "LayoutView",
            "align_content": null,
            "align_items": null,
            "align_self": null,
            "border": null,
            "bottom": null,
            "display": null,
            "flex": null,
            "flex_flow": null,
            "grid_area": null,
            "grid_auto_columns": null,
            "grid_auto_flow": null,
            "grid_auto_rows": null,
            "grid_column": null,
            "grid_gap": null,
            "grid_row": null,
            "grid_template_areas": null,
            "grid_template_columns": null,
            "grid_template_rows": null,
            "height": null,
            "justify_content": null,
            "justify_items": null,
            "left": null,
            "margin": null,
            "max_height": null,
            "max_width": null,
            "min_height": null,
            "min_width": null,
            "object_fit": null,
            "object_position": null,
            "order": null,
            "overflow": null,
            "overflow_x": null,
            "overflow_y": null,
            "padding": null,
            "right": null,
            "top": null,
            "visibility": null,
            "width": null
          }
        },
        "eea1907ef1bf4b938232632470b4ee6f": {
          "model_module": "@jupyter-widgets/base",
          "model_name": "LayoutModel",
          "model_module_version": "1.2.0",
          "state": {
            "_model_module": "@jupyter-widgets/base",
            "_model_module_version": "1.2.0",
            "_model_name": "LayoutModel",
            "_view_count": null,
            "_view_module": "@jupyter-widgets/base",
            "_view_module_version": "1.2.0",
            "_view_name": "LayoutView",
            "align_content": null,
            "align_items": null,
            "align_self": null,
            "border": null,
            "bottom": null,
            "display": null,
            "flex": null,
            "flex_flow": null,
            "grid_area": null,
            "grid_auto_columns": null,
            "grid_auto_flow": null,
            "grid_auto_rows": null,
            "grid_column": null,
            "grid_gap": null,
            "grid_row": null,
            "grid_template_areas": null,
            "grid_template_columns": null,
            "grid_template_rows": null,
            "height": null,
            "justify_content": null,
            "justify_items": null,
            "left": null,
            "margin": null,
            "max_height": null,
            "max_width": null,
            "min_height": null,
            "min_width": null,
            "object_fit": null,
            "object_position": null,
            "order": null,
            "overflow": null,
            "overflow_x": null,
            "overflow_y": null,
            "padding": null,
            "right": null,
            "top": null,
            "visibility": null,
            "width": null
          }
        },
        "2d572623b4d64648b4ae7d14410002ca": {
          "model_module": "@jupyter-widgets/controls",
          "model_name": "DescriptionStyleModel",
          "model_module_version": "1.5.0",
          "state": {
            "_model_module": "@jupyter-widgets/controls",
            "_model_module_version": "1.5.0",
            "_model_name": "DescriptionStyleModel",
            "_view_count": null,
            "_view_module": "@jupyter-widgets/base",
            "_view_module_version": "1.2.0",
            "_view_name": "StyleView",
            "description_width": ""
          }
        },
        "fe401bd552a6493da8ebb8dea8a757c2": {
          "model_module": "@jupyter-widgets/base",
          "model_name": "LayoutModel",
          "model_module_version": "1.2.0",
          "state": {
            "_model_module": "@jupyter-widgets/base",
            "_model_module_version": "1.2.0",
            "_model_name": "LayoutModel",
            "_view_count": null,
            "_view_module": "@jupyter-widgets/base",
            "_view_module_version": "1.2.0",
            "_view_name": "LayoutView",
            "align_content": null,
            "align_items": null,
            "align_self": null,
            "border": null,
            "bottom": null,
            "display": null,
            "flex": null,
            "flex_flow": null,
            "grid_area": null,
            "grid_auto_columns": null,
            "grid_auto_flow": null,
            "grid_auto_rows": null,
            "grid_column": null,
            "grid_gap": null,
            "grid_row": null,
            "grid_template_areas": null,
            "grid_template_columns": null,
            "grid_template_rows": null,
            "height": null,
            "justify_content": null,
            "justify_items": null,
            "left": null,
            "margin": null,
            "max_height": null,
            "max_width": null,
            "min_height": null,
            "min_width": null,
            "object_fit": null,
            "object_position": null,
            "order": null,
            "overflow": null,
            "overflow_x": null,
            "overflow_y": null,
            "padding": null,
            "right": null,
            "top": null,
            "visibility": null,
            "width": null
          }
        },
        "1bbc31b72ba147deb44627d0156b3011": {
          "model_module": "@jupyter-widgets/controls",
          "model_name": "ProgressStyleModel",
          "model_module_version": "1.5.0",
          "state": {
            "_model_module": "@jupyter-widgets/controls",
            "_model_module_version": "1.5.0",
            "_model_name": "ProgressStyleModel",
            "_view_count": null,
            "_view_module": "@jupyter-widgets/base",
            "_view_module_version": "1.2.0",
            "_view_name": "StyleView",
            "bar_color": null,
            "description_width": ""
          }
        },
        "e70fef1325b2405990e1c5b7755577cf": {
          "model_module": "@jupyter-widgets/base",
          "model_name": "LayoutModel",
          "model_module_version": "1.2.0",
          "state": {
            "_model_module": "@jupyter-widgets/base",
            "_model_module_version": "1.2.0",
            "_model_name": "LayoutModel",
            "_view_count": null,
            "_view_module": "@jupyter-widgets/base",
            "_view_module_version": "1.2.0",
            "_view_name": "LayoutView",
            "align_content": null,
            "align_items": null,
            "align_self": null,
            "border": null,
            "bottom": null,
            "display": null,
            "flex": null,
            "flex_flow": null,
            "grid_area": null,
            "grid_auto_columns": null,
            "grid_auto_flow": null,
            "grid_auto_rows": null,
            "grid_column": null,
            "grid_gap": null,
            "grid_row": null,
            "grid_template_areas": null,
            "grid_template_columns": null,
            "grid_template_rows": null,
            "height": null,
            "justify_content": null,
            "justify_items": null,
            "left": null,
            "margin": null,
            "max_height": null,
            "max_width": null,
            "min_height": null,
            "min_width": null,
            "object_fit": null,
            "object_position": null,
            "order": null,
            "overflow": null,
            "overflow_x": null,
            "overflow_y": null,
            "padding": null,
            "right": null,
            "top": null,
            "visibility": null,
            "width": null
          }
        },
        "866675d5422a4f2d85c5e720a5a36a86": {
          "model_module": "@jupyter-widgets/controls",
          "model_name": "DescriptionStyleModel",
          "model_module_version": "1.5.0",
          "state": {
            "_model_module": "@jupyter-widgets/controls",
            "_model_module_version": "1.5.0",
            "_model_name": "DescriptionStyleModel",
            "_view_count": null,
            "_view_module": "@jupyter-widgets/base",
            "_view_module_version": "1.2.0",
            "_view_name": "StyleView",
            "description_width": ""
          }
        },
        "0e8c879a19be4e1d8e5edf5fd012254c": {
          "model_module": "@jupyter-widgets/controls",
          "model_name": "HBoxModel",
          "model_module_version": "1.5.0",
          "state": {
            "_dom_classes": [],
            "_model_module": "@jupyter-widgets/controls",
            "_model_module_version": "1.5.0",
            "_model_name": "HBoxModel",
            "_view_count": null,
            "_view_module": "@jupyter-widgets/controls",
            "_view_module_version": "1.5.0",
            "_view_name": "HBoxView",
            "box_style": "",
            "children": [
              "IPY_MODEL_445d36c3baa9492a855008dc98b514fd",
              "IPY_MODEL_0892dd67e2eb46b7b531ade11ad42a34",
              "IPY_MODEL_34c7644ab2b345a7908eacb9092498c7"
            ],
            "layout": "IPY_MODEL_d0b13850ee444ffc8b8e6c035953a636"
          }
        },
        "445d36c3baa9492a855008dc98b514fd": {
          "model_module": "@jupyter-widgets/controls",
          "model_name": "HTMLModel",
          "model_module_version": "1.5.0",
          "state": {
            "_dom_classes": [],
            "_model_module": "@jupyter-widgets/controls",
            "_model_module_version": "1.5.0",
            "_model_name": "HTMLModel",
            "_view_count": null,
            "_view_module": "@jupyter-widgets/controls",
            "_view_module_version": "1.5.0",
            "_view_name": "HTMLView",
            "description": "",
            "description_tooltip": null,
            "layout": "IPY_MODEL_d1d5a1c0591c4774a3769c2d57dfe5f4",
            "placeholder": "​",
            "style": "IPY_MODEL_2285d88dd1744e298d166ba4a4e47545",
            "value": "Map: 100%"
          }
        },
        "0892dd67e2eb46b7b531ade11ad42a34": {
          "model_module": "@jupyter-widgets/controls",
          "model_name": "FloatProgressModel",
          "model_module_version": "1.5.0",
          "state": {
            "_dom_classes": [],
            "_model_module": "@jupyter-widgets/controls",
            "_model_module_version": "1.5.0",
            "_model_name": "FloatProgressModel",
            "_view_count": null,
            "_view_module": "@jupyter-widgets/controls",
            "_view_module_version": "1.5.0",
            "_view_name": "ProgressView",
            "bar_style": "success",
            "description": "",
            "description_tooltip": null,
            "layout": "IPY_MODEL_2246b296f5894077b3b0dbd75716dbae",
            "max": 193,
            "min": 0,
            "orientation": "horizontal",
            "style": "IPY_MODEL_b721f1434c7746f395712bfa050df0f8",
            "value": 193
          }
        },
        "34c7644ab2b345a7908eacb9092498c7": {
          "model_module": "@jupyter-widgets/controls",
          "model_name": "HTMLModel",
          "model_module_version": "1.5.0",
          "state": {
            "_dom_classes": [],
            "_model_module": "@jupyter-widgets/controls",
            "_model_module_version": "1.5.0",
            "_model_name": "HTMLModel",
            "_view_count": null,
            "_view_module": "@jupyter-widgets/controls",
            "_view_module_version": "1.5.0",
            "_view_name": "HTMLView",
            "description": "",
            "description_tooltip": null,
            "layout": "IPY_MODEL_94f0e02f225840f780dfea505d4d7b20",
            "placeholder": "​",
            "style": "IPY_MODEL_f8c73611cf19488ea3fef8dd8fa224a7",
            "value": " 193/193 [00:00&lt;00:00, 439.88 examples/s]"
          }
        },
        "d0b13850ee444ffc8b8e6c035953a636": {
          "model_module": "@jupyter-widgets/base",
          "model_name": "LayoutModel",
          "model_module_version": "1.2.0",
          "state": {
            "_model_module": "@jupyter-widgets/base",
            "_model_module_version": "1.2.0",
            "_model_name": "LayoutModel",
            "_view_count": null,
            "_view_module": "@jupyter-widgets/base",
            "_view_module_version": "1.2.0",
            "_view_name": "LayoutView",
            "align_content": null,
            "align_items": null,
            "align_self": null,
            "border": null,
            "bottom": null,
            "display": null,
            "flex": null,
            "flex_flow": null,
            "grid_area": null,
            "grid_auto_columns": null,
            "grid_auto_flow": null,
            "grid_auto_rows": null,
            "grid_column": null,
            "grid_gap": null,
            "grid_row": null,
            "grid_template_areas": null,
            "grid_template_columns": null,
            "grid_template_rows": null,
            "height": null,
            "justify_content": null,
            "justify_items": null,
            "left": null,
            "margin": null,
            "max_height": null,
            "max_width": null,
            "min_height": null,
            "min_width": null,
            "object_fit": null,
            "object_position": null,
            "order": null,
            "overflow": null,
            "overflow_x": null,
            "overflow_y": null,
            "padding": null,
            "right": null,
            "top": null,
            "visibility": null,
            "width": null
          }
        },
        "d1d5a1c0591c4774a3769c2d57dfe5f4": {
          "model_module": "@jupyter-widgets/base",
          "model_name": "LayoutModel",
          "model_module_version": "1.2.0",
          "state": {
            "_model_module": "@jupyter-widgets/base",
            "_model_module_version": "1.2.0",
            "_model_name": "LayoutModel",
            "_view_count": null,
            "_view_module": "@jupyter-widgets/base",
            "_view_module_version": "1.2.0",
            "_view_name": "LayoutView",
            "align_content": null,
            "align_items": null,
            "align_self": null,
            "border": null,
            "bottom": null,
            "display": null,
            "flex": null,
            "flex_flow": null,
            "grid_area": null,
            "grid_auto_columns": null,
            "grid_auto_flow": null,
            "grid_auto_rows": null,
            "grid_column": null,
            "grid_gap": null,
            "grid_row": null,
            "grid_template_areas": null,
            "grid_template_columns": null,
            "grid_template_rows": null,
            "height": null,
            "justify_content": null,
            "justify_items": null,
            "left": null,
            "margin": null,
            "max_height": null,
            "max_width": null,
            "min_height": null,
            "min_width": null,
            "object_fit": null,
            "object_position": null,
            "order": null,
            "overflow": null,
            "overflow_x": null,
            "overflow_y": null,
            "padding": null,
            "right": null,
            "top": null,
            "visibility": null,
            "width": null
          }
        },
        "2285d88dd1744e298d166ba4a4e47545": {
          "model_module": "@jupyter-widgets/controls",
          "model_name": "DescriptionStyleModel",
          "model_module_version": "1.5.0",
          "state": {
            "_model_module": "@jupyter-widgets/controls",
            "_model_module_version": "1.5.0",
            "_model_name": "DescriptionStyleModel",
            "_view_count": null,
            "_view_module": "@jupyter-widgets/base",
            "_view_module_version": "1.2.0",
            "_view_name": "StyleView",
            "description_width": ""
          }
        },
        "2246b296f5894077b3b0dbd75716dbae": {
          "model_module": "@jupyter-widgets/base",
          "model_name": "LayoutModel",
          "model_module_version": "1.2.0",
          "state": {
            "_model_module": "@jupyter-widgets/base",
            "_model_module_version": "1.2.0",
            "_model_name": "LayoutModel",
            "_view_count": null,
            "_view_module": "@jupyter-widgets/base",
            "_view_module_version": "1.2.0",
            "_view_name": "LayoutView",
            "align_content": null,
            "align_items": null,
            "align_self": null,
            "border": null,
            "bottom": null,
            "display": null,
            "flex": null,
            "flex_flow": null,
            "grid_area": null,
            "grid_auto_columns": null,
            "grid_auto_flow": null,
            "grid_auto_rows": null,
            "grid_column": null,
            "grid_gap": null,
            "grid_row": null,
            "grid_template_areas": null,
            "grid_template_columns": null,
            "grid_template_rows": null,
            "height": null,
            "justify_content": null,
            "justify_items": null,
            "left": null,
            "margin": null,
            "max_height": null,
            "max_width": null,
            "min_height": null,
            "min_width": null,
            "object_fit": null,
            "object_position": null,
            "order": null,
            "overflow": null,
            "overflow_x": null,
            "overflow_y": null,
            "padding": null,
            "right": null,
            "top": null,
            "visibility": null,
            "width": null
          }
        },
        "b721f1434c7746f395712bfa050df0f8": {
          "model_module": "@jupyter-widgets/controls",
          "model_name": "ProgressStyleModel",
          "model_module_version": "1.5.0",
          "state": {
            "_model_module": "@jupyter-widgets/controls",
            "_model_module_version": "1.5.0",
            "_model_name": "ProgressStyleModel",
            "_view_count": null,
            "_view_module": "@jupyter-widgets/base",
            "_view_module_version": "1.2.0",
            "_view_name": "StyleView",
            "bar_color": null,
            "description_width": ""
          }
        },
        "94f0e02f225840f780dfea505d4d7b20": {
          "model_module": "@jupyter-widgets/base",
          "model_name": "LayoutModel",
          "model_module_version": "1.2.0",
          "state": {
            "_model_module": "@jupyter-widgets/base",
            "_model_module_version": "1.2.0",
            "_model_name": "LayoutModel",
            "_view_count": null,
            "_view_module": "@jupyter-widgets/base",
            "_view_module_version": "1.2.0",
            "_view_name": "LayoutView",
            "align_content": null,
            "align_items": null,
            "align_self": null,
            "border": null,
            "bottom": null,
            "display": null,
            "flex": null,
            "flex_flow": null,
            "grid_area": null,
            "grid_auto_columns": null,
            "grid_auto_flow": null,
            "grid_auto_rows": null,
            "grid_column": null,
            "grid_gap": null,
            "grid_row": null,
            "grid_template_areas": null,
            "grid_template_columns": null,
            "grid_template_rows": null,
            "height": null,
            "justify_content": null,
            "justify_items": null,
            "left": null,
            "margin": null,
            "max_height": null,
            "max_width": null,
            "min_height": null,
            "min_width": null,
            "object_fit": null,
            "object_position": null,
            "order": null,
            "overflow": null,
            "overflow_x": null,
            "overflow_y": null,
            "padding": null,
            "right": null,
            "top": null,
            "visibility": null,
            "width": null
          }
        },
        "f8c73611cf19488ea3fef8dd8fa224a7": {
          "model_module": "@jupyter-widgets/controls",
          "model_name": "DescriptionStyleModel",
          "model_module_version": "1.5.0",
          "state": {
            "_model_module": "@jupyter-widgets/controls",
            "_model_module_version": "1.5.0",
            "_model_name": "DescriptionStyleModel",
            "_view_count": null,
            "_view_module": "@jupyter-widgets/base",
            "_view_module_version": "1.2.0",
            "_view_name": "StyleView",
            "description_width": ""
          }
        },
        "f9d0365a5ed14eceb716b3d6186a70c7": {
          "model_module": "@jupyter-widgets/controls",
          "model_name": "HBoxModel",
          "model_module_version": "1.5.0",
          "state": {
            "_dom_classes": [],
            "_model_module": "@jupyter-widgets/controls",
            "_model_module_version": "1.5.0",
            "_model_name": "HBoxModel",
            "_view_count": null,
            "_view_module": "@jupyter-widgets/controls",
            "_view_module_version": "1.5.0",
            "_view_name": "HBoxView",
            "box_style": "",
            "children": [
              "IPY_MODEL_a87b4fe82d634eb4b9b62a8545f97323",
              "IPY_MODEL_9e68327fbadb442d9cf8b2ad373d93ec",
              "IPY_MODEL_06511312ade24aa898c332ab0cd438f5"
            ],
            "layout": "IPY_MODEL_566f366e3d7d4dbcaaf1cd97d7e949ba"
          }
        },
        "a87b4fe82d634eb4b9b62a8545f97323": {
          "model_module": "@jupyter-widgets/controls",
          "model_name": "HTMLModel",
          "model_module_version": "1.5.0",
          "state": {
            "_dom_classes": [],
            "_model_module": "@jupyter-widgets/controls",
            "_model_module_version": "1.5.0",
            "_model_name": "HTMLModel",
            "_view_count": null,
            "_view_module": "@jupyter-widgets/controls",
            "_view_module_version": "1.5.0",
            "_view_name": "HTMLView",
            "description": "",
            "description_tooltip": null,
            "layout": "IPY_MODEL_cd11bd23bb924db2bea312db01bc83f1",
            "placeholder": "​",
            "style": "IPY_MODEL_4592fbf258c84aa2a655b1adbc6d4320",
            "value": "Map: 100%"
          }
        },
        "9e68327fbadb442d9cf8b2ad373d93ec": {
          "model_module": "@jupyter-widgets/controls",
          "model_name": "FloatProgressModel",
          "model_module_version": "1.5.0",
          "state": {
            "_dom_classes": [],
            "_model_module": "@jupyter-widgets/controls",
            "_model_module_version": "1.5.0",
            "_model_name": "FloatProgressModel",
            "_view_count": null,
            "_view_module": "@jupyter-widgets/controls",
            "_view_module_version": "1.5.0",
            "_view_name": "ProgressView",
            "bar_style": "success",
            "description": "",
            "description_tooltip": null,
            "layout": "IPY_MODEL_3dca08a21a2e46df8dcf910b75c02689",
            "max": 154,
            "min": 0,
            "orientation": "horizontal",
            "style": "IPY_MODEL_90b6aa08a4e3432fb04a098d37a1094b",
            "value": 154
          }
        },
        "06511312ade24aa898c332ab0cd438f5": {
          "model_module": "@jupyter-widgets/controls",
          "model_name": "HTMLModel",
          "model_module_version": "1.5.0",
          "state": {
            "_dom_classes": [],
            "_model_module": "@jupyter-widgets/controls",
            "_model_module_version": "1.5.0",
            "_model_name": "HTMLModel",
            "_view_count": null,
            "_view_module": "@jupyter-widgets/controls",
            "_view_module_version": "1.5.0",
            "_view_name": "HTMLView",
            "description": "",
            "description_tooltip": null,
            "layout": "IPY_MODEL_aec0f8f94c5d477ba850443baec119e6",
            "placeholder": "​",
            "style": "IPY_MODEL_68f72280f231401a8625c5f564189394",
            "value": " 154/154 [00:00&lt;00:00, 452.01 examples/s]"
          }
        },
        "566f366e3d7d4dbcaaf1cd97d7e949ba": {
          "model_module": "@jupyter-widgets/base",
          "model_name": "LayoutModel",
          "model_module_version": "1.2.0",
          "state": {
            "_model_module": "@jupyter-widgets/base",
            "_model_module_version": "1.2.0",
            "_model_name": "LayoutModel",
            "_view_count": null,
            "_view_module": "@jupyter-widgets/base",
            "_view_module_version": "1.2.0",
            "_view_name": "LayoutView",
            "align_content": null,
            "align_items": null,
            "align_self": null,
            "border": null,
            "bottom": null,
            "display": null,
            "flex": null,
            "flex_flow": null,
            "grid_area": null,
            "grid_auto_columns": null,
            "grid_auto_flow": null,
            "grid_auto_rows": null,
            "grid_column": null,
            "grid_gap": null,
            "grid_row": null,
            "grid_template_areas": null,
            "grid_template_columns": null,
            "grid_template_rows": null,
            "height": null,
            "justify_content": null,
            "justify_items": null,
            "left": null,
            "margin": null,
            "max_height": null,
            "max_width": null,
            "min_height": null,
            "min_width": null,
            "object_fit": null,
            "object_position": null,
            "order": null,
            "overflow": null,
            "overflow_x": null,
            "overflow_y": null,
            "padding": null,
            "right": null,
            "top": null,
            "visibility": null,
            "width": null
          }
        },
        "cd11bd23bb924db2bea312db01bc83f1": {
          "model_module": "@jupyter-widgets/base",
          "model_name": "LayoutModel",
          "model_module_version": "1.2.0",
          "state": {
            "_model_module": "@jupyter-widgets/base",
            "_model_module_version": "1.2.0",
            "_model_name": "LayoutModel",
            "_view_count": null,
            "_view_module": "@jupyter-widgets/base",
            "_view_module_version": "1.2.0",
            "_view_name": "LayoutView",
            "align_content": null,
            "align_items": null,
            "align_self": null,
            "border": null,
            "bottom": null,
            "display": null,
            "flex": null,
            "flex_flow": null,
            "grid_area": null,
            "grid_auto_columns": null,
            "grid_auto_flow": null,
            "grid_auto_rows": null,
            "grid_column": null,
            "grid_gap": null,
            "grid_row": null,
            "grid_template_areas": null,
            "grid_template_columns": null,
            "grid_template_rows": null,
            "height": null,
            "justify_content": null,
            "justify_items": null,
            "left": null,
            "margin": null,
            "max_height": null,
            "max_width": null,
            "min_height": null,
            "min_width": null,
            "object_fit": null,
            "object_position": null,
            "order": null,
            "overflow": null,
            "overflow_x": null,
            "overflow_y": null,
            "padding": null,
            "right": null,
            "top": null,
            "visibility": null,
            "width": null
          }
        },
        "4592fbf258c84aa2a655b1adbc6d4320": {
          "model_module": "@jupyter-widgets/controls",
          "model_name": "DescriptionStyleModel",
          "model_module_version": "1.5.0",
          "state": {
            "_model_module": "@jupyter-widgets/controls",
            "_model_module_version": "1.5.0",
            "_model_name": "DescriptionStyleModel",
            "_view_count": null,
            "_view_module": "@jupyter-widgets/base",
            "_view_module_version": "1.2.0",
            "_view_name": "StyleView",
            "description_width": ""
          }
        },
        "3dca08a21a2e46df8dcf910b75c02689": {
          "model_module": "@jupyter-widgets/base",
          "model_name": "LayoutModel",
          "model_module_version": "1.2.0",
          "state": {
            "_model_module": "@jupyter-widgets/base",
            "_model_module_version": "1.2.0",
            "_model_name": "LayoutModel",
            "_view_count": null,
            "_view_module": "@jupyter-widgets/base",
            "_view_module_version": "1.2.0",
            "_view_name": "LayoutView",
            "align_content": null,
            "align_items": null,
            "align_self": null,
            "border": null,
            "bottom": null,
            "display": null,
            "flex": null,
            "flex_flow": null,
            "grid_area": null,
            "grid_auto_columns": null,
            "grid_auto_flow": null,
            "grid_auto_rows": null,
            "grid_column": null,
            "grid_gap": null,
            "grid_row": null,
            "grid_template_areas": null,
            "grid_template_columns": null,
            "grid_template_rows": null,
            "height": null,
            "justify_content": null,
            "justify_items": null,
            "left": null,
            "margin": null,
            "max_height": null,
            "max_width": null,
            "min_height": null,
            "min_width": null,
            "object_fit": null,
            "object_position": null,
            "order": null,
            "overflow": null,
            "overflow_x": null,
            "overflow_y": null,
            "padding": null,
            "right": null,
            "top": null,
            "visibility": null,
            "width": null
          }
        },
        "90b6aa08a4e3432fb04a098d37a1094b": {
          "model_module": "@jupyter-widgets/controls",
          "model_name": "ProgressStyleModel",
          "model_module_version": "1.5.0",
          "state": {
            "_model_module": "@jupyter-widgets/controls",
            "_model_module_version": "1.5.0",
            "_model_name": "ProgressStyleModel",
            "_view_count": null,
            "_view_module": "@jupyter-widgets/base",
            "_view_module_version": "1.2.0",
            "_view_name": "StyleView",
            "bar_color": null,
            "description_width": ""
          }
        },
        "aec0f8f94c5d477ba850443baec119e6": {
          "model_module": "@jupyter-widgets/base",
          "model_name": "LayoutModel",
          "model_module_version": "1.2.0",
          "state": {
            "_model_module": "@jupyter-widgets/base",
            "_model_module_version": "1.2.0",
            "_model_name": "LayoutModel",
            "_view_count": null,
            "_view_module": "@jupyter-widgets/base",
            "_view_module_version": "1.2.0",
            "_view_name": "LayoutView",
            "align_content": null,
            "align_items": null,
            "align_self": null,
            "border": null,
            "bottom": null,
            "display": null,
            "flex": null,
            "flex_flow": null,
            "grid_area": null,
            "grid_auto_columns": null,
            "grid_auto_flow": null,
            "grid_auto_rows": null,
            "grid_column": null,
            "grid_gap": null,
            "grid_row": null,
            "grid_template_areas": null,
            "grid_template_columns": null,
            "grid_template_rows": null,
            "height": null,
            "justify_content": null,
            "justify_items": null,
            "left": null,
            "margin": null,
            "max_height": null,
            "max_width": null,
            "min_height": null,
            "min_width": null,
            "object_fit": null,
            "object_position": null,
            "order": null,
            "overflow": null,
            "overflow_x": null,
            "overflow_y": null,
            "padding": null,
            "right": null,
            "top": null,
            "visibility": null,
            "width": null
          }
        },
        "68f72280f231401a8625c5f564189394": {
          "model_module": "@jupyter-widgets/controls",
          "model_name": "DescriptionStyleModel",
          "model_module_version": "1.5.0",
          "state": {
            "_model_module": "@jupyter-widgets/controls",
            "_model_module_version": "1.5.0",
            "_model_name": "DescriptionStyleModel",
            "_view_count": null,
            "_view_module": "@jupyter-widgets/base",
            "_view_module_version": "1.2.0",
            "_view_name": "StyleView",
            "description_width": ""
          }
        }
      }
    }
  },
  "cells": [
    {
      "cell_type": "markdown",
      "metadata": {
        "id": "view-in-github",
        "colab_type": "text"
      },
      "source": [
        "<a href=\"https://colab.research.google.com/github/Prakum14/Testfiles/blob/master/M3_NB_MiniProject_1_ResumeClassification_Using_Bert.ipynb\" target=\"_parent\"><img src=\"https://colab.research.google.com/assets/colab-badge.svg\" alt=\"Open In Colab\"/></a>"
      ]
    },
    {
      "cell_type": "markdown",
      "metadata": {
        "id": "gOQv69UdcrIK"
      },
      "source": [
        "# Advanced Certification Programme in AI and MLOps\n",
        "## A programme by IISc and TalentSprint\n",
        "### Mini-Project 1: Resume Classification"
      ]
    },
    {
      "cell_type": "markdown",
      "metadata": {
        "id": "sNCzT95pcrIN"
      },
      "source": [
        "## Learning Objectives"
      ]
    },
    {
      "cell_type": "markdown",
      "metadata": {
        "id": "IMBrLtAtcrIO"
      },
      "source": [
        "At the end of the mini-project, you will be able to :\n",
        "\n",
        "* perform data preprocessing, EDA on the resume dataset\n",
        "* fine-tune Bert model for resume classification"
      ]
    },
    {
      "cell_type": "markdown",
      "metadata": {
        "id": "v6Xda9CM9el9"
      },
      "source": [
        "## Dataset Description"
      ]
    },
    {
      "cell_type": "markdown",
      "metadata": {
        "id": "VeRfk4Sb9h0r"
      },
      "source": [
        "The data is in CSV format, with two features: Category, and Resume.\n",
        "\n",
        "**Category** -  Industry sector to which the resume belongs to, and\n",
        "\n",
        "**Resume** - The complete CV (text) of the candidate."
      ]
    },
    {
      "cell_type": "markdown",
      "metadata": {
        "id": "R7ZV5ryMP07f"
      },
      "source": [
        "##  Grading = 10 Points"
      ]
    },
    {
      "cell_type": "markdown",
      "metadata": {
        "id": "4Pped-3NPaDV"
      },
      "source": [
        "## Information"
      ]
    },
    {
      "cell_type": "markdown",
      "metadata": {
        "id": "QuxYf07d62Oo"
      },
      "source": [
        "Companies often receive thousands of resumes for each job posting and employ dedicated screening officers to screen qualified candidates. Finding suitable candidates for an open role from a database of 1000s of resumes can be a tough task. Automated resume categorization can speeden the candidate selection process. Such automation can really ease the tedious process of fair screening and shortlisting the right candidates and aid quick decisionmaking.\n",
        "\n",
        "To learn more about this, click [here](https://www.sciencedirect.com/science/article/pii/S187705092030750X)."
      ]
    },
    {
      "cell_type": "markdown",
      "source": [
        "**Problem Statement:** Fine-tune a pre-trained Bert model for resume classification.\n",
        "\n",
        "*For fine-tuning Bert, refer to the HuggingFace platform session held on 17 Aug.*"
      ],
      "metadata": {
        "id": "uvvyWAPhkvm8"
      }
    },
    {
      "cell_type": "markdown",
      "source": [
        "### Install dependencies\n",
        "\n",
        "After installing the below dependencies ***Restart the session/runtime***."
      ],
      "metadata": {
        "id": "lNKEGvMEIK5f"
      }
    },
    {
      "cell_type": "code",
      "source": [
        "!pip -q uninstall pyarrow -y\n",
        "!pip -q install pyarrow==15.0.2\n",
        "!pip -q install datasets\n",
        "!pip -q install accelerate\n",
        "!pip -q install transformers\n",
        "\n",
        "# Ignore the Error/Warning showing after running this cell"
      ],
      "metadata": {
        "id": "ejNC4T4_A0GN",
        "colab": {
          "base_uri": "https://localhost:8080/"
        },
        "outputId": "b52ecbe5-9dbb-4c99-d950-58a6616f88bd"
      },
      "execution_count": null,
      "outputs": [
        {
          "output_type": "stream",
          "name": "stdout",
          "text": [
            "\u001b[2K   \u001b[90m━━━━━━━━━━━━━━━━━━━━━━━━━━━━━━━━━━━━━━━━\u001b[0m \u001b[32m38.3/38.3 MB\u001b[0m \u001b[31m27.9 MB/s\u001b[0m eta \u001b[36m0:00:00\u001b[0m\n",
            "\u001b[2K   \u001b[90m━━━━━━━━━━━━━━━━━━━━━━━━━━━━━━━━━━━━━━━━\u001b[0m \u001b[32m480.6/480.6 kB\u001b[0m \u001b[31m8.2 MB/s\u001b[0m eta \u001b[36m0:00:00\u001b[0m\n",
            "\u001b[2K   \u001b[90m━━━━━━━━━━━━━━━━━━━━━━━━━━━━━━━━━━━━━━━━\u001b[0m \u001b[32m116.3/116.3 kB\u001b[0m \u001b[31m6.5 MB/s\u001b[0m eta \u001b[36m0:00:00\u001b[0m\n",
            "\u001b[2K   \u001b[90m━━━━━━━━━━━━━━━━━━━━━━━━━━━━━━━━━━━━━━━━\u001b[0m \u001b[32m179.3/179.3 kB\u001b[0m \u001b[31m6.0 MB/s\u001b[0m eta \u001b[36m0:00:00\u001b[0m\n",
            "\u001b[2K   \u001b[90m━━━━━━━━━━━━━━━━━━━━━━━━━━━━━━━━━━━━━━━━\u001b[0m \u001b[32m134.8/134.8 kB\u001b[0m \u001b[31m5.9 MB/s\u001b[0m eta \u001b[36m0:00:00\u001b[0m\n",
            "\u001b[2K   \u001b[90m━━━━━━━━━━━━━━━━━━━━━━━━━━━━━━━━━━━━━━━━\u001b[0m \u001b[32m194.1/194.1 kB\u001b[0m \u001b[31m10.2 MB/s\u001b[0m eta \u001b[36m0:00:00\u001b[0m\n",
            "\u001b[?25h\u001b[31mERROR: pip's dependency resolver does not currently take into account all the packages that are installed. This behaviour is the source of the following dependency conflicts.\n",
            "gcsfs 2024.10.0 requires fsspec==2024.10.0, but you have fsspec 2024.9.0 which is incompatible.\u001b[0m\u001b[31m\n",
            "\u001b[0m"
          ]
        }
      ]
    },
    {
      "cell_type": "code",
      "source": [
        "!wget https://lh3.googleusercontent.com/keep-bbsk/AFgXFlLshEsxcecs0h-7bdhC4yooaOSBeDh7O0N5aN0-WK66-Yd9GpZI4IYz2-d8s9adaWj1zMgOAtxdUsB_jc2xgElzb8fl7lEi59ICDH_i-UnfzMkOhqcN-A=s361 -O img.gif"
      ],
      "metadata": {
        "id": "RISLtE1KoQae",
        "outputId": "e7a44169-3427-4e03-ec46-120264e5ac72",
        "colab": {
          "base_uri": "https://localhost:8080/"
        }
      },
      "execution_count": null,
      "outputs": [
        {
          "output_type": "stream",
          "name": "stdout",
          "text": [
            "--2025-01-11 05:08:19--  https://lh3.googleusercontent.com/keep-bbsk/AFgXFlLshEsxcecs0h-7bdhC4yooaOSBeDh7O0N5aN0-WK66-Yd9GpZI4IYz2-d8s9adaWj1zMgOAtxdUsB_jc2xgElzb8fl7lEi59ICDH_i-UnfzMkOhqcN-A=s361\n",
            "Resolving lh3.googleusercontent.com (lh3.googleusercontent.com)... 142.250.125.132, 2607:f8b0:4001:c56::84\n",
            "Connecting to lh3.googleusercontent.com (lh3.googleusercontent.com)|142.250.125.132|:443... connected.\n",
            "HTTP request sent, awaiting response... 403 Forbidden\n",
            "2025-01-11 05:08:19 ERROR 403: Forbidden.\n",
            "\n"
          ]
        }
      ]
    },
    {
      "cell_type": "markdown",
      "source": [
        "### <font color=\"#990000\">Restart Session/Runtime</font>"
      ],
      "metadata": {
        "id": "sTBUGx6zfgsJ"
      }
    },
    {
      "cell_type": "markdown",
      "source": [
        "### Import required packages"
      ],
      "metadata": {
        "id": "HdoX5Go6IhCE"
      }
    },
    {
      "cell_type": "code",
      "metadata": {
        "id": "5t0FQjPs8o4s",
        "colab": {
          "base_uri": "https://localhost:8080/"
        },
        "outputId": "409bf5f9-7e71-4ec4-aa87-0fb984f8fd3b"
      },
      "source": [
        "from datasets import Dataset, DatasetDict\n",
        "\n",
        "from transformers import AutoTokenizer\n",
        "from transformers import AutoModelForSequenceClassification\n",
        "from transformers import TrainingArguments\n",
        "from transformers import Trainer\n",
        "from transformers import pipeline\n",
        "\n",
        "import numpy as np\n",
        "import pandas as pd\n",
        "import seaborn as sns\n",
        "import matplotlib.pyplot as plt\n",
        "from matplotlib.gridspec import GridSpec\n",
        "\n",
        "from sklearn.model_selection import train_test_split\n",
        "from sklearn.preprocessing import LabelEncoder\n",
        "\n",
        "import nltk\n",
        "nltk.download('stopwords')\n",
        "nltk.download('punkt')\n",
        "from nltk.corpus import stopwords\n",
        "\n",
        "import warnings\n",
        "warnings.filterwarnings('ignore')"
      ],
      "execution_count": null,
      "outputs": [
        {
          "output_type": "stream",
          "name": "stderr",
          "text": [
            "[nltk_data] Downloading package stopwords to /root/nltk_data...\n",
            "[nltk_data]   Unzipping corpora/stopwords.zip.\n",
            "[nltk_data] Downloading package punkt to /root/nltk_data...\n",
            "[nltk_data]   Unzipping tokenizers/punkt.zip.\n"
          ]
        }
      ]
    },
    {
      "cell_type": "markdown",
      "metadata": {
        "id": "standing-zimbabwe"
      },
      "source": [
        "### Downloading the data"
      ]
    },
    {
      "cell_type": "code",
      "metadata": {
        "id": "universal-jonathan",
        "scrolled": true,
        "cellView": "form",
        "colab": {
          "base_uri": "https://localhost:8080/"
        },
        "outputId": "1bd08edc-4b13-4079-90aa-8b89653e9ff6"
      },
      "source": [
        "#@title Download the data\n",
        "!wget -qq https://cdn.iisc.talentsprint.com/CDS/Datasets/UpdatedResumeDataSet.csv\n",
        "!ls | grep '.csv'"
      ],
      "execution_count": null,
      "outputs": [
        {
          "output_type": "stream",
          "name": "stdout",
          "text": [
            "UpdatedResumeDataSet.csv\n"
          ]
        }
      ]
    },
    {
      "cell_type": "markdown",
      "metadata": {
        "id": "T3FkLI6wcaat"
      },
      "source": [
        "**Exercise 1: Read the UpdatedResumeDataset.csv dataset [0.5 Mark]**\n",
        "\n",
        "**Hint:** pd.read_csv( , encoding='utf-8')"
      ]
    },
    {
      "cell_type": "code",
      "metadata": {
        "id": "eIu-AOsB9GfD"
      },
      "source": [
        "# Read the dataset\n",
        "# YOUR CODE HERE\n",
        "csv_data = pd.read_csv(\"/content/UpdatedResumeDataSet.csv\",encoding='utf8')"
      ],
      "execution_count": null,
      "outputs": []
    },
    {
      "cell_type": "markdown",
      "metadata": {
        "id": "QvddL7X69NiB"
      },
      "source": [
        "### Pre-processing and EDA"
      ]
    },
    {
      "cell_type": "markdown",
      "metadata": {
        "id": "EA1d25HrzTGW"
      },
      "source": [
        "**Exercise 2: Display  all the categories of resumes and their counts in the dataset [0.5 Mark]**\n",
        "\n"
      ]
    },
    {
      "cell_type": "code",
      "metadata": {
        "id": "C92ji6ZV9MWs",
        "colab": {
          "base_uri": "https://localhost:8080/"
        },
        "outputId": "440c2802-f59e-4082-8c4a-74198cb5b607"
      },
      "source": [
        "# Display the distinct categories of resume\n",
        "csv_data[\"Category\"].unique()"
      ],
      "execution_count": null,
      "outputs": [
        {
          "output_type": "execute_result",
          "data": {
            "text/plain": [
              "array(['Data Science', 'HR', 'Advocate', 'Arts', 'Web Designing',\n",
              "       'Mechanical Engineer', 'Sales', 'Health and fitness',\n",
              "       'Civil Engineer', 'Java Developer', 'Business Analyst',\n",
              "       'SAP Developer', 'Automation Testing', 'Electrical Engineering',\n",
              "       'Operations Manager', 'Python Developer', 'DevOps Engineer',\n",
              "       'Network Security Engineer', 'PMO', 'Database', 'Hadoop',\n",
              "       'ETL Developer', 'DotNet Developer', 'Blockchain', 'Testing'],\n",
              "      dtype=object)"
            ]
          },
          "metadata": {},
          "execution_count": 4
        }
      ]
    },
    {
      "cell_type": "code",
      "source": [
        "csv_data.describe()"
      ],
      "metadata": {
        "colab": {
          "base_uri": "https://localhost:8080/",
          "height": 175
        },
        "id": "wwuAq7zwhWdf",
        "outputId": "dd66af54-841b-4096-a118-f911b9d96612"
      },
      "execution_count": null,
      "outputs": [
        {
          "output_type": "execute_result",
          "data": {
            "text/plain": [
              "              Category                                             Resume\n",
              "count              962                                                962\n",
              "unique              25                                                166\n",
              "top     Java Developer  Technical Skills Web Technologies: Angular JS,...\n",
              "freq                84                                                 18"
            ],
            "text/html": [
              "\n",
              "  <div id=\"df-6e066ba5-f229-441f-ab6e-d1a4b05e9e18\" class=\"colab-df-container\">\n",
              "    <div>\n",
              "<style scoped>\n",
              "    .dataframe tbody tr th:only-of-type {\n",
              "        vertical-align: middle;\n",
              "    }\n",
              "\n",
              "    .dataframe tbody tr th {\n",
              "        vertical-align: top;\n",
              "    }\n",
              "\n",
              "    .dataframe thead th {\n",
              "        text-align: right;\n",
              "    }\n",
              "</style>\n",
              "<table border=\"1\" class=\"dataframe\">\n",
              "  <thead>\n",
              "    <tr style=\"text-align: right;\">\n",
              "      <th></th>\n",
              "      <th>Category</th>\n",
              "      <th>Resume</th>\n",
              "    </tr>\n",
              "  </thead>\n",
              "  <tbody>\n",
              "    <tr>\n",
              "      <th>count</th>\n",
              "      <td>962</td>\n",
              "      <td>962</td>\n",
              "    </tr>\n",
              "    <tr>\n",
              "      <th>unique</th>\n",
              "      <td>25</td>\n",
              "      <td>166</td>\n",
              "    </tr>\n",
              "    <tr>\n",
              "      <th>top</th>\n",
              "      <td>Java Developer</td>\n",
              "      <td>Technical Skills Web Technologies: Angular JS,...</td>\n",
              "    </tr>\n",
              "    <tr>\n",
              "      <th>freq</th>\n",
              "      <td>84</td>\n",
              "      <td>18</td>\n",
              "    </tr>\n",
              "  </tbody>\n",
              "</table>\n",
              "</div>\n",
              "    <div class=\"colab-df-buttons\">\n",
              "\n",
              "  <div class=\"colab-df-container\">\n",
              "    <button class=\"colab-df-convert\" onclick=\"convertToInteractive('df-6e066ba5-f229-441f-ab6e-d1a4b05e9e18')\"\n",
              "            title=\"Convert this dataframe to an interactive table.\"\n",
              "            style=\"display:none;\">\n",
              "\n",
              "  <svg xmlns=\"http://www.w3.org/2000/svg\" height=\"24px\" viewBox=\"0 -960 960 960\">\n",
              "    <path d=\"M120-120v-720h720v720H120Zm60-500h600v-160H180v160Zm220 220h160v-160H400v160Zm0 220h160v-160H400v160ZM180-400h160v-160H180v160Zm440 0h160v-160H620v160ZM180-180h160v-160H180v160Zm440 0h160v-160H620v160Z\"/>\n",
              "  </svg>\n",
              "    </button>\n",
              "\n",
              "  <style>\n",
              "    .colab-df-container {\n",
              "      display:flex;\n",
              "      gap: 12px;\n",
              "    }\n",
              "\n",
              "    .colab-df-convert {\n",
              "      background-color: #E8F0FE;\n",
              "      border: none;\n",
              "      border-radius: 50%;\n",
              "      cursor: pointer;\n",
              "      display: none;\n",
              "      fill: #1967D2;\n",
              "      height: 32px;\n",
              "      padding: 0 0 0 0;\n",
              "      width: 32px;\n",
              "    }\n",
              "\n",
              "    .colab-df-convert:hover {\n",
              "      background-color: #E2EBFA;\n",
              "      box-shadow: 0px 1px 2px rgba(60, 64, 67, 0.3), 0px 1px 3px 1px rgba(60, 64, 67, 0.15);\n",
              "      fill: #174EA6;\n",
              "    }\n",
              "\n",
              "    .colab-df-buttons div {\n",
              "      margin-bottom: 4px;\n",
              "    }\n",
              "\n",
              "    [theme=dark] .colab-df-convert {\n",
              "      background-color: #3B4455;\n",
              "      fill: #D2E3FC;\n",
              "    }\n",
              "\n",
              "    [theme=dark] .colab-df-convert:hover {\n",
              "      background-color: #434B5C;\n",
              "      box-shadow: 0px 1px 3px 1px rgba(0, 0, 0, 0.15);\n",
              "      filter: drop-shadow(0px 1px 2px rgba(0, 0, 0, 0.3));\n",
              "      fill: #FFFFFF;\n",
              "    }\n",
              "  </style>\n",
              "\n",
              "    <script>\n",
              "      const buttonEl =\n",
              "        document.querySelector('#df-6e066ba5-f229-441f-ab6e-d1a4b05e9e18 button.colab-df-convert');\n",
              "      buttonEl.style.display =\n",
              "        google.colab.kernel.accessAllowed ? 'block' : 'none';\n",
              "\n",
              "      async function convertToInteractive(key) {\n",
              "        const element = document.querySelector('#df-6e066ba5-f229-441f-ab6e-d1a4b05e9e18');\n",
              "        const dataTable =\n",
              "          await google.colab.kernel.invokeFunction('convertToInteractive',\n",
              "                                                    [key], {});\n",
              "        if (!dataTable) return;\n",
              "\n",
              "        const docLinkHtml = 'Like what you see? Visit the ' +\n",
              "          '<a target=\"_blank\" href=https://colab.research.google.com/notebooks/data_table.ipynb>data table notebook</a>'\n",
              "          + ' to learn more about interactive tables.';\n",
              "        element.innerHTML = '';\n",
              "        dataTable['output_type'] = 'display_data';\n",
              "        await google.colab.output.renderOutput(dataTable, element);\n",
              "        const docLink = document.createElement('div');\n",
              "        docLink.innerHTML = docLinkHtml;\n",
              "        element.appendChild(docLink);\n",
              "      }\n",
              "    </script>\n",
              "  </div>\n",
              "\n",
              "\n",
              "<div id=\"df-b91e4e6f-a996-4ad5-9633-ce95d20456f5\">\n",
              "  <button class=\"colab-df-quickchart\" onclick=\"quickchart('df-b91e4e6f-a996-4ad5-9633-ce95d20456f5')\"\n",
              "            title=\"Suggest charts\"\n",
              "            style=\"display:none;\">\n",
              "\n",
              "<svg xmlns=\"http://www.w3.org/2000/svg\" height=\"24px\"viewBox=\"0 0 24 24\"\n",
              "     width=\"24px\">\n",
              "    <g>\n",
              "        <path d=\"M19 3H5c-1.1 0-2 .9-2 2v14c0 1.1.9 2 2 2h14c1.1 0 2-.9 2-2V5c0-1.1-.9-2-2-2zM9 17H7v-7h2v7zm4 0h-2V7h2v10zm4 0h-2v-4h2v4z\"/>\n",
              "    </g>\n",
              "</svg>\n",
              "  </button>\n",
              "\n",
              "<style>\n",
              "  .colab-df-quickchart {\n",
              "      --bg-color: #E8F0FE;\n",
              "      --fill-color: #1967D2;\n",
              "      --hover-bg-color: #E2EBFA;\n",
              "      --hover-fill-color: #174EA6;\n",
              "      --disabled-fill-color: #AAA;\n",
              "      --disabled-bg-color: #DDD;\n",
              "  }\n",
              "\n",
              "  [theme=dark] .colab-df-quickchart {\n",
              "      --bg-color: #3B4455;\n",
              "      --fill-color: #D2E3FC;\n",
              "      --hover-bg-color: #434B5C;\n",
              "      --hover-fill-color: #FFFFFF;\n",
              "      --disabled-bg-color: #3B4455;\n",
              "      --disabled-fill-color: #666;\n",
              "  }\n",
              "\n",
              "  .colab-df-quickchart {\n",
              "    background-color: var(--bg-color);\n",
              "    border: none;\n",
              "    border-radius: 50%;\n",
              "    cursor: pointer;\n",
              "    display: none;\n",
              "    fill: var(--fill-color);\n",
              "    height: 32px;\n",
              "    padding: 0;\n",
              "    width: 32px;\n",
              "  }\n",
              "\n",
              "  .colab-df-quickchart:hover {\n",
              "    background-color: var(--hover-bg-color);\n",
              "    box-shadow: 0 1px 2px rgba(60, 64, 67, 0.3), 0 1px 3px 1px rgba(60, 64, 67, 0.15);\n",
              "    fill: var(--button-hover-fill-color);\n",
              "  }\n",
              "\n",
              "  .colab-df-quickchart-complete:disabled,\n",
              "  .colab-df-quickchart-complete:disabled:hover {\n",
              "    background-color: var(--disabled-bg-color);\n",
              "    fill: var(--disabled-fill-color);\n",
              "    box-shadow: none;\n",
              "  }\n",
              "\n",
              "  .colab-df-spinner {\n",
              "    border: 2px solid var(--fill-color);\n",
              "    border-color: transparent;\n",
              "    border-bottom-color: var(--fill-color);\n",
              "    animation:\n",
              "      spin 1s steps(1) infinite;\n",
              "  }\n",
              "\n",
              "  @keyframes spin {\n",
              "    0% {\n",
              "      border-color: transparent;\n",
              "      border-bottom-color: var(--fill-color);\n",
              "      border-left-color: var(--fill-color);\n",
              "    }\n",
              "    20% {\n",
              "      border-color: transparent;\n",
              "      border-left-color: var(--fill-color);\n",
              "      border-top-color: var(--fill-color);\n",
              "    }\n",
              "    30% {\n",
              "      border-color: transparent;\n",
              "      border-left-color: var(--fill-color);\n",
              "      border-top-color: var(--fill-color);\n",
              "      border-right-color: var(--fill-color);\n",
              "    }\n",
              "    40% {\n",
              "      border-color: transparent;\n",
              "      border-right-color: var(--fill-color);\n",
              "      border-top-color: var(--fill-color);\n",
              "    }\n",
              "    60% {\n",
              "      border-color: transparent;\n",
              "      border-right-color: var(--fill-color);\n",
              "    }\n",
              "    80% {\n",
              "      border-color: transparent;\n",
              "      border-right-color: var(--fill-color);\n",
              "      border-bottom-color: var(--fill-color);\n",
              "    }\n",
              "    90% {\n",
              "      border-color: transparent;\n",
              "      border-bottom-color: var(--fill-color);\n",
              "    }\n",
              "  }\n",
              "</style>\n",
              "\n",
              "  <script>\n",
              "    async function quickchart(key) {\n",
              "      const quickchartButtonEl =\n",
              "        document.querySelector('#' + key + ' button');\n",
              "      quickchartButtonEl.disabled = true;  // To prevent multiple clicks.\n",
              "      quickchartButtonEl.classList.add('colab-df-spinner');\n",
              "      try {\n",
              "        const charts = await google.colab.kernel.invokeFunction(\n",
              "            'suggestCharts', [key], {});\n",
              "      } catch (error) {\n",
              "        console.error('Error during call to suggestCharts:', error);\n",
              "      }\n",
              "      quickchartButtonEl.classList.remove('colab-df-spinner');\n",
              "      quickchartButtonEl.classList.add('colab-df-quickchart-complete');\n",
              "    }\n",
              "    (() => {\n",
              "      let quickchartButtonEl =\n",
              "        document.querySelector('#df-b91e4e6f-a996-4ad5-9633-ce95d20456f5 button');\n",
              "      quickchartButtonEl.style.display =\n",
              "        google.colab.kernel.accessAllowed ? 'block' : 'none';\n",
              "    })();\n",
              "  </script>\n",
              "</div>\n",
              "\n",
              "    </div>\n",
              "  </div>\n"
            ],
            "application/vnd.google.colaboratory.intrinsic+json": {
              "type": "dataframe",
              "summary": "{\n  \"name\": \"csv_data\",\n  \"rows\": 4,\n  \"fields\": [\n    {\n      \"column\": \"Category\",\n      \"properties\": {\n        \"dtype\": \"string\",\n        \"num_unique_values\": 4,\n        \"samples\": [\n          25,\n          \"84\",\n          \"962\"\n        ],\n        \"semantic_type\": \"\",\n        \"description\": \"\"\n      }\n    },\n    {\n      \"column\": \"Resume\",\n      \"properties\": {\n        \"dtype\": \"string\",\n        \"num_unique_values\": 4,\n        \"samples\": [\n          166,\n          \"18\",\n          \"962\"\n        ],\n        \"semantic_type\": \"\",\n        \"description\": \"\"\n      }\n    }\n  ]\n}"
            }
          },
          "metadata": {},
          "execution_count": 5
        }
      ]
    },
    {
      "cell_type": "code",
      "source": [
        "# Displaying the number of distinct categories of resume\n",
        "len(csv_data[\"Category\"].unique())"
      ],
      "metadata": {
        "id": "hcvr3-nQn1PN",
        "colab": {
          "base_uri": "https://localhost:8080/"
        },
        "outputId": "47ba1f1d-9fb0-449e-f45d-7aa271a51caa"
      },
      "execution_count": null,
      "outputs": [
        {
          "output_type": "execute_result",
          "data": {
            "text/plain": [
              "25"
            ]
          },
          "metadata": {},
          "execution_count": 6
        }
      ]
    },
    {
      "cell_type": "code",
      "metadata": {
        "id": "YtIjY7ji9va5",
        "colab": {
          "base_uri": "https://localhost:8080/",
          "height": 899
        },
        "outputId": "32b109de-f335-4a1f-e026-ff7d220a19ae"
      },
      "source": [
        "# Display the distinct categories of resume and the number of records belonging to each category\n",
        "csv_data[\"Category\"].value_counts()"
      ],
      "execution_count": null,
      "outputs": [
        {
          "output_type": "execute_result",
          "data": {
            "text/plain": [
              "Category\n",
              "Java Developer               84\n",
              "Testing                      70\n",
              "DevOps Engineer              55\n",
              "Python Developer             48\n",
              "Web Designing                45\n",
              "HR                           44\n",
              "Hadoop                       42\n",
              "Blockchain                   40\n",
              "ETL Developer                40\n",
              "Operations Manager           40\n",
              "Data Science                 40\n",
              "Sales                        40\n",
              "Mechanical Engineer          40\n",
              "Arts                         36\n",
              "Database                     33\n",
              "Electrical Engineering       30\n",
              "Health and fitness           30\n",
              "PMO                          30\n",
              "Business Analyst             28\n",
              "DotNet Developer             28\n",
              "Automation Testing           26\n",
              "Network Security Engineer    25\n",
              "SAP Developer                24\n",
              "Civil Engineer               24\n",
              "Advocate                     20\n",
              "Name: count, dtype: int64"
            ],
            "text/html": [
              "<div>\n",
              "<style scoped>\n",
              "    .dataframe tbody tr th:only-of-type {\n",
              "        vertical-align: middle;\n",
              "    }\n",
              "\n",
              "    .dataframe tbody tr th {\n",
              "        vertical-align: top;\n",
              "    }\n",
              "\n",
              "    .dataframe thead th {\n",
              "        text-align: right;\n",
              "    }\n",
              "</style>\n",
              "<table border=\"1\" class=\"dataframe\">\n",
              "  <thead>\n",
              "    <tr style=\"text-align: right;\">\n",
              "      <th></th>\n",
              "      <th>count</th>\n",
              "    </tr>\n",
              "    <tr>\n",
              "      <th>Category</th>\n",
              "      <th></th>\n",
              "    </tr>\n",
              "  </thead>\n",
              "  <tbody>\n",
              "    <tr>\n",
              "      <th>Java Developer</th>\n",
              "      <td>84</td>\n",
              "    </tr>\n",
              "    <tr>\n",
              "      <th>Testing</th>\n",
              "      <td>70</td>\n",
              "    </tr>\n",
              "    <tr>\n",
              "      <th>DevOps Engineer</th>\n",
              "      <td>55</td>\n",
              "    </tr>\n",
              "    <tr>\n",
              "      <th>Python Developer</th>\n",
              "      <td>48</td>\n",
              "    </tr>\n",
              "    <tr>\n",
              "      <th>Web Designing</th>\n",
              "      <td>45</td>\n",
              "    </tr>\n",
              "    <tr>\n",
              "      <th>HR</th>\n",
              "      <td>44</td>\n",
              "    </tr>\n",
              "    <tr>\n",
              "      <th>Hadoop</th>\n",
              "      <td>42</td>\n",
              "    </tr>\n",
              "    <tr>\n",
              "      <th>Blockchain</th>\n",
              "      <td>40</td>\n",
              "    </tr>\n",
              "    <tr>\n",
              "      <th>ETL Developer</th>\n",
              "      <td>40</td>\n",
              "    </tr>\n",
              "    <tr>\n",
              "      <th>Operations Manager</th>\n",
              "      <td>40</td>\n",
              "    </tr>\n",
              "    <tr>\n",
              "      <th>Data Science</th>\n",
              "      <td>40</td>\n",
              "    </tr>\n",
              "    <tr>\n",
              "      <th>Sales</th>\n",
              "      <td>40</td>\n",
              "    </tr>\n",
              "    <tr>\n",
              "      <th>Mechanical Engineer</th>\n",
              "      <td>40</td>\n",
              "    </tr>\n",
              "    <tr>\n",
              "      <th>Arts</th>\n",
              "      <td>36</td>\n",
              "    </tr>\n",
              "    <tr>\n",
              "      <th>Database</th>\n",
              "      <td>33</td>\n",
              "    </tr>\n",
              "    <tr>\n",
              "      <th>Electrical Engineering</th>\n",
              "      <td>30</td>\n",
              "    </tr>\n",
              "    <tr>\n",
              "      <th>Health and fitness</th>\n",
              "      <td>30</td>\n",
              "    </tr>\n",
              "    <tr>\n",
              "      <th>PMO</th>\n",
              "      <td>30</td>\n",
              "    </tr>\n",
              "    <tr>\n",
              "      <th>Business Analyst</th>\n",
              "      <td>28</td>\n",
              "    </tr>\n",
              "    <tr>\n",
              "      <th>DotNet Developer</th>\n",
              "      <td>28</td>\n",
              "    </tr>\n",
              "    <tr>\n",
              "      <th>Automation Testing</th>\n",
              "      <td>26</td>\n",
              "    </tr>\n",
              "    <tr>\n",
              "      <th>Network Security Engineer</th>\n",
              "      <td>25</td>\n",
              "    </tr>\n",
              "    <tr>\n",
              "      <th>SAP Developer</th>\n",
              "      <td>24</td>\n",
              "    </tr>\n",
              "    <tr>\n",
              "      <th>Civil Engineer</th>\n",
              "      <td>24</td>\n",
              "    </tr>\n",
              "    <tr>\n",
              "      <th>Advocate</th>\n",
              "      <td>20</td>\n",
              "    </tr>\n",
              "  </tbody>\n",
              "</table>\n",
              "</div><br><label><b>dtype:</b> int64</label>"
            ]
          },
          "metadata": {},
          "execution_count": 7
        }
      ]
    },
    {
      "cell_type": "markdown",
      "metadata": {
        "id": "kpHv50ojzvO5"
      },
      "source": [
        "**Exercise 3: Create the count plot of different categories [0.5 Mark]**\n",
        "\n",
        "**Hint:** Use `sns.countplot()`"
      ]
    },
    {
      "cell_type": "code",
      "metadata": {
        "id": "zYwrK_5f93gP",
        "colab": {
          "base_uri": "https://localhost:8080/",
          "height": 467
        },
        "outputId": "ab81f16f-92d0-49ea-b1ee-7ca82ef4c91f"
      },
      "source": [
        "sns.countplot(y = csv_data[\"Category\"])"
      ],
      "execution_count": null,
      "outputs": [
        {
          "output_type": "execute_result",
          "data": {
            "text/plain": [
              "<Axes: xlabel='count', ylabel='Category'>"
            ]
          },
          "metadata": {},
          "execution_count": 8
        },
        {
          "output_type": "display_data",
          "data": {
            "text/plain": [
              "<Figure size 640x480 with 1 Axes>"
            ],
            "image/png": "[encoded data removed]"
          },
          "metadata": {}
        }
      ]
    },
    {
      "cell_type": "markdown",
      "metadata": {
        "id": "VyXtz0Mr0NVB"
      },
      "source": [
        "**Exercise 4: Create a pie plot depicting the percentage of resume distributions category-wise. [0.5 mark]**\n",
        "\n",
        "**Hint:** Use [plt.pie()](https://matplotlib.org/stable/api/_as_gen/matplotlib.pyplot.pie.html) and [plt.get_cmap](https://matplotlib.org/stable/tutorials/colors/colormaps.html) for color mapping the pie chart."
      ]
    },
    {
      "cell_type": "code",
      "metadata": {
        "id": "qrpJDoGx-CuF",
        "colab": {
          "base_uri": "https://localhost:8080/",
          "height": 35
        },
        "outputId": "64476028-0b66-418f-b14c-1aed85c3370f"
      },
      "source": [
        "targetCounts = csv_data['Category'].value_counts()\n",
        "targetLabels  = targetCounts.index\n",
        "# Make square figures and axes\n",
        "plt.figure(1, figsize=(25,25))\n",
        "the_grid = GridSpec(2, 2)\n",
        "\n",
        "# YOUR CODE HERE to display pie chart with color coding (eg. `coolwarm`)\n",
        "\n",
        "#Question"
      ],
      "execution_count": null,
      "outputs": [
        {
          "output_type": "display_data",
          "data": {
            "text/plain": [
              "<Figure size 2500x2500 with 0 Axes>"
            ]
          },
          "metadata": {}
        }
      ]
    },
    {
      "cell_type": "code",
      "source": [
        "from matplotlib import cm\n",
        "colormap = cm.get_cmap('coolwarm')\n",
        "\n",
        "#colors_map = plt.get_cmap(\"coolwarm\")\n",
        "#cmap = plt.get_cmap(\"coolwarm\")"
      ],
      "metadata": {
        "id": "Q1jL6JAei1Ve"
      },
      "execution_count": null,
      "outputs": []
    },
    {
      "cell_type": "code",
      "source": [
        "plt.pie(x=targetCounts, labels = targetLabels, autopct=\"%1.1f%%\", radius=1.5)\n",
        "plt.imshow()"
      ],
      "metadata": {
        "colab": {
          "base_uri": "https://localhost:8080/",
          "height": 686
        },
        "id": "wrLuyb8Yh37b",
        "outputId": "c6e21a1c-0aa1-4a49-9609-acb2de8f67cc"
      },
      "execution_count": null,
      "outputs": [
        {
          "output_type": "error",
          "ename": "TypeError",
          "evalue": "imshow() missing 1 required positional argument: 'X'",
          "traceback": [
            "\u001b[0;31m---------------------------------------------------------------------------\u001b[0m",
            "\u001b[0;31mTypeError\u001b[0m                                 Traceback (most recent call last)",
            "\u001b[0;32m<ipython-input-51-b1f10a11530b>\u001b[0m in \u001b[0;36m<cell line: 2>\u001b[0;34m()\u001b[0m\n\u001b[1;32m      1\u001b[0m \u001b[0mplt\u001b[0m\u001b[0;34m.\u001b[0m\u001b[0mpie\u001b[0m\u001b[0;34m(\u001b[0m\u001b[0mx\u001b[0m\u001b[0;34m=\u001b[0m\u001b[0mtargetCounts\u001b[0m\u001b[0;34m,\u001b[0m \u001b[0mlabels\u001b[0m \u001b[0;34m=\u001b[0m \u001b[0mtargetLabels\u001b[0m\u001b[0;34m,\u001b[0m \u001b[0mautopct\u001b[0m\u001b[0;34m=\u001b[0m\u001b[0;34m\"%1.1f%%\"\u001b[0m\u001b[0;34m,\u001b[0m \u001b[0mradius\u001b[0m\u001b[0;34m=\u001b[0m\u001b[0;36m1.5\u001b[0m\u001b[0;34m)\u001b[0m\u001b[0;34m\u001b[0m\u001b[0;34m\u001b[0m\u001b[0m\n\u001b[0;32m----> 2\u001b[0;31m \u001b[0mplt\u001b[0m\u001b[0;34m.\u001b[0m\u001b[0mimshow\u001b[0m\u001b[0;34m(\u001b[0m\u001b[0;34m)\u001b[0m\u001b[0;34m\u001b[0m\u001b[0;34m\u001b[0m\u001b[0m\n\u001b[0m",
            "\u001b[0;31mTypeError\u001b[0m: imshow() missing 1 required positional argument: 'X'"
          ]
        },
        {
          "output_type": "display_data",
          "data": {
            "text/plain": [
              "<Figure size 640x480 with 1 Axes>"
            ],
            "image/png": "[encoded data removed]"
          },
          "metadata": {}
        }
      ]
    },
    {
      "cell_type": "markdown",
      "metadata": {
        "id": "KJaznteJ1xr4"
      },
      "source": [
        "**Exercise 5: Convert all the `Resume` text to lower case and remove trailing spaces [0.5 Mark]**\n",
        "\n",
        "\n"
      ]
    },
    {
      "cell_type": "code",
      "source": [
        "csv_data.head()"
      ],
      "metadata": {
        "colab": {
          "base_uri": "https://localhost:8080/",
          "height": 206
        },
        "id": "LESpgSNlnCEB",
        "outputId": "502d1e41-057d-4fd0-b0aa-9e251e1f9fa5"
      },
      "execution_count": null,
      "outputs": [
        {
          "output_type": "execute_result",
          "data": {
            "text/plain": [
              "       Category                                             Resume\n",
              "0  Data Science  Skills * Programming Languages: Python (pandas...\n",
              "1  Data Science  Education Details \\r\\nMay 2013 to May 2017 B.E...\n",
              "2  Data Science  Areas of Interest Deep Learning, Control Syste...\n",
              "3  Data Science  Skills â¢ R â¢ Python â¢ SAP HANA â¢ Table...\n",
              "4  Data Science  Education Details \\r\\n MCA   YMCAUST,  Faridab..."
            ],
            "text/html": [
              "\n",
              "  <div id=\"df-c4f3d606-c450-47e0-ac9c-54adefa7815d\" class=\"colab-df-container\">\n",
              "    <div>\n",
              "<style scoped>\n",
              "    .dataframe tbody tr th:only-of-type {\n",
              "        vertical-align: middle;\n",
              "    }\n",
              "\n",
              "    .dataframe tbody tr th {\n",
              "        vertical-align: top;\n",
              "    }\n",
              "\n",
              "    .dataframe thead th {\n",
              "        text-align: right;\n",
              "    }\n",
              "</style>\n",
              "<table border=\"1\" class=\"dataframe\">\n",
              "  <thead>\n",
              "    <tr style=\"text-align: right;\">\n",
              "      <th></th>\n",
              "      <th>Category</th>\n",
              "      <th>Resume</th>\n",
              "    </tr>\n",
              "  </thead>\n",
              "  <tbody>\n",
              "    <tr>\n",
              "      <th>0</th>\n",
              "      <td>Data Science</td>\n",
              "      <td>Skills * Programming Languages: Python (pandas...</td>\n",
              "    </tr>\n",
              "    <tr>\n",
              "      <th>1</th>\n",
              "      <td>Data Science</td>\n",
              "      <td>Education Details \\r\\nMay 2013 to May 2017 B.E...</td>\n",
              "    </tr>\n",
              "    <tr>\n",
              "      <th>2</th>\n",
              "      <td>Data Science</td>\n",
              "      <td>Areas of Interest Deep Learning, Control Syste...</td>\n",
              "    </tr>\n",
              "    <tr>\n",
              "      <th>3</th>\n",
              "      <td>Data Science</td>\n",
              "      <td>Skills â¢ R â¢ Python â¢ SAP HANA â¢ Table...</td>\n",
              "    </tr>\n",
              "    <tr>\n",
              "      <th>4</th>\n",
              "      <td>Data Science</td>\n",
              "      <td>Education Details \\r\\n MCA   YMCAUST,  Faridab...</td>\n",
              "    </tr>\n",
              "  </tbody>\n",
              "</table>\n",
              "</div>\n",
              "    <div class=\"colab-df-buttons\">\n",
              "\n",
              "  <div class=\"colab-df-container\">\n",
              "    <button class=\"colab-df-convert\" onclick=\"convertToInteractive('df-c4f3d606-c450-47e0-ac9c-54adefa7815d')\"\n",
              "            title=\"Convert this dataframe to an interactive table.\"\n",
              "            style=\"display:none;\">\n",
              "\n",
              "  <svg xmlns=\"http://www.w3.org/2000/svg\" height=\"24px\" viewBox=\"0 -960 960 960\">\n",
              "    <path d=\"M120-120v-720h720v720H120Zm60-500h600v-160H180v160Zm220 220h160v-160H400v160Zm0 220h160v-160H400v160ZM180-400h160v-160H180v160Zm440 0h160v-160H620v160ZM180-180h160v-160H180v160Zm440 0h160v-160H620v160Z\"/>\n",
              "  </svg>\n",
              "    </button>\n",
              "\n",
              "  <style>\n",
              "    .colab-df-container {\n",
              "      display:flex;\n",
              "      gap: 12px;\n",
              "    }\n",
              "\n",
              "    .colab-df-convert {\n",
              "      background-color: #E8F0FE;\n",
              "      border: none;\n",
              "      border-radius: 50%;\n",
              "      cursor: pointer;\n",
              "      display: none;\n",
              "      fill: #1967D2;\n",
              "      height: 32px;\n",
              "      padding: 0 0 0 0;\n",
              "      width: 32px;\n",
              "    }\n",
              "\n",
              "    .colab-df-convert:hover {\n",
              "      background-color: #E2EBFA;\n",
              "      box-shadow: 0px 1px 2px rgba(60, 64, 67, 0.3), 0px 1px 3px 1px rgba(60, 64, 67, 0.15);\n",
              "      fill: #174EA6;\n",
              "    }\n",
              "\n",
              "    .colab-df-buttons div {\n",
              "      margin-bottom: 4px;\n",
              "    }\n",
              "\n",
              "    [theme=dark] .colab-df-convert {\n",
              "      background-color: #3B4455;\n",
              "      fill: #D2E3FC;\n",
              "    }\n",
              "\n",
              "    [theme=dark] .colab-df-convert:hover {\n",
              "      background-color: #434B5C;\n",
              "      box-shadow: 0px 1px 3px 1px rgba(0, 0, 0, 0.15);\n",
              "      filter: drop-shadow(0px 1px 2px rgba(0, 0, 0, 0.3));\n",
              "      fill: #FFFFFF;\n",
              "    }\n",
              "  </style>\n",
              "\n",
              "    <script>\n",
              "      const buttonEl =\n",
              "        document.querySelector('#df-c4f3d606-c450-47e0-ac9c-54adefa7815d button.colab-df-convert');\n",
              "      buttonEl.style.display =\n",
              "        google.colab.kernel.accessAllowed ? 'block' : 'none';\n",
              "\n",
              "      async function convertToInteractive(key) {\n",
              "        const element = document.querySelector('#df-c4f3d606-c450-47e0-ac9c-54adefa7815d');\n",
              "        const dataTable =\n",
              "          await google.colab.kernel.invokeFunction('convertToInteractive',\n",
              "                                                    [key], {});\n",
              "        if (!dataTable) return;\n",
              "\n",
              "        const docLinkHtml = 'Like what you see? Visit the ' +\n",
              "          '<a target=\"_blank\" href=https://colab.research.google.com/notebooks/data_table.ipynb>data table notebook</a>'\n",
              "          + ' to learn more about interactive tables.';\n",
              "        element.innerHTML = '';\n",
              "        dataTable['output_type'] = 'display_data';\n",
              "        await google.colab.output.renderOutput(dataTable, element);\n",
              "        const docLink = document.createElement('div');\n",
              "        docLink.innerHTML = docLinkHtml;\n",
              "        element.appendChild(docLink);\n",
              "      }\n",
              "    </script>\n",
              "  </div>\n",
              "\n",
              "\n",
              "<div id=\"df-03162edf-a8e3-46e2-8bc9-7266282e95de\">\n",
              "  <button class=\"colab-df-quickchart\" onclick=\"quickchart('df-03162edf-a8e3-46e2-8bc9-7266282e95de')\"\n",
              "            title=\"Suggest charts\"\n",
              "            style=\"display:none;\">\n",
              "\n",
              "<svg xmlns=\"http://www.w3.org/2000/svg\" height=\"24px\"viewBox=\"0 0 24 24\"\n",
              "     width=\"24px\">\n",
              "    <g>\n",
              "        <path d=\"M19 3H5c-1.1 0-2 .9-2 2v14c0 1.1.9 2 2 2h14c1.1 0 2-.9 2-2V5c0-1.1-.9-2-2-2zM9 17H7v-7h2v7zm4 0h-2V7h2v10zm4 0h-2v-4h2v4z\"/>\n",
              "    </g>\n",
              "</svg>\n",
              "  </button>\n",
              "\n",
              "<style>\n",
              "  .colab-df-quickchart {\n",
              "      --bg-color: #E8F0FE;\n",
              "      --fill-color: #1967D2;\n",
              "      --hover-bg-color: #E2EBFA;\n",
              "      --hover-fill-color: #174EA6;\n",
              "      --disabled-fill-color: #AAA;\n",
              "      --disabled-bg-color: #DDD;\n",
              "  }\n",
              "\n",
              "  [theme=dark] .colab-df-quickchart {\n",
              "      --bg-color: #3B4455;\n",
              "      --fill-color: #D2E3FC;\n",
              "      --hover-bg-color: #434B5C;\n",
              "      --hover-fill-color: #FFFFFF;\n",
              "      --disabled-bg-color: #3B4455;\n",
              "      --disabled-fill-color: #666;\n",
              "  }\n",
              "\n",
              "  .colab-df-quickchart {\n",
              "    background-color: var(--bg-color);\n",
              "    border: none;\n",
              "    border-radius: 50%;\n",
              "    cursor: pointer;\n",
              "    display: none;\n",
              "    fill: var(--fill-color);\n",
              "    height: 32px;\n",
              "    padding: 0;\n",
              "    width: 32px;\n",
              "  }\n",
              "\n",
              "  .colab-df-quickchart:hover {\n",
              "    background-color: var(--hover-bg-color);\n",
              "    box-shadow: 0 1px 2px rgba(60, 64, 67, 0.3), 0 1px 3px 1px rgba(60, 64, 67, 0.15);\n",
              "    fill: var(--button-hover-fill-color);\n",
              "  }\n",
              "\n",
              "  .colab-df-quickchart-complete:disabled,\n",
              "  .colab-df-quickchart-complete:disabled:hover {\n",
              "    background-color: var(--disabled-bg-color);\n",
              "    fill: var(--disabled-fill-color);\n",
              "    box-shadow: none;\n",
              "  }\n",
              "\n",
              "  .colab-df-spinner {\n",
              "    border: 2px solid var(--fill-color);\n",
              "    border-color: transparent;\n",
              "    border-bottom-color: var(--fill-color);\n",
              "    animation:\n",
              "      spin 1s steps(1) infinite;\n",
              "  }\n",
              "\n",
              "  @keyframes spin {\n",
              "    0% {\n",
              "      border-color: transparent;\n",
              "      border-bottom-color: var(--fill-color);\n",
              "      border-left-color: var(--fill-color);\n",
              "    }\n",
              "    20% {\n",
              "      border-color: transparent;\n",
              "      border-left-color: var(--fill-color);\n",
              "      border-top-color: var(--fill-color);\n",
              "    }\n",
              "    30% {\n",
              "      border-color: transparent;\n",
              "      border-left-color: var(--fill-color);\n",
              "      border-top-color: var(--fill-color);\n",
              "      border-right-color: var(--fill-color);\n",
              "    }\n",
              "    40% {\n",
              "      border-color: transparent;\n",
              "      border-right-color: var(--fill-color);\n",
              "      border-top-color: var(--fill-color);\n",
              "    }\n",
              "    60% {\n",
              "      border-color: transparent;\n",
              "      border-right-color: var(--fill-color);\n",
              "    }\n",
              "    80% {\n",
              "      border-color: transparent;\n",
              "      border-right-color: var(--fill-color);\n",
              "      border-bottom-color: var(--fill-color);\n",
              "    }\n",
              "    90% {\n",
              "      border-color: transparent;\n",
              "      border-bottom-color: var(--fill-color);\n",
              "    }\n",
              "  }\n",
              "</style>\n",
              "\n",
              "  <script>\n",
              "    async function quickchart(key) {\n",
              "      const quickchartButtonEl =\n",
              "        document.querySelector('#' + key + ' button');\n",
              "      quickchartButtonEl.disabled = true;  // To prevent multiple clicks.\n",
              "      quickchartButtonEl.classList.add('colab-df-spinner');\n",
              "      try {\n",
              "        const charts = await google.colab.kernel.invokeFunction(\n",
              "            'suggestCharts', [key], {});\n",
              "      } catch (error) {\n",
              "        console.error('Error during call to suggestCharts:', error);\n",
              "      }\n",
              "      quickchartButtonEl.classList.remove('colab-df-spinner');\n",
              "      quickchartButtonEl.classList.add('colab-df-quickchart-complete');\n",
              "    }\n",
              "    (() => {\n",
              "      let quickchartButtonEl =\n",
              "        document.querySelector('#df-03162edf-a8e3-46e2-8bc9-7266282e95de button');\n",
              "      quickchartButtonEl.style.display =\n",
              "        google.colab.kernel.accessAllowed ? 'block' : 'none';\n",
              "    })();\n",
              "  </script>\n",
              "</div>\n",
              "\n",
              "    </div>\n",
              "  </div>\n"
            ],
            "application/vnd.google.colaboratory.intrinsic+json": {
              "type": "dataframe",
              "variable_name": "csv_data",
              "summary": "{\n  \"name\": \"csv_data\",\n  \"rows\": 962,\n  \"fields\": [\n    {\n      \"column\": \"Category\",\n      \"properties\": {\n        \"dtype\": \"category\",\n        \"num_unique_values\": 25,\n        \"samples\": [\n          \"Civil Engineer\",\n          \"DevOps Engineer\",\n          \"Data Science\"\n        ],\n        \"semantic_type\": \"\",\n        \"description\": \"\"\n      }\n    },\n    {\n      \"column\": \"Resume\",\n      \"properties\": {\n        \"dtype\": \"category\",\n        \"num_unique_values\": 166,\n        \"samples\": [\n          \"KEY COMPETENCIES \\u00e2\\u009c\\u00b6Multi - Operations Management\\u00e2\\u009c\\u00b6People Management \\u00e2\\u009c\\u00b6Customer Services - Emails \\u00e2\\u009c\\u00b6 MIS \\u00e2\\u009c\\u00b6Vendor & Client Services Management\\u00e2\\u009c\\u00b6Cross Functional Coordination\\u00e2\\u009c\\u00b6Banking & Financial Services\\u00e2\\u009c\\u00b6 Transaction Monitoring * ATM Operations \\u00e2\\u009c\\u00b6 & Prepaid Card Operations (Pre-Issuance & Post-Issuance) \\u00e2\\u009c\\u00b6 POS Operations * JOB PROFILE & SKILLS: \\u00e2\\u0080\\u00a2 An effective communicator with excellent relationship building & interpersonal skills. Strong analytical, problem solving & organizational abilities. \\u00e2\\u0080\\u00a2 Extensive experience in managing operations with demonstrated leadership qualities & organisational skills during the tenure. \\u00e2\\u0080\\u00a2 Managing customer centric operations & ensuring customer satisfaction by achieving service quality norms. \\u00e2\\u0080\\u00a2 Analyzing of all operational problems, customer complaints and take preventive and corrective actions to resolve the same. \\u00e2\\u0080\\u00a2 Receive and respond to Key customer inquiries in an effective manner and provide relevant and timely information. \\u00e2\\u0080\\u00a2 Deft in steering banking back-end operations, analyzing risks and managing delinquencies with dexterity across applying techniques for maximizing recoveries and minimizing credit losses. \\u00e2\\u0080\\u00a2 Analyzed & identified training needs of the team members and developing, organizing and conducting training programs and manage bottom quartile team to improve their performance. \\u00e2\\u0080\\u00a2 Preparing and maintaining daily MIS reports to evaluate the performance and efficiency of the process relate to various verticals. \\u00e2\\u0080\\u00a2 Measuring the performance of the processes in terms of efficiency and effectiveness matrix and ensuring adherence to SLA. \\u00e2\\u0080\\u00a2 Major Activities Define processes for Field Services were monitored and necessary checks were executed and controlled. Also measured Vendor SLA by analyzing the TAT of vendors & the Client SLA provided to us. \\u00e2\\u0080\\u00a2 As per company procedures, handling & ensuring vendor's payment issues to be sorted out &payments are processed on quarterly basis. \\u00e2\\u0080\\u00a2 Appropriately plan and execute each skill of operations in accordance with the department's policies and procedures. \\u00e2\\u0080\\u00a2 Manage relationships with business team, software development team and other services to achieve project objectives. Different software Worked till now: - a. CTL prime - Axis Bank Credit Cards b. Insight - For POS Machine technical operations for Amex (MID & TID Generation- ATOS (Venture Infotek) c. Ticket Management System - TATA Communications Private Services Ltd (ATM - NOC Operations) d. Branch Portal (Yalamanchili Software Exports Ltd) - Prepaid Cards (SBI Bank & Zaggle Prepaid Oceans Services Ltd) Zaggle Prepaid Ocean Services Pvt Ltd Oct, 2017 to Till Date Designation: Manager - Operations (Payment Industry - Prepaid Cards - INR) Education Details \\r\\n  Commerce Mumbai, Maharashtra Mumbai University\\r\\nOperations Manager \\r\\n\\r\\nService Manager - Operations (Payment Industry - Prepaid Cards - INR & FTC)\\r\\nSkill Details \\r\\nOPERATIONS- Exprience - 73 months\\r\\nSATISFACTION- Exprience - 48 months\\r\\nTRAINING- Exprience - 24 months\\r\\nNOC- Exprience - 23 months\\r\\nPOINT OF SALE- Exprience - 20 monthsCompany Details \\r\\ncompany - Zaggle Prepaid Ocean Services Pvt Ltd\\r\\ndescription - Card Operations\\r\\ncompany - Yalamanchili Software Exports Ltd\\r\\ndescription - 24*7 Operations Pvt Ltd) Dec 2015 to Feb 2017\\r\\n\\r\\nDesignation: Service Manager - Operations (Payment Industry - Prepaid Cards - INR & FTC)\\r\\n\\r\\nKey Contributions: \\u00e2\\u0080\\u00a2 A result-oriented business professional in planning, executing& managing processes, improving efficiency of operations, team building and detailing process information to determine effective result into operations.\\r\\n\\u00e2\\u0080\\u00a2 Ensuring PINs generation (SLA) is maintained and chargeback cases are raised in perfect timeframe.\\r\\n\\u00e2\\u0080\\u00a2 Managing email customer services properly and ensuring the emails are replied properly. Also, ensuring transaction monitoring is properly managed 24/7.\\r\\n\\u00e2\\u0080\\u00a2 Assisting Bankers (SBI & Associated Banks) for their BCP plans by getting executed in the system with the help of DR-PR plans & vice versa or any other business requirements.\\r\\n\\u00e2\\u0080\\u00a2 Expertise in maintaining highest level of quality in operations; ensuring adherence to all the quality parameters and procedures as per the stringent norms.\\r\\n\\u00e2\\u0080\\u00a2 Lead, manage and supervise the execution of external audit engagements and responsible for presenting the findings & developing a quality reports to the senior Management and Clients.\\r\\n\\u00e2\\u0080\\u00a2 Coach/mentor (20) team members to perform at a higher level by giving opportunities, providing timely continuous feedback and working with staff to improve their communication, time management, decision making, organization, and analytical skills.\\r\\n\\u00e2\\u0080\\u00a2 Providing the solutions and services to the client in their own premises with aforesaid count of team members.\\r\\n\\u00e2\\u0080\\u00a2 Also ensuring end to end process of PR & DR as per client requirements (PR- DR & DR -PR) by interacting with internal & external stakeholders.\\r\\n\\u00e2\\u0080\\u00a2 Determining process gaps and designing & conducting training programs to enhance operational efficiency and retain talent by providing optimum opportunities for personal and professional growth.\\r\\ncompany - Credit Cards\\r\\ndescription - Ensured highest standard of customer satisfaction and quality service; developing new policies and procedures to improve based on customer feedback and resolving customer queries via correspondence, inbound calls & email channels with the strength of (12-16) Team members.\\r\\ncompany - AGS Transact Technologies Limited\\r\\ndescription - Key Contributions: Lead - SPOC to Banks\\r\\ncompany - TATA Communications Payment Solutions Ltd\\r\\ndescription - To make ATMs operational within TAT by analyzing the issue is technical or non-technical and also by interacting with internal & external stakeholders.\\r\\ncompany - Vertex Customer Solutions India Private Ltd\\r\\ndescription - Key Contributions: \\u00e2\\u0080\\u00a2 Build positive working relationship with all team members and clients by keeping Management informed   of KYC document collection & con-current audit progress, responding timely to Management inquiries, understanding the business and conducting self professionally.\\r\\ncompany - Financial Inclusion Network & Operations Limited\\r\\ndescription - Key Contributions: POS-Operations \\u00e2\\u0080\\u00a2 Cascading the adherence of process is strictly followed by team members & training them to reduce the downtime.\\r\\n\\u00e2\\u0080\\u00a2 Managing Stock of EDC Terminals \\u00e2\\u0080\\u00a2 Managing Deployments of terminals through Multiple teams \\u00e2\\u0080\\u00a2 Would have worked with multiple terminal make & model \\u00e2\\u0080\\u00a2 Managing Inward, Outward & QC of applications installed in the POS machines.\\r\\ncompany - Venture Infotek Private Ltd\\r\\ndescription - Key Contributions: POS-Operations\\r\\ncompany - Axis Bank Ltd - Customer Services\\r\\ndescription - Aug 2006 to Oct 2009 (Ma-Foi&I- smart)\\r\\n\\r\\nDesignation: Team Leader/Executive - Emails, Phone Banking & Correspondence Unit (Snail Mails)\",\n          \"Skill Set: Hadoop, Map Reduce, HDFS, Hive, Sqoop, java. Duration: 2016 to 2017. Role: Hadoop Developer Rplus offers an quick, simple and powerful cloud based Solution, Demand Sense to accurately predict demand for your product in all your markets which Combines Enterprise and External Data to predict demand more accurately through Uses Social Conversation and Sentiments to derive demand and Identifies significant drivers of sale out of hordes of factors that Selects the best suited model out of multiple forecasting models for each product. Responsibilities: \\u00e2\\u0080\\u00a2 Involved in deploying the product for customers, gathering requirements and algorithm optimization at backend of the product. \\u00e2\\u0080\\u00a2 Load and transform Large Datasets of structured semi structured. \\u00e2\\u0080\\u00a2 Responsible to manage data coming from different sources and application \\u00e2\\u0080\\u00a2 Supported Map Reduce Programs those are running on the cluster \\u00e2\\u0080\\u00a2 Involved in creating Hive tables, loading with data and writing hive queries which will run internally in map reduce way.Education Details \\r\\n\\r\\nHadoop Developer \\r\\n\\r\\nHadoop Developer - Braindatawire\\r\\nSkill Details \\r\\nAPACHE HADOOP HDFS- Exprience - 49 months\\r\\nAPACHE HADOOP SQOOP- Exprience - 49 months\\r\\nHadoop- Exprience - 49 months\\r\\nHADOOP- Exprience - 49 months\\r\\nHADOOP DISTRIBUTED FILE SYSTEM- Exprience - 49 monthsCompany Details \\r\\ncompany - Braindatawire\\r\\ndescription - Technical Skills:\\r\\n\\u00e2\\u0080\\u00a2   Programming: Core Java, Map Reduce, Scala\\r\\n\\u00e2\\u0080\\u00a2   Hadoop Tools: HDFS, Spark, Map Reduce, Sqoop, Hive, Hbase\\r\\n\\u00e2\\u0080\\u00a2   Database: MySQL, Oracle\\r\\n\\u00e2\\u0080\\u00a2   Scripting: Shell Scripting\\r\\n\\u00e2\\u0080\\u00a2   IDE: Eclipse\\r\\n\\u00e2\\u0080\\u00a2   Operating Systems: Linux (CentOS), Windows\\r\\n\\u00e2\\u0080\\u00a2   Source Control: Git (Github)\",\n          \"IT Skills: Area Exposure Modeling Tool: Bizagi, MS Visio Prototyping Tool: Indigo Studio. Documentation: MS Office (MS Word, MS Excel, MS Power Point) Testing Proficiency: Smoke, Sanity, Integration, Functional, Acceptance and UI Methodology implemented: Waterfall, Agile (Scrum) Database: SQL Testing Tool: HPQC Business Exposure Education Details \\r\\n Bachelor Of Computer Engineering Computer Engineering Mumbai, Maharashtra Thadomal Shahani Engineering college\\r\\n Diploma Computer Engineering Ulhasnagar, Maharashtra Institute of Technology\\r\\n Secondary School Certificate  Ulhasnagar, Maharashtra New English High School\\r\\nSenior Business Analyst - RPA \\r\\n\\r\\nSenior Business Analyst - RPA - Hexaware Technologies\\r\\nSkill Details \\r\\nDOCUMENTATION- Exprience - 47 months\\r\\nTESTING- Exprience - 29 months\\r\\nINTEGRATION- Exprience - 25 months\\r\\nINTEGRATOR- Exprience - 25 months\\r\\nPROTOTYPE- Exprience - 13 monthsCompany Details \\r\\ncompany - Hexaware Technologies\\r\\ndescription - Working as a RPA Business Analyst\\r\\ncompany - BBH- Brown Brothers Harriman & Co\\r\\ndescription - is a private bank that provides commercial banking, investment management, brokerage, and trust services to private companies and individuals. It also performs merger advisory, foreign exchange, custody services, commercial banking, and corporate financing services.\\r\\n\\r\\nResponsibilities: \\u00e2\\u0080\\u00a2 Performed Automation Assessment of various Processes and identified processes which can be candidates of RPA.\\r\\n\\u00e2\\u0080\\u00a2 Conducting Assessment that involves an initial Understanding of the Existing System, their technology, processes, Usage of the tools, Feasibility of tool with automation tool along with automation ROI analysis.\\r\\n\\u00e2\\u0080\\u00a2 Preparing the Automation Potential Sheet which describes the steps in the process, the volume and frequency of the transaction, the AHT taken by SME to perform the process and depending on the steps that could be automated, Automation potential and the manual efforts that will be saved are calculated.\\r\\nCalculating the complexity of the Process which is considered for automation and depending on all these factors Number of Bots and Number of Automation tool Licenses are determined.\\r\\n\\u00e2\\u0080\\u00a2 Implementing a Proof of Concept (POC) to Validate Feasibility by executing the selected critical use cases for conducting a POC which will helps to identify financial and operational benefits and provide recommendations regarding the actual need for complete automation.\\r\\n\\u00e2\\u0080\\u00a2 Gathering business requirements by conducting detailed interviews with business users, stakeholders, and Subject Matter Experts (SME's) \\u00e2\\u0080\\u00a2 Preparing Business Requirement Document and then converted Business requirements into Functional Requirements Specification.\\r\\n \\u00e2\\u0080\\u00a2 Constructing prototype early toward a design acceptable to the customer and feasible.\\r\\n\\u00e2\\u0080\\u00a2 Assisting in designing test plans, test scenarios and test cases for integration, regression, and user acceptance testing (UAT) to improve the overall quality of the Automation.\\r\\n\\u00e2\\u0080\\u00a2 Participating regularly in Walkthroughs and Review meetings with Project Manager, QA Engineers, and Development team.\\r\\n\\u00e2\\u0080\\u00a2 Regularly interacting with offshore and onshore development teams.\\r\\ncompany - FADV - First Advantage\\r\\ndescription - is a criminal background check company that delivers global solutions ranging from employment screenings to background checks.\\r\\nThe following are the processes which were covered:\\r\\nEmail Process, Research Process, Review Process.\\r\\n\\r\\nResponsibilities: \\u00e2\\u0080\\u00a2 Requirement Gathering through conducting Interviews & Brainstorming sessions with stakeholders \\u00e2\\u0080\\u00a2 To develop decision models and execute those rules as per the use case specifications.\\r\\n\\u00e2\\u0080\\u00a2 To Test/validate the decision models against document test data.\\r\\n\\u00e2\\u0080\\u00a2 To maintain and enhance the decision models for changes in regulations as per use case specifications.\\r\\n\\u00e2\\u0080\\u00a2 Responsible for performing the business research that will make a business growth.\\r\\n\\u00e2\\u0080\\u00a2 Developing a clear understanding of existing business functions and processes.\\r\\n\\u00e2\\u0080\\u00a2 Effectively communicate with the onsite clients for the queries, suggestions, and update.\\r\\n\\u00e2\\u0080\\u00a2 Giving suggestions to enhance the current processes.\\r\\n\\u00e2\\u0080\\u00a2 Identifying areas for process improvement.\\r\\n\\u00e2\\u0080\\u00a2 Flagging up potential problems at an early stage.\\r\\n\\u00e2\\u0080\\u00a2 Preparing PowerPoint presentations and documents for business meetings.\\r\\n\\u00e2\\u0080\\u00a2 Using any information gathered to write up detailed reports.\\r\\n\\u00e2\\u0080\\u00a2 Highlighting risks and issues that could impact project delivery.\\r\\n\\u00e2\\u0080\\u00a2 Able to work accurately.\\r\\n\\u00e2\\u0080\\u00a2 To develop and maintain documentation for internal team training and client end user operations.\\r\\n\\u00e2\\u0080\\u00a2 To work efficiently with team members and across teams.\\r\\n\\u00e2\\u0080\\u00a2 To mentor and train junior team members.\\r\\ncompany - Clinical Testing, Lab Work and Diagnostic Testing\\r\\ndescription - IQVIA provides services to its customers this includes: Clinical Testing, Lab Work and Diagnostic Testing under clinical trial. These customers need to pay to IQVIA and aging details and invoices are generated for the same.\\r\\nThe following are the processes which were covered:\\r\\n\\r\\nTracking Payments, Automated Real Time Metrics Reporting (Dashboard), Past Due Notifications, AR Statements, Credit/Rebill.\\r\\nResponsibilities: \\u00e2\\u0080\\u00a2 Conducting meetings with clients and key stakeholders to gather requirements, analyze, finalize and have formal sign-offs from approvers Gather and perform analysis of the business requirements \\u00e2\\u0080\\u00a2 Translating the business requirements into the Business Requirement Document [BRD], Functional Requirement Document [FRD].\\r\\n\\u00e2\\u0080\\u00a2 Facilitating meetings with the appropriate subject matter experts in both business and technology teams \\u00e2\\u0080\\u00a2 Coordinating with business user community for the execution of user acceptance test as well as tracking issues \\u00e2\\u0080\\u00a2 Working, collaborating and coordinating with Offshore and Onsite team members to fulfill the BA responsibilities from project initiation to Post-Implementation \\u00e2\\u0080\\u00a2 Reviewing the test scripts with business users as well as technology team. Execute test scripts with expected results for the System Integration Test (SIT) and User Acceptance Test (UAT) \\u00e2\\u0080\\u00a2 Coordinating and conducting the Production Acceptance Testing (PAT) with the business users \\u00e2\\u0080\\u00a2 Creating flow diagrams, structure charts, and other types of system or process representations \\u00e2\\u0080\\u00a2 Managing changes to requirements and baseline through a change control process \\u00e2\\u0080\\u00a2 Utilizing standard methods, design and testing tools throughout project development life cycle \\u00e2\\u0080\\u00a2 Work closely with the operational functional teams, operations management, and personnel, and various technology teams to facilitate a shared understanding of requirements and priorities across all areas\\r\\ncompany - Eduavenir IT Solution\\r\\ndescription - Project: M.B.M.S\\r\\n\\r\\nM.B.M.S. - is an Inventory management application that allows user to manage inventory details of different warehouses, having different products located at various locations and help extract what goods have been procured, sold or returned by customers. It generates automated invoicesalong withcustomized reports. It also managescustomer complaint and resolution system implementation along with automated MIS on monthly basis.Sales and forecastingis also developed on MIS System and the streamlining of process of warehousing and dispatch along with online proof of delivery management system (POD documentation) is generated.\\r\\n\\r\\nResponsibilities: \\u00e2\\u0080\\u00a2 Participate in requirement gathering discussion with client to understand the flow of business processes \\u00e2\\u0080\\u00a2 Analyze the requirements and determine the core processes, develop Process Documentation and ensure to stay up-to-date in conjunction with on-going changes \\u00e2\\u0080\\u00a2 Participate in process flow analysis and preparing BRD, SRS.\\r\\n\\u00e2\\u0080\\u00a2 Coordinating with developers, designers & operations teams for various nuances of the project, communicate the stakeholder requirements from requirement /enhancement to implementation and finally deliver the same within estimated timeframe.\\r\\n\\u00e2\\u0080\\u00a2 Support UAT by reviewing test cases, manage version control of documents, software builds.\\r\\n\\u00e2\\u0080\\u00a2 Coordinate with the stakeholders for UAT sign off and coordinate internally for production movement till Golive stage of the application.\\r\\n\\u00e2\\u0080\\u00a2 Provide demo and training to internal and end user using PowerPoint presentation.\\r\\n\\u00e2\\u0080\\u00a2 Resolving project functional &technical issues during UAT.\\r\\n\\u00e2\\u0080\\u00a2 Prioritizing the Production bugs and resolving the same within the estimated timeframe.\\r\\n\\u00e2\\u0080\\u00a2 Preparing Project Status Report and Production Bugs Status to all the stakeholders.\\r\\n\\u00e2\\u0080\\u00a2 Promoting and Networking for online trading platform.\\r\\n\\u00e2\\u0080\\u00a2 Designing query sheet for obtaining and comparison of quotes from various vendors.\\r\\n\\u00e2\\u0080\\u00a2 Development of product codes / material codes for inventory management (Master Data Management)\\r\\ncompany - CAPGEMINI Head Office\\r\\ndescription - Type: Mobile and Device Testing.       Duration: January 2014 - August 2014\\r\\n\\r\\nFollet - An application which takes an electronic request from the user for the books he requires from a particular follet store. This detailed information about books that will include the name of the book, its price, the date of the transaction and the parties involved which will then be sent to follet stores. User then create request for one or more books for a given date. This request is then processed further and user gets a mail of the date when he will be provided with that book.\\r\\n\\r\\nResponsibilities: \\u00e2\\u0080\\u00a2 Understanding the needs and business requirements.\\r\\n\\u00e2\\u0080\\u00a2 Preparing BRD, SRS by eliciting all the requirements from the client and SMEs \\u00e2\\u0080\\u00a2 Understanding the dependency of the modules in the system \\u00e2\\u0080\\u00a2 Preparation of test plan for Unit level and Integration level.\\r\\n\\u00e2\\u0080\\u00a2 Preparation and execution of test cases.\\r\\n\\u00e2\\u0080\\u00a2 Defect tracking, Issue Resolution, Risk Monitoring, Status Tracking, Reporting and Follow-up.\\r\\n\\u00e2\\u0080\\u00a2 Preparation of Test Completion report.\\r\\ncompany - CAPGEMINI Head Office\\r\\ndescription - \\r\\ncompany - CAPGEMINI Head Office\\r\\ndescription - Humana is a health care insurance project of U.S. which deals with supplying various medicines to citizens as per the doctor's reference and patient's insurance policy. This application keeps track of all the medicines user has consumed in the past and generates a patient history. A citizen is given a drug only after the doctor's reference so the doctor's information is also linked with the patient's history.\\r\\n\\r\\nResponsibilities: \\u00e2\\u0080\\u00a2 Understanding the requirements and getting clarifications from client.\\r\\n\\u00e2\\u0080\\u00a2 Involved in writing test cases based on test scenarios and execute them.\\r\\n\\u00e2\\u0080\\u00a2 Ensuring Test Coverage using Requirement Traceability Matrix (RTM) \\u00e2\\u0080\\u00a2 Preparation of Test Completion report.\\r\\ncompany - CAPGEMINI Head Office\\r\\ndescription - Testing Trends WQR (World Quality Report) is an application which allows the users to take a survey on different methods and technologies used for testing. Users can choose to answer any type of questions under three different categories. Users have a facility to search, view and export the data to excel. Also, users get daily and weekly reports through email about the new trends in testing implemented around the globe. Testing Trends WQR app is available on Android and IOS platforms.\\r\\n\\r\\nResponsibilities: \\u00e2\\u0080\\u00a2 Understanding the requirements and getting clarifications from client.\\r\\n\\u00e2\\u0080\\u00a2 Writing test cases based on test scenarios and executed them.\\r\\n\\u00e2\\u0080\\u00a2 Performing different types of testing such as Functional, Integration, System, and UAT.\\r\\n\\u00e2\\u0080\\u00a2 Defect resolution and maintenance of the application.\"\n        ],\n        \"semantic_type\": \"\",\n        \"description\": \"\"\n      }\n    }\n  ]\n}"
            }
          },
          "metadata": {},
          "execution_count": 12
        }
      ]
    },
    {
      "cell_type": "code",
      "metadata": {
        "id": "tf1wNRqb-Om2"
      },
      "source": [
        "# Convert all characters to lowercase and remove trailing spaces\n",
        "csv_data['Resume'] = csv_data['Resume'].str.lower().str.strip()\n",
        "\n",
        "df = csv_data.copy()"
      ],
      "execution_count": null,
      "outputs": []
    },
    {
      "cell_type": "code",
      "source": [
        "csv_data.head()"
      ],
      "metadata": {
        "colab": {
          "base_uri": "https://localhost:8080/",
          "height": 206
        },
        "id": "55oMd3Vmnpr3",
        "outputId": "82b9a9d9-c5f1-4ca2-f6be-bf1b95770201"
      },
      "execution_count": null,
      "outputs": [
        {
          "output_type": "execute_result",
          "data": {
            "text/plain": [
              "       Category                                             Resume\n",
              "0  Data Science  skills * programming languages: python (pandas...\n",
              "1  Data Science  education details \\r\\nmay 2013 to may 2017 b.e...\n",
              "2  Data Science  areas of interest deep learning, control syste...\n",
              "3  Data Science  skills â¢ r â¢ python â¢ sap hana â¢ table...\n",
              "4  Data Science  education details \\r\\n mca   ymcaust,  faridab..."
            ],
            "text/html": [
              "\n",
              "  <div id=\"df-6380a442-684b-4f5d-8468-4cdff6bf55c1\" class=\"colab-df-container\">\n",
              "    <div>\n",
              "<style scoped>\n",
              "    .dataframe tbody tr th:only-of-type {\n",
              "        vertical-align: middle;\n",
              "    }\n",
              "\n",
              "    .dataframe tbody tr th {\n",
              "        vertical-align: top;\n",
              "    }\n",
              "\n",
              "    .dataframe thead th {\n",
              "        text-align: right;\n",
              "    }\n",
              "</style>\n",
              "<table border=\"1\" class=\"dataframe\">\n",
              "  <thead>\n",
              "    <tr style=\"text-align: right;\">\n",
              "      <th></th>\n",
              "      <th>Category</th>\n",
              "      <th>Resume</th>\n",
              "    </tr>\n",
              "  </thead>\n",
              "  <tbody>\n",
              "    <tr>\n",
              "      <th>0</th>\n",
              "      <td>Data Science</td>\n",
              "      <td>skills * programming languages: python (pandas...</td>\n",
              "    </tr>\n",
              "    <tr>\n",
              "      <th>1</th>\n",
              "      <td>Data Science</td>\n",
              "      <td>education details \\r\\nmay 2013 to may 2017 b.e...</td>\n",
              "    </tr>\n",
              "    <tr>\n",
              "      <th>2</th>\n",
              "      <td>Data Science</td>\n",
              "      <td>areas of interest deep learning, control syste...</td>\n",
              "    </tr>\n",
              "    <tr>\n",
              "      <th>3</th>\n",
              "      <td>Data Science</td>\n",
              "      <td>skills â¢ r â¢ python â¢ sap hana â¢ table...</td>\n",
              "    </tr>\n",
              "    <tr>\n",
              "      <th>4</th>\n",
              "      <td>Data Science</td>\n",
              "      <td>education details \\r\\n mca   ymcaust,  faridab...</td>\n",
              "    </tr>\n",
              "  </tbody>\n",
              "</table>\n",
              "</div>\n",
              "    <div class=\"colab-df-buttons\">\n",
              "\n",
              "  <div class=\"colab-df-container\">\n",
              "    <button class=\"colab-df-convert\" onclick=\"convertToInteractive('df-6380a442-684b-4f5d-8468-4cdff6bf55c1')\"\n",
              "            title=\"Convert this dataframe to an interactive table.\"\n",
              "            style=\"display:none;\">\n",
              "\n",
              "  <svg xmlns=\"http://www.w3.org/2000/svg\" height=\"24px\" viewBox=\"0 -960 960 960\">\n",
              "    <path d=\"M120-120v-720h720v720H120Zm60-500h600v-160H180v160Zm220 220h160v-160H400v160Zm0 220h160v-160H400v160ZM180-400h160v-160H180v160Zm440 0h160v-160H620v160ZM180-180h160v-160H180v160Zm440 0h160v-160H620v160Z\"/>\n",
              "  </svg>\n",
              "    </button>\n",
              "\n",
              "  <style>\n",
              "    .colab-df-container {\n",
              "      display:flex;\n",
              "      gap: 12px;\n",
              "    }\n",
              "\n",
              "    .colab-df-convert {\n",
              "      background-color: #E8F0FE;\n",
              "      border: none;\n",
              "      border-radius: 50%;\n",
              "      cursor: pointer;\n",
              "      display: none;\n",
              "      fill: #1967D2;\n",
              "      height: 32px;\n",
              "      padding: 0 0 0 0;\n",
              "      width: 32px;\n",
              "    }\n",
              "\n",
              "    .colab-df-convert:hover {\n",
              "      background-color: #E2EBFA;\n",
              "      box-shadow: 0px 1px 2px rgba(60, 64, 67, 0.3), 0px 1px 3px 1px rgba(60, 64, 67, 0.15);\n",
              "      fill: #174EA6;\n",
              "    }\n",
              "\n",
              "    .colab-df-buttons div {\n",
              "      margin-bottom: 4px;\n",
              "    }\n",
              "\n",
              "    [theme=dark] .colab-df-convert {\n",
              "      background-color: #3B4455;\n",
              "      fill: #D2E3FC;\n",
              "    }\n",
              "\n",
              "    [theme=dark] .colab-df-convert:hover {\n",
              "      background-color: #434B5C;\n",
              "      box-shadow: 0px 1px 3px 1px rgba(0, 0, 0, 0.15);\n",
              "      filter: drop-shadow(0px 1px 2px rgba(0, 0, 0, 0.3));\n",
              "      fill: #FFFFFF;\n",
              "    }\n",
              "  </style>\n",
              "\n",
              "    <script>\n",
              "      const buttonEl =\n",
              "        document.querySelector('#df-6380a442-684b-4f5d-8468-4cdff6bf55c1 button.colab-df-convert');\n",
              "      buttonEl.style.display =\n",
              "        google.colab.kernel.accessAllowed ? 'block' : 'none';\n",
              "\n",
              "      async function convertToInteractive(key) {\n",
              "        const element = document.querySelector('#df-6380a442-684b-4f5d-8468-4cdff6bf55c1');\n",
              "        const dataTable =\n",
              "          await google.colab.kernel.invokeFunction('convertToInteractive',\n",
              "                                                    [key], {});\n",
              "        if (!dataTable) return;\n",
              "\n",
              "        const docLinkHtml = 'Like what you see? Visit the ' +\n",
              "          '<a target=\"_blank\" href=https://colab.research.google.com/notebooks/data_table.ipynb>data table notebook</a>'\n",
              "          + ' to learn more about interactive tables.';\n",
              "        element.innerHTML = '';\n",
              "        dataTable['output_type'] = 'display_data';\n",
              "        await google.colab.output.renderOutput(dataTable, element);\n",
              "        const docLink = document.createElement('div');\n",
              "        docLink.innerHTML = docLinkHtml;\n",
              "        element.appendChild(docLink);\n",
              "      }\n",
              "    </script>\n",
              "  </div>\n",
              "\n",
              "\n",
              "<div id=\"df-b1c0b0ff-8fea-4b0c-ad68-5c7741662f23\">\n",
              "  <button class=\"colab-df-quickchart\" onclick=\"quickchart('df-b1c0b0ff-8fea-4b0c-ad68-5c7741662f23')\"\n",
              "            title=\"Suggest charts\"\n",
              "            style=\"display:none;\">\n",
              "\n",
              "<svg xmlns=\"http://www.w3.org/2000/svg\" height=\"24px\"viewBox=\"0 0 24 24\"\n",
              "     width=\"24px\">\n",
              "    <g>\n",
              "        <path d=\"M19 3H5c-1.1 0-2 .9-2 2v14c0 1.1.9 2 2 2h14c1.1 0 2-.9 2-2V5c0-1.1-.9-2-2-2zM9 17H7v-7h2v7zm4 0h-2V7h2v10zm4 0h-2v-4h2v4z\"/>\n",
              "    </g>\n",
              "</svg>\n",
              "  </button>\n",
              "\n",
              "<style>\n",
              "  .colab-df-quickchart {\n",
              "      --bg-color: #E8F0FE;\n",
              "      --fill-color: #1967D2;\n",
              "      --hover-bg-color: #E2EBFA;\n",
              "      --hover-fill-color: #174EA6;\n",
              "      --disabled-fill-color: #AAA;\n",
              "      --disabled-bg-color: #DDD;\n",
              "  }\n",
              "\n",
              "  [theme=dark] .colab-df-quickchart {\n",
              "      --bg-color: #3B4455;\n",
              "      --fill-color: #D2E3FC;\n",
              "      --hover-bg-color: #434B5C;\n",
              "      --hover-fill-color: #FFFFFF;\n",
              "      --disabled-bg-color: #3B4455;\n",
              "      --disabled-fill-color: #666;\n",
              "  }\n",
              "\n",
              "  .colab-df-quickchart {\n",
              "    background-color: var(--bg-color);\n",
              "    border: none;\n",
              "    border-radius: 50%;\n",
              "    cursor: pointer;\n",
              "    display: none;\n",
              "    fill: var(--fill-color);\n",
              "    height: 32px;\n",
              "    padding: 0;\n",
              "    width: 32px;\n",
              "  }\n",
              "\n",
              "  .colab-df-quickchart:hover {\n",
              "    background-color: var(--hover-bg-color);\n",
              "    box-shadow: 0 1px 2px rgba(60, 64, 67, 0.3), 0 1px 3px 1px rgba(60, 64, 67, 0.15);\n",
              "    fill: var(--button-hover-fill-color);\n",
              "  }\n",
              "\n",
              "  .colab-df-quickchart-complete:disabled,\n",
              "  .colab-df-quickchart-complete:disabled:hover {\n",
              "    background-color: var(--disabled-bg-color);\n",
              "    fill: var(--disabled-fill-color);\n",
              "    box-shadow: none;\n",
              "  }\n",
              "\n",
              "  .colab-df-spinner {\n",
              "    border: 2px solid var(--fill-color);\n",
              "    border-color: transparent;\n",
              "    border-bottom-color: var(--fill-color);\n",
              "    animation:\n",
              "      spin 1s steps(1) infinite;\n",
              "  }\n",
              "\n",
              "  @keyframes spin {\n",
              "    0% {\n",
              "      border-color: transparent;\n",
              "      border-bottom-color: var(--fill-color);\n",
              "      border-left-color: var(--fill-color);\n",
              "    }\n",
              "    20% {\n",
              "      border-color: transparent;\n",
              "      border-left-color: var(--fill-color);\n",
              "      border-top-color: var(--fill-color);\n",
              "    }\n",
              "    30% {\n",
              "      border-color: transparent;\n",
              "      border-left-color: var(--fill-color);\n",
              "      border-top-color: var(--fill-color);\n",
              "      border-right-color: var(--fill-color);\n",
              "    }\n",
              "    40% {\n",
              "      border-color: transparent;\n",
              "      border-right-color: var(--fill-color);\n",
              "      border-top-color: var(--fill-color);\n",
              "    }\n",
              "    60% {\n",
              "      border-color: transparent;\n",
              "      border-right-color: var(--fill-color);\n",
              "    }\n",
              "    80% {\n",
              "      border-color: transparent;\n",
              "      border-right-color: var(--fill-color);\n",
              "      border-bottom-color: var(--fill-color);\n",
              "    }\n",
              "    90% {\n",
              "      border-color: transparent;\n",
              "      border-bottom-color: var(--fill-color);\n",
              "    }\n",
              "  }\n",
              "</style>\n",
              "\n",
              "  <script>\n",
              "    async function quickchart(key) {\n",
              "      const quickchartButtonEl =\n",
              "        document.querySelector('#' + key + ' button');\n",
              "      quickchartButtonEl.disabled = true;  // To prevent multiple clicks.\n",
              "      quickchartButtonEl.classList.add('colab-df-spinner');\n",
              "      try {\n",
              "        const charts = await google.colab.kernel.invokeFunction(\n",
              "            'suggestCharts', [key], {});\n",
              "      } catch (error) {\n",
              "        console.error('Error during call to suggestCharts:', error);\n",
              "      }\n",
              "      quickchartButtonEl.classList.remove('colab-df-spinner');\n",
              "      quickchartButtonEl.classList.add('colab-df-quickchart-complete');\n",
              "    }\n",
              "    (() => {\n",
              "      let quickchartButtonEl =\n",
              "        document.querySelector('#df-b1c0b0ff-8fea-4b0c-ad68-5c7741662f23 button');\n",
              "      quickchartButtonEl.style.display =\n",
              "        google.colab.kernel.accessAllowed ? 'block' : 'none';\n",
              "    })();\n",
              "  </script>\n",
              "</div>\n",
              "\n",
              "    </div>\n",
              "  </div>\n"
            ],
            "application/vnd.google.colaboratory.intrinsic+json": {
              "type": "dataframe",
              "variable_name": "csv_data",
              "summary": "{\n  \"name\": \"csv_data\",\n  \"rows\": 962,\n  \"fields\": [\n    {\n      \"column\": \"Category\",\n      \"properties\": {\n        \"dtype\": \"category\",\n        \"num_unique_values\": 25,\n        \"samples\": [\n          \"Civil Engineer\",\n          \"DevOps Engineer\",\n          \"Data Science\"\n        ],\n        \"semantic_type\": \"\",\n        \"description\": \"\"\n      }\n    },\n    {\n      \"column\": \"Resume\",\n      \"properties\": {\n        \"dtype\": \"category\",\n        \"num_unique_values\": 166,\n        \"samples\": [\n          \"key competencies \\u00e2\\u009c\\u00b6multi - operations management\\u00e2\\u009c\\u00b6people management \\u00e2\\u009c\\u00b6customer services - emails \\u00e2\\u009c\\u00b6 mis \\u00e2\\u009c\\u00b6vendor & client services management\\u00e2\\u009c\\u00b6cross functional coordination\\u00e2\\u009c\\u00b6banking & financial services\\u00e2\\u009c\\u00b6 transaction monitoring * atm operations \\u00e2\\u009c\\u00b6 & prepaid card operations (pre-issuance & post-issuance) \\u00e2\\u009c\\u00b6 pos operations * job profile & skills: \\u00e2\\u0080\\u00a2 an effective communicator with excellent relationship building & interpersonal skills. strong analytical, problem solving & organizational abilities. \\u00e2\\u0080\\u00a2 extensive experience in managing operations with demonstrated leadership qualities & organisational skills during the tenure. \\u00e2\\u0080\\u00a2 managing customer centric operations & ensuring customer satisfaction by achieving service quality norms. \\u00e2\\u0080\\u00a2 analyzing of all operational problems, customer complaints and take preventive and corrective actions to resolve the same. \\u00e2\\u0080\\u00a2 receive and respond to key customer inquiries in an effective manner and provide relevant and timely information. \\u00e2\\u0080\\u00a2 deft in steering banking back-end operations, analyzing risks and managing delinquencies with dexterity across applying techniques for maximizing recoveries and minimizing credit losses. \\u00e2\\u0080\\u00a2 analyzed & identified training needs of the team members and developing, organizing and conducting training programs and manage bottom quartile team to improve their performance. \\u00e2\\u0080\\u00a2 preparing and maintaining daily mis reports to evaluate the performance and efficiency of the process relate to various verticals. \\u00e2\\u0080\\u00a2 measuring the performance of the processes in terms of efficiency and effectiveness matrix and ensuring adherence to sla. \\u00e2\\u0080\\u00a2 major activities define processes for field services were monitored and necessary checks were executed and controlled. also measured vendor sla by analyzing the tat of vendors & the client sla provided to us. \\u00e2\\u0080\\u00a2 as per company procedures, handling & ensuring vendor's payment issues to be sorted out &payments are processed on quarterly basis. \\u00e2\\u0080\\u00a2 appropriately plan and execute each skill of operations in accordance with the department's policies and procedures. \\u00e2\\u0080\\u00a2 manage relationships with business team, software development team and other services to achieve project objectives. different software worked till now: - a. ctl prime - axis bank credit cards b. insight - for pos machine technical operations for amex (mid & tid generation- atos (venture infotek) c. ticket management system - tata communications private services ltd (atm - noc operations) d. branch portal (yalamanchili software exports ltd) - prepaid cards (sbi bank & zaggle prepaid oceans services ltd) zaggle prepaid ocean services pvt ltd oct, 2017 to till date designation: manager - operations (payment industry - prepaid cards - inr) education details \\r\\n  commerce mumbai, maharashtra mumbai university\\r\\noperations manager \\r\\n\\r\\nservice manager - operations (payment industry - prepaid cards - inr & ftc)\\r\\nskill details \\r\\noperations- exprience - 73 months\\r\\nsatisfaction- exprience - 48 months\\r\\ntraining- exprience - 24 months\\r\\nnoc- exprience - 23 months\\r\\npoint of sale- exprience - 20 monthscompany details \\r\\ncompany - zaggle prepaid ocean services pvt ltd\\r\\ndescription - card operations\\r\\ncompany - yalamanchili software exports ltd\\r\\ndescription - 24*7 operations pvt ltd) dec 2015 to feb 2017\\r\\n\\r\\ndesignation: service manager - operations (payment industry - prepaid cards - inr & ftc)\\r\\n\\r\\nkey contributions: \\u00e2\\u0080\\u00a2 a result-oriented business professional in planning, executing& managing processes, improving efficiency of operations, team building and detailing process information to determine effective result into operations.\\r\\n\\u00e2\\u0080\\u00a2 ensuring pins generation (sla) is maintained and chargeback cases are raised in perfect timeframe.\\r\\n\\u00e2\\u0080\\u00a2 managing email customer services properly and ensuring the emails are replied properly. also, ensuring transaction monitoring is properly managed 24/7.\\r\\n\\u00e2\\u0080\\u00a2 assisting bankers (sbi & associated banks) for their bcp plans by getting executed in the system with the help of dr-pr plans & vice versa or any other business requirements.\\r\\n\\u00e2\\u0080\\u00a2 expertise in maintaining highest level of quality in operations; ensuring adherence to all the quality parameters and procedures as per the stringent norms.\\r\\n\\u00e2\\u0080\\u00a2 lead, manage and supervise the execution of external audit engagements and responsible for presenting the findings & developing a quality reports to the senior management and clients.\\r\\n\\u00e2\\u0080\\u00a2 coach/mentor (20) team members to perform at a higher level by giving opportunities, providing timely continuous feedback and working with staff to improve their communication, time management, decision making, organization, and analytical skills.\\r\\n\\u00e2\\u0080\\u00a2 providing the solutions and services to the client in their own premises with aforesaid count of team members.\\r\\n\\u00e2\\u0080\\u00a2 also ensuring end to end process of pr & dr as per client requirements (pr- dr & dr -pr) by interacting with internal & external stakeholders.\\r\\n\\u00e2\\u0080\\u00a2 determining process gaps and designing & conducting training programs to enhance operational efficiency and retain talent by providing optimum opportunities for personal and professional growth.\\r\\ncompany - credit cards\\r\\ndescription - ensured highest standard of customer satisfaction and quality service; developing new policies and procedures to improve based on customer feedback and resolving customer queries via correspondence, inbound calls & email channels with the strength of (12-16) team members.\\r\\ncompany - ags transact technologies limited\\r\\ndescription - key contributions: lead - spoc to banks\\r\\ncompany - tata communications payment solutions ltd\\r\\ndescription - to make atms operational within tat by analyzing the issue is technical or non-technical and also by interacting with internal & external stakeholders.\\r\\ncompany - vertex customer solutions india private ltd\\r\\ndescription - key contributions: \\u00e2\\u0080\\u00a2 build positive working relationship with all team members and clients by keeping management informed   of kyc document collection & con-current audit progress, responding timely to management inquiries, understanding the business and conducting self professionally.\\r\\ncompany - financial inclusion network & operations limited\\r\\ndescription - key contributions: pos-operations \\u00e2\\u0080\\u00a2 cascading the adherence of process is strictly followed by team members & training them to reduce the downtime.\\r\\n\\u00e2\\u0080\\u00a2 managing stock of edc terminals \\u00e2\\u0080\\u00a2 managing deployments of terminals through multiple teams \\u00e2\\u0080\\u00a2 would have worked with multiple terminal make & model \\u00e2\\u0080\\u00a2 managing inward, outward & qc of applications installed in the pos machines.\\r\\ncompany - venture infotek private ltd\\r\\ndescription - key contributions: pos-operations\\r\\ncompany - axis bank ltd - customer services\\r\\ndescription - aug 2006 to oct 2009 (ma-foi&i- smart)\\r\\n\\r\\ndesignation: team leader/executive - emails, phone banking & correspondence unit (snail mails)\",\n          \"skill set: hadoop, map reduce, hdfs, hive, sqoop, java. duration: 2016 to 2017. role: hadoop developer rplus offers an quick, simple and powerful cloud based solution, demand sense to accurately predict demand for your product in all your markets which combines enterprise and external data to predict demand more accurately through uses social conversation and sentiments to derive demand and identifies significant drivers of sale out of hordes of factors that selects the best suited model out of multiple forecasting models for each product. responsibilities: \\u00e2\\u0080\\u00a2 involved in deploying the product for customers, gathering requirements and algorithm optimization at backend of the product. \\u00e2\\u0080\\u00a2 load and transform large datasets of structured semi structured. \\u00e2\\u0080\\u00a2 responsible to manage data coming from different sources and application \\u00e2\\u0080\\u00a2 supported map reduce programs those are running on the cluster \\u00e2\\u0080\\u00a2 involved in creating hive tables, loading with data and writing hive queries which will run internally in map reduce way.education details \\r\\n\\r\\nhadoop developer \\r\\n\\r\\nhadoop developer - braindatawire\\r\\nskill details \\r\\napache hadoop hdfs- exprience - 49 months\\r\\napache hadoop sqoop- exprience - 49 months\\r\\nhadoop- exprience - 49 months\\r\\nhadoop- exprience - 49 months\\r\\nhadoop distributed file system- exprience - 49 monthscompany details \\r\\ncompany - braindatawire\\r\\ndescription - technical skills:\\r\\n\\u00e2\\u0080\\u00a2   programming: core java, map reduce, scala\\r\\n\\u00e2\\u0080\\u00a2   hadoop tools: hdfs, spark, map reduce, sqoop, hive, hbase\\r\\n\\u00e2\\u0080\\u00a2   database: mysql, oracle\\r\\n\\u00e2\\u0080\\u00a2   scripting: shell scripting\\r\\n\\u00e2\\u0080\\u00a2   ide: eclipse\\r\\n\\u00e2\\u0080\\u00a2   operating systems: linux (centos), windows\\r\\n\\u00e2\\u0080\\u00a2   source control: git (github)\",\n          \"it skills: area exposure modeling tool: bizagi, ms visio prototyping tool: indigo studio. documentation: ms office (ms word, ms excel, ms power point) testing proficiency: smoke, sanity, integration, functional, acceptance and ui methodology implemented: waterfall, agile (scrum) database: sql testing tool: hpqc business exposure education details \\r\\n bachelor of computer engineering computer engineering mumbai, maharashtra thadomal shahani engineering college\\r\\n diploma computer engineering ulhasnagar, maharashtra institute of technology\\r\\n secondary school certificate  ulhasnagar, maharashtra new english high school\\r\\nsenior business analyst - rpa \\r\\n\\r\\nsenior business analyst - rpa - hexaware technologies\\r\\nskill details \\r\\ndocumentation- exprience - 47 months\\r\\ntesting- exprience - 29 months\\r\\nintegration- exprience - 25 months\\r\\nintegrator- exprience - 25 months\\r\\nprototype- exprience - 13 monthscompany details \\r\\ncompany - hexaware technologies\\r\\ndescription - working as a rpa business analyst\\r\\ncompany - bbh- brown brothers harriman & co\\r\\ndescription - is a private bank that provides commercial banking, investment management, brokerage, and trust services to private companies and individuals. it also performs merger advisory, foreign exchange, custody services, commercial banking, and corporate financing services.\\r\\n\\r\\nresponsibilities: \\u00e2\\u0080\\u00a2 performed automation assessment of various processes and identified processes which can be candidates of rpa.\\r\\n\\u00e2\\u0080\\u00a2 conducting assessment that involves an initial understanding of the existing system, their technology, processes, usage of the tools, feasibility of tool with automation tool along with automation roi analysis.\\r\\n\\u00e2\\u0080\\u00a2 preparing the automation potential sheet which describes the steps in the process, the volume and frequency of the transaction, the aht taken by sme to perform the process and depending on the steps that could be automated, automation potential and the manual efforts that will be saved are calculated.\\r\\ncalculating the complexity of the process which is considered for automation and depending on all these factors number of bots and number of automation tool licenses are determined.\\r\\n\\u00e2\\u0080\\u00a2 implementing a proof of concept (poc) to validate feasibility by executing the selected critical use cases for conducting a poc which will helps to identify financial and operational benefits and provide recommendations regarding the actual need for complete automation.\\r\\n\\u00e2\\u0080\\u00a2 gathering business requirements by conducting detailed interviews with business users, stakeholders, and subject matter experts (sme's) \\u00e2\\u0080\\u00a2 preparing business requirement document and then converted business requirements into functional requirements specification.\\r\\n \\u00e2\\u0080\\u00a2 constructing prototype early toward a design acceptable to the customer and feasible.\\r\\n\\u00e2\\u0080\\u00a2 assisting in designing test plans, test scenarios and test cases for integration, regression, and user acceptance testing (uat) to improve the overall quality of the automation.\\r\\n\\u00e2\\u0080\\u00a2 participating regularly in walkthroughs and review meetings with project manager, qa engineers, and development team.\\r\\n\\u00e2\\u0080\\u00a2 regularly interacting with offshore and onshore development teams.\\r\\ncompany - fadv - first advantage\\r\\ndescription - is a criminal background check company that delivers global solutions ranging from employment screenings to background checks.\\r\\nthe following are the processes which were covered:\\r\\nemail process, research process, review process.\\r\\n\\r\\nresponsibilities: \\u00e2\\u0080\\u00a2 requirement gathering through conducting interviews & brainstorming sessions with stakeholders \\u00e2\\u0080\\u00a2 to develop decision models and execute those rules as per the use case specifications.\\r\\n\\u00e2\\u0080\\u00a2 to test/validate the decision models against document test data.\\r\\n\\u00e2\\u0080\\u00a2 to maintain and enhance the decision models for changes in regulations as per use case specifications.\\r\\n\\u00e2\\u0080\\u00a2 responsible for performing the business research that will make a business growth.\\r\\n\\u00e2\\u0080\\u00a2 developing a clear understanding of existing business functions and processes.\\r\\n\\u00e2\\u0080\\u00a2 effectively communicate with the onsite clients for the queries, suggestions, and update.\\r\\n\\u00e2\\u0080\\u00a2 giving suggestions to enhance the current processes.\\r\\n\\u00e2\\u0080\\u00a2 identifying areas for process improvement.\\r\\n\\u00e2\\u0080\\u00a2 flagging up potential problems at an early stage.\\r\\n\\u00e2\\u0080\\u00a2 preparing powerpoint presentations and documents for business meetings.\\r\\n\\u00e2\\u0080\\u00a2 using any information gathered to write up detailed reports.\\r\\n\\u00e2\\u0080\\u00a2 highlighting risks and issues that could impact project delivery.\\r\\n\\u00e2\\u0080\\u00a2 able to work accurately.\\r\\n\\u00e2\\u0080\\u00a2 to develop and maintain documentation for internal team training and client end user operations.\\r\\n\\u00e2\\u0080\\u00a2 to work efficiently with team members and across teams.\\r\\n\\u00e2\\u0080\\u00a2 to mentor and train junior team members.\\r\\ncompany - clinical testing, lab work and diagnostic testing\\r\\ndescription - iqvia provides services to its customers this includes: clinical testing, lab work and diagnostic testing under clinical trial. these customers need to pay to iqvia and aging details and invoices are generated for the same.\\r\\nthe following are the processes which were covered:\\r\\n\\r\\ntracking payments, automated real time metrics reporting (dashboard), past due notifications, ar statements, credit/rebill.\\r\\nresponsibilities: \\u00e2\\u0080\\u00a2 conducting meetings with clients and key stakeholders to gather requirements, analyze, finalize and have formal sign-offs from approvers gather and perform analysis of the business requirements \\u00e2\\u0080\\u00a2 translating the business requirements into the business requirement document [brd], functional requirement document [frd].\\r\\n\\u00e2\\u0080\\u00a2 facilitating meetings with the appropriate subject matter experts in both business and technology teams \\u00e2\\u0080\\u00a2 coordinating with business user community for the execution of user acceptance test as well as tracking issues \\u00e2\\u0080\\u00a2 working, collaborating and coordinating with offshore and onsite team members to fulfill the ba responsibilities from project initiation to post-implementation \\u00e2\\u0080\\u00a2 reviewing the test scripts with business users as well as technology team. execute test scripts with expected results for the system integration test (sit) and user acceptance test (uat) \\u00e2\\u0080\\u00a2 coordinating and conducting the production acceptance testing (pat) with the business users \\u00e2\\u0080\\u00a2 creating flow diagrams, structure charts, and other types of system or process representations \\u00e2\\u0080\\u00a2 managing changes to requirements and baseline through a change control process \\u00e2\\u0080\\u00a2 utilizing standard methods, design and testing tools throughout project development life cycle \\u00e2\\u0080\\u00a2 work closely with the operational functional teams, operations management, and personnel, and various technology teams to facilitate a shared understanding of requirements and priorities across all areas\\r\\ncompany - eduavenir it solution\\r\\ndescription - project: m.b.m.s\\r\\n\\r\\nm.b.m.s. - is an inventory management application that allows user to manage inventory details of different warehouses, having different products located at various locations and help extract what goods have been procured, sold or returned by customers. it generates automated invoicesalong withcustomized reports. it also managescustomer complaint and resolution system implementation along with automated mis on monthly basis.sales and forecastingis also developed on mis system and the streamlining of process of warehousing and dispatch along with online proof of delivery management system (pod documentation) is generated.\\r\\n\\r\\nresponsibilities: \\u00e2\\u0080\\u00a2 participate in requirement gathering discussion with client to understand the flow of business processes \\u00e2\\u0080\\u00a2 analyze the requirements and determine the core processes, develop process documentation and ensure to stay up-to-date in conjunction with on-going changes \\u00e2\\u0080\\u00a2 participate in process flow analysis and preparing brd, srs.\\r\\n\\u00e2\\u0080\\u00a2 coordinating with developers, designers & operations teams for various nuances of the project, communicate the stakeholder requirements from requirement /enhancement to implementation and finally deliver the same within estimated timeframe.\\r\\n\\u00e2\\u0080\\u00a2 support uat by reviewing test cases, manage version control of documents, software builds.\\r\\n\\u00e2\\u0080\\u00a2 coordinate with the stakeholders for uat sign off and coordinate internally for production movement till golive stage of the application.\\r\\n\\u00e2\\u0080\\u00a2 provide demo and training to internal and end user using powerpoint presentation.\\r\\n\\u00e2\\u0080\\u00a2 resolving project functional &technical issues during uat.\\r\\n\\u00e2\\u0080\\u00a2 prioritizing the production bugs and resolving the same within the estimated timeframe.\\r\\n\\u00e2\\u0080\\u00a2 preparing project status report and production bugs status to all the stakeholders.\\r\\n\\u00e2\\u0080\\u00a2 promoting and networking for online trading platform.\\r\\n\\u00e2\\u0080\\u00a2 designing query sheet for obtaining and comparison of quotes from various vendors.\\r\\n\\u00e2\\u0080\\u00a2 development of product codes / material codes for inventory management (master data management)\\r\\ncompany - capgemini head office\\r\\ndescription - type: mobile and device testing.       duration: january 2014 - august 2014\\r\\n\\r\\nfollet - an application which takes an electronic request from the user for the books he requires from a particular follet store. this detailed information about books that will include the name of the book, its price, the date of the transaction and the parties involved which will then be sent to follet stores. user then create request for one or more books for a given date. this request is then processed further and user gets a mail of the date when he will be provided with that book.\\r\\n\\r\\nresponsibilities: \\u00e2\\u0080\\u00a2 understanding the needs and business requirements.\\r\\n\\u00e2\\u0080\\u00a2 preparing brd, srs by eliciting all the requirements from the client and smes \\u00e2\\u0080\\u00a2 understanding the dependency of the modules in the system \\u00e2\\u0080\\u00a2 preparation of test plan for unit level and integration level.\\r\\n\\u00e2\\u0080\\u00a2 preparation and execution of test cases.\\r\\n\\u00e2\\u0080\\u00a2 defect tracking, issue resolution, risk monitoring, status tracking, reporting and follow-up.\\r\\n\\u00e2\\u0080\\u00a2 preparation of test completion report.\\r\\ncompany - capgemini head office\\r\\ndescription - \\r\\ncompany - capgemini head office\\r\\ndescription - humana is a health care insurance project of u.s. which deals with supplying various medicines to citizens as per the doctor's reference and patient's insurance policy. this application keeps track of all the medicines user has consumed in the past and generates a patient history. a citizen is given a drug only after the doctor's reference so the doctor's information is also linked with the patient's history.\\r\\n\\r\\nresponsibilities: \\u00e2\\u0080\\u00a2 understanding the requirements and getting clarifications from client.\\r\\n\\u00e2\\u0080\\u00a2 involved in writing test cases based on test scenarios and execute them.\\r\\n\\u00e2\\u0080\\u00a2 ensuring test coverage using requirement traceability matrix (rtm) \\u00e2\\u0080\\u00a2 preparation of test completion report.\\r\\ncompany - capgemini head office\\r\\ndescription - testing trends wqr (world quality report) is an application which allows the users to take a survey on different methods and technologies used for testing. users can choose to answer any type of questions under three different categories. users have a facility to search, view and export the data to excel. also, users get daily and weekly reports through email about the new trends in testing implemented around the globe. testing trends wqr app is available on android and ios platforms.\\r\\n\\r\\nresponsibilities: \\u00e2\\u0080\\u00a2 understanding the requirements and getting clarifications from client.\\r\\n\\u00e2\\u0080\\u00a2 writing test cases based on test scenarios and executed them.\\r\\n\\u00e2\\u0080\\u00a2 performing different types of testing such as functional, integration, system, and uat.\\r\\n\\u00e2\\u0080\\u00a2 defect resolution and maintenance of the application.\"\n        ],\n        \"semantic_type\": \"\",\n        \"description\": \"\"\n      }\n    }\n  ]\n}"
            }
          },
          "metadata": {},
          "execution_count": 14
        }
      ]
    },
    {
      "cell_type": "code",
      "source": [
        "sample_text = csv_data['Resume'][csv_data['Resume'].str.contains('')].values[0]\n",
        "sample_text"
      ],
      "metadata": {
        "colab": {
          "base_uri": "https://localhost:8080/",
          "height": 511
        },
        "id": "Rr2Y30M9ozBR",
        "outputId": "344aae64-8d9a-40dc-944e-645a7ac4627c"
      },
      "execution_count": null,
      "outputs": [
        {
          "output_type": "execute_result",
          "data": {
            "text/plain": [
              "'skills * programming languages: python (pandas, numpy, scipy, scikit-learn, matplotlib), sql, java, javascript/jquery. * machine learning: regression, svm, naã¯ve bayes, knn, random forest, decision trees, boosting techniques, cluster analysis, word embedding, sentiment analysis, natural language processing, dimensionality reduction, topic modelling (lda, nmf), pca & neural nets. * database visualizations: mysql, sqlserver, cassandra, hbase, elasticsearch d3.js, dc.js, plotly, kibana, matplotlib, ggplot, tableau. * others: regular expression, html, css, angular 6, logstash, kafka, python flask, git, docker, computer vision - open cv and understanding of deep learning.education details \\r\\n\\r\\ndata science assurance associate \\r\\n\\r\\ndata science assurance associate - ernst & young llp\\r\\nskill details \\r\\njavascript- exprience - 24 months\\r\\njquery- exprience - 24 months\\r\\npython- exprience - 24 monthscompany details \\r\\ncompany - ernst & young llp\\r\\ndescription - fraud investigations and dispute services   assurance\\r\\ntechnology assisted review\\r\\ntar (technology assisted review) assists in accelerating the review process and run analytics and generate reports.\\r\\n* core member of a team helped in developing automated review platform tool from scratch for assisting e discovery domain, this tool implements predictive coding and topic modelling by automating reviews, resulting in reduced labor costs and time spent during the lawyers review.\\r\\n* understand the end to end flow of the solution, doing research and development for classification models, predictive analysis and mining of the information present in text data. worked on analyzing the outputs and precision monitoring for the entire tool.\\r\\n* tar assists in predictive coding, topic modelling from the evidence by following ey standards. developed the classifier models in order to identify \"red flags\" and fraud-related issues.\\r\\n\\r\\ntools & technologies: python, scikit-learn, tfidf, word2vec, doc2vec, cosine similarity, naã¯ve bayes, lda, nmf for topic modelling, vader and text blob for sentiment analysis. matplot lib, tableau dashboard for reporting.\\r\\n\\r\\nmultiple data science and analytic projects (usa clients)\\r\\ntext analytics - motor vehicle customer review data * received customer feedback survey data for past one year. performed sentiment (positive, negative & neutral) and time series analysis on customer comments across all 4 categories.\\r\\n* created heat map of terms by survey category based on frequency of words * extracted positive and negative words across all the survey categories and plotted word cloud.\\r\\n* created customized tableau dashboards for effective reporting and visualizations.\\r\\nchatbot * developed a user friendly chatbot for one of our products which handle simple questions about hours of operation, reservation options and so on.\\r\\n* this chat bot serves entire product related questions. giving overview of tool via qa platform and also give recommendation responses so that user question to build chain of relevant answer.\\r\\n* this too has intelligence to build the pipeline of questions as per user requirement and asks the relevant /recommended questions.\\r\\n\\r\\ntools & technologies: python, natural language processing, nltk, spacy, topic modelling, sentiment analysis, word embedding, scikit-learn, javascript/jquery, sqlserver\\r\\n\\r\\ninformation governance\\r\\norganizations to make informed decisions about all of the information they store. the integrated information governance portfolio synthesizes intelligence across unstructured data sources and facilitates action to ensure organizations are best positioned to counter information risk.\\r\\n* scan data from multiple sources of formats and parse different file formats, extract meta data information, push results for indexing elastic search and created customized, interactive dashboards using kibana.\\r\\n* preforming rot analysis on the data which give information of data which helps identify content that is either redundant, outdated, or trivial.\\r\\n* preforming full-text search analysis on elastic search with predefined methods which can tag as (pii) personally identifiable information (social security numbers, addresses, names, etc.) which frequently targeted during cyber-attacks.\\r\\ntools & technologies: python, flask, elastic search, kibana\\r\\n\\r\\nfraud analytic platform\\r\\nfraud analytics and investigative platform to review all red flag cases.\\r\\nâ\\x80¢ fap is a fraud analytics and investigative platform with inbuilt case manager and suite of analytics for various erp systems.\\r\\n* it can be used by clients to interrogate their accounting systems for identifying the anomalies which can be indicators of fraud by running advanced analytics\\r\\ntools & technologies: html, javascript, sqlserver, jquery, css, bootstrap, node.js, d3.js, dc.js'"
            ],
            "application/vnd.google.colaboratory.intrinsic+json": {
              "type": "string"
            }
          },
          "metadata": {},
          "execution_count": 15
        }
      ]
    },
    {
      "cell_type": "markdown",
      "metadata": {
        "id": "8cBXmdXpDIQJ"
      },
      "source": [
        "### Cleaning Resume"
      ]
    },
    {
      "cell_type": "markdown",
      "metadata": {
        "id": "yvkRbRnM3ap7"
      },
      "source": [
        "**Exercise 6: Define a function to clean the resume text [2 Mark]**\n",
        "\n",
        "In the text there are special characters, urls, hashtags, mentions, etc. You need to remove for the following:  \n",
        "\n",
        "* URLs: For reference click [here](https://stackoverflow.com/questions/11331982/how-to-remove-any-url-within-a-string-in-python)\n",
        "* RT | cc: For reference click [here](https://www.machinelearningplus.com/python/python-regex-tutorial-examples/)\n",
        "* Hashtags, # and Mentions, @\n",
        "* punctuations\n",
        "* extra whitespace\n",
        "\n",
        "PS: Use the provided reference similarly for removing any other such elements.\n",
        "\n",
        "After cleaning as above, store the Resume Text in a separate column (New Feature say `Cleaned_Resume`).\n"
      ]
    },
    {
      "cell_type": "code",
      "metadata": {
        "id": "k9Z-Oois_LWE"
      },
      "source": [
        "import re\n",
        "def cleanResume(resumeText):\n",
        "    resumeText = re.sub(r'https?:\\/\\/.*[\\r\\n]|www\\.\\w+\\.\\w+[\\r\\n]|[A-Za-z0-9._%+-]+@[A-Za-z0-9.-]+\\.[A-Za-z]{2,}', '', resumeText, flags=re.MULTILINE)\n",
        "    resumeText = re.sub(r'  |,|\\.|\\!|\"|\\-|:|;|\\*', '', resumeText, flags=re.MULTILINE)\n",
        "    resumeText = re.sub(r'\\r\\n', '', resumeText, flags=re.MULTILINE)\n",
        "    return resumeText\n"
      ],
      "execution_count": null,
      "outputs": []
    },
    {
      "cell_type": "code",
      "source": [
        "sample_text"
      ],
      "metadata": {
        "colab": {
          "base_uri": "https://localhost:8080/",
          "height": 511
        },
        "id": "grrccF8Mp0pq",
        "outputId": "35803dc9-48eb-4049-9b31-d4a10bf9cd69"
      },
      "execution_count": null,
      "outputs": [
        {
          "output_type": "execute_result",
          "data": {
            "text/plain": [
              "'skills * programming languages: python (pandas, numpy, scipy, scikit-learn, matplotlib), sql, java, javascript/jquery. * machine learning: regression, svm, naã¯ve bayes, knn, random forest, decision trees, boosting techniques, cluster analysis, word embedding, sentiment analysis, natural language processing, dimensionality reduction, topic modelling (lda, nmf), pca & neural nets. * database visualizations: mysql, sqlserver, cassandra, hbase, elasticsearch d3.js, dc.js, plotly, kibana, matplotlib, ggplot, tableau. * others: regular expression, html, css, angular 6, logstash, kafka, python flask, git, docker, computer vision - open cv and understanding of deep learning.education details \\r\\n\\r\\ndata science assurance associate \\r\\n\\r\\ndata science assurance associate - ernst & young llp\\r\\nskill details \\r\\njavascript- exprience - 24 months\\r\\njquery- exprience - 24 months\\r\\npython- exprience - 24 monthscompany details \\r\\ncompany - ernst & young llp\\r\\ndescription - fraud investigations and dispute services   assurance\\r\\ntechnology assisted review\\r\\ntar (technology assisted review) assists in accelerating the review process and run analytics and generate reports.\\r\\n* core member of a team helped in developing automated review platform tool from scratch for assisting e discovery domain, this tool implements predictive coding and topic modelling by automating reviews, resulting in reduced labor costs and time spent during the lawyers review.\\r\\n* understand the end to end flow of the solution, doing research and development for classification models, predictive analysis and mining of the information present in text data. worked on analyzing the outputs and precision monitoring for the entire tool.\\r\\n* tar assists in predictive coding, topic modelling from the evidence by following ey standards. developed the classifier models in order to identify \"red flags\" and fraud-related issues.\\r\\n\\r\\ntools & technologies: python, scikit-learn, tfidf, word2vec, doc2vec, cosine similarity, naã¯ve bayes, lda, nmf for topic modelling, vader and text blob for sentiment analysis. matplot lib, tableau dashboard for reporting.\\r\\n\\r\\nmultiple data science and analytic projects (usa clients)\\r\\ntext analytics - motor vehicle customer review data * received customer feedback survey data for past one year. performed sentiment (positive, negative & neutral) and time series analysis on customer comments across all 4 categories.\\r\\n* created heat map of terms by survey category based on frequency of words * extracted positive and negative words across all the survey categories and plotted word cloud.\\r\\n* created customized tableau dashboards for effective reporting and visualizations.\\r\\nchatbot * developed a user friendly chatbot for one of our products which handle simple questions about hours of operation, reservation options and so on.\\r\\n* this chat bot serves entire product related questions. giving overview of tool via qa platform and also give recommendation responses so that user question to build chain of relevant answer.\\r\\n* this too has intelligence to build the pipeline of questions as per user requirement and asks the relevant /recommended questions.\\r\\n\\r\\ntools & technologies: python, natural language processing, nltk, spacy, topic modelling, sentiment analysis, word embedding, scikit-learn, javascript/jquery, sqlserver\\r\\n\\r\\ninformation governance\\r\\norganizations to make informed decisions about all of the information they store. the integrated information governance portfolio synthesizes intelligence across unstructured data sources and facilitates action to ensure organizations are best positioned to counter information risk.\\r\\n* scan data from multiple sources of formats and parse different file formats, extract meta data information, push results for indexing elastic search and created customized, interactive dashboards using kibana.\\r\\n* preforming rot analysis on the data which give information of data which helps identify content that is either redundant, outdated, or trivial.\\r\\n* preforming full-text search analysis on elastic search with predefined methods which can tag as (pii) personally identifiable information (social security numbers, addresses, names, etc.) which frequently targeted during cyber-attacks.\\r\\ntools & technologies: python, flask, elastic search, kibana\\r\\n\\r\\nfraud analytic platform\\r\\nfraud analytics and investigative platform to review all red flag cases.\\r\\nâ\\x80¢ fap is a fraud analytics and investigative platform with inbuilt case manager and suite of analytics for various erp systems.\\r\\n* it can be used by clients to interrogate their accounting systems for identifying the anomalies which can be indicators of fraud by running advanced analytics\\r\\ntools & technologies: html, javascript, sqlserver, jquery, css, bootstrap, node.js, d3.js, dc.js'"
            ],
            "application/vnd.google.colaboratory.intrinsic+json": {
              "type": "string"
            }
          },
          "metadata": {},
          "execution_count": 17
        }
      ]
    },
    {
      "cell_type": "code",
      "source": [
        "cleanResume(sample_text)"
      ],
      "metadata": {
        "colab": {
          "base_uri": "https://localhost:8080/",
          "height": 474
        },
        "id": "b4tOI5X7ptq_",
        "outputId": "defc49a5-c0a0-459c-9b41-f830d80e9348"
      },
      "execution_count": null,
      "outputs": [
        {
          "output_type": "execute_result",
          "data": {
            "text/plain": [
              "'skills  programming languages python (pandas numpy scipy scikitlearn matplotlib) sql java javascript/jquery  machine learning regression svm naã¯ve bayes knn random forest decision trees boosting techniques cluster analysis word embedding sentiment analysis natural language processing dimensionality reduction topic modelling (lda nmf) pca & neural nets  database visualizations mysql sqlserver cassandra hbase elasticsearch d3js dcjs plotly kibana matplotlib ggplot tableau  others regular expression html css angular 6 logstash kafka python flask git docker computer vision  open cv and understanding of deep learningeducation details data science assurance associate data science assurance associate  ernst & young llpskill details javascript exprience  24 monthsjquery exprience  24 monthspython exprience  24 monthscompany details company  ernst & young llpdescription  fraud investigations and dispute services assurancetechnology assisted reviewtar (technology assisted review) assists in accelerating the review process and run analytics and generate reports core member of a team helped in developing automated review platform tool from scratch for assisting e discovery domain this tool implements predictive coding and topic modelling by automating reviews resulting in reduced labor costs and time spent during the lawyers review understand the end to end flow of the solution doing research and development for classification models predictive analysis and mining of the information present in text data worked on analyzing the outputs and precision monitoring for the entire tool tar assists in predictive coding topic modelling from the evidence by following ey standards developed the classifier models in order to identify red flags and fraudrelated issuestools & technologies python scikitlearn tfidf word2vec doc2vec cosine similarity naã¯ve bayes lda nmf for topic modelling vader and text blob for sentiment analysis matplot lib tableau dashboard for reportingmultiple data science and analytic projects (usa clients)text analytics  motor vehicle customer review data  received customer feedback survey data for past one year performed sentiment (positive negative & neutral) and time series analysis on customer comments across all 4 categories created heat map of terms by survey category based on frequency of words  extracted positive and negative words across all the survey categories and plotted word cloud created customized tableau dashboards for effective reporting and visualizationschatbot  developed a user friendly chatbot for one of our products which handle simple questions about hours of operation reservation options and so on this chat bot serves entire product related questions giving overview of tool via qa platform and also give recommendation responses so that user question to build chain of relevant answer this too has intelligence to build the pipeline of questions as per user requirement and asks the relevant /recommended questionstools & technologies python natural language processing nltk spacy topic modelling sentiment analysis word embedding scikitlearn javascript/jquery sqlserverinformation governanceorganizations to make informed decisions about all of the information they store the integrated information governance portfolio synthesizes intelligence across unstructured data sources and facilitates action to ensure organizations are best positioned to counter information risk scan data from multiple sources of formats and parse different file formats extract meta data information push results for indexing elastic search and created customized interactive dashboards using kibana preforming rot analysis on the data which give information of data which helps identify content that is either redundant outdated or trivial preforming fulltext search analysis on elastic search with predefined methods which can tag as (pii) personally identifiable information (social security numbers addresses names etc) which frequently targeted during cyberattackstools & technologies python flask elastic search kibanafraud analytic platformfraud analytics and investigative platform to review all red flag casesâ\\x80¢ fap is a fraud analytics and investigative platform with inbuilt case manager and suite of analytics for various erp systems it can be used by clients to interrogate their accounting systems for identifying the anomalies which can be indicators of fraud by running advanced analyticstools & technologies html javascript sqlserver jquery css bootstrap nodejs d3js dcjs'"
            ],
            "application/vnd.google.colaboratory.intrinsic+json": {
              "type": "string"
            }
          },
          "metadata": {},
          "execution_count": 18
        }
      ]
    },
    {
      "cell_type": "code",
      "metadata": {
        "id": "0O2tR_IjDNWr"
      },
      "source": [
        "# Apply the function defined above and save the\n",
        "df['Cleaned_Resume'] = df['Resume'].apply(lambda x: cleanResume(x))"
      ],
      "execution_count": null,
      "outputs": []
    },
    {
      "cell_type": "code",
      "source": [
        "df.head()"
      ],
      "metadata": {
        "id": "bQ2gQ655wLMz",
        "outputId": "44a8f1b0-93e7-4c57-f7d5-d325c51eb673",
        "colab": {
          "base_uri": "https://localhost:8080/",
          "height": 206
        }
      },
      "execution_count": null,
      "outputs": [
        {
          "output_type": "execute_result",
          "data": {
            "text/plain": [
              "       Category                                             Resume  \\\n",
              "0  Data Science  skills * programming languages: python (pandas...   \n",
              "1  Data Science  education details \\r\\nmay 2013 to may 2017 b.e...   \n",
              "2  Data Science  areas of interest deep learning, control syste...   \n",
              "3  Data Science  skills â¢ r â¢ python â¢ sap hana â¢ table...   \n",
              "4  Data Science  education details \\r\\n mca   ymcaust,  faridab...   \n",
              "\n",
              "                                      Cleaned_Resume  \n",
              "0  skills  programming languages python (pandas n...  \n",
              "1  education details may 2013 to may 2017 be uitr...  \n",
              "2  areas of interest deep learning control system...  \n",
              "3  skills â¢ r â¢ python â¢ sap hana â¢ table...  \n",
              "4  education details  mca ymcaustfaridabadharyana...  "
            ],
            "text/html": [
              "\n",
              "  <div id=\"df-9ad8def4-6f50-4426-b664-d32d514c99b1\" class=\"colab-df-container\">\n",
              "    <div>\n",
              "<style scoped>\n",
              "    .dataframe tbody tr th:only-of-type {\n",
              "        vertical-align: middle;\n",
              "    }\n",
              "\n",
              "    .dataframe tbody tr th {\n",
              "        vertical-align: top;\n",
              "    }\n",
              "\n",
              "    .dataframe thead th {\n",
              "        text-align: right;\n",
              "    }\n",
              "</style>\n",
              "<table border=\"1\" class=\"dataframe\">\n",
              "  <thead>\n",
              "    <tr style=\"text-align: right;\">\n",
              "      <th></th>\n",
              "      <th>Category</th>\n",
              "      <th>Resume</th>\n",
              "      <th>Cleaned_Resume</th>\n",
              "    </tr>\n",
              "  </thead>\n",
              "  <tbody>\n",
              "    <tr>\n",
              "      <th>0</th>\n",
              "      <td>Data Science</td>\n",
              "      <td>skills * programming languages: python (pandas...</td>\n",
              "      <td>skills  programming languages python (pandas n...</td>\n",
              "    </tr>\n",
              "    <tr>\n",
              "      <th>1</th>\n",
              "      <td>Data Science</td>\n",
              "      <td>education details \\r\\nmay 2013 to may 2017 b.e...</td>\n",
              "      <td>education details may 2013 to may 2017 be uitr...</td>\n",
              "    </tr>\n",
              "    <tr>\n",
              "      <th>2</th>\n",
              "      <td>Data Science</td>\n",
              "      <td>areas of interest deep learning, control syste...</td>\n",
              "      <td>areas of interest deep learning control system...</td>\n",
              "    </tr>\n",
              "    <tr>\n",
              "      <th>3</th>\n",
              "      <td>Data Science</td>\n",
              "      <td>skills â¢ r â¢ python â¢ sap hana â¢ table...</td>\n",
              "      <td>skills â¢ r â¢ python â¢ sap hana â¢ table...</td>\n",
              "    </tr>\n",
              "    <tr>\n",
              "      <th>4</th>\n",
              "      <td>Data Science</td>\n",
              "      <td>education details \\r\\n mca   ymcaust,  faridab...</td>\n",
              "      <td>education details  mca ymcaustfaridabadharyana...</td>\n",
              "    </tr>\n",
              "  </tbody>\n",
              "</table>\n",
              "</div>\n",
              "    <div class=\"colab-df-buttons\">\n",
              "\n",
              "  <div class=\"colab-df-container\">\n",
              "    <button class=\"colab-df-convert\" onclick=\"convertToInteractive('df-9ad8def4-6f50-4426-b664-d32d514c99b1')\"\n",
              "            title=\"Convert this dataframe to an interactive table.\"\n",
              "            style=\"display:none;\">\n",
              "\n",
              "  <svg xmlns=\"http://www.w3.org/2000/svg\" height=\"24px\" viewBox=\"0 -960 960 960\">\n",
              "    <path d=\"M120-120v-720h720v720H120Zm60-500h600v-160H180v160Zm220 220h160v-160H400v160Zm0 220h160v-160H400v160ZM180-400h160v-160H180v160Zm440 0h160v-160H620v160ZM180-180h160v-160H180v160Zm440 0h160v-160H620v160Z\"/>\n",
              "  </svg>\n",
              "    </button>\n",
              "\n",
              "  <style>\n",
              "    .colab-df-container {\n",
              "      display:flex;\n",
              "      gap: 12px;\n",
              "    }\n",
              "\n",
              "    .colab-df-convert {\n",
              "      background-color: #E8F0FE;\n",
              "      border: none;\n",
              "      border-radius: 50%;\n",
              "      cursor: pointer;\n",
              "      display: none;\n",
              "      fill: #1967D2;\n",
              "      height: 32px;\n",
              "      padding: 0 0 0 0;\n",
              "      width: 32px;\n",
              "    }\n",
              "\n",
              "    .colab-df-convert:hover {\n",
              "      background-color: #E2EBFA;\n",
              "      box-shadow: 0px 1px 2px rgba(60, 64, 67, 0.3), 0px 1px 3px 1px rgba(60, 64, 67, 0.15);\n",
              "      fill: #174EA6;\n",
              "    }\n",
              "\n",
              "    .colab-df-buttons div {\n",
              "      margin-bottom: 4px;\n",
              "    }\n",
              "\n",
              "    [theme=dark] .colab-df-convert {\n",
              "      background-color: #3B4455;\n",
              "      fill: #D2E3FC;\n",
              "    }\n",
              "\n",
              "    [theme=dark] .colab-df-convert:hover {\n",
              "      background-color: #434B5C;\n",
              "      box-shadow: 0px 1px 3px 1px rgba(0, 0, 0, 0.15);\n",
              "      filter: drop-shadow(0px 1px 2px rgba(0, 0, 0, 0.3));\n",
              "      fill: #FFFFFF;\n",
              "    }\n",
              "  </style>\n",
              "\n",
              "    <script>\n",
              "      const buttonEl =\n",
              "        document.querySelector('#df-9ad8def4-6f50-4426-b664-d32d514c99b1 button.colab-df-convert');\n",
              "      buttonEl.style.display =\n",
              "        google.colab.kernel.accessAllowed ? 'block' : 'none';\n",
              "\n",
              "      async function convertToInteractive(key) {\n",
              "        const element = document.querySelector('#df-9ad8def4-6f50-4426-b664-d32d514c99b1');\n",
              "        const dataTable =\n",
              "          await google.colab.kernel.invokeFunction('convertToInteractive',\n",
              "                                                    [key], {});\n",
              "        if (!dataTable) return;\n",
              "\n",
              "        const docLinkHtml = 'Like what you see? Visit the ' +\n",
              "          '<a target=\"_blank\" href=https://colab.research.google.com/notebooks/data_table.ipynb>data table notebook</a>'\n",
              "          + ' to learn more about interactive tables.';\n",
              "        element.innerHTML = '';\n",
              "        dataTable['output_type'] = 'display_data';\n",
              "        await google.colab.output.renderOutput(dataTable, element);\n",
              "        const docLink = document.createElement('div');\n",
              "        docLink.innerHTML = docLinkHtml;\n",
              "        element.appendChild(docLink);\n",
              "      }\n",
              "    </script>\n",
              "  </div>\n",
              "\n",
              "\n",
              "<div id=\"df-6c020091-2de9-43d3-af60-442ed9b147cf\">\n",
              "  <button class=\"colab-df-quickchart\" onclick=\"quickchart('df-6c020091-2de9-43d3-af60-442ed9b147cf')\"\n",
              "            title=\"Suggest charts\"\n",
              "            style=\"display:none;\">\n",
              "\n",
              "<svg xmlns=\"http://www.w3.org/2000/svg\" height=\"24px\"viewBox=\"0 0 24 24\"\n",
              "     width=\"24px\">\n",
              "    <g>\n",
              "        <path d=\"M19 3H5c-1.1 0-2 .9-2 2v14c0 1.1.9 2 2 2h14c1.1 0 2-.9 2-2V5c0-1.1-.9-2-2-2zM9 17H7v-7h2v7zm4 0h-2V7h2v10zm4 0h-2v-4h2v4z\"/>\n",
              "    </g>\n",
              "</svg>\n",
              "  </button>\n",
              "\n",
              "<style>\n",
              "  .colab-df-quickchart {\n",
              "      --bg-color: #E8F0FE;\n",
              "      --fill-color: #1967D2;\n",
              "      --hover-bg-color: #E2EBFA;\n",
              "      --hover-fill-color: #174EA6;\n",
              "      --disabled-fill-color: #AAA;\n",
              "      --disabled-bg-color: #DDD;\n",
              "  }\n",
              "\n",
              "  [theme=dark] .colab-df-quickchart {\n",
              "      --bg-color: #3B4455;\n",
              "      --fill-color: #D2E3FC;\n",
              "      --hover-bg-color: #434B5C;\n",
              "      --hover-fill-color: #FFFFFF;\n",
              "      --disabled-bg-color: #3B4455;\n",
              "      --disabled-fill-color: #666;\n",
              "  }\n",
              "\n",
              "  .colab-df-quickchart {\n",
              "    background-color: var(--bg-color);\n",
              "    border: none;\n",
              "    border-radius: 50%;\n",
              "    cursor: pointer;\n",
              "    display: none;\n",
              "    fill: var(--fill-color);\n",
              "    height: 32px;\n",
              "    padding: 0;\n",
              "    width: 32px;\n",
              "  }\n",
              "\n",
              "  .colab-df-quickchart:hover {\n",
              "    background-color: var(--hover-bg-color);\n",
              "    box-shadow: 0 1px 2px rgba(60, 64, 67, 0.3), 0 1px 3px 1px rgba(60, 64, 67, 0.15);\n",
              "    fill: var(--button-hover-fill-color);\n",
              "  }\n",
              "\n",
              "  .colab-df-quickchart-complete:disabled,\n",
              "  .colab-df-quickchart-complete:disabled:hover {\n",
              "    background-color: var(--disabled-bg-color);\n",
              "    fill: var(--disabled-fill-color);\n",
              "    box-shadow: none;\n",
              "  }\n",
              "\n",
              "  .colab-df-spinner {\n",
              "    border: 2px solid var(--fill-color);\n",
              "    border-color: transparent;\n",
              "    border-bottom-color: var(--fill-color);\n",
              "    animation:\n",
              "      spin 1s steps(1) infinite;\n",
              "  }\n",
              "\n",
              "  @keyframes spin {\n",
              "    0% {\n",
              "      border-color: transparent;\n",
              "      border-bottom-color: var(--fill-color);\n",
              "      border-left-color: var(--fill-color);\n",
              "    }\n",
              "    20% {\n",
              "      border-color: transparent;\n",
              "      border-left-color: var(--fill-color);\n",
              "      border-top-color: var(--fill-color);\n",
              "    }\n",
              "    30% {\n",
              "      border-color: transparent;\n",
              "      border-left-color: var(--fill-color);\n",
              "      border-top-color: var(--fill-color);\n",
              "      border-right-color: var(--fill-color);\n",
              "    }\n",
              "    40% {\n",
              "      border-color: transparent;\n",
              "      border-right-color: var(--fill-color);\n",
              "      border-top-color: var(--fill-color);\n",
              "    }\n",
              "    60% {\n",
              "      border-color: transparent;\n",
              "      border-right-color: var(--fill-color);\n",
              "    }\n",
              "    80% {\n",
              "      border-color: transparent;\n",
              "      border-right-color: var(--fill-color);\n",
              "      border-bottom-color: var(--fill-color);\n",
              "    }\n",
              "    90% {\n",
              "      border-color: transparent;\n",
              "      border-bottom-color: var(--fill-color);\n",
              "    }\n",
              "  }\n",
              "</style>\n",
              "\n",
              "  <script>\n",
              "    async function quickchart(key) {\n",
              "      const quickchartButtonEl =\n",
              "        document.querySelector('#' + key + ' button');\n",
              "      quickchartButtonEl.disabled = true;  // To prevent multiple clicks.\n",
              "      quickchartButtonEl.classList.add('colab-df-spinner');\n",
              "      try {\n",
              "        const charts = await google.colab.kernel.invokeFunction(\n",
              "            'suggestCharts', [key], {});\n",
              "      } catch (error) {\n",
              "        console.error('Error during call to suggestCharts:', error);\n",
              "      }\n",
              "      quickchartButtonEl.classList.remove('colab-df-spinner');\n",
              "      quickchartButtonEl.classList.add('colab-df-quickchart-complete');\n",
              "    }\n",
              "    (() => {\n",
              "      let quickchartButtonEl =\n",
              "        document.querySelector('#df-6c020091-2de9-43d3-af60-442ed9b147cf button');\n",
              "      quickchartButtonEl.style.display =\n",
              "        google.colab.kernel.accessAllowed ? 'block' : 'none';\n",
              "    })();\n",
              "  </script>\n",
              "</div>\n",
              "\n",
              "    </div>\n",
              "  </div>\n"
            ],
            "application/vnd.google.colaboratory.intrinsic+json": {
              "type": "dataframe",
              "variable_name": "df",
              "summary": "{\n  \"name\": \"df\",\n  \"rows\": 962,\n  \"fields\": [\n    {\n      \"column\": \"Category\",\n      \"properties\": {\n        \"dtype\": \"category\",\n        \"num_unique_values\": 25,\n        \"samples\": [\n          \"Civil Engineer\",\n          \"DevOps Engineer\",\n          \"Data Science\"\n        ],\n        \"semantic_type\": \"\",\n        \"description\": \"\"\n      }\n    },\n    {\n      \"column\": \"Resume\",\n      \"properties\": {\n        \"dtype\": \"category\",\n        \"num_unique_values\": 166,\n        \"samples\": [\n          \"key competencies \\u00e2\\u009c\\u00b6multi - operations management\\u00e2\\u009c\\u00b6people management \\u00e2\\u009c\\u00b6customer services - emails \\u00e2\\u009c\\u00b6 mis \\u00e2\\u009c\\u00b6vendor & client services management\\u00e2\\u009c\\u00b6cross functional coordination\\u00e2\\u009c\\u00b6banking & financial services\\u00e2\\u009c\\u00b6 transaction monitoring * atm operations \\u00e2\\u009c\\u00b6 & prepaid card operations (pre-issuance & post-issuance) \\u00e2\\u009c\\u00b6 pos operations * job profile & skills: \\u00e2\\u0080\\u00a2 an effective communicator with excellent relationship building & interpersonal skills. strong analytical, problem solving & organizational abilities. \\u00e2\\u0080\\u00a2 extensive experience in managing operations with demonstrated leadership qualities & organisational skills during the tenure. \\u00e2\\u0080\\u00a2 managing customer centric operations & ensuring customer satisfaction by achieving service quality norms. \\u00e2\\u0080\\u00a2 analyzing of all operational problems, customer complaints and take preventive and corrective actions to resolve the same. \\u00e2\\u0080\\u00a2 receive and respond to key customer inquiries in an effective manner and provide relevant and timely information. \\u00e2\\u0080\\u00a2 deft in steering banking back-end operations, analyzing risks and managing delinquencies with dexterity across applying techniques for maximizing recoveries and minimizing credit losses. \\u00e2\\u0080\\u00a2 analyzed & identified training needs of the team members and developing, organizing and conducting training programs and manage bottom quartile team to improve their performance. \\u00e2\\u0080\\u00a2 preparing and maintaining daily mis reports to evaluate the performance and efficiency of the process relate to various verticals. \\u00e2\\u0080\\u00a2 measuring the performance of the processes in terms of efficiency and effectiveness matrix and ensuring adherence to sla. \\u00e2\\u0080\\u00a2 major activities define processes for field services were monitored and necessary checks were executed and controlled. also measured vendor sla by analyzing the tat of vendors & the client sla provided to us. \\u00e2\\u0080\\u00a2 as per company procedures, handling & ensuring vendor's payment issues to be sorted out &payments are processed on quarterly basis. \\u00e2\\u0080\\u00a2 appropriately plan and execute each skill of operations in accordance with the department's policies and procedures. \\u00e2\\u0080\\u00a2 manage relationships with business team, software development team and other services to achieve project objectives. different software worked till now: - a. ctl prime - axis bank credit cards b. insight - for pos machine technical operations for amex (mid & tid generation- atos (venture infotek) c. ticket management system - tata communications private services ltd (atm - noc operations) d. branch portal (yalamanchili software exports ltd) - prepaid cards (sbi bank & zaggle prepaid oceans services ltd) zaggle prepaid ocean services pvt ltd oct, 2017 to till date designation: manager - operations (payment industry - prepaid cards - inr) education details \\r\\n  commerce mumbai, maharashtra mumbai university\\r\\noperations manager \\r\\n\\r\\nservice manager - operations (payment industry - prepaid cards - inr & ftc)\\r\\nskill details \\r\\noperations- exprience - 73 months\\r\\nsatisfaction- exprience - 48 months\\r\\ntraining- exprience - 24 months\\r\\nnoc- exprience - 23 months\\r\\npoint of sale- exprience - 20 monthscompany details \\r\\ncompany - zaggle prepaid ocean services pvt ltd\\r\\ndescription - card operations\\r\\ncompany - yalamanchili software exports ltd\\r\\ndescription - 24*7 operations pvt ltd) dec 2015 to feb 2017\\r\\n\\r\\ndesignation: service manager - operations (payment industry - prepaid cards - inr & ftc)\\r\\n\\r\\nkey contributions: \\u00e2\\u0080\\u00a2 a result-oriented business professional in planning, executing& managing processes, improving efficiency of operations, team building and detailing process information to determine effective result into operations.\\r\\n\\u00e2\\u0080\\u00a2 ensuring pins generation (sla) is maintained and chargeback cases are raised in perfect timeframe.\\r\\n\\u00e2\\u0080\\u00a2 managing email customer services properly and ensuring the emails are replied properly. also, ensuring transaction monitoring is properly managed 24/7.\\r\\n\\u00e2\\u0080\\u00a2 assisting bankers (sbi & associated banks) for their bcp plans by getting executed in the system with the help of dr-pr plans & vice versa or any other business requirements.\\r\\n\\u00e2\\u0080\\u00a2 expertise in maintaining highest level of quality in operations; ensuring adherence to all the quality parameters and procedures as per the stringent norms.\\r\\n\\u00e2\\u0080\\u00a2 lead, manage and supervise the execution of external audit engagements and responsible for presenting the findings & developing a quality reports to the senior management and clients.\\r\\n\\u00e2\\u0080\\u00a2 coach/mentor (20) team members to perform at a higher level by giving opportunities, providing timely continuous feedback and working with staff to improve their communication, time management, decision making, organization, and analytical skills.\\r\\n\\u00e2\\u0080\\u00a2 providing the solutions and services to the client in their own premises with aforesaid count of team members.\\r\\n\\u00e2\\u0080\\u00a2 also ensuring end to end process of pr & dr as per client requirements (pr- dr & dr -pr) by interacting with internal & external stakeholders.\\r\\n\\u00e2\\u0080\\u00a2 determining process gaps and designing & conducting training programs to enhance operational efficiency and retain talent by providing optimum opportunities for personal and professional growth.\\r\\ncompany - credit cards\\r\\ndescription - ensured highest standard of customer satisfaction and quality service; developing new policies and procedures to improve based on customer feedback and resolving customer queries via correspondence, inbound calls & email channels with the strength of (12-16) team members.\\r\\ncompany - ags transact technologies limited\\r\\ndescription - key contributions: lead - spoc to banks\\r\\ncompany - tata communications payment solutions ltd\\r\\ndescription - to make atms operational within tat by analyzing the issue is technical or non-technical and also by interacting with internal & external stakeholders.\\r\\ncompany - vertex customer solutions india private ltd\\r\\ndescription - key contributions: \\u00e2\\u0080\\u00a2 build positive working relationship with all team members and clients by keeping management informed   of kyc document collection & con-current audit progress, responding timely to management inquiries, understanding the business and conducting self professionally.\\r\\ncompany - financial inclusion network & operations limited\\r\\ndescription - key contributions: pos-operations \\u00e2\\u0080\\u00a2 cascading the adherence of process is strictly followed by team members & training them to reduce the downtime.\\r\\n\\u00e2\\u0080\\u00a2 managing stock of edc terminals \\u00e2\\u0080\\u00a2 managing deployments of terminals through multiple teams \\u00e2\\u0080\\u00a2 would have worked with multiple terminal make & model \\u00e2\\u0080\\u00a2 managing inward, outward & qc of applications installed in the pos machines.\\r\\ncompany - venture infotek private ltd\\r\\ndescription - key contributions: pos-operations\\r\\ncompany - axis bank ltd - customer services\\r\\ndescription - aug 2006 to oct 2009 (ma-foi&i- smart)\\r\\n\\r\\ndesignation: team leader/executive - emails, phone banking & correspondence unit (snail mails)\",\n          \"skill set: hadoop, map reduce, hdfs, hive, sqoop, java. duration: 2016 to 2017. role: hadoop developer rplus offers an quick, simple and powerful cloud based solution, demand sense to accurately predict demand for your product in all your markets which combines enterprise and external data to predict demand more accurately through uses social conversation and sentiments to derive demand and identifies significant drivers of sale out of hordes of factors that selects the best suited model out of multiple forecasting models for each product. responsibilities: \\u00e2\\u0080\\u00a2 involved in deploying the product for customers, gathering requirements and algorithm optimization at backend of the product. \\u00e2\\u0080\\u00a2 load and transform large datasets of structured semi structured. \\u00e2\\u0080\\u00a2 responsible to manage data coming from different sources and application \\u00e2\\u0080\\u00a2 supported map reduce programs those are running on the cluster \\u00e2\\u0080\\u00a2 involved in creating hive tables, loading with data and writing hive queries which will run internally in map reduce way.education details \\r\\n\\r\\nhadoop developer \\r\\n\\r\\nhadoop developer - braindatawire\\r\\nskill details \\r\\napache hadoop hdfs- exprience - 49 months\\r\\napache hadoop sqoop- exprience - 49 months\\r\\nhadoop- exprience - 49 months\\r\\nhadoop- exprience - 49 months\\r\\nhadoop distributed file system- exprience - 49 monthscompany details \\r\\ncompany - braindatawire\\r\\ndescription - technical skills:\\r\\n\\u00e2\\u0080\\u00a2   programming: core java, map reduce, scala\\r\\n\\u00e2\\u0080\\u00a2   hadoop tools: hdfs, spark, map reduce, sqoop, hive, hbase\\r\\n\\u00e2\\u0080\\u00a2   database: mysql, oracle\\r\\n\\u00e2\\u0080\\u00a2   scripting: shell scripting\\r\\n\\u00e2\\u0080\\u00a2   ide: eclipse\\r\\n\\u00e2\\u0080\\u00a2   operating systems: linux (centos), windows\\r\\n\\u00e2\\u0080\\u00a2   source control: git (github)\",\n          \"it skills: area exposure modeling tool: bizagi, ms visio prototyping tool: indigo studio. documentation: ms office (ms word, ms excel, ms power point) testing proficiency: smoke, sanity, integration, functional, acceptance and ui methodology implemented: waterfall, agile (scrum) database: sql testing tool: hpqc business exposure education details \\r\\n bachelor of computer engineering computer engineering mumbai, maharashtra thadomal shahani engineering college\\r\\n diploma computer engineering ulhasnagar, maharashtra institute of technology\\r\\n secondary school certificate  ulhasnagar, maharashtra new english high school\\r\\nsenior business analyst - rpa \\r\\n\\r\\nsenior business analyst - rpa - hexaware technologies\\r\\nskill details \\r\\ndocumentation- exprience - 47 months\\r\\ntesting- exprience - 29 months\\r\\nintegration- exprience - 25 months\\r\\nintegrator- exprience - 25 months\\r\\nprototype- exprience - 13 monthscompany details \\r\\ncompany - hexaware technologies\\r\\ndescription - working as a rpa business analyst\\r\\ncompany - bbh- brown brothers harriman & co\\r\\ndescription - is a private bank that provides commercial banking, investment management, brokerage, and trust services to private companies and individuals. it also performs merger advisory, foreign exchange, custody services, commercial banking, and corporate financing services.\\r\\n\\r\\nresponsibilities: \\u00e2\\u0080\\u00a2 performed automation assessment of various processes and identified processes which can be candidates of rpa.\\r\\n\\u00e2\\u0080\\u00a2 conducting assessment that involves an initial understanding of the existing system, their technology, processes, usage of the tools, feasibility of tool with automation tool along with automation roi analysis.\\r\\n\\u00e2\\u0080\\u00a2 preparing the automation potential sheet which describes the steps in the process, the volume and frequency of the transaction, the aht taken by sme to perform the process and depending on the steps that could be automated, automation potential and the manual efforts that will be saved are calculated.\\r\\ncalculating the complexity of the process which is considered for automation and depending on all these factors number of bots and number of automation tool licenses are determined.\\r\\n\\u00e2\\u0080\\u00a2 implementing a proof of concept (poc) to validate feasibility by executing the selected critical use cases for conducting a poc which will helps to identify financial and operational benefits and provide recommendations regarding the actual need for complete automation.\\r\\n\\u00e2\\u0080\\u00a2 gathering business requirements by conducting detailed interviews with business users, stakeholders, and subject matter experts (sme's) \\u00e2\\u0080\\u00a2 preparing business requirement document and then converted business requirements into functional requirements specification.\\r\\n \\u00e2\\u0080\\u00a2 constructing prototype early toward a design acceptable to the customer and feasible.\\r\\n\\u00e2\\u0080\\u00a2 assisting in designing test plans, test scenarios and test cases for integration, regression, and user acceptance testing (uat) to improve the overall quality of the automation.\\r\\n\\u00e2\\u0080\\u00a2 participating regularly in walkthroughs and review meetings with project manager, qa engineers, and development team.\\r\\n\\u00e2\\u0080\\u00a2 regularly interacting with offshore and onshore development teams.\\r\\ncompany - fadv - first advantage\\r\\ndescription - is a criminal background check company that delivers global solutions ranging from employment screenings to background checks.\\r\\nthe following are the processes which were covered:\\r\\nemail process, research process, review process.\\r\\n\\r\\nresponsibilities: \\u00e2\\u0080\\u00a2 requirement gathering through conducting interviews & brainstorming sessions with stakeholders \\u00e2\\u0080\\u00a2 to develop decision models and execute those rules as per the use case specifications.\\r\\n\\u00e2\\u0080\\u00a2 to test/validate the decision models against document test data.\\r\\n\\u00e2\\u0080\\u00a2 to maintain and enhance the decision models for changes in regulations as per use case specifications.\\r\\n\\u00e2\\u0080\\u00a2 responsible for performing the business research that will make a business growth.\\r\\n\\u00e2\\u0080\\u00a2 developing a clear understanding of existing business functions and processes.\\r\\n\\u00e2\\u0080\\u00a2 effectively communicate with the onsite clients for the queries, suggestions, and update.\\r\\n\\u00e2\\u0080\\u00a2 giving suggestions to enhance the current processes.\\r\\n\\u00e2\\u0080\\u00a2 identifying areas for process improvement.\\r\\n\\u00e2\\u0080\\u00a2 flagging up potential problems at an early stage.\\r\\n\\u00e2\\u0080\\u00a2 preparing powerpoint presentations and documents for business meetings.\\r\\n\\u00e2\\u0080\\u00a2 using any information gathered to write up detailed reports.\\r\\n\\u00e2\\u0080\\u00a2 highlighting risks and issues that could impact project delivery.\\r\\n\\u00e2\\u0080\\u00a2 able to work accurately.\\r\\n\\u00e2\\u0080\\u00a2 to develop and maintain documentation for internal team training and client end user operations.\\r\\n\\u00e2\\u0080\\u00a2 to work efficiently with team members and across teams.\\r\\n\\u00e2\\u0080\\u00a2 to mentor and train junior team members.\\r\\ncompany - clinical testing, lab work and diagnostic testing\\r\\ndescription - iqvia provides services to its customers this includes: clinical testing, lab work and diagnostic testing under clinical trial. these customers need to pay to iqvia and aging details and invoices are generated for the same.\\r\\nthe following are the processes which were covered:\\r\\n\\r\\ntracking payments, automated real time metrics reporting (dashboard), past due notifications, ar statements, credit/rebill.\\r\\nresponsibilities: \\u00e2\\u0080\\u00a2 conducting meetings with clients and key stakeholders to gather requirements, analyze, finalize and have formal sign-offs from approvers gather and perform analysis of the business requirements \\u00e2\\u0080\\u00a2 translating the business requirements into the business requirement document [brd], functional requirement document [frd].\\r\\n\\u00e2\\u0080\\u00a2 facilitating meetings with the appropriate subject matter experts in both business and technology teams \\u00e2\\u0080\\u00a2 coordinating with business user community for the execution of user acceptance test as well as tracking issues \\u00e2\\u0080\\u00a2 working, collaborating and coordinating with offshore and onsite team members to fulfill the ba responsibilities from project initiation to post-implementation \\u00e2\\u0080\\u00a2 reviewing the test scripts with business users as well as technology team. execute test scripts with expected results for the system integration test (sit) and user acceptance test (uat) \\u00e2\\u0080\\u00a2 coordinating and conducting the production acceptance testing (pat) with the business users \\u00e2\\u0080\\u00a2 creating flow diagrams, structure charts, and other types of system or process representations \\u00e2\\u0080\\u00a2 managing changes to requirements and baseline through a change control process \\u00e2\\u0080\\u00a2 utilizing standard methods, design and testing tools throughout project development life cycle \\u00e2\\u0080\\u00a2 work closely with the operational functional teams, operations management, and personnel, and various technology teams to facilitate a shared understanding of requirements and priorities across all areas\\r\\ncompany - eduavenir it solution\\r\\ndescription - project: m.b.m.s\\r\\n\\r\\nm.b.m.s. - is an inventory management application that allows user to manage inventory details of different warehouses, having different products located at various locations and help extract what goods have been procured, sold or returned by customers. it generates automated invoicesalong withcustomized reports. it also managescustomer complaint and resolution system implementation along with automated mis on monthly basis.sales and forecastingis also developed on mis system and the streamlining of process of warehousing and dispatch along with online proof of delivery management system (pod documentation) is generated.\\r\\n\\r\\nresponsibilities: \\u00e2\\u0080\\u00a2 participate in requirement gathering discussion with client to understand the flow of business processes \\u00e2\\u0080\\u00a2 analyze the requirements and determine the core processes, develop process documentation and ensure to stay up-to-date in conjunction with on-going changes \\u00e2\\u0080\\u00a2 participate in process flow analysis and preparing brd, srs.\\r\\n\\u00e2\\u0080\\u00a2 coordinating with developers, designers & operations teams for various nuances of the project, communicate the stakeholder requirements from requirement /enhancement to implementation and finally deliver the same within estimated timeframe.\\r\\n\\u00e2\\u0080\\u00a2 support uat by reviewing test cases, manage version control of documents, software builds.\\r\\n\\u00e2\\u0080\\u00a2 coordinate with the stakeholders for uat sign off and coordinate internally for production movement till golive stage of the application.\\r\\n\\u00e2\\u0080\\u00a2 provide demo and training to internal and end user using powerpoint presentation.\\r\\n\\u00e2\\u0080\\u00a2 resolving project functional &technical issues during uat.\\r\\n\\u00e2\\u0080\\u00a2 prioritizing the production bugs and resolving the same within the estimated timeframe.\\r\\n\\u00e2\\u0080\\u00a2 preparing project status report and production bugs status to all the stakeholders.\\r\\n\\u00e2\\u0080\\u00a2 promoting and networking for online trading platform.\\r\\n\\u00e2\\u0080\\u00a2 designing query sheet for obtaining and comparison of quotes from various vendors.\\r\\n\\u00e2\\u0080\\u00a2 development of product codes / material codes for inventory management (master data management)\\r\\ncompany - capgemini head office\\r\\ndescription - type: mobile and device testing.       duration: january 2014 - august 2014\\r\\n\\r\\nfollet - an application which takes an electronic request from the user for the books he requires from a particular follet store. this detailed information about books that will include the name of the book, its price, the date of the transaction and the parties involved which will then be sent to follet stores. user then create request for one or more books for a given date. this request is then processed further and user gets a mail of the date when he will be provided with that book.\\r\\n\\r\\nresponsibilities: \\u00e2\\u0080\\u00a2 understanding the needs and business requirements.\\r\\n\\u00e2\\u0080\\u00a2 preparing brd, srs by eliciting all the requirements from the client and smes \\u00e2\\u0080\\u00a2 understanding the dependency of the modules in the system \\u00e2\\u0080\\u00a2 preparation of test plan for unit level and integration level.\\r\\n\\u00e2\\u0080\\u00a2 preparation and execution of test cases.\\r\\n\\u00e2\\u0080\\u00a2 defect tracking, issue resolution, risk monitoring, status tracking, reporting and follow-up.\\r\\n\\u00e2\\u0080\\u00a2 preparation of test completion report.\\r\\ncompany - capgemini head office\\r\\ndescription - \\r\\ncompany - capgemini head office\\r\\ndescription - humana is a health care insurance project of u.s. which deals with supplying various medicines to citizens as per the doctor's reference and patient's insurance policy. this application keeps track of all the medicines user has consumed in the past and generates a patient history. a citizen is given a drug only after the doctor's reference so the doctor's information is also linked with the patient's history.\\r\\n\\r\\nresponsibilities: \\u00e2\\u0080\\u00a2 understanding the requirements and getting clarifications from client.\\r\\n\\u00e2\\u0080\\u00a2 involved in writing test cases based on test scenarios and execute them.\\r\\n\\u00e2\\u0080\\u00a2 ensuring test coverage using requirement traceability matrix (rtm) \\u00e2\\u0080\\u00a2 preparation of test completion report.\\r\\ncompany - capgemini head office\\r\\ndescription - testing trends wqr (world quality report) is an application which allows the users to take a survey on different methods and technologies used for testing. users can choose to answer any type of questions under three different categories. users have a facility to search, view and export the data to excel. also, users get daily and weekly reports through email about the new trends in testing implemented around the globe. testing trends wqr app is available on android and ios platforms.\\r\\n\\r\\nresponsibilities: \\u00e2\\u0080\\u00a2 understanding the requirements and getting clarifications from client.\\r\\n\\u00e2\\u0080\\u00a2 writing test cases based on test scenarios and executed them.\\r\\n\\u00e2\\u0080\\u00a2 performing different types of testing such as functional, integration, system, and uat.\\r\\n\\u00e2\\u0080\\u00a2 defect resolution and maintenance of the application.\"\n        ],\n        \"semantic_type\": \"\",\n        \"description\": \"\"\n      }\n    },\n    {\n      \"column\": \"Cleaned_Resume\",\n      \"properties\": {\n        \"dtype\": \"category\",\n        \"num_unique_values\": 166,\n        \"samples\": [\n          \"key competencies \\u00e2\\u009c\\u00b6multi  operations management\\u00e2\\u009c\\u00b6people management \\u00e2\\u009c\\u00b6customer services  emails \\u00e2\\u009c\\u00b6 mis \\u00e2\\u009c\\u00b6vendor & client services management\\u00e2\\u009c\\u00b6cross functional coordination\\u00e2\\u009c\\u00b6banking & financial services\\u00e2\\u009c\\u00b6 transaction monitoring  atm operations \\u00e2\\u009c\\u00b6 & prepaid card operations (preissuance & postissuance) \\u00e2\\u009c\\u00b6 pos operations  job profile & skills \\u00e2\\u0080\\u00a2 an effective communicator with excellent relationship building & interpersonal skills strong analytical problem solving & organizational abilities \\u00e2\\u0080\\u00a2 extensive experience in managing operations with demonstrated leadership qualities & organisational skills during the tenure \\u00e2\\u0080\\u00a2 managing customer centric operations & ensuring customer satisfaction by achieving service quality norms \\u00e2\\u0080\\u00a2 analyzing of all operational problems customer complaints and take preventive and corrective actions to resolve the same \\u00e2\\u0080\\u00a2 receive and respond to key customer inquiries in an effective manner and provide relevant and timely information \\u00e2\\u0080\\u00a2 deft in steering banking backend operations analyzing risks and managing delinquencies with dexterity across applying techniques for maximizing recoveries and minimizing credit losses \\u00e2\\u0080\\u00a2 analyzed & identified training needs of the team members and developing organizing and conducting training programs and manage bottom quartile team to improve their performance \\u00e2\\u0080\\u00a2 preparing and maintaining daily mis reports to evaluate the performance and efficiency of the process relate to various verticals \\u00e2\\u0080\\u00a2 measuring the performance of the processes in terms of efficiency and effectiveness matrix and ensuring adherence to sla \\u00e2\\u0080\\u00a2 major activities define processes for field services were monitored and necessary checks were executed and controlled also measured vendor sla by analyzing the tat of vendors & the client sla provided to us \\u00e2\\u0080\\u00a2 as per company procedures handling & ensuring vendor's payment issues to be sorted out &payments are processed on quarterly basis \\u00e2\\u0080\\u00a2 appropriately plan and execute each skill of operations in accordance with the department's policies and procedures \\u00e2\\u0080\\u00a2 manage relationships with business team software development team and other services to achieve project objectives different software worked till now  a ctl prime  axis bank credit cards b insight  for pos machine technical operations for amex (mid & tid generation atos (venture infotek) c ticket management system  tata communications private services ltd (atm  noc operations) d branch portal (yalamanchili software exports ltd)  prepaid cards (sbi bank & zaggle prepaid oceans services ltd) zaggle prepaid ocean services pvt ltd oct 2017 to till date designation manager  operations (payment industry  prepaid cards  inr) education details commerce mumbai maharashtra mumbai universityoperations manager service manager  operations (payment industry  prepaid cards  inr & ftc)skill details operations exprience  73 monthssatisfaction exprience  48 monthstraining exprience  24 monthsnoc exprience  23 monthspoint of sale exprience  20 monthscompany details company  zaggle prepaid ocean services pvt ltddescription  card operationscompany  yalamanchili software exports ltddescription  247 operations pvt ltd) dec 2015 to feb 2017designation service manager  operations (payment industry  prepaid cards  inr & ftc)key contributions \\u00e2\\u0080\\u00a2 a resultoriented business professional in planning executing& managing processes improving efficiency of operations team building and detailing process information to determine effective result into operations\\u00e2\\u0080\\u00a2 ensuring pins generation (sla) is maintained and chargeback cases are raised in perfect timeframe\\u00e2\\u0080\\u00a2 managing email customer services properly and ensuring the emails are replied properly also ensuring transaction monitoring is properly managed 24/7\\u00e2\\u0080\\u00a2 assisting bankers (sbi & associated banks) for their bcp plans by getting executed in the system with the help of drpr plans & vice versa or any other business requirements\\u00e2\\u0080\\u00a2 expertise in maintaining highest level of quality in operations ensuring adherence to all the quality parameters and procedures as per the stringent norms\\u00e2\\u0080\\u00a2 lead manage and supervise the execution of external audit engagements and responsible for presenting the findings & developing a quality reports to the senior management and clients\\u00e2\\u0080\\u00a2 coach/mentor (20) team members to perform at a higher level by giving opportunities providing timely continuous feedback and working with staff to improve their communication time management decision making organization and analytical skills\\u00e2\\u0080\\u00a2 providing the solutions and services to the client in their own premises with aforesaid count of team members\\u00e2\\u0080\\u00a2 also ensuring end to end process of pr & dr as per client requirements (pr dr & dr pr) by interacting with internal & external stakeholders\\u00e2\\u0080\\u00a2 determining process gaps and designing & conducting training programs to enhance operational efficiency and retain talent by providing optimum opportunities for personal and professional growthcompany  credit cardsdescription  ensured highest standard of customer satisfaction and quality service developing new policies and procedures to improve based on customer feedback and resolving customer queries via correspondence inbound calls & email channels with the strength of (1216) team memberscompany  ags transact technologies limiteddescription  key contributions lead  spoc to bankscompany  tata communications payment solutions ltddescription  to make atms operational within tat by analyzing the issue is technical or nontechnical and also by interacting with internal & external stakeholderscompany  vertex customer solutions india private ltddescription  key contributions \\u00e2\\u0080\\u00a2 build positive working relationship with all team members and clients by keeping management informed of kyc document collection & concurrent audit progress responding timely to management inquiries understanding the business and conducting self professionallycompany  financial inclusion network & operations limiteddescription  key contributions posoperations \\u00e2\\u0080\\u00a2 cascading the adherence of process is strictly followed by team members & training them to reduce the downtime\\u00e2\\u0080\\u00a2 managing stock of edc terminals \\u00e2\\u0080\\u00a2 managing deployments of terminals through multiple teams \\u00e2\\u0080\\u00a2 would have worked with multiple terminal make & model \\u00e2\\u0080\\u00a2 managing inward outward & qc of applications installed in the pos machinescompany  venture infotek private ltddescription  key contributions posoperationscompany  axis bank ltd  customer servicesdescription  aug 2006 to oct 2009 (mafoi&i smart)designation team leader/executive  emails phone banking & correspondence unit (snail mails)\",\n          \"skill set hadoop map reduce hdfs hive sqoop java duration 2016 to 2017 role hadoop developer rplus offers an quick simple and powerful cloud based solution demand sense to accurately predict demand for your product in all your markets which combines enterprise and external data to predict demand more accurately through uses social conversation and sentiments to derive demand and identifies significant drivers of sale out of hordes of factors that selects the best suited model out of multiple forecasting models for each product responsibilities \\u00e2\\u0080\\u00a2 involved in deploying the product for customers gathering requirements and algorithm optimization at backend of the product \\u00e2\\u0080\\u00a2 load and transform large datasets of structured semi structured \\u00e2\\u0080\\u00a2 responsible to manage data coming from different sources and application \\u00e2\\u0080\\u00a2 supported map reduce programs those are running on the cluster \\u00e2\\u0080\\u00a2 involved in creating hive tables loading with data and writing hive queries which will run internally in map reduce wayeducation details hadoop developer hadoop developer  braindatawireskill details apache hadoop hdfs exprience  49 monthsapache hadoop sqoop exprience  49 monthshadoop exprience  49 monthshadoop exprience  49 monthshadoop distributed file system exprience  49 monthscompany details company  braindatawiredescription  technical skills\\u00e2\\u0080\\u00a2 programming core java map reduce scala\\u00e2\\u0080\\u00a2 hadoop tools hdfs spark map reduce sqoop hive hbase\\u00e2\\u0080\\u00a2 database mysql oracle\\u00e2\\u0080\\u00a2 scripting shell scripting\\u00e2\\u0080\\u00a2 ide eclipse\\u00e2\\u0080\\u00a2 operating systems linux (centos) windows\\u00e2\\u0080\\u00a2 source control git (github)\",\n          \"it skills area exposure modeling tool bizagi ms visio prototyping tool indigo studio documentation ms office (ms word ms excel ms power point) testing proficiency smoke sanity integration functional acceptance and ui methodology implemented waterfall agile (scrum) database sql testing tool hpqc business exposure education details  bachelor of computer engineering computer engineering mumbai maharashtra thadomal shahani engineering college diploma computer engineering ulhasnagar maharashtra institute of technology secondary school certificateulhasnagar maharashtra new english high schoolsenior business analyst  rpa senior business analyst  rpa  hexaware technologiesskill details documentation exprience  47 monthstesting exprience  29 monthsintegration exprience  25 monthsintegrator exprience  25 monthsprototype exprience  13 monthscompany details company  hexaware technologiesdescription  working as a rpa business analystcompany  bbh brown brothers harriman & codescription  is a private bank that provides commercial banking investment management brokerage and trust services to private companies and individuals it also performs merger advisory foreign exchange custody services commercial banking and corporate financing servicesresponsibilities \\u00e2\\u0080\\u00a2 performed automation assessment of various processes and identified processes which can be candidates of rpa\\u00e2\\u0080\\u00a2 conducting assessment that involves an initial understanding of the existing system their technology processes usage of the tools feasibility of tool with automation tool along with automation roi analysis\\u00e2\\u0080\\u00a2 preparing the automation potential sheet which describes the steps in the process the volume and frequency of the transaction the aht taken by sme to perform the process and depending on the steps that could be automated automation potential and the manual efforts that will be saved are calculatedcalculating the complexity of the process which is considered for automation and depending on all these factors number of bots and number of automation tool licenses are determined\\u00e2\\u0080\\u00a2 implementing a proof of concept (poc) to validate feasibility by executing the selected critical use cases for conducting a poc which will helps to identify financial and operational benefits and provide recommendations regarding the actual need for complete automation\\u00e2\\u0080\\u00a2 gathering business requirements by conducting detailed interviews with business users stakeholders and subject matter experts (sme's) \\u00e2\\u0080\\u00a2 preparing business requirement document and then converted business requirements into functional requirements specification \\u00e2\\u0080\\u00a2 constructing prototype early toward a design acceptable to the customer and feasible\\u00e2\\u0080\\u00a2 assisting in designing test plans test scenarios and test cases for integration regression and user acceptance testing (uat) to improve the overall quality of the automation\\u00e2\\u0080\\u00a2 participating regularly in walkthroughs and review meetings with project manager qa engineers and development team\\u00e2\\u0080\\u00a2 regularly interacting with offshore and onshore development teamscompany  fadv  first advantagedescription  is a criminal background check company that delivers global solutions ranging from employment screenings to background checksthe following are the processes which were coveredemail process research process review processresponsibilities \\u00e2\\u0080\\u00a2 requirement gathering through conducting interviews & brainstorming sessions with stakeholders \\u00e2\\u0080\\u00a2 to develop decision models and execute those rules as per the use case specifications\\u00e2\\u0080\\u00a2 to test/validate the decision models against document test data\\u00e2\\u0080\\u00a2 to maintain and enhance the decision models for changes in regulations as per use case specifications\\u00e2\\u0080\\u00a2 responsible for performing the business research that will make a business growth\\u00e2\\u0080\\u00a2 developing a clear understanding of existing business functions and processes\\u00e2\\u0080\\u00a2 effectively communicate with the onsite clients for the queries suggestions and update\\u00e2\\u0080\\u00a2 giving suggestions to enhance the current processes\\u00e2\\u0080\\u00a2 identifying areas for process improvement\\u00e2\\u0080\\u00a2 flagging up potential problems at an early stage\\u00e2\\u0080\\u00a2 preparing powerpoint presentations and documents for business meetings\\u00e2\\u0080\\u00a2 using any information gathered to write up detailed reports\\u00e2\\u0080\\u00a2 highlighting risks and issues that could impact project delivery\\u00e2\\u0080\\u00a2 able to work accurately\\u00e2\\u0080\\u00a2 to develop and maintain documentation for internal team training and client end user operations\\u00e2\\u0080\\u00a2 to work efficiently with team members and across teams\\u00e2\\u0080\\u00a2 to mentor and train junior team memberscompany  clinical testing lab work and diagnostic testingdescription  iqvia provides services to its customers this includes clinical testing lab work and diagnostic testing under clinical trial these customers need to pay to iqvia and aging details and invoices are generated for the samethe following are the processes which were coveredtracking payments automated real time metrics reporting (dashboard) past due notifications ar statements credit/rebillresponsibilities \\u00e2\\u0080\\u00a2 conducting meetings with clients and key stakeholders to gather requirements analyze finalize and have formal signoffs from approvers gather and perform analysis of the business requirements \\u00e2\\u0080\\u00a2 translating the business requirements into the business requirement document [brd] functional requirement document [frd]\\u00e2\\u0080\\u00a2 facilitating meetings with the appropriate subject matter experts in both business and technology teams \\u00e2\\u0080\\u00a2 coordinating with business user community for the execution of user acceptance test as well as tracking issues \\u00e2\\u0080\\u00a2 working collaborating and coordinating with offshore and onsite team members to fulfill the ba responsibilities from project initiation to postimplementation \\u00e2\\u0080\\u00a2 reviewing the test scripts with business users as well as technology team execute test scripts with expected results for the system integration test (sit) and user acceptance test (uat) \\u00e2\\u0080\\u00a2 coordinating and conducting the production acceptance testing (pat) with the business users \\u00e2\\u0080\\u00a2 creating flow diagrams structure charts and other types of system or process representations \\u00e2\\u0080\\u00a2 managing changes to requirements and baseline through a change control process \\u00e2\\u0080\\u00a2 utilizing standard methods design and testing tools throughout project development life cycle \\u00e2\\u0080\\u00a2 work closely with the operational functional teams operations management and personnel and various technology teams to facilitate a shared understanding of requirements and priorities across all areascompany  eduavenir it solutiondescription  project mbmsmbms  is an inventory management application that allows user to manage inventory details of different warehouses having different products located at various locations and help extract what goods have been procured sold or returned by customers it generates automated invoicesalong withcustomized reports it also managescustomer complaint and resolution system implementation along with automated mis on monthly basissales and forecastingis also developed on mis system and the streamlining of process of warehousing and dispatch along with online proof of delivery management system (pod documentation) is generatedresponsibilities \\u00e2\\u0080\\u00a2 participate in requirement gathering discussion with client to understand the flow of business processes \\u00e2\\u0080\\u00a2 analyze the requirements and determine the core processes develop process documentation and ensure to stay uptodate in conjunction with ongoing changes \\u00e2\\u0080\\u00a2 participate in process flow analysis and preparing brd srs\\u00e2\\u0080\\u00a2 coordinating with developers designers & operations teams for various nuances of the project communicate the stakeholder requirements from requirement /enhancement to implementation and finally deliver the same within estimated timeframe\\u00e2\\u0080\\u00a2 support uat by reviewing test cases manage version control of documents software builds\\u00e2\\u0080\\u00a2 coordinate with the stakeholders for uat sign off and coordinate internally for production movement till golive stage of the application\\u00e2\\u0080\\u00a2 provide demo and training to internal and end user using powerpoint presentation\\u00e2\\u0080\\u00a2 resolving project functional &technical issues during uat\\u00e2\\u0080\\u00a2 prioritizing the production bugs and resolving the same within the estimated timeframe\\u00e2\\u0080\\u00a2 preparing project status report and production bugs status to all the stakeholders\\u00e2\\u0080\\u00a2 promoting and networking for online trading platform\\u00e2\\u0080\\u00a2 designing query sheet for obtaining and comparison of quotes from various vendors\\u00e2\\u0080\\u00a2 development of product codes / material codes for inventory management (master data management)company  capgemini head officedescription  type mobile and device testing duration january 2014  august 2014follet  an application which takes an electronic request from the user for the books he requires from a particular follet store this detailed information about books that will include the name of the book its price the date of the transaction and the parties involved which will then be sent to follet stores user then create request for one or more books for a given date this request is then processed further and user gets a mail of the date when he will be provided with that bookresponsibilities \\u00e2\\u0080\\u00a2 understanding the needs and business requirements\\u00e2\\u0080\\u00a2 preparing brd srs by eliciting all the requirements from the client and smes \\u00e2\\u0080\\u00a2 understanding the dependency of the modules in the system \\u00e2\\u0080\\u00a2 preparation of test plan for unit level and integration level\\u00e2\\u0080\\u00a2 preparation and execution of test cases\\u00e2\\u0080\\u00a2 defect tracking issue resolution risk monitoring status tracking reporting and followup\\u00e2\\u0080\\u00a2 preparation of test completion reportcompany  capgemini head officedescription  company  capgemini head officedescription  humana is a health care insurance project of us which deals with supplying various medicines to citizens as per the doctor's reference and patient's insurance policy this application keeps track of all the medicines user has consumed in the past and generates a patient history a citizen is given a drug only after the doctor's reference so the doctor's information is also linked with the patient's historyresponsibilities \\u00e2\\u0080\\u00a2 understanding the requirements and getting clarifications from client\\u00e2\\u0080\\u00a2 involved in writing test cases based on test scenarios and execute them\\u00e2\\u0080\\u00a2 ensuring test coverage using requirement traceability matrix (rtm) \\u00e2\\u0080\\u00a2 preparation of test completion reportcompany  capgemini head officedescription  testing trends wqr (world quality report) is an application which allows the users to take a survey on different methods and technologies used for testing users can choose to answer any type of questions under three different categories users have a facility to search view and export the data to excel also users get daily and weekly reports through email about the new trends in testing implemented around the globe testing trends wqr app is available on android and ios platformsresponsibilities \\u00e2\\u0080\\u00a2 understanding the requirements and getting clarifications from client\\u00e2\\u0080\\u00a2 writing test cases based on test scenarios and executed them\\u00e2\\u0080\\u00a2 performing different types of testing such as functional integration system and uat\\u00e2\\u0080\\u00a2 defect resolution and maintenance of the application\"\n        ],\n        \"semantic_type\": \"\",\n        \"description\": \"\"\n      }\n    }\n  ]\n}"
            }
          },
          "metadata": {},
          "execution_count": 20
        }
      ]
    },
    {
      "cell_type": "markdown",
      "metadata": {
        "id": "2pBLoWMxAf64"
      },
      "source": [
        "**Exercise 7: Convert the categorical variable `Category` to a numerical feature and make a different column <font color=\"#990000\">`label`</font>, which can be treated as the target variable [0.5 Mark]**\n",
        "\n",
        "**Hint:** Use [`sklearn.preprocessing.LabelEncoder()`](https://scikit-learn.org/stable/modules/generated/sklearn.preprocessing.LabelEncoder.html) method"
      ]
    },
    {
      "cell_type": "code",
      "metadata": {
        "id": "kg4QNr7DYSJ5"
      },
      "source": [
        "from sklearn.preprocessing import LabelEncoder\n",
        "\n",
        "le = LabelEncoder()\n",
        "\n",
        "df[\"label\"] = le.fit_transform(df[\"Category\"])"
      ],
      "execution_count": null,
      "outputs": []
    },
    {
      "cell_type": "code",
      "source": [
        "df.head()"
      ],
      "metadata": {
        "colab": {
          "base_uri": "https://localhost:8080/",
          "height": 206
        },
        "id": "gKCZo83ByI3J",
        "outputId": "61c0c38e-e5db-4c5a-e850-dea7ae8e2d82"
      },
      "execution_count": null,
      "outputs": [
        {
          "output_type": "execute_result",
          "data": {
            "text/plain": [
              "       Category                                             Resume  \\\n",
              "0  Data Science  skills * programming languages: python (pandas...   \n",
              "1  Data Science  education details \\r\\nmay 2013 to may 2017 b.e...   \n",
              "2  Data Science  areas of interest deep learning, control syste...   \n",
              "3  Data Science  skills â¢ r â¢ python â¢ sap hana â¢ table...   \n",
              "4  Data Science  education details \\r\\n mca   ymcaust,  faridab...   \n",
              "\n",
              "                                      Cleaned_Resume  label  Count  \n",
              "0  skills  programming languages python (pandas n...      6    626  \n",
              "1  education details may 2013 to may 2017 be uitr...      6    129  \n",
              "2  areas of interest deep learning control system...      6    237  \n",
              "3  skills â¢ r â¢ python â¢ sap hana â¢ table...      6    868  \n",
              "4  education details  mca ymcaustfaridabadharyana...      6     52  "
            ],
            "text/html": [
              "\n",
              "  <div id=\"df-1651711c-15af-4445-9e8f-3fd7337a633e\" class=\"colab-df-container\">\n",
              "    <div>\n",
              "<style scoped>\n",
              "    .dataframe tbody tr th:only-of-type {\n",
              "        vertical-align: middle;\n",
              "    }\n",
              "\n",
              "    .dataframe tbody tr th {\n",
              "        vertical-align: top;\n",
              "    }\n",
              "\n",
              "    .dataframe thead th {\n",
              "        text-align: right;\n",
              "    }\n",
              "</style>\n",
              "<table border=\"1\" class=\"dataframe\">\n",
              "  <thead>\n",
              "    <tr style=\"text-align: right;\">\n",
              "      <th></th>\n",
              "      <th>Category</th>\n",
              "      <th>Resume</th>\n",
              "      <th>Cleaned_Resume</th>\n",
              "      <th>label</th>\n",
              "      <th>Count</th>\n",
              "    </tr>\n",
              "  </thead>\n",
              "  <tbody>\n",
              "    <tr>\n",
              "      <th>0</th>\n",
              "      <td>Data Science</td>\n",
              "      <td>skills * programming languages: python (pandas...</td>\n",
              "      <td>skills  programming languages python (pandas n...</td>\n",
              "      <td>6</td>\n",
              "      <td>626</td>\n",
              "    </tr>\n",
              "    <tr>\n",
              "      <th>1</th>\n",
              "      <td>Data Science</td>\n",
              "      <td>education details \\r\\nmay 2013 to may 2017 b.e...</td>\n",
              "      <td>education details may 2013 to may 2017 be uitr...</td>\n",
              "      <td>6</td>\n",
              "      <td>129</td>\n",
              "    </tr>\n",
              "    <tr>\n",
              "      <th>2</th>\n",
              "      <td>Data Science</td>\n",
              "      <td>areas of interest deep learning, control syste...</td>\n",
              "      <td>areas of interest deep learning control system...</td>\n",
              "      <td>6</td>\n",
              "      <td>237</td>\n",
              "    </tr>\n",
              "    <tr>\n",
              "      <th>3</th>\n",
              "      <td>Data Science</td>\n",
              "      <td>skills â¢ r â¢ python â¢ sap hana â¢ table...</td>\n",
              "      <td>skills â¢ r â¢ python â¢ sap hana â¢ table...</td>\n",
              "      <td>6</td>\n",
              "      <td>868</td>\n",
              "    </tr>\n",
              "    <tr>\n",
              "      <th>4</th>\n",
              "      <td>Data Science</td>\n",
              "      <td>education details \\r\\n mca   ymcaust,  faridab...</td>\n",
              "      <td>education details  mca ymcaustfaridabadharyana...</td>\n",
              "      <td>6</td>\n",
              "      <td>52</td>\n",
              "    </tr>\n",
              "  </tbody>\n",
              "</table>\n",
              "</div>\n",
              "    <div class=\"colab-df-buttons\">\n",
              "\n",
              "  <div class=\"colab-df-container\">\n",
              "    <button class=\"colab-df-convert\" onclick=\"convertToInteractive('df-1651711c-15af-4445-9e8f-3fd7337a633e')\"\n",
              "            title=\"Convert this dataframe to an interactive table.\"\n",
              "            style=\"display:none;\">\n",
              "\n",
              "  <svg xmlns=\"http://www.w3.org/2000/svg\" height=\"24px\" viewBox=\"0 -960 960 960\">\n",
              "    <path d=\"M120-120v-720h720v720H120Zm60-500h600v-160H180v160Zm220 220h160v-160H400v160Zm0 220h160v-160H400v160ZM180-400h160v-160H180v160Zm440 0h160v-160H620v160ZM180-180h160v-160H180v160Zm440 0h160v-160H620v160Z\"/>\n",
              "  </svg>\n",
              "    </button>\n",
              "\n",
              "  <style>\n",
              "    .colab-df-container {\n",
              "      display:flex;\n",
              "      gap: 12px;\n",
              "    }\n",
              "\n",
              "    .colab-df-convert {\n",
              "      background-color: #E8F0FE;\n",
              "      border: none;\n",
              "      border-radius: 50%;\n",
              "      cursor: pointer;\n",
              "      display: none;\n",
              "      fill: #1967D2;\n",
              "      height: 32px;\n",
              "      padding: 0 0 0 0;\n",
              "      width: 32px;\n",
              "    }\n",
              "\n",
              "    .colab-df-convert:hover {\n",
              "      background-color: #E2EBFA;\n",
              "      box-shadow: 0px 1px 2px rgba(60, 64, 67, 0.3), 0px 1px 3px 1px rgba(60, 64, 67, 0.15);\n",
              "      fill: #174EA6;\n",
              "    }\n",
              "\n",
              "    .colab-df-buttons div {\n",
              "      margin-bottom: 4px;\n",
              "    }\n",
              "\n",
              "    [theme=dark] .colab-df-convert {\n",
              "      background-color: #3B4455;\n",
              "      fill: #D2E3FC;\n",
              "    }\n",
              "\n",
              "    [theme=dark] .colab-df-convert:hover {\n",
              "      background-color: #434B5C;\n",
              "      box-shadow: 0px 1px 3px 1px rgba(0, 0, 0, 0.15);\n",
              "      filter: drop-shadow(0px 1px 2px rgba(0, 0, 0, 0.3));\n",
              "      fill: #FFFFFF;\n",
              "    }\n",
              "  </style>\n",
              "\n",
              "    <script>\n",
              "      const buttonEl =\n",
              "        document.querySelector('#df-1651711c-15af-4445-9e8f-3fd7337a633e button.colab-df-convert');\n",
              "      buttonEl.style.display =\n",
              "        google.colab.kernel.accessAllowed ? 'block' : 'none';\n",
              "\n",
              "      async function convertToInteractive(key) {\n",
              "        const element = document.querySelector('#df-1651711c-15af-4445-9e8f-3fd7337a633e');\n",
              "        const dataTable =\n",
              "          await google.colab.kernel.invokeFunction('convertToInteractive',\n",
              "                                                    [key], {});\n",
              "        if (!dataTable) return;\n",
              "\n",
              "        const docLinkHtml = 'Like what you see? Visit the ' +\n",
              "          '<a target=\"_blank\" href=https://colab.research.google.com/notebooks/data_table.ipynb>data table notebook</a>'\n",
              "          + ' to learn more about interactive tables.';\n",
              "        element.innerHTML = '';\n",
              "        dataTable['output_type'] = 'display_data';\n",
              "        await google.colab.output.renderOutput(dataTable, element);\n",
              "        const docLink = document.createElement('div');\n",
              "        docLink.innerHTML = docLinkHtml;\n",
              "        element.appendChild(docLink);\n",
              "      }\n",
              "    </script>\n",
              "  </div>\n",
              "\n",
              "\n",
              "<div id=\"df-ce0e634c-019d-4349-9caf-13e481ab97cf\">\n",
              "  <button class=\"colab-df-quickchart\" onclick=\"quickchart('df-ce0e634c-019d-4349-9caf-13e481ab97cf')\"\n",
              "            title=\"Suggest charts\"\n",
              "            style=\"display:none;\">\n",
              "\n",
              "<svg xmlns=\"http://www.w3.org/2000/svg\" height=\"24px\"viewBox=\"0 0 24 24\"\n",
              "     width=\"24px\">\n",
              "    <g>\n",
              "        <path d=\"M19 3H5c-1.1 0-2 .9-2 2v14c0 1.1.9 2 2 2h14c1.1 0 2-.9 2-2V5c0-1.1-.9-2-2-2zM9 17H7v-7h2v7zm4 0h-2V7h2v10zm4 0h-2v-4h2v4z\"/>\n",
              "    </g>\n",
              "</svg>\n",
              "  </button>\n",
              "\n",
              "<style>\n",
              "  .colab-df-quickchart {\n",
              "      --bg-color: #E8F0FE;\n",
              "      --fill-color: #1967D2;\n",
              "      --hover-bg-color: #E2EBFA;\n",
              "      --hover-fill-color: #174EA6;\n",
              "      --disabled-fill-color: #AAA;\n",
              "      --disabled-bg-color: #DDD;\n",
              "  }\n",
              "\n",
              "  [theme=dark] .colab-df-quickchart {\n",
              "      --bg-color: #3B4455;\n",
              "      --fill-color: #D2E3FC;\n",
              "      --hover-bg-color: #434B5C;\n",
              "      --hover-fill-color: #FFFFFF;\n",
              "      --disabled-bg-color: #3B4455;\n",
              "      --disabled-fill-color: #666;\n",
              "  }\n",
              "\n",
              "  .colab-df-quickchart {\n",
              "    background-color: var(--bg-color);\n",
              "    border: none;\n",
              "    border-radius: 50%;\n",
              "    cursor: pointer;\n",
              "    display: none;\n",
              "    fill: var(--fill-color);\n",
              "    height: 32px;\n",
              "    padding: 0;\n",
              "    width: 32px;\n",
              "  }\n",
              "\n",
              "  .colab-df-quickchart:hover {\n",
              "    background-color: var(--hover-bg-color);\n",
              "    box-shadow: 0 1px 2px rgba(60, 64, 67, 0.3), 0 1px 3px 1px rgba(60, 64, 67, 0.15);\n",
              "    fill: var(--button-hover-fill-color);\n",
              "  }\n",
              "\n",
              "  .colab-df-quickchart-complete:disabled,\n",
              "  .colab-df-quickchart-complete:disabled:hover {\n",
              "    background-color: var(--disabled-bg-color);\n",
              "    fill: var(--disabled-fill-color);\n",
              "    box-shadow: none;\n",
              "  }\n",
              "\n",
              "  .colab-df-spinner {\n",
              "    border: 2px solid var(--fill-color);\n",
              "    border-color: transparent;\n",
              "    border-bottom-color: var(--fill-color);\n",
              "    animation:\n",
              "      spin 1s steps(1) infinite;\n",
              "  }\n",
              "\n",
              "  @keyframes spin {\n",
              "    0% {\n",
              "      border-color: transparent;\n",
              "      border-bottom-color: var(--fill-color);\n",
              "      border-left-color: var(--fill-color);\n",
              "    }\n",
              "    20% {\n",
              "      border-color: transparent;\n",
              "      border-left-color: var(--fill-color);\n",
              "      border-top-color: var(--fill-color);\n",
              "    }\n",
              "    30% {\n",
              "      border-color: transparent;\n",
              "      border-left-color: var(--fill-color);\n",
              "      border-top-color: var(--fill-color);\n",
              "      border-right-color: var(--fill-color);\n",
              "    }\n",
              "    40% {\n",
              "      border-color: transparent;\n",
              "      border-right-color: var(--fill-color);\n",
              "      border-top-color: var(--fill-color);\n",
              "    }\n",
              "    60% {\n",
              "      border-color: transparent;\n",
              "      border-right-color: var(--fill-color);\n",
              "    }\n",
              "    80% {\n",
              "      border-color: transparent;\n",
              "      border-right-color: var(--fill-color);\n",
              "      border-bottom-color: var(--fill-color);\n",
              "    }\n",
              "    90% {\n",
              "      border-color: transparent;\n",
              "      border-bottom-color: var(--fill-color);\n",
              "    }\n",
              "  }\n",
              "</style>\n",
              "\n",
              "  <script>\n",
              "    async function quickchart(key) {\n",
              "      const quickchartButtonEl =\n",
              "        document.querySelector('#' + key + ' button');\n",
              "      quickchartButtonEl.disabled = true;  // To prevent multiple clicks.\n",
              "      quickchartButtonEl.classList.add('colab-df-spinner');\n",
              "      try {\n",
              "        const charts = await google.colab.kernel.invokeFunction(\n",
              "            'suggestCharts', [key], {});\n",
              "      } catch (error) {\n",
              "        console.error('Error during call to suggestCharts:', error);\n",
              "      }\n",
              "      quickchartButtonEl.classList.remove('colab-df-spinner');\n",
              "      quickchartButtonEl.classList.add('colab-df-quickchart-complete');\n",
              "    }\n",
              "    (() => {\n",
              "      let quickchartButtonEl =\n",
              "        document.querySelector('#df-ce0e634c-019d-4349-9caf-13e481ab97cf button');\n",
              "      quickchartButtonEl.style.display =\n",
              "        google.colab.kernel.accessAllowed ? 'block' : 'none';\n",
              "    })();\n",
              "  </script>\n",
              "</div>\n",
              "\n",
              "    </div>\n",
              "  </div>\n"
            ],
            "application/vnd.google.colaboratory.intrinsic+json": {
              "type": "dataframe",
              "variable_name": "df",
              "summary": "{\n  \"name\": \"df\",\n  \"rows\": 962,\n  \"fields\": [\n    {\n      \"column\": \"Category\",\n      \"properties\": {\n        \"dtype\": \"category\",\n        \"num_unique_values\": 25,\n        \"samples\": [\n          \"Civil Engineer\",\n          \"DevOps Engineer\",\n          \"Data Science\"\n        ],\n        \"semantic_type\": \"\",\n        \"description\": \"\"\n      }\n    },\n    {\n      \"column\": \"Resume\",\n      \"properties\": {\n        \"dtype\": \"category\",\n        \"num_unique_values\": 166,\n        \"samples\": [\n          \"key competencies \\u00e2\\u009c\\u00b6multi - operations management\\u00e2\\u009c\\u00b6people management \\u00e2\\u009c\\u00b6customer services - emails \\u00e2\\u009c\\u00b6 mis \\u00e2\\u009c\\u00b6vendor & client services management\\u00e2\\u009c\\u00b6cross functional coordination\\u00e2\\u009c\\u00b6banking & financial services\\u00e2\\u009c\\u00b6 transaction monitoring * atm operations \\u00e2\\u009c\\u00b6 & prepaid card operations (pre-issuance & post-issuance) \\u00e2\\u009c\\u00b6 pos operations * job profile & skills: \\u00e2\\u0080\\u00a2 an effective communicator with excellent relationship building & interpersonal skills. strong analytical, problem solving & organizational abilities. \\u00e2\\u0080\\u00a2 extensive experience in managing operations with demonstrated leadership qualities & organisational skills during the tenure. \\u00e2\\u0080\\u00a2 managing customer centric operations & ensuring customer satisfaction by achieving service quality norms. \\u00e2\\u0080\\u00a2 analyzing of all operational problems, customer complaints and take preventive and corrective actions to resolve the same. \\u00e2\\u0080\\u00a2 receive and respond to key customer inquiries in an effective manner and provide relevant and timely information. \\u00e2\\u0080\\u00a2 deft in steering banking back-end operations, analyzing risks and managing delinquencies with dexterity across applying techniques for maximizing recoveries and minimizing credit losses. \\u00e2\\u0080\\u00a2 analyzed & identified training needs of the team members and developing, organizing and conducting training programs and manage bottom quartile team to improve their performance. \\u00e2\\u0080\\u00a2 preparing and maintaining daily mis reports to evaluate the performance and efficiency of the process relate to various verticals. \\u00e2\\u0080\\u00a2 measuring the performance of the processes in terms of efficiency and effectiveness matrix and ensuring adherence to sla. \\u00e2\\u0080\\u00a2 major activities define processes for field services were monitored and necessary checks were executed and controlled. also measured vendor sla by analyzing the tat of vendors & the client sla provided to us. \\u00e2\\u0080\\u00a2 as per company procedures, handling & ensuring vendor's payment issues to be sorted out &payments are processed on quarterly basis. \\u00e2\\u0080\\u00a2 appropriately plan and execute each skill of operations in accordance with the department's policies and procedures. \\u00e2\\u0080\\u00a2 manage relationships with business team, software development team and other services to achieve project objectives. different software worked till now: - a. ctl prime - axis bank credit cards b. insight - for pos machine technical operations for amex (mid & tid generation- atos (venture infotek) c. ticket management system - tata communications private services ltd (atm - noc operations) d. branch portal (yalamanchili software exports ltd) - prepaid cards (sbi bank & zaggle prepaid oceans services ltd) zaggle prepaid ocean services pvt ltd oct, 2017 to till date designation: manager - operations (payment industry - prepaid cards - inr) education details \\r\\n  commerce mumbai, maharashtra mumbai university\\r\\noperations manager \\r\\n\\r\\nservice manager - operations (payment industry - prepaid cards - inr & ftc)\\r\\nskill details \\r\\noperations- exprience - 73 months\\r\\nsatisfaction- exprience - 48 months\\r\\ntraining- exprience - 24 months\\r\\nnoc- exprience - 23 months\\r\\npoint of sale- exprience - 20 monthscompany details \\r\\ncompany - zaggle prepaid ocean services pvt ltd\\r\\ndescription - card operations\\r\\ncompany - yalamanchili software exports ltd\\r\\ndescription - 24*7 operations pvt ltd) dec 2015 to feb 2017\\r\\n\\r\\ndesignation: service manager - operations (payment industry - prepaid cards - inr & ftc)\\r\\n\\r\\nkey contributions: \\u00e2\\u0080\\u00a2 a result-oriented business professional in planning, executing& managing processes, improving efficiency of operations, team building and detailing process information to determine effective result into operations.\\r\\n\\u00e2\\u0080\\u00a2 ensuring pins generation (sla) is maintained and chargeback cases are raised in perfect timeframe.\\r\\n\\u00e2\\u0080\\u00a2 managing email customer services properly and ensuring the emails are replied properly. also, ensuring transaction monitoring is properly managed 24/7.\\r\\n\\u00e2\\u0080\\u00a2 assisting bankers (sbi & associated banks) for their bcp plans by getting executed in the system with the help of dr-pr plans & vice versa or any other business requirements.\\r\\n\\u00e2\\u0080\\u00a2 expertise in maintaining highest level of quality in operations; ensuring adherence to all the quality parameters and procedures as per the stringent norms.\\r\\n\\u00e2\\u0080\\u00a2 lead, manage and supervise the execution of external audit engagements and responsible for presenting the findings & developing a quality reports to the senior management and clients.\\r\\n\\u00e2\\u0080\\u00a2 coach/mentor (20) team members to perform at a higher level by giving opportunities, providing timely continuous feedback and working with staff to improve their communication, time management, decision making, organization, and analytical skills.\\r\\n\\u00e2\\u0080\\u00a2 providing the solutions and services to the client in their own premises with aforesaid count of team members.\\r\\n\\u00e2\\u0080\\u00a2 also ensuring end to end process of pr & dr as per client requirements (pr- dr & dr -pr) by interacting with internal & external stakeholders.\\r\\n\\u00e2\\u0080\\u00a2 determining process gaps and designing & conducting training programs to enhance operational efficiency and retain talent by providing optimum opportunities for personal and professional growth.\\r\\ncompany - credit cards\\r\\ndescription - ensured highest standard of customer satisfaction and quality service; developing new policies and procedures to improve based on customer feedback and resolving customer queries via correspondence, inbound calls & email channels with the strength of (12-16) team members.\\r\\ncompany - ags transact technologies limited\\r\\ndescription - key contributions: lead - spoc to banks\\r\\ncompany - tata communications payment solutions ltd\\r\\ndescription - to make atms operational within tat by analyzing the issue is technical or non-technical and also by interacting with internal & external stakeholders.\\r\\ncompany - vertex customer solutions india private ltd\\r\\ndescription - key contributions: \\u00e2\\u0080\\u00a2 build positive working relationship with all team members and clients by keeping management informed   of kyc document collection & con-current audit progress, responding timely to management inquiries, understanding the business and conducting self professionally.\\r\\ncompany - financial inclusion network & operations limited\\r\\ndescription - key contributions: pos-operations \\u00e2\\u0080\\u00a2 cascading the adherence of process is strictly followed by team members & training them to reduce the downtime.\\r\\n\\u00e2\\u0080\\u00a2 managing stock of edc terminals \\u00e2\\u0080\\u00a2 managing deployments of terminals through multiple teams \\u00e2\\u0080\\u00a2 would have worked with multiple terminal make & model \\u00e2\\u0080\\u00a2 managing inward, outward & qc of applications installed in the pos machines.\\r\\ncompany - venture infotek private ltd\\r\\ndescription - key contributions: pos-operations\\r\\ncompany - axis bank ltd - customer services\\r\\ndescription - aug 2006 to oct 2009 (ma-foi&i- smart)\\r\\n\\r\\ndesignation: team leader/executive - emails, phone banking & correspondence unit (snail mails)\",\n          \"skill set: hadoop, map reduce, hdfs, hive, sqoop, java. duration: 2016 to 2017. role: hadoop developer rplus offers an quick, simple and powerful cloud based solution, demand sense to accurately predict demand for your product in all your markets which combines enterprise and external data to predict demand more accurately through uses social conversation and sentiments to derive demand and identifies significant drivers of sale out of hordes of factors that selects the best suited model out of multiple forecasting models for each product. responsibilities: \\u00e2\\u0080\\u00a2 involved in deploying the product for customers, gathering requirements and algorithm optimization at backend of the product. \\u00e2\\u0080\\u00a2 load and transform large datasets of structured semi structured. \\u00e2\\u0080\\u00a2 responsible to manage data coming from different sources and application \\u00e2\\u0080\\u00a2 supported map reduce programs those are running on the cluster \\u00e2\\u0080\\u00a2 involved in creating hive tables, loading with data and writing hive queries which will run internally in map reduce way.education details \\r\\n\\r\\nhadoop developer \\r\\n\\r\\nhadoop developer - braindatawire\\r\\nskill details \\r\\napache hadoop hdfs- exprience - 49 months\\r\\napache hadoop sqoop- exprience - 49 months\\r\\nhadoop- exprience - 49 months\\r\\nhadoop- exprience - 49 months\\r\\nhadoop distributed file system- exprience - 49 monthscompany details \\r\\ncompany - braindatawire\\r\\ndescription - technical skills:\\r\\n\\u00e2\\u0080\\u00a2   programming: core java, map reduce, scala\\r\\n\\u00e2\\u0080\\u00a2   hadoop tools: hdfs, spark, map reduce, sqoop, hive, hbase\\r\\n\\u00e2\\u0080\\u00a2   database: mysql, oracle\\r\\n\\u00e2\\u0080\\u00a2   scripting: shell scripting\\r\\n\\u00e2\\u0080\\u00a2   ide: eclipse\\r\\n\\u00e2\\u0080\\u00a2   operating systems: linux (centos), windows\\r\\n\\u00e2\\u0080\\u00a2   source control: git (github)\",\n          \"it skills: area exposure modeling tool: bizagi, ms visio prototyping tool: indigo studio. documentation: ms office (ms word, ms excel, ms power point) testing proficiency: smoke, sanity, integration, functional, acceptance and ui methodology implemented: waterfall, agile (scrum) database: sql testing tool: hpqc business exposure education details \\r\\n bachelor of computer engineering computer engineering mumbai, maharashtra thadomal shahani engineering college\\r\\n diploma computer engineering ulhasnagar, maharashtra institute of technology\\r\\n secondary school certificate  ulhasnagar, maharashtra new english high school\\r\\nsenior business analyst - rpa \\r\\n\\r\\nsenior business analyst - rpa - hexaware technologies\\r\\nskill details \\r\\ndocumentation- exprience - 47 months\\r\\ntesting- exprience - 29 months\\r\\nintegration- exprience - 25 months\\r\\nintegrator- exprience - 25 months\\r\\nprototype- exprience - 13 monthscompany details \\r\\ncompany - hexaware technologies\\r\\ndescription - working as a rpa business analyst\\r\\ncompany - bbh- brown brothers harriman & co\\r\\ndescription - is a private bank that provides commercial banking, investment management, brokerage, and trust services to private companies and individuals. it also performs merger advisory, foreign exchange, custody services, commercial banking, and corporate financing services.\\r\\n\\r\\nresponsibilities: \\u00e2\\u0080\\u00a2 performed automation assessment of various processes and identified processes which can be candidates of rpa.\\r\\n\\u00e2\\u0080\\u00a2 conducting assessment that involves an initial understanding of the existing system, their technology, processes, usage of the tools, feasibility of tool with automation tool along with automation roi analysis.\\r\\n\\u00e2\\u0080\\u00a2 preparing the automation potential sheet which describes the steps in the process, the volume and frequency of the transaction, the aht taken by sme to perform the process and depending on the steps that could be automated, automation potential and the manual efforts that will be saved are calculated.\\r\\ncalculating the complexity of the process which is considered for automation and depending on all these factors number of bots and number of automation tool licenses are determined.\\r\\n\\u00e2\\u0080\\u00a2 implementing a proof of concept (poc) to validate feasibility by executing the selected critical use cases for conducting a poc which will helps to identify financial and operational benefits and provide recommendations regarding the actual need for complete automation.\\r\\n\\u00e2\\u0080\\u00a2 gathering business requirements by conducting detailed interviews with business users, stakeholders, and subject matter experts (sme's) \\u00e2\\u0080\\u00a2 preparing business requirement document and then converted business requirements into functional requirements specification.\\r\\n \\u00e2\\u0080\\u00a2 constructing prototype early toward a design acceptable to the customer and feasible.\\r\\n\\u00e2\\u0080\\u00a2 assisting in designing test plans, test scenarios and test cases for integration, regression, and user acceptance testing (uat) to improve the overall quality of the automation.\\r\\n\\u00e2\\u0080\\u00a2 participating regularly in walkthroughs and review meetings with project manager, qa engineers, and development team.\\r\\n\\u00e2\\u0080\\u00a2 regularly interacting with offshore and onshore development teams.\\r\\ncompany - fadv - first advantage\\r\\ndescription - is a criminal background check company that delivers global solutions ranging from employment screenings to background checks.\\r\\nthe following are the processes which were covered:\\r\\nemail process, research process, review process.\\r\\n\\r\\nresponsibilities: \\u00e2\\u0080\\u00a2 requirement gathering through conducting interviews & brainstorming sessions with stakeholders \\u00e2\\u0080\\u00a2 to develop decision models and execute those rules as per the use case specifications.\\r\\n\\u00e2\\u0080\\u00a2 to test/validate the decision models against document test data.\\r\\n\\u00e2\\u0080\\u00a2 to maintain and enhance the decision models for changes in regulations as per use case specifications.\\r\\n\\u00e2\\u0080\\u00a2 responsible for performing the business research that will make a business growth.\\r\\n\\u00e2\\u0080\\u00a2 developing a clear understanding of existing business functions and processes.\\r\\n\\u00e2\\u0080\\u00a2 effectively communicate with the onsite clients for the queries, suggestions, and update.\\r\\n\\u00e2\\u0080\\u00a2 giving suggestions to enhance the current processes.\\r\\n\\u00e2\\u0080\\u00a2 identifying areas for process improvement.\\r\\n\\u00e2\\u0080\\u00a2 flagging up potential problems at an early stage.\\r\\n\\u00e2\\u0080\\u00a2 preparing powerpoint presentations and documents for business meetings.\\r\\n\\u00e2\\u0080\\u00a2 using any information gathered to write up detailed reports.\\r\\n\\u00e2\\u0080\\u00a2 highlighting risks and issues that could impact project delivery.\\r\\n\\u00e2\\u0080\\u00a2 able to work accurately.\\r\\n\\u00e2\\u0080\\u00a2 to develop and maintain documentation for internal team training and client end user operations.\\r\\n\\u00e2\\u0080\\u00a2 to work efficiently with team members and across teams.\\r\\n\\u00e2\\u0080\\u00a2 to mentor and train junior team members.\\r\\ncompany - clinical testing, lab work and diagnostic testing\\r\\ndescription - iqvia provides services to its customers this includes: clinical testing, lab work and diagnostic testing under clinical trial. these customers need to pay to iqvia and aging details and invoices are generated for the same.\\r\\nthe following are the processes which were covered:\\r\\n\\r\\ntracking payments, automated real time metrics reporting (dashboard), past due notifications, ar statements, credit/rebill.\\r\\nresponsibilities: \\u00e2\\u0080\\u00a2 conducting meetings with clients and key stakeholders to gather requirements, analyze, finalize and have formal sign-offs from approvers gather and perform analysis of the business requirements \\u00e2\\u0080\\u00a2 translating the business requirements into the business requirement document [brd], functional requirement document [frd].\\r\\n\\u00e2\\u0080\\u00a2 facilitating meetings with the appropriate subject matter experts in both business and technology teams \\u00e2\\u0080\\u00a2 coordinating with business user community for the execution of user acceptance test as well as tracking issues \\u00e2\\u0080\\u00a2 working, collaborating and coordinating with offshore and onsite team members to fulfill the ba responsibilities from project initiation to post-implementation \\u00e2\\u0080\\u00a2 reviewing the test scripts with business users as well as technology team. execute test scripts with expected results for the system integration test (sit) and user acceptance test (uat) \\u00e2\\u0080\\u00a2 coordinating and conducting the production acceptance testing (pat) with the business users \\u00e2\\u0080\\u00a2 creating flow diagrams, structure charts, and other types of system or process representations \\u00e2\\u0080\\u00a2 managing changes to requirements and baseline through a change control process \\u00e2\\u0080\\u00a2 utilizing standard methods, design and testing tools throughout project development life cycle \\u00e2\\u0080\\u00a2 work closely with the operational functional teams, operations management, and personnel, and various technology teams to facilitate a shared understanding of requirements and priorities across all areas\\r\\ncompany - eduavenir it solution\\r\\ndescription - project: m.b.m.s\\r\\n\\r\\nm.b.m.s. - is an inventory management application that allows user to manage inventory details of different warehouses, having different products located at various locations and help extract what goods have been procured, sold or returned by customers. it generates automated invoicesalong withcustomized reports. it also managescustomer complaint and resolution system implementation along with automated mis on monthly basis.sales and forecastingis also developed on mis system and the streamlining of process of warehousing and dispatch along with online proof of delivery management system (pod documentation) is generated.\\r\\n\\r\\nresponsibilities: \\u00e2\\u0080\\u00a2 participate in requirement gathering discussion with client to understand the flow of business processes \\u00e2\\u0080\\u00a2 analyze the requirements and determine the core processes, develop process documentation and ensure to stay up-to-date in conjunction with on-going changes \\u00e2\\u0080\\u00a2 participate in process flow analysis and preparing brd, srs.\\r\\n\\u00e2\\u0080\\u00a2 coordinating with developers, designers & operations teams for various nuances of the project, communicate the stakeholder requirements from requirement /enhancement to implementation and finally deliver the same within estimated timeframe.\\r\\n\\u00e2\\u0080\\u00a2 support uat by reviewing test cases, manage version control of documents, software builds.\\r\\n\\u00e2\\u0080\\u00a2 coordinate with the stakeholders for uat sign off and coordinate internally for production movement till golive stage of the application.\\r\\n\\u00e2\\u0080\\u00a2 provide demo and training to internal and end user using powerpoint presentation.\\r\\n\\u00e2\\u0080\\u00a2 resolving project functional &technical issues during uat.\\r\\n\\u00e2\\u0080\\u00a2 prioritizing the production bugs and resolving the same within the estimated timeframe.\\r\\n\\u00e2\\u0080\\u00a2 preparing project status report and production bugs status to all the stakeholders.\\r\\n\\u00e2\\u0080\\u00a2 promoting and networking for online trading platform.\\r\\n\\u00e2\\u0080\\u00a2 designing query sheet for obtaining and comparison of quotes from various vendors.\\r\\n\\u00e2\\u0080\\u00a2 development of product codes / material codes for inventory management (master data management)\\r\\ncompany - capgemini head office\\r\\ndescription - type: mobile and device testing.       duration: january 2014 - august 2014\\r\\n\\r\\nfollet - an application which takes an electronic request from the user for the books he requires from a particular follet store. this detailed information about books that will include the name of the book, its price, the date of the transaction and the parties involved which will then be sent to follet stores. user then create request for one or more books for a given date. this request is then processed further and user gets a mail of the date when he will be provided with that book.\\r\\n\\r\\nresponsibilities: \\u00e2\\u0080\\u00a2 understanding the needs and business requirements.\\r\\n\\u00e2\\u0080\\u00a2 preparing brd, srs by eliciting all the requirements from the client and smes \\u00e2\\u0080\\u00a2 understanding the dependency of the modules in the system \\u00e2\\u0080\\u00a2 preparation of test plan for unit level and integration level.\\r\\n\\u00e2\\u0080\\u00a2 preparation and execution of test cases.\\r\\n\\u00e2\\u0080\\u00a2 defect tracking, issue resolution, risk monitoring, status tracking, reporting and follow-up.\\r\\n\\u00e2\\u0080\\u00a2 preparation of test completion report.\\r\\ncompany - capgemini head office\\r\\ndescription - \\r\\ncompany - capgemini head office\\r\\ndescription - humana is a health care insurance project of u.s. which deals with supplying various medicines to citizens as per the doctor's reference and patient's insurance policy. this application keeps track of all the medicines user has consumed in the past and generates a patient history. a citizen is given a drug only after the doctor's reference so the doctor's information is also linked with the patient's history.\\r\\n\\r\\nresponsibilities: \\u00e2\\u0080\\u00a2 understanding the requirements and getting clarifications from client.\\r\\n\\u00e2\\u0080\\u00a2 involved in writing test cases based on test scenarios and execute them.\\r\\n\\u00e2\\u0080\\u00a2 ensuring test coverage using requirement traceability matrix (rtm) \\u00e2\\u0080\\u00a2 preparation of test completion report.\\r\\ncompany - capgemini head office\\r\\ndescription - testing trends wqr (world quality report) is an application which allows the users to take a survey on different methods and technologies used for testing. users can choose to answer any type of questions under three different categories. users have a facility to search, view and export the data to excel. also, users get daily and weekly reports through email about the new trends in testing implemented around the globe. testing trends wqr app is available on android and ios platforms.\\r\\n\\r\\nresponsibilities: \\u00e2\\u0080\\u00a2 understanding the requirements and getting clarifications from client.\\r\\n\\u00e2\\u0080\\u00a2 writing test cases based on test scenarios and executed them.\\r\\n\\u00e2\\u0080\\u00a2 performing different types of testing such as functional, integration, system, and uat.\\r\\n\\u00e2\\u0080\\u00a2 defect resolution and maintenance of the application.\"\n        ],\n        \"semantic_type\": \"\",\n        \"description\": \"\"\n      }\n    },\n    {\n      \"column\": \"Cleaned_Resume\",\n      \"properties\": {\n        \"dtype\": \"category\",\n        \"num_unique_values\": 166,\n        \"samples\": [\n          \"key competencies \\u00e2\\u009c\\u00b6multi  operations management\\u00e2\\u009c\\u00b6people management \\u00e2\\u009c\\u00b6customer services  emails \\u00e2\\u009c\\u00b6 mis \\u00e2\\u009c\\u00b6vendor & client services management\\u00e2\\u009c\\u00b6cross functional coordination\\u00e2\\u009c\\u00b6banking & financial services\\u00e2\\u009c\\u00b6 transaction monitoring  atm operations \\u00e2\\u009c\\u00b6 & prepaid card operations (preissuance & postissuance) \\u00e2\\u009c\\u00b6 pos operations  job profile & skills \\u00e2\\u0080\\u00a2 an effective communicator with excellent relationship building & interpersonal skills strong analytical problem solving & organizational abilities \\u00e2\\u0080\\u00a2 extensive experience in managing operations with demonstrated leadership qualities & organisational skills during the tenure \\u00e2\\u0080\\u00a2 managing customer centric operations & ensuring customer satisfaction by achieving service quality norms \\u00e2\\u0080\\u00a2 analyzing of all operational problems customer complaints and take preventive and corrective actions to resolve the same \\u00e2\\u0080\\u00a2 receive and respond to key customer inquiries in an effective manner and provide relevant and timely information \\u00e2\\u0080\\u00a2 deft in steering banking backend operations analyzing risks and managing delinquencies with dexterity across applying techniques for maximizing recoveries and minimizing credit losses \\u00e2\\u0080\\u00a2 analyzed & identified training needs of the team members and developing organizing and conducting training programs and manage bottom quartile team to improve their performance \\u00e2\\u0080\\u00a2 preparing and maintaining daily mis reports to evaluate the performance and efficiency of the process relate to various verticals \\u00e2\\u0080\\u00a2 measuring the performance of the processes in terms of efficiency and effectiveness matrix and ensuring adherence to sla \\u00e2\\u0080\\u00a2 major activities define processes for field services were monitored and necessary checks were executed and controlled also measured vendor sla by analyzing the tat of vendors & the client sla provided to us \\u00e2\\u0080\\u00a2 as per company procedures handling & ensuring vendor's payment issues to be sorted out &payments are processed on quarterly basis \\u00e2\\u0080\\u00a2 appropriately plan and execute each skill of operations in accordance with the department's policies and procedures \\u00e2\\u0080\\u00a2 manage relationships with business team software development team and other services to achieve project objectives different software worked till now  a ctl prime  axis bank credit cards b insight  for pos machine technical operations for amex (mid & tid generation atos (venture infotek) c ticket management system  tata communications private services ltd (atm  noc operations) d branch portal (yalamanchili software exports ltd)  prepaid cards (sbi bank & zaggle prepaid oceans services ltd) zaggle prepaid ocean services pvt ltd oct 2017 to till date designation manager  operations (payment industry  prepaid cards  inr) education details commerce mumbai maharashtra mumbai universityoperations manager service manager  operations (payment industry  prepaid cards  inr & ftc)skill details operations exprience  73 monthssatisfaction exprience  48 monthstraining exprience  24 monthsnoc exprience  23 monthspoint of sale exprience  20 monthscompany details company  zaggle prepaid ocean services pvt ltddescription  card operationscompany  yalamanchili software exports ltddescription  247 operations pvt ltd) dec 2015 to feb 2017designation service manager  operations (payment industry  prepaid cards  inr & ftc)key contributions \\u00e2\\u0080\\u00a2 a resultoriented business professional in planning executing& managing processes improving efficiency of operations team building and detailing process information to determine effective result into operations\\u00e2\\u0080\\u00a2 ensuring pins generation (sla) is maintained and chargeback cases are raised in perfect timeframe\\u00e2\\u0080\\u00a2 managing email customer services properly and ensuring the emails are replied properly also ensuring transaction monitoring is properly managed 24/7\\u00e2\\u0080\\u00a2 assisting bankers (sbi & associated banks) for their bcp plans by getting executed in the system with the help of drpr plans & vice versa or any other business requirements\\u00e2\\u0080\\u00a2 expertise in maintaining highest level of quality in operations ensuring adherence to all the quality parameters and procedures as per the stringent norms\\u00e2\\u0080\\u00a2 lead manage and supervise the execution of external audit engagements and responsible for presenting the findings & developing a quality reports to the senior management and clients\\u00e2\\u0080\\u00a2 coach/mentor (20) team members to perform at a higher level by giving opportunities providing timely continuous feedback and working with staff to improve their communication time management decision making organization and analytical skills\\u00e2\\u0080\\u00a2 providing the solutions and services to the client in their own premises with aforesaid count of team members\\u00e2\\u0080\\u00a2 also ensuring end to end process of pr & dr as per client requirements (pr dr & dr pr) by interacting with internal & external stakeholders\\u00e2\\u0080\\u00a2 determining process gaps and designing & conducting training programs to enhance operational efficiency and retain talent by providing optimum opportunities for personal and professional growthcompany  credit cardsdescription  ensured highest standard of customer satisfaction and quality service developing new policies and procedures to improve based on customer feedback and resolving customer queries via correspondence inbound calls & email channels with the strength of (1216) team memberscompany  ags transact technologies limiteddescription  key contributions lead  spoc to bankscompany  tata communications payment solutions ltddescription  to make atms operational within tat by analyzing the issue is technical or nontechnical and also by interacting with internal & external stakeholderscompany  vertex customer solutions india private ltddescription  key contributions \\u00e2\\u0080\\u00a2 build positive working relationship with all team members and clients by keeping management informed of kyc document collection & concurrent audit progress responding timely to management inquiries understanding the business and conducting self professionallycompany  financial inclusion network & operations limiteddescription  key contributions posoperations \\u00e2\\u0080\\u00a2 cascading the adherence of process is strictly followed by team members & training them to reduce the downtime\\u00e2\\u0080\\u00a2 managing stock of edc terminals \\u00e2\\u0080\\u00a2 managing deployments of terminals through multiple teams \\u00e2\\u0080\\u00a2 would have worked with multiple terminal make & model \\u00e2\\u0080\\u00a2 managing inward outward & qc of applications installed in the pos machinescompany  venture infotek private ltddescription  key contributions posoperationscompany  axis bank ltd  customer servicesdescription  aug 2006 to oct 2009 (mafoi&i smart)designation team leader/executive  emails phone banking & correspondence unit (snail mails)\",\n          \"skill set hadoop map reduce hdfs hive sqoop java duration 2016 to 2017 role hadoop developer rplus offers an quick simple and powerful cloud based solution demand sense to accurately predict demand for your product in all your markets which combines enterprise and external data to predict demand more accurately through uses social conversation and sentiments to derive demand and identifies significant drivers of sale out of hordes of factors that selects the best suited model out of multiple forecasting models for each product responsibilities \\u00e2\\u0080\\u00a2 involved in deploying the product for customers gathering requirements and algorithm optimization at backend of the product \\u00e2\\u0080\\u00a2 load and transform large datasets of structured semi structured \\u00e2\\u0080\\u00a2 responsible to manage data coming from different sources and application \\u00e2\\u0080\\u00a2 supported map reduce programs those are running on the cluster \\u00e2\\u0080\\u00a2 involved in creating hive tables loading with data and writing hive queries which will run internally in map reduce wayeducation details hadoop developer hadoop developer  braindatawireskill details apache hadoop hdfs exprience  49 monthsapache hadoop sqoop exprience  49 monthshadoop exprience  49 monthshadoop exprience  49 monthshadoop distributed file system exprience  49 monthscompany details company  braindatawiredescription  technical skills\\u00e2\\u0080\\u00a2 programming core java map reduce scala\\u00e2\\u0080\\u00a2 hadoop tools hdfs spark map reduce sqoop hive hbase\\u00e2\\u0080\\u00a2 database mysql oracle\\u00e2\\u0080\\u00a2 scripting shell scripting\\u00e2\\u0080\\u00a2 ide eclipse\\u00e2\\u0080\\u00a2 operating systems linux (centos) windows\\u00e2\\u0080\\u00a2 source control git (github)\",\n          \"it skills area exposure modeling tool bizagi ms visio prototyping tool indigo studio documentation ms office (ms word ms excel ms power point) testing proficiency smoke sanity integration functional acceptance and ui methodology implemented waterfall agile (scrum) database sql testing tool hpqc business exposure education details  bachelor of computer engineering computer engineering mumbai maharashtra thadomal shahani engineering college diploma computer engineering ulhasnagar maharashtra institute of technology secondary school certificateulhasnagar maharashtra new english high schoolsenior business analyst  rpa senior business analyst  rpa  hexaware technologiesskill details documentation exprience  47 monthstesting exprience  29 monthsintegration exprience  25 monthsintegrator exprience  25 monthsprototype exprience  13 monthscompany details company  hexaware technologiesdescription  working as a rpa business analystcompany  bbh brown brothers harriman & codescription  is a private bank that provides commercial banking investment management brokerage and trust services to private companies and individuals it also performs merger advisory foreign exchange custody services commercial banking and corporate financing servicesresponsibilities \\u00e2\\u0080\\u00a2 performed automation assessment of various processes and identified processes which can be candidates of rpa\\u00e2\\u0080\\u00a2 conducting assessment that involves an initial understanding of the existing system their technology processes usage of the tools feasibility of tool with automation tool along with automation roi analysis\\u00e2\\u0080\\u00a2 preparing the automation potential sheet which describes the steps in the process the volume and frequency of the transaction the aht taken by sme to perform the process and depending on the steps that could be automated automation potential and the manual efforts that will be saved are calculatedcalculating the complexity of the process which is considered for automation and depending on all these factors number of bots and number of automation tool licenses are determined\\u00e2\\u0080\\u00a2 implementing a proof of concept (poc) to validate feasibility by executing the selected critical use cases for conducting a poc which will helps to identify financial and operational benefits and provide recommendations regarding the actual need for complete automation\\u00e2\\u0080\\u00a2 gathering business requirements by conducting detailed interviews with business users stakeholders and subject matter experts (sme's) \\u00e2\\u0080\\u00a2 preparing business requirement document and then converted business requirements into functional requirements specification \\u00e2\\u0080\\u00a2 constructing prototype early toward a design acceptable to the customer and feasible\\u00e2\\u0080\\u00a2 assisting in designing test plans test scenarios and test cases for integration regression and user acceptance testing (uat) to improve the overall quality of the automation\\u00e2\\u0080\\u00a2 participating regularly in walkthroughs and review meetings with project manager qa engineers and development team\\u00e2\\u0080\\u00a2 regularly interacting with offshore and onshore development teamscompany  fadv  first advantagedescription  is a criminal background check company that delivers global solutions ranging from employment screenings to background checksthe following are the processes which were coveredemail process research process review processresponsibilities \\u00e2\\u0080\\u00a2 requirement gathering through conducting interviews & brainstorming sessions with stakeholders \\u00e2\\u0080\\u00a2 to develop decision models and execute those rules as per the use case specifications\\u00e2\\u0080\\u00a2 to test/validate the decision models against document test data\\u00e2\\u0080\\u00a2 to maintain and enhance the decision models for changes in regulations as per use case specifications\\u00e2\\u0080\\u00a2 responsible for performing the business research that will make a business growth\\u00e2\\u0080\\u00a2 developing a clear understanding of existing business functions and processes\\u00e2\\u0080\\u00a2 effectively communicate with the onsite clients for the queries suggestions and update\\u00e2\\u0080\\u00a2 giving suggestions to enhance the current processes\\u00e2\\u0080\\u00a2 identifying areas for process improvement\\u00e2\\u0080\\u00a2 flagging up potential problems at an early stage\\u00e2\\u0080\\u00a2 preparing powerpoint presentations and documents for business meetings\\u00e2\\u0080\\u00a2 using any information gathered to write up detailed reports\\u00e2\\u0080\\u00a2 highlighting risks and issues that could impact project delivery\\u00e2\\u0080\\u00a2 able to work accurately\\u00e2\\u0080\\u00a2 to develop and maintain documentation for internal team training and client end user operations\\u00e2\\u0080\\u00a2 to work efficiently with team members and across teams\\u00e2\\u0080\\u00a2 to mentor and train junior team memberscompany  clinical testing lab work and diagnostic testingdescription  iqvia provides services to its customers this includes clinical testing lab work and diagnostic testing under clinical trial these customers need to pay to iqvia and aging details and invoices are generated for the samethe following are the processes which were coveredtracking payments automated real time metrics reporting (dashboard) past due notifications ar statements credit/rebillresponsibilities \\u00e2\\u0080\\u00a2 conducting meetings with clients and key stakeholders to gather requirements analyze finalize and have formal signoffs from approvers gather and perform analysis of the business requirements \\u00e2\\u0080\\u00a2 translating the business requirements into the business requirement document [brd] functional requirement document [frd]\\u00e2\\u0080\\u00a2 facilitating meetings with the appropriate subject matter experts in both business and technology teams \\u00e2\\u0080\\u00a2 coordinating with business user community for the execution of user acceptance test as well as tracking issues \\u00e2\\u0080\\u00a2 working collaborating and coordinating with offshore and onsite team members to fulfill the ba responsibilities from project initiation to postimplementation \\u00e2\\u0080\\u00a2 reviewing the test scripts with business users as well as technology team execute test scripts with expected results for the system integration test (sit) and user acceptance test (uat) \\u00e2\\u0080\\u00a2 coordinating and conducting the production acceptance testing (pat) with the business users \\u00e2\\u0080\\u00a2 creating flow diagrams structure charts and other types of system or process representations \\u00e2\\u0080\\u00a2 managing changes to requirements and baseline through a change control process \\u00e2\\u0080\\u00a2 utilizing standard methods design and testing tools throughout project development life cycle \\u00e2\\u0080\\u00a2 work closely with the operational functional teams operations management and personnel and various technology teams to facilitate a shared understanding of requirements and priorities across all areascompany  eduavenir it solutiondescription  project mbmsmbms  is an inventory management application that allows user to manage inventory details of different warehouses having different products located at various locations and help extract what goods have been procured sold or returned by customers it generates automated invoicesalong withcustomized reports it also managescustomer complaint and resolution system implementation along with automated mis on monthly basissales and forecastingis also developed on mis system and the streamlining of process of warehousing and dispatch along with online proof of delivery management system (pod documentation) is generatedresponsibilities \\u00e2\\u0080\\u00a2 participate in requirement gathering discussion with client to understand the flow of business processes \\u00e2\\u0080\\u00a2 analyze the requirements and determine the core processes develop process documentation and ensure to stay uptodate in conjunction with ongoing changes \\u00e2\\u0080\\u00a2 participate in process flow analysis and preparing brd srs\\u00e2\\u0080\\u00a2 coordinating with developers designers & operations teams for various nuances of the project communicate the stakeholder requirements from requirement /enhancement to implementation and finally deliver the same within estimated timeframe\\u00e2\\u0080\\u00a2 support uat by reviewing test cases manage version control of documents software builds\\u00e2\\u0080\\u00a2 coordinate with the stakeholders for uat sign off and coordinate internally for production movement till golive stage of the application\\u00e2\\u0080\\u00a2 provide demo and training to internal and end user using powerpoint presentation\\u00e2\\u0080\\u00a2 resolving project functional &technical issues during uat\\u00e2\\u0080\\u00a2 prioritizing the production bugs and resolving the same within the estimated timeframe\\u00e2\\u0080\\u00a2 preparing project status report and production bugs status to all the stakeholders\\u00e2\\u0080\\u00a2 promoting and networking for online trading platform\\u00e2\\u0080\\u00a2 designing query sheet for obtaining and comparison of quotes from various vendors\\u00e2\\u0080\\u00a2 development of product codes / material codes for inventory management (master data management)company  capgemini head officedescription  type mobile and device testing duration january 2014  august 2014follet  an application which takes an electronic request from the user for the books he requires from a particular follet store this detailed information about books that will include the name of the book its price the date of the transaction and the parties involved which will then be sent to follet stores user then create request for one or more books for a given date this request is then processed further and user gets a mail of the date when he will be provided with that bookresponsibilities \\u00e2\\u0080\\u00a2 understanding the needs and business requirements\\u00e2\\u0080\\u00a2 preparing brd srs by eliciting all the requirements from the client and smes \\u00e2\\u0080\\u00a2 understanding the dependency of the modules in the system \\u00e2\\u0080\\u00a2 preparation of test plan for unit level and integration level\\u00e2\\u0080\\u00a2 preparation and execution of test cases\\u00e2\\u0080\\u00a2 defect tracking issue resolution risk monitoring status tracking reporting and followup\\u00e2\\u0080\\u00a2 preparation of test completion reportcompany  capgemini head officedescription  company  capgemini head officedescription  humana is a health care insurance project of us which deals with supplying various medicines to citizens as per the doctor's reference and patient's insurance policy this application keeps track of all the medicines user has consumed in the past and generates a patient history a citizen is given a drug only after the doctor's reference so the doctor's information is also linked with the patient's historyresponsibilities \\u00e2\\u0080\\u00a2 understanding the requirements and getting clarifications from client\\u00e2\\u0080\\u00a2 involved in writing test cases based on test scenarios and execute them\\u00e2\\u0080\\u00a2 ensuring test coverage using requirement traceability matrix (rtm) \\u00e2\\u0080\\u00a2 preparation of test completion reportcompany  capgemini head officedescription  testing trends wqr (world quality report) is an application which allows the users to take a survey on different methods and technologies used for testing users can choose to answer any type of questions under three different categories users have a facility to search view and export the data to excel also users get daily and weekly reports through email about the new trends in testing implemented around the globe testing trends wqr app is available on android and ios platformsresponsibilities \\u00e2\\u0080\\u00a2 understanding the requirements and getting clarifications from client\\u00e2\\u0080\\u00a2 writing test cases based on test scenarios and executed them\\u00e2\\u0080\\u00a2 performing different types of testing such as functional integration system and uat\\u00e2\\u0080\\u00a2 defect resolution and maintenance of the application\"\n        ],\n        \"semantic_type\": \"\",\n        \"description\": \"\"\n      }\n    },\n    {\n      \"column\": \"label\",\n      \"properties\": {\n        \"dtype\": \"number\",\n        \"std\": 7,\n        \"min\": 0,\n        \"max\": 24,\n        \"num_unique_values\": 25,\n        \"samples\": [\n          5,\n          8,\n          6\n        ],\n        \"semantic_type\": \"\",\n        \"description\": \"\"\n      }\n    },\n    {\n      \"column\": \"Count\",\n      \"properties\": {\n        \"dtype\": \"number\",\n        \"std\": 384,\n        \"min\": 15,\n        \"max\": 2020,\n        \"num_unique_values\": 146,\n        \"samples\": [\n          496,\n          963,\n          81\n        ],\n        \"semantic_type\": \"\",\n        \"description\": \"\"\n      }\n    }\n  ]\n}"
            }
          },
          "metadata": {},
          "execution_count": 24
        }
      ]
    },
    {
      "cell_type": "markdown",
      "source": [
        "**Exercise 8: Plot the histogram of words count of `Cleaned_Resume` text [0.5 Mark]**\n",
        "\n",
        "**Hint:** Use sns.distplot()"
      ],
      "metadata": {
        "id": "UWKiazN5mdyQ"
      }
    },
    {
      "cell_type": "code",
      "source": [
        "df['Count'] = df['Cleaned_Resume'].apply(lambda x: len(x.split()))"
      ],
      "metadata": {
        "id": "mieV5cpRlUAq"
      },
      "execution_count": null,
      "outputs": []
    },
    {
      "cell_type": "code",
      "source": [
        "df.describe()"
      ],
      "metadata": {
        "colab": {
          "base_uri": "https://localhost:8080/",
          "height": 300
        },
        "id": "P8aKi-oszhVx",
        "outputId": "daa28e83-1572-4592-cc75-6d17206bef74"
      },
      "execution_count": null,
      "outputs": [
        {
          "output_type": "execute_result",
          "data": {
            "text/plain": [
              "            label        Count\n",
              "count  962.000000   962.000000\n",
              "mean    12.968815   404.678794\n",
              "std      7.051694   384.915418\n",
              "min      0.000000    15.000000\n",
              "25%      7.000000   140.750000\n",
              "50%     13.000000   289.000000\n",
              "75%     19.000000   522.000000\n",
              "max     24.000000  2020.000000"
            ],
            "text/html": [
              "\n",
              "  <div id=\"df-63fb8f78-b27a-47ee-b4b3-f8457a0844fc\" class=\"colab-df-container\">\n",
              "    <div>\n",
              "<style scoped>\n",
              "    .dataframe tbody tr th:only-of-type {\n",
              "        vertical-align: middle;\n",
              "    }\n",
              "\n",
              "    .dataframe tbody tr th {\n",
              "        vertical-align: top;\n",
              "    }\n",
              "\n",
              "    .dataframe thead th {\n",
              "        text-align: right;\n",
              "    }\n",
              "</style>\n",
              "<table border=\"1\" class=\"dataframe\">\n",
              "  <thead>\n",
              "    <tr style=\"text-align: right;\">\n",
              "      <th></th>\n",
              "      <th>label</th>\n",
              "      <th>Count</th>\n",
              "    </tr>\n",
              "  </thead>\n",
              "  <tbody>\n",
              "    <tr>\n",
              "      <th>count</th>\n",
              "      <td>962.000000</td>\n",
              "      <td>962.000000</td>\n",
              "    </tr>\n",
              "    <tr>\n",
              "      <th>mean</th>\n",
              "      <td>12.968815</td>\n",
              "      <td>404.678794</td>\n",
              "    </tr>\n",
              "    <tr>\n",
              "      <th>std</th>\n",
              "      <td>7.051694</td>\n",
              "      <td>384.915418</td>\n",
              "    </tr>\n",
              "    <tr>\n",
              "      <th>min</th>\n",
              "      <td>0.000000</td>\n",
              "      <td>15.000000</td>\n",
              "    </tr>\n",
              "    <tr>\n",
              "      <th>25%</th>\n",
              "      <td>7.000000</td>\n",
              "      <td>140.750000</td>\n",
              "    </tr>\n",
              "    <tr>\n",
              "      <th>50%</th>\n",
              "      <td>13.000000</td>\n",
              "      <td>289.000000</td>\n",
              "    </tr>\n",
              "    <tr>\n",
              "      <th>75%</th>\n",
              "      <td>19.000000</td>\n",
              "      <td>522.000000</td>\n",
              "    </tr>\n",
              "    <tr>\n",
              "      <th>max</th>\n",
              "      <td>24.000000</td>\n",
              "      <td>2020.000000</td>\n",
              "    </tr>\n",
              "  </tbody>\n",
              "</table>\n",
              "</div>\n",
              "    <div class=\"colab-df-buttons\">\n",
              "\n",
              "  <div class=\"colab-df-container\">\n",
              "    <button class=\"colab-df-convert\" onclick=\"convertToInteractive('df-63fb8f78-b27a-47ee-b4b3-f8457a0844fc')\"\n",
              "            title=\"Convert this dataframe to an interactive table.\"\n",
              "            style=\"display:none;\">\n",
              "\n",
              "  <svg xmlns=\"http://www.w3.org/2000/svg\" height=\"24px\" viewBox=\"0 -960 960 960\">\n",
              "    <path d=\"M120-120v-720h720v720H120Zm60-500h600v-160H180v160Zm220 220h160v-160H400v160Zm0 220h160v-160H400v160ZM180-400h160v-160H180v160Zm440 0h160v-160H620v160ZM180-180h160v-160H180v160Zm440 0h160v-160H620v160Z\"/>\n",
              "  </svg>\n",
              "    </button>\n",
              "\n",
              "  <style>\n",
              "    .colab-df-container {\n",
              "      display:flex;\n",
              "      gap: 12px;\n",
              "    }\n",
              "\n",
              "    .colab-df-convert {\n",
              "      background-color: #E8F0FE;\n",
              "      border: none;\n",
              "      border-radius: 50%;\n",
              "      cursor: pointer;\n",
              "      display: none;\n",
              "      fill: #1967D2;\n",
              "      height: 32px;\n",
              "      padding: 0 0 0 0;\n",
              "      width: 32px;\n",
              "    }\n",
              "\n",
              "    .colab-df-convert:hover {\n",
              "      background-color: #E2EBFA;\n",
              "      box-shadow: 0px 1px 2px rgba(60, 64, 67, 0.3), 0px 1px 3px 1px rgba(60, 64, 67, 0.15);\n",
              "      fill: #174EA6;\n",
              "    }\n",
              "\n",
              "    .colab-df-buttons div {\n",
              "      margin-bottom: 4px;\n",
              "    }\n",
              "\n",
              "    [theme=dark] .colab-df-convert {\n",
              "      background-color: #3B4455;\n",
              "      fill: #D2E3FC;\n",
              "    }\n",
              "\n",
              "    [theme=dark] .colab-df-convert:hover {\n",
              "      background-color: #434B5C;\n",
              "      box-shadow: 0px 1px 3px 1px rgba(0, 0, 0, 0.15);\n",
              "      filter: drop-shadow(0px 1px 2px rgba(0, 0, 0, 0.3));\n",
              "      fill: #FFFFFF;\n",
              "    }\n",
              "  </style>\n",
              "\n",
              "    <script>\n",
              "      const buttonEl =\n",
              "        document.querySelector('#df-63fb8f78-b27a-47ee-b4b3-f8457a0844fc button.colab-df-convert');\n",
              "      buttonEl.style.display =\n",
              "        google.colab.kernel.accessAllowed ? 'block' : 'none';\n",
              "\n",
              "      async function convertToInteractive(key) {\n",
              "        const element = document.querySelector('#df-63fb8f78-b27a-47ee-b4b3-f8457a0844fc');\n",
              "        const dataTable =\n",
              "          await google.colab.kernel.invokeFunction('convertToInteractive',\n",
              "                                                    [key], {});\n",
              "        if (!dataTable) return;\n",
              "\n",
              "        const docLinkHtml = 'Like what you see? Visit the ' +\n",
              "          '<a target=\"_blank\" href=https://colab.research.google.com/notebooks/data_table.ipynb>data table notebook</a>'\n",
              "          + ' to learn more about interactive tables.';\n",
              "        element.innerHTML = '';\n",
              "        dataTable['output_type'] = 'display_data';\n",
              "        await google.colab.output.renderOutput(dataTable, element);\n",
              "        const docLink = document.createElement('div');\n",
              "        docLink.innerHTML = docLinkHtml;\n",
              "        element.appendChild(docLink);\n",
              "      }\n",
              "    </script>\n",
              "  </div>\n",
              "\n",
              "\n",
              "<div id=\"df-5e1b4a23-fb23-4a13-a008-429f2db7826d\">\n",
              "  <button class=\"colab-df-quickchart\" onclick=\"quickchart('df-5e1b4a23-fb23-4a13-a008-429f2db7826d')\"\n",
              "            title=\"Suggest charts\"\n",
              "            style=\"display:none;\">\n",
              "\n",
              "<svg xmlns=\"http://www.w3.org/2000/svg\" height=\"24px\"viewBox=\"0 0 24 24\"\n",
              "     width=\"24px\">\n",
              "    <g>\n",
              "        <path d=\"M19 3H5c-1.1 0-2 .9-2 2v14c0 1.1.9 2 2 2h14c1.1 0 2-.9 2-2V5c0-1.1-.9-2-2-2zM9 17H7v-7h2v7zm4 0h-2V7h2v10zm4 0h-2v-4h2v4z\"/>\n",
              "    </g>\n",
              "</svg>\n",
              "  </button>\n",
              "\n",
              "<style>\n",
              "  .colab-df-quickchart {\n",
              "      --bg-color: #E8F0FE;\n",
              "      --fill-color: #1967D2;\n",
              "      --hover-bg-color: #E2EBFA;\n",
              "      --hover-fill-color: #174EA6;\n",
              "      --disabled-fill-color: #AAA;\n",
              "      --disabled-bg-color: #DDD;\n",
              "  }\n",
              "\n",
              "  [theme=dark] .colab-df-quickchart {\n",
              "      --bg-color: #3B4455;\n",
              "      --fill-color: #D2E3FC;\n",
              "      --hover-bg-color: #434B5C;\n",
              "      --hover-fill-color: #FFFFFF;\n",
              "      --disabled-bg-color: #3B4455;\n",
              "      --disabled-fill-color: #666;\n",
              "  }\n",
              "\n",
              "  .colab-df-quickchart {\n",
              "    background-color: var(--bg-color);\n",
              "    border: none;\n",
              "    border-radius: 50%;\n",
              "    cursor: pointer;\n",
              "    display: none;\n",
              "    fill: var(--fill-color);\n",
              "    height: 32px;\n",
              "    padding: 0;\n",
              "    width: 32px;\n",
              "  }\n",
              "\n",
              "  .colab-df-quickchart:hover {\n",
              "    background-color: var(--hover-bg-color);\n",
              "    box-shadow: 0 1px 2px rgba(60, 64, 67, 0.3), 0 1px 3px 1px rgba(60, 64, 67, 0.15);\n",
              "    fill: var(--button-hover-fill-color);\n",
              "  }\n",
              "\n",
              "  .colab-df-quickchart-complete:disabled,\n",
              "  .colab-df-quickchart-complete:disabled:hover {\n",
              "    background-color: var(--disabled-bg-color);\n",
              "    fill: var(--disabled-fill-color);\n",
              "    box-shadow: none;\n",
              "  }\n",
              "\n",
              "  .colab-df-spinner {\n",
              "    border: 2px solid var(--fill-color);\n",
              "    border-color: transparent;\n",
              "    border-bottom-color: var(--fill-color);\n",
              "    animation:\n",
              "      spin 1s steps(1) infinite;\n",
              "  }\n",
              "\n",
              "  @keyframes spin {\n",
              "    0% {\n",
              "      border-color: transparent;\n",
              "      border-bottom-color: var(--fill-color);\n",
              "      border-left-color: var(--fill-color);\n",
              "    }\n",
              "    20% {\n",
              "      border-color: transparent;\n",
              "      border-left-color: var(--fill-color);\n",
              "      border-top-color: var(--fill-color);\n",
              "    }\n",
              "    30% {\n",
              "      border-color: transparent;\n",
              "      border-left-color: var(--fill-color);\n",
              "      border-top-color: var(--fill-color);\n",
              "      border-right-color: var(--fill-color);\n",
              "    }\n",
              "    40% {\n",
              "      border-color: transparent;\n",
              "      border-right-color: var(--fill-color);\n",
              "      border-top-color: var(--fill-color);\n",
              "    }\n",
              "    60% {\n",
              "      border-color: transparent;\n",
              "      border-right-color: var(--fill-color);\n",
              "    }\n",
              "    80% {\n",
              "      border-color: transparent;\n",
              "      border-right-color: var(--fill-color);\n",
              "      border-bottom-color: var(--fill-color);\n",
              "    }\n",
              "    90% {\n",
              "      border-color: transparent;\n",
              "      border-bottom-color: var(--fill-color);\n",
              "    }\n",
              "  }\n",
              "</style>\n",
              "\n",
              "  <script>\n",
              "    async function quickchart(key) {\n",
              "      const quickchartButtonEl =\n",
              "        document.querySelector('#' + key + ' button');\n",
              "      quickchartButtonEl.disabled = true;  // To prevent multiple clicks.\n",
              "      quickchartButtonEl.classList.add('colab-df-spinner');\n",
              "      try {\n",
              "        const charts = await google.colab.kernel.invokeFunction(\n",
              "            'suggestCharts', [key], {});\n",
              "      } catch (error) {\n",
              "        console.error('Error during call to suggestCharts:', error);\n",
              "      }\n",
              "      quickchartButtonEl.classList.remove('colab-df-spinner');\n",
              "      quickchartButtonEl.classList.add('colab-df-quickchart-complete');\n",
              "    }\n",
              "    (() => {\n",
              "      let quickchartButtonEl =\n",
              "        document.querySelector('#df-5e1b4a23-fb23-4a13-a008-429f2db7826d button');\n",
              "      quickchartButtonEl.style.display =\n",
              "        google.colab.kernel.accessAllowed ? 'block' : 'none';\n",
              "    })();\n",
              "  </script>\n",
              "</div>\n",
              "\n",
              "    </div>\n",
              "  </div>\n"
            ],
            "application/vnd.google.colaboratory.intrinsic+json": {
              "type": "dataframe",
              "summary": "{\n  \"name\": \"df\",\n  \"rows\": 8,\n  \"fields\": [\n    {\n      \"column\": \"label\",\n      \"properties\": {\n        \"dtype\": \"number\",\n        \"std\": 336.00774511316524,\n        \"min\": 0.0,\n        \"max\": 962.0,\n        \"num_unique_values\": 8,\n        \"samples\": [\n          12.96881496881497,\n          13.0,\n          962.0\n        ],\n        \"semantic_type\": \"\",\n        \"description\": \"\"\n      }\n    },\n    {\n      \"column\": \"Count\",\n      \"properties\": {\n        \"dtype\": \"number\",\n        \"std\": 642.2417361785831,\n        \"min\": 15.0,\n        \"max\": 2020.0,\n        \"num_unique_values\": 8,\n        \"samples\": [\n          404.6787941787942,\n          289.0,\n          962.0\n        ],\n        \"semantic_type\": \"\",\n        \"description\": \"\"\n      }\n    }\n  ]\n}"
            }
          },
          "metadata": {},
          "execution_count": 26
        }
      ]
    },
    {
      "cell_type": "code",
      "source": [
        "plt.figure(figsize= (8, 8))\n",
        "\n",
        "sns.distplot(df['Count'])\n",
        "\n",
        "plt.show()"
      ],
      "metadata": {
        "id": "4tK8VZkyldQx",
        "colab": {
          "base_uri": "https://localhost:8080/",
          "height": 696
        },
        "outputId": "d28e5dc9-cbd2-47a1-b1be-11d1f0f81314"
      },
      "execution_count": null,
      "outputs": [
        {
          "output_type": "display_data",
          "data": {
            "text/plain": [
              "<Figure size 800x800 with 1 Axes>"
            ],
            "image/png": "[encoded data removed]"
          },
          "metadata": {}
        }
      ]
    },
    {
      "cell_type": "markdown",
      "metadata": {
        "id": "zK2N4kjkSEjF"
      },
      "source": [
        "### Train Test Split"
      ]
    },
    {
      "cell_type": "markdown",
      "source": [
        "**Exercise 9: Split the dataset into training, validation, and testing set [0.5 Mark]**\n",
        "\n",
        "* Do stratified splitting using `label` column"
      ],
      "metadata": {
        "id": "y6MTKhUomkzU"
      }
    },
    {
      "cell_type": "code",
      "source": [],
      "metadata": {
        "id": "Uc2inbJL2Zc5"
      },
      "execution_count": null,
      "outputs": []
    },
    {
      "cell_type": "code",
      "source": [
        "train_test_df, val_df = train_test_split(df[['Cleaned_Resume','label']], test_size=0.2, random_state=42, stratify=df['label'])\n",
        "train_df, test_df = train_test_split(train_test_df, test_size=0.2, random_state=42, stratify=train_test_df['label'])\n",
        "\n",
        "len(train_df), len(val_df), len(test_df)\n",
        "#sum([len(train_df), len(val_df), len(test_df)])"
      ],
      "metadata": {
        "id": "mP2Ay3GdFU7b",
        "colab": {
          "base_uri": "https://localhost:8080/"
        },
        "outputId": "f8982e67-c331-495d-cd08-c30a05d021f7"
      },
      "execution_count": null,
      "outputs": [
        {
          "output_type": "execute_result",
          "data": {
            "text/plain": [
              "(615, 193, 154)"
            ]
          },
          "metadata": {},
          "execution_count": 32
        }
      ]
    },
    {
      "cell_type": "code",
      "source": [
        "train_df.head(5)"
      ],
      "metadata": {
        "id": "IHuVoyE6F6ef",
        "colab": {
          "base_uri": "https://localhost:8080/",
          "height": 206
        },
        "outputId": "f48e32dd-88c8-43bb-e68f-3ea6faf734a4"
      },
      "execution_count": null,
      "outputs": [
        {
          "output_type": "execute_result",
          "data": {
            "text/plain": [
              "                                        Cleaned_Resume  label\n",
              "591  training attended 1 successfully completed esd...     20\n",
              "713  education details january 2016 bscmumbai mahar...      7\n",
              "694  core competencies â¢ maintain processes to en...     19\n",
              "624  skills visa b1visa (usa) onsite visits to swed...      8\n",
              "567  training attended 1 successfully completed esd...     20"
            ],
            "text/html": [
              "\n",
              "  <div id=\"df-dfff2130-daa7-4dcb-b250-b344e1f25c02\" class=\"colab-df-container\">\n",
              "    <div>\n",
              "<style scoped>\n",
              "    .dataframe tbody tr th:only-of-type {\n",
              "        vertical-align: middle;\n",
              "    }\n",
              "\n",
              "    .dataframe tbody tr th {\n",
              "        vertical-align: top;\n",
              "    }\n",
              "\n",
              "    .dataframe thead th {\n",
              "        text-align: right;\n",
              "    }\n",
              "</style>\n",
              "<table border=\"1\" class=\"dataframe\">\n",
              "  <thead>\n",
              "    <tr style=\"text-align: right;\">\n",
              "      <th></th>\n",
              "      <th>Cleaned_Resume</th>\n",
              "      <th>label</th>\n",
              "    </tr>\n",
              "  </thead>\n",
              "  <tbody>\n",
              "    <tr>\n",
              "      <th>591</th>\n",
              "      <td>training attended 1 successfully completed esd...</td>\n",
              "      <td>20</td>\n",
              "    </tr>\n",
              "    <tr>\n",
              "      <th>713</th>\n",
              "      <td>education details january 2016 bscmumbai mahar...</td>\n",
              "      <td>7</td>\n",
              "    </tr>\n",
              "    <tr>\n",
              "      <th>694</th>\n",
              "      <td>core competencies â¢ maintain processes to en...</td>\n",
              "      <td>19</td>\n",
              "    </tr>\n",
              "    <tr>\n",
              "      <th>624</th>\n",
              "      <td>skills visa b1visa (usa) onsite visits to swed...</td>\n",
              "      <td>8</td>\n",
              "    </tr>\n",
              "    <tr>\n",
              "      <th>567</th>\n",
              "      <td>training attended 1 successfully completed esd...</td>\n",
              "      <td>20</td>\n",
              "    </tr>\n",
              "  </tbody>\n",
              "</table>\n",
              "</div>\n",
              "    <div class=\"colab-df-buttons\">\n",
              "\n",
              "  <div class=\"colab-df-container\">\n",
              "    <button class=\"colab-df-convert\" onclick=\"convertToInteractive('df-dfff2130-daa7-4dcb-b250-b344e1f25c02')\"\n",
              "            title=\"Convert this dataframe to an interactive table.\"\n",
              "            style=\"display:none;\">\n",
              "\n",
              "  <svg xmlns=\"http://www.w3.org/2000/svg\" height=\"24px\" viewBox=\"0 -960 960 960\">\n",
              "    <path d=\"M120-120v-720h720v720H120Zm60-500h600v-160H180v160Zm220 220h160v-160H400v160Zm0 220h160v-160H400v160ZM180-400h160v-160H180v160Zm440 0h160v-160H620v160ZM180-180h160v-160H180v160Zm440 0h160v-160H620v160Z\"/>\n",
              "  </svg>\n",
              "    </button>\n",
              "\n",
              "  <style>\n",
              "    .colab-df-container {\n",
              "      display:flex;\n",
              "      gap: 12px;\n",
              "    }\n",
              "\n",
              "    .colab-df-convert {\n",
              "      background-color: #E8F0FE;\n",
              "      border: none;\n",
              "      border-radius: 50%;\n",
              "      cursor: pointer;\n",
              "      display: none;\n",
              "      fill: #1967D2;\n",
              "      height: 32px;\n",
              "      padding: 0 0 0 0;\n",
              "      width: 32px;\n",
              "    }\n",
              "\n",
              "    .colab-df-convert:hover {\n",
              "      background-color: #E2EBFA;\n",
              "      box-shadow: 0px 1px 2px rgba(60, 64, 67, 0.3), 0px 1px 3px 1px rgba(60, 64, 67, 0.15);\n",
              "      fill: #174EA6;\n",
              "    }\n",
              "\n",
              "    .colab-df-buttons div {\n",
              "      margin-bottom: 4px;\n",
              "    }\n",
              "\n",
              "    [theme=dark] .colab-df-convert {\n",
              "      background-color: #3B4455;\n",
              "      fill: #D2E3FC;\n",
              "    }\n",
              "\n",
              "    [theme=dark] .colab-df-convert:hover {\n",
              "      background-color: #434B5C;\n",
              "      box-shadow: 0px 1px 3px 1px rgba(0, 0, 0, 0.15);\n",
              "      filter: drop-shadow(0px 1px 2px rgba(0, 0, 0, 0.3));\n",
              "      fill: #FFFFFF;\n",
              "    }\n",
              "  </style>\n",
              "\n",
              "    <script>\n",
              "      const buttonEl =\n",
              "        document.querySelector('#df-dfff2130-daa7-4dcb-b250-b344e1f25c02 button.colab-df-convert');\n",
              "      buttonEl.style.display =\n",
              "        google.colab.kernel.accessAllowed ? 'block' : 'none';\n",
              "\n",
              "      async function convertToInteractive(key) {\n",
              "        const element = document.querySelector('#df-dfff2130-daa7-4dcb-b250-b344e1f25c02');\n",
              "        const dataTable =\n",
              "          await google.colab.kernel.invokeFunction('convertToInteractive',\n",
              "                                                    [key], {});\n",
              "        if (!dataTable) return;\n",
              "\n",
              "        const docLinkHtml = 'Like what you see? Visit the ' +\n",
              "          '<a target=\"_blank\" href=https://colab.research.google.com/notebooks/data_table.ipynb>data table notebook</a>'\n",
              "          + ' to learn more about interactive tables.';\n",
              "        element.innerHTML = '';\n",
              "        dataTable['output_type'] = 'display_data';\n",
              "        await google.colab.output.renderOutput(dataTable, element);\n",
              "        const docLink = document.createElement('div');\n",
              "        docLink.innerHTML = docLinkHtml;\n",
              "        element.appendChild(docLink);\n",
              "      }\n",
              "    </script>\n",
              "  </div>\n",
              "\n",
              "\n",
              "<div id=\"df-35675fd9-137f-40e6-a5c0-7fa4172140da\">\n",
              "  <button class=\"colab-df-quickchart\" onclick=\"quickchart('df-35675fd9-137f-40e6-a5c0-7fa4172140da')\"\n",
              "            title=\"Suggest charts\"\n",
              "            style=\"display:none;\">\n",
              "\n",
              "<svg xmlns=\"http://www.w3.org/2000/svg\" height=\"24px\"viewBox=\"0 0 24 24\"\n",
              "     width=\"24px\">\n",
              "    <g>\n",
              "        <path d=\"M19 3H5c-1.1 0-2 .9-2 2v14c0 1.1.9 2 2 2h14c1.1 0 2-.9 2-2V5c0-1.1-.9-2-2-2zM9 17H7v-7h2v7zm4 0h-2V7h2v10zm4 0h-2v-4h2v4z\"/>\n",
              "    </g>\n",
              "</svg>\n",
              "  </button>\n",
              "\n",
              "<style>\n",
              "  .colab-df-quickchart {\n",
              "      --bg-color: #E8F0FE;\n",
              "      --fill-color: #1967D2;\n",
              "      --hover-bg-color: #E2EBFA;\n",
              "      --hover-fill-color: #174EA6;\n",
              "      --disabled-fill-color: #AAA;\n",
              "      --disabled-bg-color: #DDD;\n",
              "  }\n",
              "\n",
              "  [theme=dark] .colab-df-quickchart {\n",
              "      --bg-color: #3B4455;\n",
              "      --fill-color: #D2E3FC;\n",
              "      --hover-bg-color: #434B5C;\n",
              "      --hover-fill-color: #FFFFFF;\n",
              "      --disabled-bg-color: #3B4455;\n",
              "      --disabled-fill-color: #666;\n",
              "  }\n",
              "\n",
              "  .colab-df-quickchart {\n",
              "    background-color: var(--bg-color);\n",
              "    border: none;\n",
              "    border-radius: 50%;\n",
              "    cursor: pointer;\n",
              "    display: none;\n",
              "    fill: var(--fill-color);\n",
              "    height: 32px;\n",
              "    padding: 0;\n",
              "    width: 32px;\n",
              "  }\n",
              "\n",
              "  .colab-df-quickchart:hover {\n",
              "    background-color: var(--hover-bg-color);\n",
              "    box-shadow: 0 1px 2px rgba(60, 64, 67, 0.3), 0 1px 3px 1px rgba(60, 64, 67, 0.15);\n",
              "    fill: var(--button-hover-fill-color);\n",
              "  }\n",
              "\n",
              "  .colab-df-quickchart-complete:disabled,\n",
              "  .colab-df-quickchart-complete:disabled:hover {\n",
              "    background-color: var(--disabled-bg-color);\n",
              "    fill: var(--disabled-fill-color);\n",
              "    box-shadow: none;\n",
              "  }\n",
              "\n",
              "  .colab-df-spinner {\n",
              "    border: 2px solid var(--fill-color);\n",
              "    border-color: transparent;\n",
              "    border-bottom-color: var(--fill-color);\n",
              "    animation:\n",
              "      spin 1s steps(1) infinite;\n",
              "  }\n",
              "\n",
              "  @keyframes spin {\n",
              "    0% {\n",
              "      border-color: transparent;\n",
              "      border-bottom-color: var(--fill-color);\n",
              "      border-left-color: var(--fill-color);\n",
              "    }\n",
              "    20% {\n",
              "      border-color: transparent;\n",
              "      border-left-color: var(--fill-color);\n",
              "      border-top-color: var(--fill-color);\n",
              "    }\n",
              "    30% {\n",
              "      border-color: transparent;\n",
              "      border-left-color: var(--fill-color);\n",
              "      border-top-color: var(--fill-color);\n",
              "      border-right-color: var(--fill-color);\n",
              "    }\n",
              "    40% {\n",
              "      border-color: transparent;\n",
              "      border-right-color: var(--fill-color);\n",
              "      border-top-color: var(--fill-color);\n",
              "    }\n",
              "    60% {\n",
              "      border-color: transparent;\n",
              "      border-right-color: var(--fill-color);\n",
              "    }\n",
              "    80% {\n",
              "      border-color: transparent;\n",
              "      border-right-color: var(--fill-color);\n",
              "      border-bottom-color: var(--fill-color);\n",
              "    }\n",
              "    90% {\n",
              "      border-color: transparent;\n",
              "      border-bottom-color: var(--fill-color);\n",
              "    }\n",
              "  }\n",
              "</style>\n",
              "\n",
              "  <script>\n",
              "    async function quickchart(key) {\n",
              "      const quickchartButtonEl =\n",
              "        document.querySelector('#' + key + ' button');\n",
              "      quickchartButtonEl.disabled = true;  // To prevent multiple clicks.\n",
              "      quickchartButtonEl.classList.add('colab-df-spinner');\n",
              "      try {\n",
              "        const charts = await google.colab.kernel.invokeFunction(\n",
              "            'suggestCharts', [key], {});\n",
              "      } catch (error) {\n",
              "        console.error('Error during call to suggestCharts:', error);\n",
              "      }\n",
              "      quickchartButtonEl.classList.remove('colab-df-spinner');\n",
              "      quickchartButtonEl.classList.add('colab-df-quickchart-complete');\n",
              "    }\n",
              "    (() => {\n",
              "      let quickchartButtonEl =\n",
              "        document.querySelector('#df-35675fd9-137f-40e6-a5c0-7fa4172140da button');\n",
              "      quickchartButtonEl.style.display =\n",
              "        google.colab.kernel.accessAllowed ? 'block' : 'none';\n",
              "    })();\n",
              "  </script>\n",
              "</div>\n",
              "\n",
              "    </div>\n",
              "  </div>\n"
            ],
            "application/vnd.google.colaboratory.intrinsic+json": {
              "type": "dataframe",
              "variable_name": "train_df",
              "summary": "{\n  \"name\": \"train_df\",\n  \"rows\": 615,\n  \"fields\": [\n    {\n      \"column\": \"Cleaned_Resume\",\n      \"properties\": {\n        \"dtype\": \"category\",\n        \"num_unique_values\": 164,\n        \"samples\": [\n          \"technical skills operating systems ms windows server 2012/2008/xp software and tools ms litespeed idera sql safe ssms upgrade advisor sql server profiler scom diagnostic manager remedy jira infopacc tivoli tdp backup tool sql pack databasesms sql server 2016/2014/2012/ 2008 r2/ 2008 oracle 10g netezza microsoft azure education details  masters of science computer science pune maharashtra indira college pune universitylead database administrator microsoft certified professional with 11 years of experience in database administration on ms sql server 2016/2014/2012/2008 r2/ 2008skill details ms sql server exprience  110 monthsmicrosoft azure exprience  less than 1 year monthsalways on availabiity group exprience  less than 1 year monthsdatabase mirroring exprience  less than 1 year monthsperformance tuning exprience  less than 1 year monthslog shipping exprience  less than 1 year monthsinstallation  upgrade migration and patching exprience  less than 1 year monthscompany details company  ensonodescription  employment transfer as a part of project acquisition to ensono from wiprosql server database administrationcompany  wipro technologiesdescription  microsoft certified professional with 11 years of experience in database administration on ms sql server 2016/2014/2012/2008 r2/ 2008experience with ms sql server 2016/2014/2012/2008 r2/ 2008 installation upgrade and administrationmicrosoft azure certifiedhave understanding of azure vm azure storage azure network azure ad and azure sql database\\u00e2\\u00a0incident management change management and problem management for sql server database teamparticipating in meetings conference calls with client service delivery manager and application team for system improvementsparticipated in quarterly dr activityinvolved in creation of sip  service improvement plansinvolved in handling of high severity issues and provided rca for the sameworked on always on availability groups database mirroring replication clustering and log shippinghave basic understanding of oracle and netezzaprovided on call support during out of office hours and weekendsresource & shift management of 5 sql dbas from offshore in multiclient environment for data center servicesprovided kt to team members monitor and guide traineescompany  wipro technologiesdescription  responsibilities \\u00e2\\u0080\\u00a2 ms sql server 2016/2014/2012/ 2008 r2/ 2008 installation configuration and administration\\u00e2\\u0080\\u00a2 worked on always on availability groups log shipping database mirroring and clustering\\u00e2\\u0080\\u00a2 participated inpci scan report to perform installation of security hot fixes service packs for sql servers to remove vulnerability\\u00e2\\u0080\\u00a2 participated in holmes bots automation implementation of sql pack tool\\u00e2\\u0080\\u00a2 worked on service requests incidents and critical issues\\u00e2\\u0080\\u00a2 involved in conference calls to provide dba support for critical issues\\u00e2\\u0080\\u00a2 performance tuningenvironment sql server 2016/2014/2012/2008r2/2008 windows server 2012/2008r2/2008company  mphasisdescription  company  mphasisdescription  responsibilities \\u00e2\\u0080\\u00a2 ms sql server 2012/ 2008 r2/ 2008installation configuration and administration\\u00e2\\u0080\\u00a2 worked on always on availability groups log shipping database mirroring and clustering\\u00e2\\u0080\\u00a2 performed sql server patching activity \\u00e2\\u0080\\u00a2 worked on daily reports like cluster failover backup ag/ls/mirror report and server disk space report\\u00e2\\u0080\\u00a2 worked on service requests incidents and critical issues\\u00e2\\u0080\\u00a2 participated in quarterly dr activity\\u00e2\\u0080\\u00a2 involved in conference calls to provide dba support for critical issues\\u00e2\\u0080\\u00a2 provided support to windows team during patching for agmirrorcluster failover/failback and database health check\\u00e2\\u0080\\u00a2 performed all the health checks for market open servers and provided update in market open call \\u00e2\\u0080\\u00a2 deeply involved in resolution of the issue and finding the root cause analysis of the issue \\u00e2\\u0080\\u00a2 performance tuningenvironment sql server 2012/2008r2/2008 windows server 2008r2/2008company  synechron technologies pvt ltddescription  responsibilities \\u00e2\\u0080\\u00a2 sql server oracle and netezza databases support tasks\\u00e2\\u0080\\u00a2 ms sql server 2008 r2/ 2008 installation upgrade and administration\\u00e2\\u0080\\u00a2 done capacity planning for database growth for all sql servers\\u00e2\\u0080\\u00a2 troubleshooting alerts\\u00e2\\u0080\\u00a2 worked on log shipping and mirroringenvironment sql server 2008r2/2008 windows server 2008r2/2008 oracle 10g/raccompany  synechron technologies pvt ltddescription  company  synechron technologies pvt ltddescription  responsibilities \\u00e2\\u0080\\u00a2 pursued indepth training on oracle 11g architecture and sql serverenvironment sql server 2008r2/2008 windows server 2008r2/2008 oracle 10gcompany  synechron technologies pvt ltddescription  responsibilities \\u00e2\\u0080\\u00a2 carried out version changes for schemas from pe8 version to ee11 version as per the process givenenvironment oracle 11gcompany  mastek ltddescription  responsibilities \\u00e2\\u0080\\u00a2 sql server 2008 r2/ 2008 installation upgrade and administration \\u00e2\\u0080\\u00a2 database backup/restore\\u00e2\\u0080\\u00a2 performed ms sql server audits \\u00e2\\u0080\\u00a2 worked with database mirroring replication log shipping and clustering\\u00e2\\u0080\\u00a2 supported uat and prod environments \\u00e2\\u0080\\u00a2 performed deployment document review\\u00e2\\u0080\\u00a2 carried out deployments for different applicationsenvironment sql server 2008r2/2008 windows server 2008r2/2008company  mastek ltddescription  company  pp software and systems ltddescription  company  pp software and systems ltddescription  description the system provides master data management and procurement modules for dairy industryresponsibilities \\u00e2\\u0080\\u00a2 designed coded and tested \\u00e2\\u0080\\u00a2 customized erp system as per the requirementenvironment core java postgresql\",\n          \"skill set \\u00e2\\u009c\\u0093 talend big data \\u00e2\\u009c\\u0093 informatica power center \\u00e2\\u009c\\u0093 microsoft sql server \\u00e2\\u009c\\u0093 sql platform 621 management studio workbench \\u00e2\\u009c\\u0093 aws services \\u00e2\\u009c\\u0093 talend administration console \\u00e2\\u009c\\u0093 microsoft visual \\u00e2\\u009c\\u0093 redshift (tac) studio \\u00e2\\u009c\\u0093 athena \\u00e2\\u009c\\u0093 data warehouse concept  star \\u00e2\\u009c\\u0093 sql \\u00e2\\u009c\\u0093 s3 schema facts dimensions \\u00e2\\u009c\\u0093 data modeling  \\u00e2\\u009c\\u0093 data integration microsoft access education details january 2012 to january 2016 bemumbai maharashtra university of mumbaijanuary 2012 cbse technology kochi kerala st francistalend etl developer talend etl developer  tata consultancy servicesskill details data warehouse exprience  23 monthsdatabase exprience  20 monthsintegration exprience  20 monthsintegrator exprience  20 monthsms sql server exprience  20 monthscompany details company  tata consultancy servicesdescription  prepared etl mapping documents for every mapping and data migration document for smooth transfer of project from development to testing environment and then to production environment performed unit testing and system testing tovalidate data loads in the target troubleshoot long running jobs and fixed the issues\\u00e2\\u0080\\u00a2 expertise in creating mappings in talend using big data supporting components such as tjdbcconfiguration tjdbcinputthdfsconfiguration ts3configuration tcacheout tcachein tsqlrow and standard components like tfileinputdelimitedtfileoutputdelimited tmap tjoin treplicate tparallelize tconverttype taggregate tsortrow tflowmeter tlogcatchertrowgenerator tjava tjavarow taggregaterow tfilter etc\\u00e2\\u0080\\u00a2 used etl methodologies and best practices to create talend etl jobs followed and enhanced programming and namingstandards developed jobs components and joblets in talend used trunjob component to run child job from a parent job and to pass parameters from parent to child job\\u00e2\\u0080\\u00a2 created and deployed physical objects including custom tables custom views stored procedures and indexes to sql server for staging and datawarehouse environment involved in writing sql queries and used joins to access data from mysql\\u00e2\\u0080\\u00a2 created and managed source to target mapping documents for all facts and dimension tables broad design development and testing experience with talend integration suite and knowledge in performance tuning of mappings\\u00e2\\u0080\\u00a2 extensively used tmap component which does lookup & joiner functions experienced in writing expressions within tmap as per the business need handled insert and update strategy using tsqlrow\\u00e2\\u0080\\u00a2 created implicit local and global context variables in the job to run talend jobs against different environments\\u00e2\\u0080\\u00a2 worked on talend administration console (tac) for scheduling jobs and adding users experienced in building a talend job outside of a talend studio as well as on tac server\\u00e2\\u0080\\u00a2 developed mappings to load fact and dimension tables scd type 1 and scd type 2 dimensions and incremental loading and unit tested the mappings\\u00e2\\u0080\\u00a2 developed framework integrated job which schedules multiple jobs at a time and updates the last successful run timesuccess status sending mail for failed jobs maintaining the counts in sql database used tparalleize component and multithread execution option to run subjobs in parallel which increases the performance of a job\\u00e2\\u0080\\u00a2 created talend jobs to copy the files from one server to another and utilized talend ftp components implemented ftpoperations using talend studio to transfer files in between network folders as well as to ftp server using components like tfilelist ts3put tftput tfileexist tftpconnection etc\\u00e2\\u0080\\u00a2 extracted data from flat files/ databases applied business logic to load them in the staging database as well as flat files\\u00e2\\u0080\\u00a2 successfully loaded data into different targets from various source systems like sql database db2 flatfiles xml files etc into the staging table and then to the target databasecompany  tata consultancy servicesdescription  experience in development and design of etl (extract transform and loading data) methodology for supporting datatransformations and processing in a corporate wide etl solution using talend big data platform\\u00e2\\u0080\\u00a2 excellent working experience in agile methodologies\\u00e2\\u0080\\u00a2 proficiency in gathering and understanding the client requirements and translate business needs into technicalrequirements\\u00e2\\u0080\\u00a2 design and develop endtoend etl process from various source systems to staging area from staging to data warehousesoliciting and documenting business functional and data requirements context/variable diagrams use cases and etlrelated diagrams\\u00e2\\u0080\\u00a2 excellent oral/written communication with ability to effectively work with onsite and remote teams\\u00e2\\u0080\\u00a2 a good team player with excellent problem solving ability and time management skills having profound insight to determinepriorities schedule work and meet critical deadlinescompany  tata consultancy servicesdescription  prepared etl mapping documents for every mapping and data migration document for smooth transfer of project from development to testing environment and then to production environment performed unit testing and system testing tovalidate data loads in the target troubleshoot long running jobs and fixed the issues\",\n          \"education details  llb dibrugarh universityadvocate skill details legal exprience  less than 1 year monthscompany details company  legaldescription  \\u00e2\\u0080\\u00a2 advocate\"\n        ],\n        \"semantic_type\": \"\",\n        \"description\": \"\"\n      }\n    },\n    {\n      \"column\": \"label\",\n      \"properties\": {\n        \"dtype\": \"number\",\n        \"std\": 7,\n        \"min\": 0,\n        \"max\": 24,\n        \"num_unique_values\": 25,\n        \"samples\": [\n          22,\n          16,\n          20\n        ],\n        \"semantic_type\": \"\",\n        \"description\": \"\"\n      }\n    }\n  ]\n}"
            }
          },
          "metadata": {},
          "execution_count": 33
        }
      ]
    },
    {
      "cell_type": "markdown",
      "source": [
        "### Convert to HuggingFace Dataset"
      ],
      "metadata": {
        "id": "vQNG09lz2VG6"
      }
    },
    {
      "cell_type": "markdown",
      "source": [
        "**Exercise 10: Convert Pandas dataframe to HuggingFace Dataset [1 Mark]**\n",
        "\n",
        "**Hint:**\n",
        "\n",
        "    import pandas as pd\n",
        "    from datasets import Dataset, DatasetDict\n",
        "\n",
        "    tdf = pd.DataFrame({\"a\": [1, 2, 3], \"b\": ['hello', 'ola', 'thammi']})\n",
        "    vdf = pd.DataFrame({\"a\": [4, 5, 6], \"b\": ['four', 'five', 'six']})\n",
        "    tds = Dataset.from_pandas(tdf)\n",
        "    vds = Dataset.from_pandas(vdf)\n",
        "\n",
        "    ds = DatasetDict()\n",
        "\n",
        "    ds['train'] = tds\n",
        "    ds['validation'] = vds\n",
        "\n",
        "    print(ds)"
      ],
      "metadata": {
        "id": "qEpf_GllUIbt"
      }
    },
    {
      "cell_type": "code",
      "source": [
        "from datasets import Dataset, DatasetDict\n",
        "\n",
        "train_ds = Dataset.from_pandas(train_df)\n",
        "val_ds = Dataset.from_pandas(val_df)\n",
        "test_ds = Dataset.from_pandas(test_df)\n",
        "\n",
        "ds = DatasetDict()\n",
        "\n",
        "ds['train'] = train_ds\n",
        "ds['validation'] = val_ds\n",
        "ds['test'] = test_ds"
      ],
      "metadata": {
        "id": "z_89zi9XF5J0"
      },
      "execution_count": null,
      "outputs": []
    },
    {
      "cell_type": "markdown",
      "source": [
        "### Tokenizer"
      ],
      "metadata": {
        "id": "IXsHhNqcVyUb"
      }
    },
    {
      "cell_type": "markdown",
      "source": [
        "**Exercise 11: Load tokenizer for checkpoint `distilbert-base-uncased` [0.5 Mark]**\n",
        "\n",
        "**Hint:** `AutoTokenizer`"
      ],
      "metadata": {
        "id": "EqmNgMaQVNdp"
      }
    },
    {
      "cell_type": "code",
      "source": [
        "# Load tokenizer\n",
        "tokenizer = AutoTokenizer.from_pretrained(\"distilbert-base-uncased\")"
      ],
      "metadata": {
        "id": "iKAaBbGhq3cP",
        "colab": {
          "base_uri": "https://localhost:8080/",
          "height": 145,
          "referenced_widgets": [
            "abb58b19173f4b86890a8db5b704cb11",
            "24cd1a22c9864a8fab7dbc620760f0d0",
            "2b4a00a69bec4e22b42d282aea903b29",
            "737e7f83ebf34a69915b3a63a703a290",
            "198194c64cef4ce6b248a8b4959fa07f",
            "c3feb08bf4c042c5a09f5675ef5de389",
            "2d41bd3ab8da42d48d55934bdf9c88bb",
            "3af48c10deb64be09b4585a3d4627223",
            "ced03c833c2e425b813f0914ed371feb",
            "6d44430880ae43b580987ca5afbc27de",
            "3f91a1d8ce6545479505d615adea06bf",
            "e5f4e2ba756440f8b1863f773d1184dd",
            "28395d58955948ac899ed96ce1c7bda1",
            "b2c07ff805e743a9a1f146c66173a1bc",
            "a028fb509ae74968b668ada5fe409d29",
            "203f1e84c13a45749b6f84ec2d3c8aaf",
            "785e122f7a8a426ca8242d5dcc34f7f7",
            "4f2bf04394a443dca2fdafb24418b82d",
            "8b77fbb14feb4f93983064f00b8334b4",
            "9b060d4f67414ce8b287543f9f144730",
            "3aaa3fefd1b94f61bb023e03e5731a58",
            "894d377a117b41eca2c78ce396183fc1",
            "6045f1be8fd647a9ae34b98f59b98bfa",
            "cc0343810b274de8a9c24ab0012533b7",
            "9cb776ed94fd4a3cbeb616ae89f91dd8",
            "0d6c5389febb46bca655a7bc5c8f05b3",
            "054f14540266489787c08c60a13c3002",
            "da15c81f22654969b2a1749081cf940a",
            "8f413c481c2f4d2f96a0b143ace10c8f",
            "2b2db6075d1e42cfa2df8fb70471c0fa",
            "1ddeabfe76744969b7c503ee86717838",
            "ddc66db7c7334930abb24f4b6723069d",
            "812883bb75464fa98fae5a743927800d",
            "9ace6a96ab8c4dce85f4d2d050a21ab0",
            "4de953c2713c4e86be87921b8fa88f56",
            "8caf294bf04a4ea49957bfbeeefa6aaa",
            "5e27783a92134337a8d8120b78df84af",
            "969c95eabfdd4ae29c5aaa095ece9084",
            "58585b08974f48d48370fc0a66bb4783",
            "45c42877c1cf4b26b92b3119927bdc64",
            "812a318875844e87afe6a69fc6f2bb16",
            "e55fe701ae064c99bc007c25dd887eb3",
            "2f05127c03d34d089be1c2f95309fe91",
            "bf8792f9feb94b70a6d0dc26cdc72328"
          ]
        },
        "outputId": "a53c37a6-322f-43f5-e8da-824e6bed8a4c"
      },
      "execution_count": null,
      "outputs": [
        {
          "output_type": "display_data",
          "data": {
            "text/plain": [
              "tokenizer_config.json:   0%|          | 0.00/48.0 [00:00<?, ?B/s]"
            ],
            "application/vnd.jupyter.widget-view+json": {
              "version_major": 2,
              "version_minor": 0,
              "model_id": "abb58b19173f4b86890a8db5b704cb11"
            }
          },
          "metadata": {}
        },
        {
          "output_type": "display_data",
          "data": {
            "text/plain": [
              "config.json:   0%|          | 0.00/483 [00:00<?, ?B/s]"
            ],
            "application/vnd.jupyter.widget-view+json": {
              "version_major": 2,
              "version_minor": 0,
              "model_id": "e5f4e2ba756440f8b1863f773d1184dd"
            }
          },
          "metadata": {}
        },
        {
          "output_type": "display_data",
          "data": {
            "text/plain": [
              "vocab.txt:   0%|          | 0.00/232k [00:00<?, ?B/s]"
            ],
            "application/vnd.jupyter.widget-view+json": {
              "version_major": 2,
              "version_minor": 0,
              "model_id": "6045f1be8fd647a9ae34b98f59b98bfa"
            }
          },
          "metadata": {}
        },
        {
          "output_type": "display_data",
          "data": {
            "text/plain": [
              "tokenizer.json:   0%|          | 0.00/466k [00:00<?, ?B/s]"
            ],
            "application/vnd.jupyter.widget-view+json": {
              "version_major": 2,
              "version_minor": 0,
              "model_id": "9ace6a96ab8c4dce85f4d2d050a21ab0"
            }
          },
          "metadata": {}
        }
      ]
    },
    {
      "cell_type": "code",
      "source": [
        "def tokenize_fn(batch):\n",
        "    return tokenizer(batch['Cleaned_Resume'], padding=True, truncation=True)\n"
      ],
      "metadata": {
        "id": "89dlcyQkIL-Q"
      },
      "execution_count": null,
      "outputs": []
    },
    {
      "cell_type": "code",
      "source": [
        "tokenized_datasets = ds.map(tokenize_fn, batched=True)\n",
        "tokenized_datasets"
      ],
      "metadata": {
        "id": "Z_c7_2tYI7Nt",
        "colab": {
          "base_uri": "https://localhost:8080/",
          "height": 369,
          "referenced_widgets": [
            "f17570c828234b0a8e5c3a9ccde41ecd",
            "edc82ef4e4754a41958189eb98bf0006",
            "520d481f209d49a0b64f5a05a7786f42",
            "5f9615cc16014372a90fa1c5aa306855",
            "d1ac16f6dfad48efb343e50fd23d8673",
            "eea1907ef1bf4b938232632470b4ee6f",
            "2d572623b4d64648b4ae7d14410002ca",
            "fe401bd552a6493da8ebb8dea8a757c2",
            "1bbc31b72ba147deb44627d0156b3011",
            "e70fef1325b2405990e1c5b7755577cf",
            "866675d5422a4f2d85c5e720a5a36a86",
            "0e8c879a19be4e1d8e5edf5fd012254c",
            "445d36c3baa9492a855008dc98b514fd",
            "0892dd67e2eb46b7b531ade11ad42a34",
            "34c7644ab2b345a7908eacb9092498c7",
            "d0b13850ee444ffc8b8e6c035953a636",
            "d1d5a1c0591c4774a3769c2d57dfe5f4",
            "2285d88dd1744e298d166ba4a4e47545",
            "2246b296f5894077b3b0dbd75716dbae",
            "b721f1434c7746f395712bfa050df0f8",
            "94f0e02f225840f780dfea505d4d7b20",
            "f8c73611cf19488ea3fef8dd8fa224a7",
            "f9d0365a5ed14eceb716b3d6186a70c7",
            "a87b4fe82d634eb4b9b62a8545f97323",
            "9e68327fbadb442d9cf8b2ad373d93ec",
            "06511312ade24aa898c332ab0cd438f5",
            "566f366e3d7d4dbcaaf1cd97d7e949ba",
            "cd11bd23bb924db2bea312db01bc83f1",
            "4592fbf258c84aa2a655b1adbc6d4320",
            "3dca08a21a2e46df8dcf910b75c02689",
            "90b6aa08a4e3432fb04a098d37a1094b",
            "aec0f8f94c5d477ba850443baec119e6",
            "68f72280f231401a8625c5f564189394"
          ]
        },
        "outputId": "3de3930b-7c91-4aa0-bed3-9aab8bb206fe"
      },
      "execution_count": null,
      "outputs": [
        {
          "output_type": "display_data",
          "data": {
            "text/plain": [
              "Map:   0%|          | 0/615 [00:00<?, ? examples/s]"
            ],
            "application/vnd.jupyter.widget-view+json": {
              "version_major": 2,
              "version_minor": 0,
              "model_id": "f17570c828234b0a8e5c3a9ccde41ecd"
            }
          },
          "metadata": {}
        },
        {
          "output_type": "display_data",
          "data": {
            "text/plain": [
              "Map:   0%|          | 0/193 [00:00<?, ? examples/s]"
            ],
            "application/vnd.jupyter.widget-view+json": {
              "version_major": 2,
              "version_minor": 0,
              "model_id": "0e8c879a19be4e1d8e5edf5fd012254c"
            }
          },
          "metadata": {}
        },
        {
          "output_type": "display_data",
          "data": {
            "text/plain": [
              "Map:   0%|          | 0/154 [00:00<?, ? examples/s]"
            ],
            "application/vnd.jupyter.widget-view+json": {
              "version_major": 2,
              "version_minor": 0,
              "model_id": "f9d0365a5ed14eceb716b3d6186a70c7"
            }
          },
          "metadata": {}
        },
        {
          "output_type": "execute_result",
          "data": {
            "text/plain": [
              "DatasetDict({\n",
              "    train: Dataset({\n",
              "        features: ['Cleaned_Resume', 'label', '__index_level_0__', 'input_ids', 'attention_mask'],\n",
              "        num_rows: 615\n",
              "    })\n",
              "    validation: Dataset({\n",
              "        features: ['Cleaned_Resume', 'label', '__index_level_0__', 'input_ids', 'attention_mask'],\n",
              "        num_rows: 193\n",
              "    })\n",
              "    test: Dataset({\n",
              "        features: ['Cleaned_Resume', 'label', '__index_level_0__', 'input_ids', 'attention_mask'],\n",
              "        num_rows: 154\n",
              "    })\n",
              "})"
            ]
          },
          "metadata": {},
          "execution_count": 55
        }
      ]
    },
    {
      "cell_type": "code",
      "source": [
        "print(tokenized_datasets['train'][0])"
      ],
      "metadata": {
        "colab": {
          "base_uri": "https://localhost:8080/"
        },
        "id": "fhCvEwNV9mAT",
        "outputId": "8a58bdaa-4969-45fa-e02e-84b71aaaa3b7"
      },
      "execution_count": null,
      "outputs": [
        {
          "output_type": "stream",
          "name": "stdout",
          "text": [
            "{'Cleaned_Resume': 'training attended 1 successfully completed esd program conducted by zensar technologies pune in 2017 2 successfully completed employability training conducted by barclays global talent track and nasscom foundation in 2015 achievements 1 treasurer in ieee student branch at jscoe pune for 201718 2 worked as team leader in collegeâ\\x80\\x99s various technical and cultural events from 2016  2017 3 project idea got selected for final prototyping round in kpitsparkle 2018 pune 4 participated in avishkar 2017 conducted by savitribai phule pune university 5 project idea submitted in accenture innovation 2018 pune 6 brought sponsorship of rs 15000 from platinum auto (formerly royal enfield) in 2017 pune 7 secured 1 st rank for college level competition of poster presentation on smart ambulance in 2017 pune 8 organized ieee workshop on â\\x80\\x98excellence in english and public speakingâ\\x80\\x99 in 2017 pune workshops attended 1 successfully completed 4 daysâ\\x80\\x99 workshop on â\\x80\\x98medical iotâ\\x80\\x99 conducted by ieee standardâ\\x80\\x99s association at vip in 2017 pune 2 successfully completed 2 daysâ\\x80\\x99 workshop on â\\x80\\x98introduction to arduinoâ\\x80\\x99 at scoe in 2016 pune 3 successfully completed 3 daysâ\\x80\\x99 workshop on â\\x80\\x98robotics for juniorsâ\\x80\\x99 conducted by computer society of india at skncoe in 2016 pune 4 participated in various intercollege technical competitions at scoe pict and aissms pune education details june 2018 bachelor of engineering computer pune maharashtra savitribai phule pune universityjune 2014 hsc maharashtra state boardjune 2012 ssc maharashtra state boardpython developer python developer  atos syntelskill details python exprience  15 monthsdatabase exprience  7 monthsmysql exprience  7 monthsdjango exprience  6 monthshtml5 exprience  6 monthsrest api exprience  6 monthscompany details company  atos synteldescription  working as a developer in the field of computer vision for a us based client in banking domain1 design and development of computer vision based algorithms for image preprocessing using opencv pil and numpy2 unit testing and debugging the code and maintaining the versions using git', 'label': 20, '__index_level_0__': 591, 'input_ids': [101, 2731, 3230, 1015, 5147, 2949, 9686, 2094, 2565, 4146, 2011, 16729, 10286, 6786, 16920, 1999, 2418, 1016, 5147, 2949, 12666, 8010, 2731, 4146, 2011, 23724, 2015, 3795, 5848, 2650, 1998, 17235, 9363, 2213, 3192, 1999, 2325, 10106, 1015, 10211, 1999, 15368, 3076, 3589, 2012, 1046, 28147, 16920, 2005, 2418, 15136, 1016, 2499, 2004, 2136, 3003, 1999, 2267, 3022, 2536, 4087, 1998, 3451, 2824, 2013, 2355, 2418, 1017, 2622, 2801, 2288, 3479, 2005, 2345, 15053, 3723, 4691, 2461, 1999, 1047, 23270, 27694, 19099, 2760, 16920, 1018, 4194, 1999, 20704, 4509, 6673, 2418, 4146, 2011, 7842, 5737, 18886, 26068, 6887, 9307, 16920, 2118, 1019, 2622, 2801, 7864, 1999, 9669, 5397, 8144, 2760, 16920, 1020, 2716, 12026, 1997, 12667, 10347, 2692, 2013, 8899, 8285, 1006, 3839, 2548, 25821, 1007, 1999, 2418, 16920, 1021, 7119, 1015, 2358, 4635, 2005, 2267, 2504, 2971, 1997, 13082, 8312, 2006, 6047, 10771, 1999, 2418, 16920, 1022, 4114, 15368, 8395, 2006, 29347, 2595, 29109, 22717, 1999, 2394, 1998, 2270, 4092, 2050, 1999, 2418, 16920, 9656, 3230, 1015, 5147, 2949, 1018, 2420, 2050, 8395, 2006, 2572, 2098, 7476, 22834, 2696, 4146, 2011, 15368, 3115, 3022, 2523, 2012, 21722, 1999, 2418, 16920, 1016, 5147, 2949, 1016, 2420, 2050, 8395, 2006, 7110, 13181, 16256, 2000, 12098, 8566, 5740, 2050, 2012, 8040, 8913, 1999, 2355, 16920, 1017, 5147, 2949, 1017, 2420, 2050, 8395, 2006, 12098, 16429, 20214, 2015, 2005, 16651, 2050, 4146, 2011, 3274, 2554, 1997, 2634, 2012, 15315, 15305, 2063, 1999, 2355, 16920, 1018, 4194, 1999, 2536, 6970, 26895, 24746, 4087, 6479, 2012, 8040, 8913, 27263, 2102, 1998, 9932, 4757, 5244, 16920, 2495, 4751, 2238, 2760, 5065, 1997, 3330, 3274, 16920, 12434, 7842, 5737, 18886, 26068, 6887, 9307, 16920, 2118, 19792, 2063, 2297, 26236, 2278, 12434, 2110, 2604, 19792, 2063, 2262, 7020, 2278, 12434, 2110, 2604, 7685, 2705, 2239, 9722, 18750, 9722, 2012, 2891, 19962, 9834, 5488, 3363, 4751, 18750, 4654, 18098, 13684, 2321, 2706, 2850, 2696, 15058, 4654, 18098, 13684, 1021, 2706, 8029, 2015, 4160, 2140, 4654, 18098, 13684, 1021, 2706, 2094, 8405, 3995, 4654, 18098, 13684, 1020, 2706, 11039, 19968, 2629, 4654, 18098, 13684, 1020, 2706, 28533, 17928, 4654, 18098, 13684, 1020, 2706, 9006, 9739, 2100, 4751, 2194, 2012, 2891, 19962, 9834, 6155, 23235, 3258, 2551, 2004, 1037, 9722, 1999, 1996, 2492, 1997, 3274, 4432, 2005, 1037, 2149, 2241, 7396, 1999, 8169, 5884, 2487, 2640, 1998, 2458, 1997, 3274, 4432, 2241, 13792, 2005, 3746, 17463, 3217, 9623, 7741, 2478, 2330, 2278, 2615, 14255, 2140, 1998, 16371, 8737, 2100, 2475, 3131, 5604, 1998, 2139, 8569, 12588, 1996, 3642, 1998, 8498, 1996, 4617, 2478, 21025, 2102, 102, 0, 0, 0, 0, 0, 0, 0, 0, 0, 0, 0, 0, 0, 0, 0, 0, 0, 0, 0, 0, 0, 0, 0, 0, 0, 0, 0, 0, 0, 0, 0, 0, 0, 0, 0, 0, 0, 0, 0, 0, 0, 0, 0, 0, 0, 0, 0, 0, 0, 0, 0, 0, 0, 0, 0, 0, 0, 0, 0, 0, 0, 0, 0, 0, 0, 0, 0, 0, 0, 0, 0, 0, 0, 0, 0, 0, 0, 0, 0, 0, 0, 0, 0, 0, 0, 0], 'attention_mask': [1, 1, 1, 1, 1, 1, 1, 1, 1, 1, 1, 1, 1, 1, 1, 1, 1, 1, 1, 1, 1, 1, 1, 1, 1, 1, 1, 1, 1, 1, 1, 1, 1, 1, 1, 1, 1, 1, 1, 1, 1, 1, 1, 1, 1, 1, 1, 1, 1, 1, 1, 1, 1, 1, 1, 1, 1, 1, 1, 1, 1, 1, 1, 1, 1, 1, 1, 1, 1, 1, 1, 1, 1, 1, 1, 1, 1, 1, 1, 1, 1, 1, 1, 1, 1, 1, 1, 1, 1, 1, 1, 1, 1, 1, 1, 1, 1, 1, 1, 1, 1, 1, 1, 1, 1, 1, 1, 1, 1, 1, 1, 1, 1, 1, 1, 1, 1, 1, 1, 1, 1, 1, 1, 1, 1, 1, 1, 1, 1, 1, 1, 1, 1, 1, 1, 1, 1, 1, 1, 1, 1, 1, 1, 1, 1, 1, 1, 1, 1, 1, 1, 1, 1, 1, 1, 1, 1, 1, 1, 1, 1, 1, 1, 1, 1, 1, 1, 1, 1, 1, 1, 1, 1, 1, 1, 1, 1, 1, 1, 1, 1, 1, 1, 1, 1, 1, 1, 1, 1, 1, 1, 1, 1, 1, 1, 1, 1, 1, 1, 1, 1, 1, 1, 1, 1, 1, 1, 1, 1, 1, 1, 1, 1, 1, 1, 1, 1, 1, 1, 1, 1, 1, 1, 1, 1, 1, 1, 1, 1, 1, 1, 1, 1, 1, 1, 1, 1, 1, 1, 1, 1, 1, 1, 1, 1, 1, 1, 1, 1, 1, 1, 1, 1, 1, 1, 1, 1, 1, 1, 1, 1, 1, 1, 1, 1, 1, 1, 1, 1, 1, 1, 1, 1, 1, 1, 1, 1, 1, 1, 1, 1, 1, 1, 1, 1, 1, 1, 1, 1, 1, 1, 1, 1, 1, 1, 1, 1, 1, 1, 1, 1, 1, 1, 1, 1, 1, 1, 1, 1, 1, 1, 1, 1, 1, 1, 1, 1, 1, 1, 1, 1, 1, 1, 1, 1, 1, 1, 1, 1, 1, 1, 1, 1, 1, 1, 1, 1, 1, 1, 1, 1, 1, 1, 1, 1, 1, 1, 1, 1, 1, 1, 1, 1, 1, 1, 1, 1, 1, 1, 1, 1, 1, 1, 1, 1, 1, 1, 1, 1, 1, 1, 1, 1, 1, 1, 1, 1, 1, 1, 1, 1, 1, 1, 1, 1, 1, 1, 1, 1, 1, 1, 1, 1, 1, 1, 1, 1, 1, 1, 1, 1, 1, 1, 1, 1, 1, 1, 1, 1, 1, 1, 1, 1, 1, 1, 1, 1, 1, 1, 1, 1, 1, 1, 1, 1, 1, 0, 0, 0, 0, 0, 0, 0, 0, 0, 0, 0, 0, 0, 0, 0, 0, 0, 0, 0, 0, 0, 0, 0, 0, 0, 0, 0, 0, 0, 0, 0, 0, 0, 0, 0, 0, 0, 0, 0, 0, 0, 0, 0, 0, 0, 0, 0, 0, 0, 0, 0, 0, 0, 0, 0, 0, 0, 0, 0, 0, 0, 0, 0, 0, 0, 0, 0, 0, 0, 0, 0, 0, 0, 0, 0, 0, 0, 0, 0, 0, 0, 0, 0, 0, 0, 0]}\n"
          ]
        }
      ]
    },
    {
      "cell_type": "code",
      "source": [
        "print(tokenized_datasets['test'][1]['Cleaned_Resume'])"
      ],
      "metadata": {
        "colab": {
          "base_uri": "https://localhost:8080/"
        },
        "id": "8WoIhsPMN0_9",
        "outputId": "a50197c0-ea0d-4b3d-d935-39c8845ae7f4"
      },
      "execution_count": null,
      "outputs": [
        {
          "output_type": "stream",
          "name": "stdout",
          "text": [
            "technical skills skills java sql pl/sql c c++ bootstrap jsp ext js operating systems windows tools toad eclipse soapbox postman databases oracle mssql msaccess msexceleducation details january 2017 be computer technology gondia maharashtra in manoharbhai patel institute of engineering and technology hscgondia maharashtra in smp science collegejava developer java developer  xoriant solutions pvt ltdskill details company details company  xoriant solutions pvt ltddescription  puneperiodsept' 2017 to till daterolejava developerdescription resrent is a team responsible for the development of variousmodules for hertz they are responsible for the development of screens in the portfolios they look after and act as aprimary control function developing webservices to ensure it canbe hit by xml and json we build various modules which areinbuilt in hertz to provide interfaces for end users in their taskstools eclipse toad soapbox postmanresponsibilities develop module from backend to middleware to frontend bugs fixing and proactive developing of enhancements resolve application incidents within defined ucs & creatingdifferent task ticket as well debug and provide solution for workflow resolving db issues and providing technical support to bas keeping track of deployments and effect of same on ongoingjobs contribution towards automation of daily activities and processbased organization ontime withinbudget delivery meeting customers' qualityexpectations maintain knowledge base of domain known defects and issuesprocesses and development techniquescompany  xoriant solutions pvt ltddescription  strong communication collaboration & team building skills with proficiency at graspingnew technical concepts quickly and utilize the same in a productive mannerâ experience in development in web applicationâ resolve project related issues in minimal timeâ able to communicate effectively with multifunctional teams programmers and technical staff at all levelsâ good knowledge of java sql ext js jsp xml web servicesâ good interpersonal & analytical skills with proven abilities in resolving the complexsoftware issue\n"
          ]
        }
      ]
    },
    {
      "cell_type": "code",
      "source": [
        "print(tokenized_datasets['test'][1]['label'])"
      ],
      "metadata": {
        "colab": {
          "base_uri": "https://localhost:8080/"
        },
        "id": "N4ybc_fIOyrQ",
        "outputId": "b67a1a6e-b958-4cc5-df29-063b39f2e1be"
      },
      "execution_count": null,
      "outputs": [
        {
          "output_type": "stream",
          "name": "stdout",
          "text": [
            "15\n"
          ]
        }
      ]
    },
    {
      "cell_type": "markdown",
      "source": [
        "### Load Pre-Trained Model"
      ],
      "metadata": {
        "id": "TPXfBiYpElKx"
      }
    },
    {
      "cell_type": "markdown",
      "source": [
        "**Exercise 12: Load pre-trained Bert model with checkpoint `distilbert-base-uncased` and show model summary [0.5 Mark]**\n",
        "\n",
        "**Hint:** `AutoModelForSequenceClassification`"
      ],
      "metadata": {
        "id": "Z_14j98LV2Tg"
      }
    },
    {
      "cell_type": "code",
      "source": [
        "from transformers import AutoModelForSequenceClassification\n",
        "\n",
        "model = AutoModelForSequenceClassification.from_pretrained(\"distilbert-base-uncased\", num_labels=25)"
      ],
      "metadata": {
        "id": "tHeD1YZu-iA9",
        "colab": {
          "base_uri": "https://localhost:8080/"
        },
        "outputId": "684e2193-99e2-4c21-d9fa-b7c9b3987b69"
      },
      "execution_count": null,
      "outputs": [
        {
          "output_type": "stream",
          "name": "stderr",
          "text": [
            "Some weights of DistilBertForSequenceClassification were not initialized from the model checkpoint at distilbert-base-uncased and are newly initialized: ['classifier.bias', 'classifier.weight', 'pre_classifier.bias', 'pre_classifier.weight']\n",
            "You should probably TRAIN this model on a down-stream task to be able to use it for predictions and inference.\n"
          ]
        }
      ]
    },
    {
      "cell_type": "code",
      "source": [
        "print(model)"
      ],
      "metadata": {
        "colab": {
          "base_uri": "https://localhost:8080/"
        },
        "id": "Nb3CtkoSC0u0",
        "outputId": "936ed47e-e2ee-4b72-d881-858ca958c60e"
      },
      "execution_count": null,
      "outputs": [
        {
          "output_type": "stream",
          "name": "stdout",
          "text": [
            "DistilBertForSequenceClassification(\n",
            "  (distilbert): DistilBertModel(\n",
            "    (embeddings): Embeddings(\n",
            "      (word_embeddings): Embedding(30522, 768, padding_idx=0)\n",
            "      (position_embeddings): Embedding(512, 768)\n",
            "      (LayerNorm): LayerNorm((768,), eps=1e-12, elementwise_affine=True)\n",
            "      (dropout): Dropout(p=0.1, inplace=False)\n",
            "    )\n",
            "    (transformer): Transformer(\n",
            "      (layer): ModuleList(\n",
            "        (0-5): 6 x TransformerBlock(\n",
            "          (attention): DistilBertSdpaAttention(\n",
            "            (dropout): Dropout(p=0.1, inplace=False)\n",
            "            (q_lin): Linear(in_features=768, out_features=768, bias=True)\n",
            "            (k_lin): Linear(in_features=768, out_features=768, bias=True)\n",
            "            (v_lin): Linear(in_features=768, out_features=768, bias=True)\n",
            "            (out_lin): Linear(in_features=768, out_features=768, bias=True)\n",
            "          )\n",
            "          (sa_layer_norm): LayerNorm((768,), eps=1e-12, elementwise_affine=True)\n",
            "          (ffn): FFN(\n",
            "            (dropout): Dropout(p=0.1, inplace=False)\n",
            "            (lin1): Linear(in_features=768, out_features=3072, bias=True)\n",
            "            (lin2): Linear(in_features=3072, out_features=768, bias=True)\n",
            "            (activation): GELUActivation()\n",
            "          )\n",
            "          (output_layer_norm): LayerNorm((768,), eps=1e-12, elementwise_affine=True)\n",
            "        )\n",
            "      )\n",
            "    )\n",
            "  )\n",
            "  (pre_classifier): Linear(in_features=768, out_features=768, bias=True)\n",
            "  (classifier): Linear(in_features=768, out_features=25, bias=True)\n",
            "  (dropout): Dropout(p=0.2, inplace=False)\n",
            ")\n"
          ]
        }
      ]
    },
    {
      "cell_type": "code",
      "source": [
        "#from transformers import DistilBertConfig\n",
        "#config = DistilBertConfig.from_pretrained(\"distilbert-base-uncased\", output_hidden_states=True)\n",
        "#model = DistilBertForSequenceClassification(config)\n",
        "#print(model.config)"
      ],
      "metadata": {
        "colab": {
          "base_uri": "https://localhost:8080/"
        },
        "collapsed": true,
        "id": "tpoCasvsBXCr",
        "outputId": "aff14124-f71c-4730-9c90-b06e55d728a1"
      },
      "execution_count": null,
      "outputs": [
        {
          "output_type": "stream",
          "name": "stdout",
          "text": [
            "DistilBertConfig {\n",
            "  \"_attn_implementation_autoset\": true,\n",
            "  \"_name_or_path\": \"distilbert-base-uncased\",\n",
            "  \"activation\": \"gelu\",\n",
            "  \"architectures\": [\n",
            "    \"DistilBertForMaskedLM\"\n",
            "  ],\n",
            "  \"attention_dropout\": 0.1,\n",
            "  \"dim\": 768,\n",
            "  \"dropout\": 0.1,\n",
            "  \"hidden_dim\": 3072,\n",
            "  \"id2label\": {\n",
            "    \"0\": \"LABEL_0\",\n",
            "    \"1\": \"LABEL_1\",\n",
            "    \"2\": \"LABEL_2\",\n",
            "    \"3\": \"LABEL_3\",\n",
            "    \"4\": \"LABEL_4\",\n",
            "    \"5\": \"LABEL_5\",\n",
            "    \"6\": \"LABEL_6\",\n",
            "    \"7\": \"LABEL_7\",\n",
            "    \"8\": \"LABEL_8\",\n",
            "    \"9\": \"LABEL_9\",\n",
            "    \"10\": \"LABEL_10\",\n",
            "    \"11\": \"LABEL_11\",\n",
            "    \"12\": \"LABEL_12\",\n",
            "    \"13\": \"LABEL_13\",\n",
            "    \"14\": \"LABEL_14\",\n",
            "    \"15\": \"LABEL_15\",\n",
            "    \"16\": \"LABEL_16\",\n",
            "    \"17\": \"LABEL_17\",\n",
            "    \"18\": \"LABEL_18\",\n",
            "    \"19\": \"LABEL_19\",\n",
            "    \"20\": \"LABEL_20\",\n",
            "    \"21\": \"LABEL_21\",\n",
            "    \"22\": \"LABEL_22\",\n",
            "    \"23\": \"LABEL_23\",\n",
            "    \"24\": \"LABEL_24\"\n",
            "  },\n",
            "  \"initializer_range\": 0.02,\n",
            "  \"label2id\": {\n",
            "    \"LABEL_0\": 0,\n",
            "    \"LABEL_1\": 1,\n",
            "    \"LABEL_10\": 10,\n",
            "    \"LABEL_11\": 11,\n",
            "    \"LABEL_12\": 12,\n",
            "    \"LABEL_13\": 13,\n",
            "    \"LABEL_14\": 14,\n",
            "    \"LABEL_15\": 15,\n",
            "    \"LABEL_16\": 16,\n",
            "    \"LABEL_17\": 17,\n",
            "    \"LABEL_18\": 18,\n",
            "    \"LABEL_19\": 19,\n",
            "    \"LABEL_2\": 2,\n",
            "    \"LABEL_20\": 20,\n",
            "    \"LABEL_21\": 21,\n",
            "    \"LABEL_22\": 22,\n",
            "    \"LABEL_23\": 23,\n",
            "    \"LABEL_24\": 24,\n",
            "    \"LABEL_3\": 3,\n",
            "    \"LABEL_4\": 4,\n",
            "    \"LABEL_5\": 5,\n",
            "    \"LABEL_6\": 6,\n",
            "    \"LABEL_7\": 7,\n",
            "    \"LABEL_8\": 8,\n",
            "    \"LABEL_9\": 9\n",
            "  },\n",
            "  \"max_position_embeddings\": 512,\n",
            "  \"model_type\": \"distilbert\",\n",
            "  \"n_heads\": 12,\n",
            "  \"n_layers\": 6,\n",
            "  \"pad_token_id\": 0,\n",
            "  \"qa_dropout\": 0.1,\n",
            "  \"seq_classif_dropout\": 0.2,\n",
            "  \"sinusoidal_pos_embds\": false,\n",
            "  \"tie_weights_\": true,\n",
            "  \"transformers_version\": \"4.47.1\",\n",
            "  \"vocab_size\": 30522\n",
            "}\n",
            "\n"
          ]
        }
      ]
    },
    {
      "cell_type": "markdown",
      "source": [
        "**Exercise 13: Freeze/Un-Freeze different layers  [0.5 Mark]**\n",
        "\n",
        "**Hint:** Freeze layers starting with name *distilbert*\n"
      ],
      "metadata": {
        "id": "OEaFCpYAFLzC"
      }
    },
    {
      "cell_type": "code",
      "source": [
        "# Display layers name\n",
        "#distilbert_model = model.distilbert\n",
        "#distilbert_model.named_parameters()\n",
        "for name, param in model.named_parameters():\n",
        "    print(name)"
      ],
      "metadata": {
        "id": "XrMTbGJaf0fz",
        "colab": {
          "base_uri": "https://localhost:8080/"
        },
        "outputId": "1c0c7f32-7c62-4a83-ee89-9780451acf37"
      },
      "execution_count": null,
      "outputs": [
        {
          "output_type": "stream",
          "name": "stdout",
          "text": [
            "distilbert.embeddings.word_embeddings.weight\n",
            "distilbert.embeddings.position_embeddings.weight\n",
            "distilbert.embeddings.LayerNorm.weight\n",
            "distilbert.embeddings.LayerNorm.bias\n",
            "distilbert.transformer.layer.0.attention.q_lin.weight\n",
            "distilbert.transformer.layer.0.attention.q_lin.bias\n",
            "distilbert.transformer.layer.0.attention.k_lin.weight\n",
            "distilbert.transformer.layer.0.attention.k_lin.bias\n",
            "distilbert.transformer.layer.0.attention.v_lin.weight\n",
            "distilbert.transformer.layer.0.attention.v_lin.bias\n",
            "distilbert.transformer.layer.0.attention.out_lin.weight\n",
            "distilbert.transformer.layer.0.attention.out_lin.bias\n",
            "distilbert.transformer.layer.0.sa_layer_norm.weight\n",
            "distilbert.transformer.layer.0.sa_layer_norm.bias\n",
            "distilbert.transformer.layer.0.ffn.lin1.weight\n",
            "distilbert.transformer.layer.0.ffn.lin1.bias\n",
            "distilbert.transformer.layer.0.ffn.lin2.weight\n",
            "distilbert.transformer.layer.0.ffn.lin2.bias\n",
            "distilbert.transformer.layer.0.output_layer_norm.weight\n",
            "distilbert.transformer.layer.0.output_layer_norm.bias\n",
            "distilbert.transformer.layer.1.attention.q_lin.weight\n",
            "distilbert.transformer.layer.1.attention.q_lin.bias\n",
            "distilbert.transformer.layer.1.attention.k_lin.weight\n",
            "distilbert.transformer.layer.1.attention.k_lin.bias\n",
            "distilbert.transformer.layer.1.attention.v_lin.weight\n",
            "distilbert.transformer.layer.1.attention.v_lin.bias\n",
            "distilbert.transformer.layer.1.attention.out_lin.weight\n",
            "distilbert.transformer.layer.1.attention.out_lin.bias\n",
            "distilbert.transformer.layer.1.sa_layer_norm.weight\n",
            "distilbert.transformer.layer.1.sa_layer_norm.bias\n",
            "distilbert.transformer.layer.1.ffn.lin1.weight\n",
            "distilbert.transformer.layer.1.ffn.lin1.bias\n",
            "distilbert.transformer.layer.1.ffn.lin2.weight\n",
            "distilbert.transformer.layer.1.ffn.lin2.bias\n",
            "distilbert.transformer.layer.1.output_layer_norm.weight\n",
            "distilbert.transformer.layer.1.output_layer_norm.bias\n",
            "distilbert.transformer.layer.2.attention.q_lin.weight\n",
            "distilbert.transformer.layer.2.attention.q_lin.bias\n",
            "distilbert.transformer.layer.2.attention.k_lin.weight\n",
            "distilbert.transformer.layer.2.attention.k_lin.bias\n",
            "distilbert.transformer.layer.2.attention.v_lin.weight\n",
            "distilbert.transformer.layer.2.attention.v_lin.bias\n",
            "distilbert.transformer.layer.2.attention.out_lin.weight\n",
            "distilbert.transformer.layer.2.attention.out_lin.bias\n",
            "distilbert.transformer.layer.2.sa_layer_norm.weight\n",
            "distilbert.transformer.layer.2.sa_layer_norm.bias\n",
            "distilbert.transformer.layer.2.ffn.lin1.weight\n",
            "distilbert.transformer.layer.2.ffn.lin1.bias\n",
            "distilbert.transformer.layer.2.ffn.lin2.weight\n",
            "distilbert.transformer.layer.2.ffn.lin2.bias\n",
            "distilbert.transformer.layer.2.output_layer_norm.weight\n",
            "distilbert.transformer.layer.2.output_layer_norm.bias\n",
            "distilbert.transformer.layer.3.attention.q_lin.weight\n",
            "distilbert.transformer.layer.3.attention.q_lin.bias\n",
            "distilbert.transformer.layer.3.attention.k_lin.weight\n",
            "distilbert.transformer.layer.3.attention.k_lin.bias\n",
            "distilbert.transformer.layer.3.attention.v_lin.weight\n",
            "distilbert.transformer.layer.3.attention.v_lin.bias\n",
            "distilbert.transformer.layer.3.attention.out_lin.weight\n",
            "distilbert.transformer.layer.3.attention.out_lin.bias\n",
            "distilbert.transformer.layer.3.sa_layer_norm.weight\n",
            "distilbert.transformer.layer.3.sa_layer_norm.bias\n",
            "distilbert.transformer.layer.3.ffn.lin1.weight\n",
            "distilbert.transformer.layer.3.ffn.lin1.bias\n",
            "distilbert.transformer.layer.3.ffn.lin2.weight\n",
            "distilbert.transformer.layer.3.ffn.lin2.bias\n",
            "distilbert.transformer.layer.3.output_layer_norm.weight\n",
            "distilbert.transformer.layer.3.output_layer_norm.bias\n",
            "distilbert.transformer.layer.4.attention.q_lin.weight\n",
            "distilbert.transformer.layer.4.attention.q_lin.bias\n",
            "distilbert.transformer.layer.4.attention.k_lin.weight\n",
            "distilbert.transformer.layer.4.attention.k_lin.bias\n",
            "distilbert.transformer.layer.4.attention.v_lin.weight\n",
            "distilbert.transformer.layer.4.attention.v_lin.bias\n",
            "distilbert.transformer.layer.4.attention.out_lin.weight\n",
            "distilbert.transformer.layer.4.attention.out_lin.bias\n",
            "distilbert.transformer.layer.4.sa_layer_norm.weight\n",
            "distilbert.transformer.layer.4.sa_layer_norm.bias\n",
            "distilbert.transformer.layer.4.ffn.lin1.weight\n",
            "distilbert.transformer.layer.4.ffn.lin1.bias\n",
            "distilbert.transformer.layer.4.ffn.lin2.weight\n",
            "distilbert.transformer.layer.4.ffn.lin2.bias\n",
            "distilbert.transformer.layer.4.output_layer_norm.weight\n",
            "distilbert.transformer.layer.4.output_layer_norm.bias\n",
            "distilbert.transformer.layer.5.attention.q_lin.weight\n",
            "distilbert.transformer.layer.5.attention.q_lin.bias\n",
            "distilbert.transformer.layer.5.attention.k_lin.weight\n",
            "distilbert.transformer.layer.5.attention.k_lin.bias\n",
            "distilbert.transformer.layer.5.attention.v_lin.weight\n",
            "distilbert.transformer.layer.5.attention.v_lin.bias\n",
            "distilbert.transformer.layer.5.attention.out_lin.weight\n",
            "distilbert.transformer.layer.5.attention.out_lin.bias\n",
            "distilbert.transformer.layer.5.sa_layer_norm.weight\n",
            "distilbert.transformer.layer.5.sa_layer_norm.bias\n",
            "distilbert.transformer.layer.5.ffn.lin1.weight\n",
            "distilbert.transformer.layer.5.ffn.lin1.bias\n",
            "distilbert.transformer.layer.5.ffn.lin2.weight\n",
            "distilbert.transformer.layer.5.ffn.lin2.bias\n",
            "distilbert.transformer.layer.5.output_layer_norm.weight\n",
            "distilbert.transformer.layer.5.output_layer_norm.bias\n",
            "pre_classifier.weight\n",
            "pre_classifier.bias\n",
            "classifier.weight\n",
            "classifier.bias\n"
          ]
        }
      ]
    },
    {
      "cell_type": "code",
      "source": [
        "# Freezing\n",
        "\n",
        "for name, param in model.named_parameters():\n",
        "    if name.startswith('distilbert'):\n",
        "        param.requires_grad = False"
      ],
      "metadata": {
        "id": "Vl9qw4l2IPIA"
      },
      "execution_count": null,
      "outputs": []
    },
    {
      "cell_type": "code",
      "source": [
        "for name, param in model.named_parameters():\n",
        "    print(name, param.requires_grad)"
      ],
      "metadata": {
        "colab": {
          "base_uri": "https://localhost:8080/"
        },
        "id": "e4ZrsJz6Hvfc",
        "outputId": "001a50c0-9756-4b3b-ccf5-7874a91d51b9"
      },
      "execution_count": null,
      "outputs": [
        {
          "output_type": "stream",
          "name": "stdout",
          "text": [
            "distilbert.embeddings.word_embeddings.weight False\n",
            "distilbert.embeddings.position_embeddings.weight False\n",
            "distilbert.embeddings.LayerNorm.weight False\n",
            "distilbert.embeddings.LayerNorm.bias False\n",
            "distilbert.transformer.layer.0.attention.q_lin.weight False\n",
            "distilbert.transformer.layer.0.attention.q_lin.bias False\n",
            "distilbert.transformer.layer.0.attention.k_lin.weight False\n",
            "distilbert.transformer.layer.0.attention.k_lin.bias False\n",
            "distilbert.transformer.layer.0.attention.v_lin.weight False\n",
            "distilbert.transformer.layer.0.attention.v_lin.bias False\n",
            "distilbert.transformer.layer.0.attention.out_lin.weight False\n",
            "distilbert.transformer.layer.0.attention.out_lin.bias False\n",
            "distilbert.transformer.layer.0.sa_layer_norm.weight False\n",
            "distilbert.transformer.layer.0.sa_layer_norm.bias False\n",
            "distilbert.transformer.layer.0.ffn.lin1.weight False\n",
            "distilbert.transformer.layer.0.ffn.lin1.bias False\n",
            "distilbert.transformer.layer.0.ffn.lin2.weight False\n",
            "distilbert.transformer.layer.0.ffn.lin2.bias False\n",
            "distilbert.transformer.layer.0.output_layer_norm.weight False\n",
            "distilbert.transformer.layer.0.output_layer_norm.bias False\n",
            "distilbert.transformer.layer.1.attention.q_lin.weight False\n",
            "distilbert.transformer.layer.1.attention.q_lin.bias False\n",
            "distilbert.transformer.layer.1.attention.k_lin.weight False\n",
            "distilbert.transformer.layer.1.attention.k_lin.bias False\n",
            "distilbert.transformer.layer.1.attention.v_lin.weight False\n",
            "distilbert.transformer.layer.1.attention.v_lin.bias False\n",
            "distilbert.transformer.layer.1.attention.out_lin.weight False\n",
            "distilbert.transformer.layer.1.attention.out_lin.bias False\n",
            "distilbert.transformer.layer.1.sa_layer_norm.weight False\n",
            "distilbert.transformer.layer.1.sa_layer_norm.bias False\n",
            "distilbert.transformer.layer.1.ffn.lin1.weight False\n",
            "distilbert.transformer.layer.1.ffn.lin1.bias False\n",
            "distilbert.transformer.layer.1.ffn.lin2.weight False\n",
            "distilbert.transformer.layer.1.ffn.lin2.bias False\n",
            "distilbert.transformer.layer.1.output_layer_norm.weight False\n",
            "distilbert.transformer.layer.1.output_layer_norm.bias False\n",
            "distilbert.transformer.layer.2.attention.q_lin.weight False\n",
            "distilbert.transformer.layer.2.attention.q_lin.bias False\n",
            "distilbert.transformer.layer.2.attention.k_lin.weight False\n",
            "distilbert.transformer.layer.2.attention.k_lin.bias False\n",
            "distilbert.transformer.layer.2.attention.v_lin.weight False\n",
            "distilbert.transformer.layer.2.attention.v_lin.bias False\n",
            "distilbert.transformer.layer.2.attention.out_lin.weight False\n",
            "distilbert.transformer.layer.2.attention.out_lin.bias False\n",
            "distilbert.transformer.layer.2.sa_layer_norm.weight False\n",
            "distilbert.transformer.layer.2.sa_layer_norm.bias False\n",
            "distilbert.transformer.layer.2.ffn.lin1.weight False\n",
            "distilbert.transformer.layer.2.ffn.lin1.bias False\n",
            "distilbert.transformer.layer.2.ffn.lin2.weight False\n",
            "distilbert.transformer.layer.2.ffn.lin2.bias False\n",
            "distilbert.transformer.layer.2.output_layer_norm.weight False\n",
            "distilbert.transformer.layer.2.output_layer_norm.bias False\n",
            "distilbert.transformer.layer.3.attention.q_lin.weight False\n",
            "distilbert.transformer.layer.3.attention.q_lin.bias False\n",
            "distilbert.transformer.layer.3.attention.k_lin.weight False\n",
            "distilbert.transformer.layer.3.attention.k_lin.bias False\n",
            "distilbert.transformer.layer.3.attention.v_lin.weight False\n",
            "distilbert.transformer.layer.3.attention.v_lin.bias False\n",
            "distilbert.transformer.layer.3.attention.out_lin.weight False\n",
            "distilbert.transformer.layer.3.attention.out_lin.bias False\n",
            "distilbert.transformer.layer.3.sa_layer_norm.weight False\n",
            "distilbert.transformer.layer.3.sa_layer_norm.bias False\n",
            "distilbert.transformer.layer.3.ffn.lin1.weight False\n",
            "distilbert.transformer.layer.3.ffn.lin1.bias False\n",
            "distilbert.transformer.layer.3.ffn.lin2.weight False\n",
            "distilbert.transformer.layer.3.ffn.lin2.bias False\n",
            "distilbert.transformer.layer.3.output_layer_norm.weight False\n",
            "distilbert.transformer.layer.3.output_layer_norm.bias False\n",
            "distilbert.transformer.layer.4.attention.q_lin.weight False\n",
            "distilbert.transformer.layer.4.attention.q_lin.bias False\n",
            "distilbert.transformer.layer.4.attention.k_lin.weight False\n",
            "distilbert.transformer.layer.4.attention.k_lin.bias False\n",
            "distilbert.transformer.layer.4.attention.v_lin.weight False\n",
            "distilbert.transformer.layer.4.attention.v_lin.bias False\n",
            "distilbert.transformer.layer.4.attention.out_lin.weight False\n",
            "distilbert.transformer.layer.4.attention.out_lin.bias False\n",
            "distilbert.transformer.layer.4.sa_layer_norm.weight False\n",
            "distilbert.transformer.layer.4.sa_layer_norm.bias False\n",
            "distilbert.transformer.layer.4.ffn.lin1.weight False\n",
            "distilbert.transformer.layer.4.ffn.lin1.bias False\n",
            "distilbert.transformer.layer.4.ffn.lin2.weight False\n",
            "distilbert.transformer.layer.4.ffn.lin2.bias False\n",
            "distilbert.transformer.layer.4.output_layer_norm.weight False\n",
            "distilbert.transformer.layer.4.output_layer_norm.bias False\n",
            "distilbert.transformer.layer.5.attention.q_lin.weight False\n",
            "distilbert.transformer.layer.5.attention.q_lin.bias False\n",
            "distilbert.transformer.layer.5.attention.k_lin.weight False\n",
            "distilbert.transformer.layer.5.attention.k_lin.bias False\n",
            "distilbert.transformer.layer.5.attention.v_lin.weight False\n",
            "distilbert.transformer.layer.5.attention.v_lin.bias False\n",
            "distilbert.transformer.layer.5.attention.out_lin.weight False\n",
            "distilbert.transformer.layer.5.attention.out_lin.bias False\n",
            "distilbert.transformer.layer.5.sa_layer_norm.weight False\n",
            "distilbert.transformer.layer.5.sa_layer_norm.bias False\n",
            "distilbert.transformer.layer.5.ffn.lin1.weight False\n",
            "distilbert.transformer.layer.5.ffn.lin1.bias False\n",
            "distilbert.transformer.layer.5.ffn.lin2.weight False\n",
            "distilbert.transformer.layer.5.ffn.lin2.bias False\n",
            "distilbert.transformer.layer.5.output_layer_norm.weight False\n",
            "distilbert.transformer.layer.5.output_layer_norm.bias False\n",
            "pre_classifier.weight True\n",
            "pre_classifier.bias True\n",
            "classifier.weight True\n",
            "classifier.bias True\n"
          ]
        }
      ]
    },
    {
      "cell_type": "code",
      "source": [
        "# Display layers gradient\n",
        "\n",
        "for name, param in model.named_parameters():\n",
        "    print(name, param.requires_grad)"
      ],
      "metadata": {
        "id": "-rpzN_c6HRTR",
        "collapsed": true,
        "colab": {
          "base_uri": "https://localhost:8080/"
        },
        "outputId": "0a697774-6074-4bc9-df19-4ba0f45c41b3"
      },
      "execution_count": null,
      "outputs": [
        {
          "output_type": "stream",
          "name": "stdout",
          "text": [
            "distilbert.embeddings.word_embeddings.weight False\n",
            "distilbert.embeddings.position_embeddings.weight False\n",
            "distilbert.embeddings.LayerNorm.weight False\n",
            "distilbert.embeddings.LayerNorm.bias False\n",
            "distilbert.transformer.layer.0.attention.q_lin.weight False\n",
            "distilbert.transformer.layer.0.attention.q_lin.bias False\n",
            "distilbert.transformer.layer.0.attention.k_lin.weight False\n",
            "distilbert.transformer.layer.0.attention.k_lin.bias False\n",
            "distilbert.transformer.layer.0.attention.v_lin.weight False\n",
            "distilbert.transformer.layer.0.attention.v_lin.bias False\n",
            "distilbert.transformer.layer.0.attention.out_lin.weight False\n",
            "distilbert.transformer.layer.0.attention.out_lin.bias False\n",
            "distilbert.transformer.layer.0.sa_layer_norm.weight False\n",
            "distilbert.transformer.layer.0.sa_layer_norm.bias False\n",
            "distilbert.transformer.layer.0.ffn.lin1.weight False\n",
            "distilbert.transformer.layer.0.ffn.lin1.bias False\n",
            "distilbert.transformer.layer.0.ffn.lin2.weight False\n",
            "distilbert.transformer.layer.0.ffn.lin2.bias False\n",
            "distilbert.transformer.layer.0.output_layer_norm.weight False\n",
            "distilbert.transformer.layer.0.output_layer_norm.bias False\n",
            "distilbert.transformer.layer.1.attention.q_lin.weight False\n",
            "distilbert.transformer.layer.1.attention.q_lin.bias False\n",
            "distilbert.transformer.layer.1.attention.k_lin.weight False\n",
            "distilbert.transformer.layer.1.attention.k_lin.bias False\n",
            "distilbert.transformer.layer.1.attention.v_lin.weight False\n",
            "distilbert.transformer.layer.1.attention.v_lin.bias False\n",
            "distilbert.transformer.layer.1.attention.out_lin.weight False\n",
            "distilbert.transformer.layer.1.attention.out_lin.bias False\n",
            "distilbert.transformer.layer.1.sa_layer_norm.weight False\n",
            "distilbert.transformer.layer.1.sa_layer_norm.bias False\n",
            "distilbert.transformer.layer.1.ffn.lin1.weight False\n",
            "distilbert.transformer.layer.1.ffn.lin1.bias False\n",
            "distilbert.transformer.layer.1.ffn.lin2.weight False\n",
            "distilbert.transformer.layer.1.ffn.lin2.bias False\n",
            "distilbert.transformer.layer.1.output_layer_norm.weight False\n",
            "distilbert.transformer.layer.1.output_layer_norm.bias False\n",
            "distilbert.transformer.layer.2.attention.q_lin.weight False\n",
            "distilbert.transformer.layer.2.attention.q_lin.bias False\n",
            "distilbert.transformer.layer.2.attention.k_lin.weight False\n",
            "distilbert.transformer.layer.2.attention.k_lin.bias False\n",
            "distilbert.transformer.layer.2.attention.v_lin.weight False\n",
            "distilbert.transformer.layer.2.attention.v_lin.bias False\n",
            "distilbert.transformer.layer.2.attention.out_lin.weight False\n",
            "distilbert.transformer.layer.2.attention.out_lin.bias False\n",
            "distilbert.transformer.layer.2.sa_layer_norm.weight False\n",
            "distilbert.transformer.layer.2.sa_layer_norm.bias False\n",
            "distilbert.transformer.layer.2.ffn.lin1.weight False\n",
            "distilbert.transformer.layer.2.ffn.lin1.bias False\n",
            "distilbert.transformer.layer.2.ffn.lin2.weight False\n",
            "distilbert.transformer.layer.2.ffn.lin2.bias False\n",
            "distilbert.transformer.layer.2.output_layer_norm.weight False\n",
            "distilbert.transformer.layer.2.output_layer_norm.bias False\n",
            "distilbert.transformer.layer.3.attention.q_lin.weight False\n",
            "distilbert.transformer.layer.3.attention.q_lin.bias False\n",
            "distilbert.transformer.layer.3.attention.k_lin.weight False\n",
            "distilbert.transformer.layer.3.attention.k_lin.bias False\n",
            "distilbert.transformer.layer.3.attention.v_lin.weight False\n",
            "distilbert.transformer.layer.3.attention.v_lin.bias False\n",
            "distilbert.transformer.layer.3.attention.out_lin.weight False\n",
            "distilbert.transformer.layer.3.attention.out_lin.bias False\n",
            "distilbert.transformer.layer.3.sa_layer_norm.weight False\n",
            "distilbert.transformer.layer.3.sa_layer_norm.bias False\n",
            "distilbert.transformer.layer.3.ffn.lin1.weight False\n",
            "distilbert.transformer.layer.3.ffn.lin1.bias False\n",
            "distilbert.transformer.layer.3.ffn.lin2.weight False\n",
            "distilbert.transformer.layer.3.ffn.lin2.bias False\n",
            "distilbert.transformer.layer.3.output_layer_norm.weight False\n",
            "distilbert.transformer.layer.3.output_layer_norm.bias False\n",
            "distilbert.transformer.layer.4.attention.q_lin.weight False\n",
            "distilbert.transformer.layer.4.attention.q_lin.bias False\n",
            "distilbert.transformer.layer.4.attention.k_lin.weight False\n",
            "distilbert.transformer.layer.4.attention.k_lin.bias False\n",
            "distilbert.transformer.layer.4.attention.v_lin.weight False\n",
            "distilbert.transformer.layer.4.attention.v_lin.bias False\n",
            "distilbert.transformer.layer.4.attention.out_lin.weight False\n",
            "distilbert.transformer.layer.4.attention.out_lin.bias False\n",
            "distilbert.transformer.layer.4.sa_layer_norm.weight False\n",
            "distilbert.transformer.layer.4.sa_layer_norm.bias False\n",
            "distilbert.transformer.layer.4.ffn.lin1.weight False\n",
            "distilbert.transformer.layer.4.ffn.lin1.bias False\n",
            "distilbert.transformer.layer.4.ffn.lin2.weight False\n",
            "distilbert.transformer.layer.4.ffn.lin2.bias False\n",
            "distilbert.transformer.layer.4.output_layer_norm.weight False\n",
            "distilbert.transformer.layer.4.output_layer_norm.bias False\n",
            "distilbert.transformer.layer.5.attention.q_lin.weight False\n",
            "distilbert.transformer.layer.5.attention.q_lin.bias False\n",
            "distilbert.transformer.layer.5.attention.k_lin.weight False\n",
            "distilbert.transformer.layer.5.attention.k_lin.bias False\n",
            "distilbert.transformer.layer.5.attention.v_lin.weight False\n",
            "distilbert.transformer.layer.5.attention.v_lin.bias False\n",
            "distilbert.transformer.layer.5.attention.out_lin.weight False\n",
            "distilbert.transformer.layer.5.attention.out_lin.bias False\n",
            "distilbert.transformer.layer.5.sa_layer_norm.weight False\n",
            "distilbert.transformer.layer.5.sa_layer_norm.bias False\n",
            "distilbert.transformer.layer.5.ffn.lin1.weight False\n",
            "distilbert.transformer.layer.5.ffn.lin1.bias False\n",
            "distilbert.transformer.layer.5.ffn.lin2.weight False\n",
            "distilbert.transformer.layer.5.ffn.lin2.bias False\n",
            "distilbert.transformer.layer.5.output_layer_norm.weight False\n",
            "distilbert.transformer.layer.5.output_layer_norm.bias False\n",
            "pre_classifier.weight True\n",
            "pre_classifier.bias True\n",
            "classifier.weight True\n",
            "classifier.bias True\n"
          ]
        }
      ]
    },
    {
      "cell_type": "markdown",
      "source": [
        "### Metrics"
      ],
      "metadata": {
        "id": "_1fnp2FMLAbA"
      }
    },
    {
      "cell_type": "code",
      "source": [
        "from sklearn.metrics import accuracy_score, f1_score, precision_score, recall_score"
      ],
      "metadata": {
        "id": "HD4C2Z8bNuQf"
      },
      "execution_count": null,
      "outputs": []
    },
    {
      "cell_type": "code",
      "source": [
        "f1_score(y_true=[1,0,1], y_pred=[1,0,0], average='weighted')"
      ],
      "metadata": {
        "id": "0a_pwKLaPO5h",
        "colab": {
          "base_uri": "https://localhost:8080/"
        },
        "outputId": "88e2e975-3886-4e6e-937b-47a244a88306"
      },
      "execution_count": null,
      "outputs": [
        {
          "output_type": "execute_result",
          "data": {
            "text/plain": [
              "0.6666666666666666"
            ]
          },
          "metadata": {},
          "execution_count": 80
        }
      ]
    },
    {
      "cell_type": "code",
      "source": [
        "def compute_metrics(logits_and_labels):\n",
        "    logits, labels = logits_and_labels\n",
        "    predictions = np.argmax(logits,axis=-1)\n",
        "    return {'f1_score': f1_score(y_true=labels, y_pred=predictions, average='weighted')}\n"
      ],
      "metadata": {
        "id": "DWtXcsbnQcc-"
      },
      "execution_count": null,
      "outputs": []
    },
    {
      "cell_type": "markdown",
      "source": [
        "**Exercise 14: Fine-tune model on train dataset  [0.5 Mark]**\n",
        " * Create `TrainingArguments` class object\n",
        " * Create `Trainer` class  object\n",
        " * Train it for higher number of epochs say 40 or 50\n",
        " * Switch to GPU runtime if needed\n",
        "\n",
        "**Hint:** Check if the training code is running without any error with CPU runtime, later switch to GPU runtime for faster training. Once trained, save the model, create its zip file, and download into your system."
      ],
      "metadata": {
        "id": "lRCoqRSWLSu9"
      }
    },
    {
      "cell_type": "code",
      "source": [
        "from transformers import TrainingArguments\n",
        "from transformers import Trainer"
      ],
      "metadata": {
        "id": "p9mRRxP41j13"
      },
      "execution_count": null,
      "outputs": []
    },
    {
      "cell_type": "code",
      "source": [
        "# Set up the training arguments\n",
        "\n",
        "model_output_path = \"/content/bert_model\"\n",
        "\n",
        "training_args = TrainingArguments(\n",
        "    output_dir=model_output_path,\n",
        "    learning_rate=2e-5)"
      ],
      "metadata": {
        "id": "DVZwc4qv2kYz"
      },
      "execution_count": null,
      "outputs": []
    },
    {
      "cell_type": "code",
      "source": [
        "# Train the model\n",
        "\n",
        "trainer = Trainer(\n",
        "    model=model,\n",
        "    args=training_args,\n",
        "    train_dataset=tokenized_datasets[\"train\"],\n",
        "    eval_dataset=tokenized_datasets[\"validation\"],\n",
        "    tokenizer=tokenizer,\n",
        "    compute_metrics=compute_metrics)"
      ],
      "metadata": {
        "id": "NCkulT251mCW"
      },
      "execution_count": null,
      "outputs": []
    },
    {
      "cell_type": "markdown",
      "source": [
        "### Save Model"
      ],
      "metadata": {
        "id": "ZcgsEYJlKbR0"
      }
    },
    {
      "cell_type": "code",
      "source": [
        "# Save the model\n",
        "trainer.save_model('saved_bert_model')"
      ],
      "metadata": {
        "id": "r0-EFIfIGAwB"
      },
      "execution_count": null,
      "outputs": []
    },
    {
      "cell_type": "code",
      "source": [
        "!ls"
      ],
      "metadata": {
        "id": "h3SgH3qXGA1S",
        "colab": {
          "base_uri": "https://localhost:8080/"
        },
        "outputId": "a970364d-9b1e-4898-8fcf-6b4c4359beab"
      },
      "execution_count": null,
      "outputs": [
        {
          "output_type": "stream",
          "name": "stdout",
          "text": [
            "bert_model  img.gif  sample_data  saved_bert_model  UpdatedResumeDataSet.csv\n"
          ]
        }
      ]
    },
    {
      "cell_type": "code",
      "source": [
        "# Create a Zip file and download\n",
        "!zip -r saved_bert_model.zip saved_bert_model"
      ],
      "metadata": {
        "id": "e7KOsH5j6fkP",
        "colab": {
          "base_uri": "https://localhost:8080/"
        },
        "outputId": "ca54a112-7452-455b-861c-dd7129261f2a"
      },
      "execution_count": null,
      "outputs": [
        {
          "output_type": "stream",
          "name": "stdout",
          "text": [
            "  adding: saved_bert_model/ (stored 0%)\n",
            "  adding: saved_bert_model/tokenizer_config.json (deflated 75%)\n",
            "  adding: saved_bert_model/special_tokens_map.json (deflated 42%)\n",
            "  adding: saved_bert_model/model.safetensors (deflated 8%)\n",
            "  adding: saved_bert_model/config.json (deflated 64%)\n",
            "  adding: saved_bert_model/training_args.bin (deflated 52%)\n",
            "  adding: saved_bert_model/vocab.txt (deflated 53%)\n",
            "  adding: saved_bert_model/tokenizer.json (deflated 71%)\n"
          ]
        }
      ]
    },
    {
      "cell_type": "markdown",
      "source": [
        "### Load Model"
      ],
      "metadata": {
        "id": "6GxwVdGLKgPe"
      }
    },
    {
      "cell_type": "markdown",
      "source": [
        "**Exercise 15: Load the saved model and create a pipeline to perform text classification [1 Mark]**\n",
        "\n",
        " * Create the pipeline object for text classification\n",
        " * Create a `make_prediction` function to use pipeline object and output the prediction label\n",
        "\n",
        "**Hint:** pipeline()"
      ],
      "metadata": {
        "id": "kkX_uGuNaePi"
      }
    },
    {
      "cell_type": "code",
      "source": [
        "from transformers import pipeline"
      ],
      "metadata": {
        "id": "zh3Dvzz-GBEr"
      },
      "execution_count": null,
      "outputs": []
    },
    {
      "cell_type": "code",
      "source": [
        "my_model = AutoModelForSequenceClassification.from_pretrained(\"saved_bert_model\")"
      ],
      "metadata": {
        "id": "SKjG3Gm0Gb1Z"
      },
      "execution_count": null,
      "outputs": []
    },
    {
      "cell_type": "code",
      "source": [
        "# Function to predict label for a resume text\n",
        "\n",
        "def make_prediction(input_text):\n",
        "\n",
        "    pipe = pipeline(\"text-classification\", model=my_model, tokenizer=tokenizer)\n",
        "\n",
        "    return pipe(input_text)\n"
      ],
      "metadata": {
        "id": "AvSyk5jylTz7"
      },
      "execution_count": null,
      "outputs": []
    },
    {
      "cell_type": "code",
      "source": [
        "# Test prediction\n",
        "make_prediction('programming, web designing, coding')"
      ],
      "metadata": {
        "id": "BARs_uj-lTxH",
        "colab": {
          "base_uri": "https://localhost:8080/"
        },
        "outputId": "bc0c497e-caa7-405c-b247-5ae61fccd443"
      },
      "execution_count": null,
      "outputs": [
        {
          "output_type": "stream",
          "name": "stderr",
          "text": [
            "Device set to use cpu\n"
          ]
        },
        {
          "output_type": "execute_result",
          "data": {
            "text/plain": [
              "[{'label': 'LABEL_18', 'score': 0.04651535302400589}]"
            ]
          },
          "metadata": {},
          "execution_count": 91
        }
      ]
    },
    {
      "cell_type": "code",
      "source": [
        "make_prediction('continuous integration and continuous delivery')"
      ],
      "metadata": {
        "id": "jUPAf9tR8yEC",
        "colab": {
          "base_uri": "https://localhost:8080/"
        },
        "outputId": "8efe5227-15d1-44fa-9efb-bfc3427c8048"
      },
      "execution_count": null,
      "outputs": [
        {
          "output_type": "stream",
          "name": "stderr",
          "text": [
            "Device set to use cpu\n"
          ]
        },
        {
          "output_type": "execute_result",
          "data": {
            "text/plain": [
              "[{'label': 'LABEL_18', 'score': 0.04618459567427635}]"
            ]
          },
          "metadata": {},
          "execution_count": 92
        }
      ]
    },
    {
      "cell_type": "code",
      "source": [
        "make_prediction('law student and journalist')"
      ],
      "metadata": {
        "id": "vRgaCbxzExGC",
        "colab": {
          "base_uri": "https://localhost:8080/"
        },
        "outputId": "6b9ef9f8-d54b-4257-ecb9-ea8750cad488"
      },
      "execution_count": null,
      "outputs": [
        {
          "output_type": "stream",
          "name": "stderr",
          "text": [
            "Device set to use cpu\n"
          ]
        },
        {
          "output_type": "execute_result",
          "data": {
            "text/plain": [
              "[{'label': 'LABEL_8', 'score': 0.0472986176609993}]"
            ]
          },
          "metadata": {},
          "execution_count": 93
        }
      ]
    },
    {
      "cell_type": "code",
      "source": [
        "make_prediction('machine learning, data, EDA, big data, neural networks')"
      ],
      "metadata": {
        "id": "SG_mZItOqG2v",
        "colab": {
          "base_uri": "https://localhost:8080/"
        },
        "outputId": "56e7c04f-f1f7-4ab2-915e-7ec1240db2c7"
      },
      "execution_count": null,
      "outputs": [
        {
          "output_type": "stream",
          "name": "stderr",
          "text": [
            "Device set to use cpu\n"
          ]
        },
        {
          "output_type": "execute_result",
          "data": {
            "text/plain": [
              "[{'label': 'LABEL_16', 'score': 0.0453311912715435}]"
            ]
          },
          "metadata": {},
          "execution_count": 94
        }
      ]
    },
    {
      "cell_type": "code",
      "source": [
        "make_prediction('')"
      ],
      "metadata": {
        "id": "kFekPupCL34w"
      },
      "execution_count": null,
      "outputs": []
    },
    {
      "cell_type": "markdown",
      "metadata": {
        "id": "mr0xI6QwFN-Q"
      },
      "source": [
        "## **Optional**: Create a Gradio based web interface to test and display the model predictions"
      ]
    },
    {
      "cell_type": "code",
      "execution_count": null,
      "metadata": {
        "id": "wl0ngdnKjKHH",
        "colab": {
          "base_uri": "https://localhost:8080/"
        },
        "outputId": "50e32c2f-e5df-459e-f14d-f8c7ae49b111"
      },
      "outputs": [
        {
          "output_type": "stream",
          "name": "stdout",
          "text": [
            "\u001b[2K   \u001b[90m━━━━━━━━━━━━━━━━━━━━━━━━━━━━━━━━━━━━━━━━\u001b[0m \u001b[32m57.6/57.6 MB\u001b[0m \u001b[31m9.2 MB/s\u001b[0m eta \u001b[36m0:00:00\u001b[0m\n",
            "\u001b[2K   \u001b[90m━━━━━━━━━━━━━━━━━━━━━━━━━━━━━━━━━━━━━━━━\u001b[0m \u001b[32m321.4/321.4 kB\u001b[0m \u001b[31m15.5 MB/s\u001b[0m eta \u001b[36m0:00:00\u001b[0m\n",
            "\u001b[2K   \u001b[90m━━━━━━━━━━━━━━━━━━━━━━━━━━━━━━━━━━━━━━━━\u001b[0m \u001b[32m94.8/94.8 kB\u001b[0m \u001b[31m5.7 MB/s\u001b[0m eta \u001b[36m0:00:00\u001b[0m\n",
            "\u001b[2K   \u001b[90m━━━━━━━━━━━━━━━━━━━━━━━━━━━━━━━━━━━━━━━━\u001b[0m \u001b[32m11.3/11.3 MB\u001b[0m \u001b[31m35.6 MB/s\u001b[0m eta \u001b[36m0:00:00\u001b[0m\n",
            "\u001b[2K   \u001b[90m━━━━━━━━━━━━━━━━━━━━━━━━━━━━━━━━━━━━━━━━\u001b[0m \u001b[32m73.2/73.2 kB\u001b[0m \u001b[31m2.9 MB/s\u001b[0m eta \u001b[36m0:00:00\u001b[0m\n",
            "\u001b[2K   \u001b[90m━━━━━━━━━━━━━━━━━━━━━━━━━━━━━━━━━━━━━━━━\u001b[0m \u001b[32m62.3/62.3 kB\u001b[0m \u001b[31m3.9 MB/s\u001b[0m eta \u001b[36m0:00:00\u001b[0m\n",
            "\u001b[?25h"
          ]
        }
      ],
      "source": [
        "!pip -q install gradio"
      ]
    },
    {
      "cell_type": "code",
      "execution_count": null,
      "metadata": {
        "id": "3XwCJSdDDVVU"
      },
      "outputs": [],
      "source": [
        "import gradio"
      ]
    },
    {
      "cell_type": "code",
      "execution_count": null,
      "metadata": {
        "id": "bpRnUY5w551-",
        "colab": {
          "base_uri": "https://localhost:8080/",
          "height": 614
        },
        "outputId": "774a9c06-87c0-4213-eb63-16451779ba1f"
      },
      "outputs": [
        {
          "output_type": "stream",
          "name": "stdout",
          "text": [
            "Colab notebook detected. To show errors in colab notebook, set debug=True in launch()\n",
            "* Running on public URL: https://87848a2c98bcc0540a.gradio.live\n",
            "\n",
            "This share link expires in 72 hours. For free permanent hosting and GPU upgrades, run `gradio deploy` from the terminal in the working directory to deploy to Hugging Face Spaces (https://huggingface.co/spaces)\n"
          ]
        },
        {
          "output_type": "display_data",
          "data": {
            "text/plain": [
              "<IPython.core.display.HTML object>"
            ],
            "text/html": [
              "<div><iframe src=\"https://87848a2c98bcc0540a.gradio.live\" width=\"100%\" height=\"500\" allow=\"autoplay; camera; microphone; clipboard-read; clipboard-write;\" frameborder=\"0\" allowfullscreen></iframe></div>"
            ]
          },
          "metadata": {}
        },
        {
          "output_type": "execute_result",
          "data": {
            "text/plain": []
          },
          "metadata": {},
          "execution_count": 97
        }
      ],
      "source": [
        "# Textbox to take Input from user\n",
        "in_text = gradio.Textbox(lines=10, placeholder=None, value=\"Enter resume text here\", label='Resume Text')\n",
        "\n",
        "\n",
        "# Textbox to display Output prediction\n",
        "out_label = gradio.Textbox(type=\"text\", label='Predicted Class Label')\n",
        "\n",
        "\n",
        "# Gradio interface to create UI\n",
        "iface = gradio.Interface(fn = make_prediction,             # fine-tuned model is used inside this function\n",
        "                         inputs = [in_text],\n",
        "                         outputs = [out_label],\n",
        "                         title = \"Resume Classification\",\n",
        "                         description = \"Using fine-tuned Bert model\",\n",
        "                         allow_flagging = 'never')\n",
        "\n",
        "\n",
        "# Launch interface\n",
        "iface.launch(share = True)"
      ]
    }
  ]
}