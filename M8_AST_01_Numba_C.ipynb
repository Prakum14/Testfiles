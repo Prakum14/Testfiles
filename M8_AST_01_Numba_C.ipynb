{
  "nbformat": 4,
  "nbformat_minor": 5,
  "metadata": {
    "kernelspec": {
      "display_name": "Python 3",
      "language": "python",
      "name": "python3"
    },
    "language_info": {
      "codemirror_mode": {
        "name": "ipython",
        "version": 3
      },
      "file_extension": ".py",
      "mimetype": "text/x-python",
      "name": "python",
      "nbconvert_exporter": "python",
      "pygments_lexer": "ipython3",
      "version": "3.5.2"
    },
    "colab": {
      "provenance": [],
      "include_colab_link": true
    }
  },
  "cells": [
    {
      "cell_type": "markdown",
      "metadata": {
        "id": "view-in-github",
        "colab_type": "text"
      },
      "source": [
        "<a href=\"https://colab.research.google.com/github/Prakum14/Testfiles/blob/master/M8_AST_01_Numba_C.ipynb\" target=\"_parent\"><img src=\"https://colab.research.google.com/assets/colab-badge.svg\" alt=\"Open In Colab\"/></a>"
      ]
    },
    {
      "cell_type": "markdown",
      "metadata": {
        "id": "spare-audio"
      },
      "source": [
        "# Advanced Certification Programme in AI and MLOps\n",
        "## A Program by IISc and TalentSprint\n",
        "### Assignment 1: Introduction to Numba"
      ],
      "id": "spare-audio"
    },
    {
      "cell_type": "markdown",
      "metadata": {
        "id": "packed-devices"
      },
      "source": [
        "## Learning Objectives"
      ],
      "id": "packed-devices"
    },
    {
      "cell_type": "markdown",
      "metadata": {
        "id": "driven-masters"
      },
      "source": [
        "At the end of the experiment, you will be able to:\n",
        "\n",
        "* use the jit decorator to improve the performance\n",
        "* understand the difference between Numba’s compilation modes\n",
        "* understand limitations of Numba with examples\n",
        "* vectorize code for use as a ufunc"
      ],
      "id": "driven-masters"
    },
    {
      "cell_type": "markdown",
      "metadata": {
        "id": "compatible-daniel"
      },
      "source": [
        "## Information"
      ],
      "id": "compatible-daniel"
    },
    {
      "cell_type": "markdown",
      "metadata": {
        "id": "integrated-wallace"
      },
      "source": [
        "#### Numba in a Nutshell\n",
        "\n",
        "Numba is a Python module which translates a subset of Python and NumPy code into high-speed machine code. Numba allows the compilation of selected portions of pure Python code to native code, and generates optimized machine code using the LLVM (Low Level Virtual Machine) compiler infrastructure.\n",
        "\n",
        "With a few simple annotations, array-oriented and math-heavy Python code can be just-in-time (JIT) optimized to achieve performance similar to C, C++ and Fortran, without having to switch languages or Python interpreters.\n",
        "\n",
        "**High-Level architecture of Numba**\n",
        "\n",
        "The Numba translation process can be translated in a set of important steps ranging from the Bytecode analysis to the final machine code generation. The picture bellow illustrates this process, where the green boxes correspond to the frontend of the Numba compiler and the blue boxes belong to the backend.\n",
        "\n",
        "![Image](https://cdn.iisc.talentsprint.com/CDS/Images/numba.png)\n",
        "\n",
        "To know more about Numba click [here](https://towardsdatascience.com/speed-up-your-algorithms-part-2-numba-293e554c5cc1)\n"
      ],
      "id": "integrated-wallace"
    },
    {
      "cell_type": "markdown",
      "source": [
        "### Install dependencies"
      ],
      "metadata": {
        "id": "qsbzxGNZ7D6g"
      },
      "id": "qsbzxGNZ7D6g"
    },
    {
      "cell_type": "code",
      "source": [
        "%%capture\n",
        "!pip -q install numpy==1.26.0 --force-reinstall\n",
        "!pip -q install numba==0.58.1     # Install numba\n",
        "\n",
        "# Restart the Runtime after running this cell."
      ],
      "metadata": {
        "id": "r1wtfIvSrqA-"
      },
      "id": "r1wtfIvSrqA-",
      "execution_count": 1,
      "outputs": []
    },
    {
      "cell_type": "markdown",
      "source": [
        "## <font color='#992211'>Restart the Runtime</font>"
      ],
      "metadata": {
        "id": "I0XQTJastFr3"
      },
      "id": "I0XQTJastFr3"
    },
    {
      "cell_type": "markdown",
      "source": [
        "### Setup Steps:"
      ],
      "metadata": {
        "id": "rKQ0Fvl_jNqU"
      },
      "id": "rKQ0Fvl_jNqU"
    },
    {
      "cell_type": "code",
      "execution_count": 1,
      "metadata": {
        "id": "2YzfoPvJDiTX"
      },
      "outputs": [],
      "source": [
        "#@title Please enter your registration id to start: { run: \"auto\", display-mode: \"form\" }\n",
        "Id = \"2416218\" #@param {type:\"string\"}"
      ],
      "id": "2YzfoPvJDiTX"
    },
    {
      "cell_type": "code",
      "execution_count": 2,
      "metadata": {
        "id": "AjoZJWGErxGf"
      },
      "outputs": [],
      "source": [
        "#@title Please enter your password (your registered phone number) to continue: { run: \"auto\", display-mode: \"form\" }\n",
        "password = \"8975485400\" #@param {type:\"string\"}"
      ],
      "id": "AjoZJWGErxGf"
    },
    {
      "cell_type": "code",
      "execution_count": 3,
      "metadata": {
        "cellView": "form",
        "id": "WBPPuGmBlDIN",
        "collapsed": true,
        "colab": {
          "base_uri": "https://localhost:8080/",
          "height": 34
        },
        "outputId": "e420606b-d260-475c-81d5-db37b7a28df1"
      },
      "outputs": [
        {
          "output_type": "display_data",
          "data": {
            "text/plain": [
              "<IPython.core.display.HTML object>"
            ],
            "text/html": [
              "<script src=\"https://dashboard.talentsprint.com/aiml/record_ip.html?traineeId=2416218&recordId=7204\"></script>"
            ]
          },
          "metadata": {}
        },
        {
          "output_type": "stream",
          "name": "stdout",
          "text": [
            "Setup completed successfully\n"
          ]
        }
      ],
      "source": [
        "#@title Run this cell to complete the setup for this Notebook\n",
        "from IPython import get_ipython\n",
        "\n",
        "ipython = get_ipython()\n",
        "\n",
        "notebook= \"M8_AST_01_Numba_C\" #name of the notebook\n",
        "\n",
        "def setup():\n",
        "#  ipython.magic(\"sx pip3 install torch\")\n",
        "\n",
        "    from IPython.display import HTML, display\n",
        "    display(HTML('<script src=\"https://dashboard.talentsprint.com/aiml/record_ip.html?traineeId={0}&recordId={1}\"></script>'.format(getId(),submission_id)))\n",
        "    print(\"Setup completed successfully\")\n",
        "    return\n",
        "\n",
        "def submit_notebook():\n",
        "    ipython.magic(\"notebook -e \"+ notebook + \".ipynb\")\n",
        "\n",
        "    import requests, json, base64, datetime\n",
        "\n",
        "    url = \"https://dashboard.talentsprint.com/xp/app/save_notebook_attempts\"\n",
        "    if not submission_id:\n",
        "      data = {\"id\" : getId(), \"notebook\" : notebook, \"mobile\" : getPassword()}\n",
        "      r = requests.post(url, data = data)\n",
        "      r = json.loads(r.text)\n",
        "\n",
        "      if r[\"status\"] == \"Success\":\n",
        "          return r[\"record_id\"]\n",
        "      elif \"err\" in r:\n",
        "        print(r[\"err\"])\n",
        "        return None\n",
        "      else:\n",
        "        print (\"Something is wrong, the notebook will not be submitted for grading\")\n",
        "        return None\n",
        "\n",
        "    elif getAnswer() and getComplexity() and getAdditional() and getConcepts() and getComments() and getMentorSupport():\n",
        "      f = open(notebook + \".ipynb\", \"rb\")\n",
        "      file_hash = base64.b64encode(f.read())\n",
        "\n",
        "      data = {\"complexity\" : Complexity, \"additional\" :Additional,\n",
        "              \"concepts\" : Concepts, \"record_id\" : submission_id,\n",
        "              \"answer\" : Answer, \"id\" : Id, \"file_hash\" : file_hash,\n",
        "              \"notebook\" : notebook,\n",
        "              \"feedback_experiments_input\" : Comments,\n",
        "              \"feedback_mentor_support\": Mentor_support}\n",
        "      r = requests.post(url, data = data)\n",
        "      r = json.loads(r.text)\n",
        "      if \"err\" in r:\n",
        "        print(r[\"err\"])\n",
        "        return None\n",
        "      else:\n",
        "        print(\"Your submission is successful.\")\n",
        "        print(\"Ref Id:\", submission_id)\n",
        "        print(\"Date of submission: \", r[\"date\"])\n",
        "        print(\"Time of submission: \", r[\"time\"])\n",
        "        print(\"View your submissions: https://aimlops-iisc.talentsprint.com/notebook_submissions\")\n",
        "        #print(\"For any queries/discrepancies, please connect with mentors through the chat icon in LMS dashboard.\")\n",
        "        return submission_id\n",
        "    else: submission_id\n",
        "\n",
        "\n",
        "def getAdditional():\n",
        "  try:\n",
        "    if not Additional:\n",
        "      raise NameError\n",
        "    else:\n",
        "      return Additional\n",
        "  except NameError:\n",
        "    print (\"Please answer Additional Question\")\n",
        "    return None\n",
        "\n",
        "def getComplexity():\n",
        "  try:\n",
        "    if not Complexity:\n",
        "      raise NameError\n",
        "    else:\n",
        "      return Complexity\n",
        "  except NameError:\n",
        "    print (\"Please answer Complexity Question\")\n",
        "    return None\n",
        "\n",
        "def getConcepts():\n",
        "  try:\n",
        "    if not Concepts:\n",
        "      raise NameError\n",
        "    else:\n",
        "      return Concepts\n",
        "  except NameError:\n",
        "    print (\"Please answer Concepts Question\")\n",
        "    return None\n",
        "\n",
        "\n",
        "# def getWalkthrough():\n",
        "#   try:\n",
        "#     if not Walkthrough:\n",
        "#       raise NameError\n",
        "#     else:\n",
        "#       return Walkthrough\n",
        "#   except NameError:\n",
        "#     print (\"Please answer Walkthrough Question\")\n",
        "#     return None\n",
        "\n",
        "def getComments():\n",
        "  try:\n",
        "    if not Comments:\n",
        "      raise NameError\n",
        "    else:\n",
        "      return Comments\n",
        "  except NameError:\n",
        "    print (\"Please answer Comments Question\")\n",
        "    return None\n",
        "\n",
        "\n",
        "def getMentorSupport():\n",
        "  try:\n",
        "    if not Mentor_support:\n",
        "      raise NameError\n",
        "    else:\n",
        "      return Mentor_support\n",
        "  except NameError:\n",
        "    print (\"Please answer Mentor support Question\")\n",
        "    return None\n",
        "\n",
        "def getAnswer():\n",
        "  try:\n",
        "    if not Answer:\n",
        "      raise NameError\n",
        "    else:\n",
        "      return Answer\n",
        "  except NameError:\n",
        "    print (\"Please answer Question\")\n",
        "    return None\n",
        "\n",
        "\n",
        "def getId():\n",
        "  try:\n",
        "    return Id if Id else None\n",
        "  except NameError:\n",
        "    return None\n",
        "\n",
        "def getPassword():\n",
        "  try:\n",
        "    return password if password else None\n",
        "  except NameError:\n",
        "    return None\n",
        "\n",
        "submission_id = None\n",
        "### Setup\n",
        "if getPassword() and getId():\n",
        "  submission_id = submit_notebook()\n",
        "  if submission_id:\n",
        "    setup()\n",
        "else:\n",
        "  print (\"Please complete Id and Password cells before running setup\")\n",
        "\n"
      ],
      "id": "WBPPuGmBlDIN"
    },
    {
      "cell_type": "markdown",
      "metadata": {
        "id": "brazilian-cotton"
      },
      "source": [
        "### Import required packages"
      ],
      "id": "brazilian-cotton"
    },
    {
      "cell_type": "code",
      "metadata": {
        "id": "desirable-gabriel"
      },
      "source": [
        "from numba import jit, vectorize      # Importing all the functions present in numba package\n",
        "import numpy as np                    # Importing numpy package under a name np\n",
        "\n",
        "#import warnings\n",
        "#warnings.filterwarnings(\"ignore\")"
      ],
      "id": "desirable-gabriel",
      "execution_count": 4,
      "outputs": []
    },
    {
      "cell_type": "markdown",
      "metadata": {
        "id": "active-pathology"
      },
      "source": [
        "Let us first write a small python code to find the sums of all the elements of a given array and then understand its implementation using numba."
      ],
      "id": "active-pathology"
    },
    {
      "cell_type": "code",
      "metadata": {
        "id": "signed-seminar"
      },
      "source": [
        "# Python version code\n",
        "# Defining a function\n",
        "def ArraySum(array):\n",
        "    m, n = array.shape               # shape of a array\n",
        "    # This is a bad idea of calculating sum of elements in array(Not Pythonic style)\n",
        "    total = 0                        # Defining a variable\n",
        "    for j in range(m):               # iterating over rows\n",
        "        for i in range(n):           # iterating over columns\n",
        "            total += array[j, i]     # calculating the sum\n",
        "    return total                     # returning the sum of elements of an array"
      ],
      "id": "signed-seminar",
      "execution_count": 5,
      "outputs": []
    },
    {
      "cell_type": "code",
      "metadata": {
        "id": "interpreted-moses",
        "colab": {
          "base_uri": "https://localhost:8080/"
        },
        "outputId": "65297ea2-299e-40dd-8a64-45a489ead98e"
      },
      "source": [
        "A = np.random.random((200,200))  # Generating a numpy array\n",
        "ArraySum(A)                      # Calling the ArraySum function"
      ],
      "id": "interpreted-moses",
      "execution_count": 6,
      "outputs": [
        {
          "output_type": "execute_result",
          "data": {
            "text/plain": [
              "20084.239787464845"
            ]
          },
          "metadata": {},
          "execution_count": 6
        }
      ]
    },
    {
      "cell_type": "markdown",
      "metadata": {
        "id": "adult-portland"
      },
      "source": [
        "Now let us time the execution of ArraySum function while calculating the sum of elements in array 'A'"
      ],
      "id": "adult-portland"
    },
    {
      "cell_type": "code",
      "metadata": {
        "id": "committed-shelter",
        "colab": {
          "base_uri": "https://localhost:8080/"
        },
        "outputId": "f7825200-b3d7-4691-fdbe-dc3f7abb6ecf"
      },
      "source": [
        "# timing the execution\n",
        "%timeit ArraySum(A)"
      ],
      "id": "committed-shelter",
      "execution_count": 7,
      "outputs": [
        {
          "output_type": "stream",
          "name": "stdout",
          "text": [
            "7.7 ms ± 102 µs per loop (mean ± std. dev. of 7 runs, 100 loops each)\n"
          ]
        }
      ]
    },
    {
      "cell_type": "markdown",
      "metadata": {
        "id": "adapted-douglas"
      },
      "source": [
        "To know more about the timeit function click [here](https://docs.python.org/3/library/timeit.html)\n",
        "\n",
        "Now let us see how to speed up execution of ArraySum function while calculating the sum of elements in array 'A' using numba"
      ],
      "id": "adapted-douglas"
    },
    {
      "cell_type": "markdown",
      "metadata": {
        "id": "extended-fight"
      },
      "source": [
        "**Jit as function call**"
      ],
      "id": "extended-fight"
    },
    {
      "cell_type": "code",
      "source": [
        "sum_array_numba = jit()(ArraySum)      # Calling the jit compiler"
      ],
      "metadata": {
        "id": "MGo3abmqtWLB",
        "colab": {
          "base_uri": "https://localhost:8080/"
        },
        "outputId": "98a5dc7a-18dd-4fd7-9596-2f3454a54d5e"
      },
      "id": "MGo3abmqtWLB",
      "execution_count": 8,
      "outputs": [
        {
          "output_type": "stream",
          "name": "stderr",
          "text": [
            "<ipython-input-8-a8be6f764bd9>:1: NumbaDeprecationWarning: The 'nopython' keyword argument was not supplied to the 'numba.jit' decorator. The implicit default value for this argument is currently False, but it will be changed to True in Numba 0.59.0. See https://numba.readthedocs.io/en/stable/reference/deprecation.html#deprecation-of-object-mode-fall-back-behaviour-when-using-jit for details.\n",
            "  sum_array_numba = jit()(ArraySum)      # Calling the jit compiler\n"
          ]
        }
      ]
    },
    {
      "cell_type": "markdown",
      "metadata": {
        "id": "democratic-farming"
      },
      "source": [
        "The function **sum_array_numba** is a version of **ArraySum** that is “targeted” for JIT-compilation."
      ],
      "id": "democratic-farming"
    },
    {
      "cell_type": "code",
      "metadata": {
        "id": "interracial-breakdown",
        "colab": {
          "base_uri": "https://localhost:8080/"
        },
        "outputId": "e2b3c4c8-2d3c-4175-f253-7e7dd4100bdb"
      },
      "source": [
        "# Timing the excution of sum_array_numba function\n",
        "\n",
        "%timeit sum_array_numba(A)"
      ],
      "id": "interracial-breakdown",
      "execution_count": 9,
      "outputs": [
        {
          "output_type": "stream",
          "name": "stdout",
          "text": [
            "62.9 µs ± 7.44 µs per loop (mean ± std. dev. of 7 runs, 1 loop each)\n"
          ]
        }
      ]
    },
    {
      "cell_type": "markdown",
      "metadata": {
        "id": "backed-detector"
      },
      "source": [
        "From the above codes, we can see that execution of the code gets faster using JIT Compiler. Now let us write numpy version of the code to calculate the sum of elements in an array and timeit"
      ],
      "id": "backed-detector"
    },
    {
      "cell_type": "code",
      "metadata": {
        "id": "addressed-corruption",
        "colab": {
          "base_uri": "https://localhost:8080/"
        },
        "outputId": "08bd9024-3ec6-443b-a406-949c17a55d39"
      },
      "source": [
        "A.sum()        # using in-built sum function to find sum of elements in an array (Its better idea; Pythonic style)"
      ],
      "id": "addressed-corruption",
      "execution_count": 10,
      "outputs": [
        {
          "output_type": "execute_result",
          "data": {
            "text/plain": [
              "20084.23978746482"
            ]
          },
          "metadata": {},
          "execution_count": 10
        }
      ]
    },
    {
      "cell_type": "code",
      "metadata": {
        "id": "manual-scholar",
        "colab": {
          "base_uri": "https://localhost:8080/"
        },
        "outputId": "dc0c2d09-a91b-4711-dd88-772ec9df6f6a"
      },
      "source": [
        "# Timing the code\n",
        "%timeit A.sum()"
      ],
      "id": "manual-scholar",
      "execution_count": 11,
      "outputs": [
        {
          "output_type": "stream",
          "name": "stdout",
          "text": [
            "14.4 µs ± 1.8 µs per loop (mean ± std. dev. of 7 runs, 100000 loops each)\n"
          ]
        }
      ]
    },
    {
      "cell_type": "markdown",
      "metadata": {
        "id": "exact-sheffield"
      },
      "source": [
        "To know more about the sum function click [here](https://docs.python.org/3/library/functions.html#sum)"
      ],
      "id": "exact-sheffield"
    },
    {
      "cell_type": "markdown",
      "metadata": {
        "id": "utility-canal"
      },
      "source": [
        "In the above code, we have created a JIT compiled version **ArraySum** of via the call **jit()(ArraySum)**. In practice this would typically be done using an alternative **decorator** syntax.\n",
        "\n",
        "To know more about Python decorators click [here](https://link.medium.com/rixEI1907db)"
      ],
      "id": "utility-canal"
    },
    {
      "cell_type": "markdown",
      "metadata": {
        "id": "another-radar"
      },
      "source": [
        "**Decorator Notation**"
      ],
      "id": "another-radar"
    },
    {
      "cell_type": "markdown",
      "metadata": {
        "id": "basic-concord"
      },
      "source": [
        " To target a function for JIT compilation we will put **@jit** before the ArraySum function definition."
      ],
      "id": "basic-concord"
    },
    {
      "cell_type": "code",
      "metadata": {
        "id": "resistant-safety",
        "colab": {
          "base_uri": "https://localhost:8080/"
        },
        "outputId": "214a4c15-dec0-40a0-fe35-c1754aad168b"
      },
      "source": [
        "@jit\n",
        "# Defining a function\n",
        "def ArraySum(array):\n",
        "    m, n = array.shape                 # shape of a array\n",
        "    # This is a bad idea of calculating sum of elements in array(Not  Pythonic style)\n",
        "    total = 0                          # Defining a variable\n",
        "    for j in range(m):                 # iterating over rows\n",
        "        for i in range(n):             # iterating over columns\n",
        "            total += array[j, i]       # calculating the sum\n",
        "    return total                       # returning the sum of elements of an array"
      ],
      "id": "resistant-safety",
      "execution_count": 12,
      "outputs": [
        {
          "output_type": "stream",
          "name": "stderr",
          "text": [
            "<ipython-input-12-553a806b45af>:1: NumbaDeprecationWarning: The 'nopython' keyword argument was not supplied to the 'numba.jit' decorator. The implicit default value for this argument is currently False, but it will be changed to True in Numba 0.59.0. See https://numba.readthedocs.io/en/stable/reference/deprecation.html#deprecation-of-object-mode-fall-back-behaviour-when-using-jit for details.\n",
            "  @jit\n"
          ]
        }
      ]
    },
    {
      "cell_type": "code",
      "metadata": {
        "id": "injured-stockholm",
        "colab": {
          "base_uri": "https://localhost:8080/"
        },
        "outputId": "62777006-c321-4a3f-81f5-5e685d9d0461"
      },
      "source": [
        "# Timing the execution\n",
        "%timeit ArraySum(A)"
      ],
      "id": "injured-stockholm",
      "execution_count": 13,
      "outputs": [
        {
          "output_type": "stream",
          "name": "stdout",
          "text": [
            "59.2 µs ± 386 ns per loop (mean ± std. dev. of 7 runs, 10000 loops each)\n"
          ]
        }
      ]
    },
    {
      "cell_type": "markdown",
      "metadata": {
        "id": "equal-bronze"
      },
      "source": [
        "#### Think for a While!!\n",
        "\n",
        "- How does Numba get the code to run quickly?"
      ],
      "id": "equal-bronze"
    },
    {
      "cell_type": "markdown",
      "metadata": {
        "id": "under-cabin"
      },
      "source": [
        "Numba examines Python bytecode and then translates this into an 'intermediate representation'. We can view this using inspect_types method."
      ],
      "id": "under-cabin"
    },
    {
      "cell_type": "code",
      "metadata": {
        "id": "material-librarian",
        "colab": {
          "base_uri": "https://localhost:8080/"
        },
        "outputId": "b5ecc0c6-89ea-411e-9c7a-6c4fd8126128"
      },
      "source": [
        "ArraySum.inspect_types()      # Inspecting the types"
      ],
      "id": "material-librarian",
      "execution_count": 14,
      "outputs": [
        {
          "output_type": "stream",
          "name": "stdout",
          "text": [
            "ArraySum (Array(float64, 2, 'C', False, aligned=True),)\n",
            "--------------------------------------------------------------------------------\n",
            "# File: <ipython-input-12-553a806b45af>\n",
            "# --- LINE 1 --- \n",
            "# label 0\n",
            "#   array = arg(0, name=array)  :: array(float64, 2d, C)\n",
            "\n",
            "@jit\n",
            "\n",
            "# --- LINE 2 --- \n",
            "\n",
            "# Defining a function\n",
            "\n",
            "# --- LINE 3 --- \n",
            "\n",
            "def ArraySum(array):\n",
            "\n",
            "    # --- LINE 4 --- \n",
            "    #   $6load_attr.1 = getattr(value=array, attr=shape)  :: UniTuple(int64 x 2)\n",
            "    #   $16unpack_sequence.4 = exhaust_iter(value=$6load_attr.1, count=2)  :: UniTuple(int64 x 2)\n",
            "    #   del $6load_attr.1\n",
            "    #   $16unpack_sequence.2 = static_getitem(value=$16unpack_sequence.4, index=0, index_var=None, fn=<built-in function getitem>)  :: int64\n",
            "    #   $16unpack_sequence.3 = static_getitem(value=$16unpack_sequence.4, index=1, index_var=None, fn=<built-in function getitem>)  :: int64\n",
            "    #   del $16unpack_sequence.4\n",
            "    #   m = $16unpack_sequence.2  :: int64\n",
            "    #   del $16unpack_sequence.2\n",
            "    #   n = $16unpack_sequence.3  :: int64\n",
            "    #   del $16unpack_sequence.3\n",
            "\n",
            "    m, n = array.shape                 # shape of a array\n",
            "\n",
            "    # --- LINE 5 --- \n",
            "\n",
            "    # This is a bad idea of calculating sum of elements in array(Not  Pythonic style)\n",
            "\n",
            "    # --- LINE 6 --- \n",
            "    #   total = const(int, 0)  :: Literal[int](0)\n",
            "    #   total.3 = total  :: float64\n",
            "    #   del total\n",
            "\n",
            "    total = 0                          # Defining a variable\n",
            "\n",
            "    # --- LINE 7 --- \n",
            "    #   $28load_global.6 = global(range: <class 'range'>)  :: Function(<class 'range'>)\n",
            "    #   $46call.9 = call $28load_global.6(m, func=$28load_global.6, args=[Var(m, <ipython-input-12-553a806b45af>:4)], kws=(), vararg=None, varkwarg=None, target=None)  :: (int64,) -> range_state_int64\n",
            "    #   del m\n",
            "    #   del $28load_global.6\n",
            "    #   $56get_iter.10 = getiter(value=$46call.9)  :: range_iter_int64\n",
            "    #   del $46call.9\n",
            "    #   $phi58.0 = $56get_iter.10  :: range_iter_int64\n",
            "    #   del $56get_iter.10\n",
            "    #   jump 58\n",
            "    # label 58\n",
            "    #   $58for_iter.1 = iternext(value=$phi58.0)  :: pair<int64, bool>\n",
            "    #   $58for_iter.2 = pair_first(value=$58for_iter.1)  :: int64\n",
            "    #   $58for_iter.3 = pair_second(value=$58for_iter.1)  :: bool\n",
            "    #   del $58for_iter.1\n",
            "    #   $phi60.1 = $58for_iter.2  :: int64\n",
            "    #   del $58for_iter.2\n",
            "    #   branch $58for_iter.3, 60, 126\n",
            "    # label 60\n",
            "    #   j = $phi60.1  :: int64\n",
            "    #   del $phi60.1\n",
            "\n",
            "    for j in range(m):                 # iterating over rows\n",
            "\n",
            "        # --- LINE 8 --- \n",
            "        #   del $58for_iter.3\n",
            "        #   total.2 = total.3  :: float64\n",
            "        #   del total.3\n",
            "        #   $62load_global.2 = global(range: <class 'range'>)  :: Function(<class 'range'>)\n",
            "        #   $80call.5 = call $62load_global.2(n, func=$62load_global.2, args=[Var(n, <ipython-input-12-553a806b45af>:4)], kws=(), vararg=None, varkwarg=None, target=None)  :: (int64,) -> range_state_int64\n",
            "        #   del $62load_global.2\n",
            "        #   $90get_iter.6 = getiter(value=$80call.5)  :: range_iter_int64\n",
            "        #   del $80call.5\n",
            "        #   $phi92.1 = $90get_iter.6  :: range_iter_int64\n",
            "        #   del $90get_iter.6\n",
            "        #   jump 92\n",
            "        # label 92\n",
            "        #   $92for_iter.2 = iternext(value=$phi92.1)  :: pair<int64, bool>\n",
            "        #   $92for_iter.3 = pair_first(value=$92for_iter.2)  :: int64\n",
            "        #   $92for_iter.4 = pair_second(value=$92for_iter.2)  :: bool\n",
            "        #   del $92for_iter.2\n",
            "        #   $phi94.2 = $92for_iter.3  :: int64\n",
            "        #   del $92for_iter.3\n",
            "        #   branch $92for_iter.4, 94, 124\n",
            "        # label 94\n",
            "        #   del $92for_iter.4\n",
            "        #   i = $phi94.2  :: int64\n",
            "        #   del $phi94.2\n",
            "        # label 124\n",
            "        #   del j\n",
            "        #   del $phi94.2\n",
            "        #   del $phi92.1\n",
            "        #   del $92for_iter.4\n",
            "        #   total.3 = total.2  :: float64\n",
            "        #   del total.2\n",
            "        #   jump 58\n",
            "\n",
            "        for i in range(n):             # iterating over columns\n",
            "\n",
            "            # --- LINE 9 --- \n",
            "            #   $104build_tuple.7 = build_tuple(items=[Var(j, <ipython-input-12-553a806b45af>:7), Var(i, <ipython-input-12-553a806b45af>:8)])  :: UniTuple(int64 x 2)\n",
            "            #   del i\n",
            "            #   $106binary_subscr.8 = getitem(value=array, index=$104build_tuple.7, fn=<built-in function getitem>)  :: float64\n",
            "            #   del $104build_tuple.7\n",
            "            #   $binop_iadd116.9 = inplace_binop(fn=<built-in function iadd>, immutable_fn=<built-in function add>, lhs=total.2, rhs=$106binary_subscr.8, static_lhs=Undefined, static_rhs=Undefined)  :: float64\n",
            "            #   del $106binary_subscr.8\n",
            "            #   total.1 = $binop_iadd116.9  :: float64\n",
            "            #   del $binop_iadd116.9\n",
            "            #   total.2 = total.1  :: float64\n",
            "            #   del total.1\n",
            "            #   jump 92\n",
            "\n",
            "            total += array[j, i]       # calculating the sum\n",
            "\n",
            "    # --- LINE 10 --- \n",
            "    # label 126\n",
            "    #   del n\n",
            "    #   del array\n",
            "    #   del $phi60.1\n",
            "    #   del $phi58.0\n",
            "    #   del $58for_iter.3\n",
            "    #   $128return_value.1 = cast(value=total.3)  :: float64\n",
            "    #   del total.3\n",
            "    #   return $128return_value.1\n",
            "\n",
            "    return total                       # returning the sum of elements of an array\n",
            "\n",
            "\n",
            "================================================================================\n"
          ]
        }
      ]
    },
    {
      "cell_type": "markdown",
      "metadata": {
        "id": "liquid-ethiopia"
      },
      "source": [
        "From the above results, we can infer that\n",
        "- every line of Python code is preceded by several lines of Numba IR(Intermediate Representations) code that gives a glimpse into what Numba is doing to the Python code behind the scenes.\n",
        "- at the end of most lines there are type annotations that show how Numba is treating variables and function calls."
      ],
      "id": "liquid-ethiopia"
    },
    {
      "cell_type": "markdown",
      "metadata": {
        "id": "alone-probability"
      },
      "source": [
        "### Compilation modes\n",
        "\n",
        "There are two important modes: **nopython** and **object**.\n",
        "\n",
        "> The **nopython** completely avoids the python interpreter and translates the full code to native instructions that can be run without the help of Python .\n",
        "\n",
        ">However, if for some reason, that mode is not available (for example, when using unsupported Python features or external libraries) the compilation will fall back to the **object** mode, where it uses the Python interpreter when it is unable to compile some code .\n",
        "\n",
        "Naturally, the nopython mode is the one which offers the best performance gains."
      ],
      "id": "alone-probability"
    },
    {
      "cell_type": "markdown",
      "metadata": {
        "id": "resistant-large"
      },
      "source": [
        "**nopython mode**"
      ],
      "id": "resistant-large"
    },
    {
      "cell_type": "code",
      "metadata": {
        "id": "welcome-manhattan"
      },
      "source": [
        "@jit(nopython=True)\n",
        "# Defining a function\n",
        "def ArraySum(array):\n",
        "    m, n = array.shape                 # shape of a array\n",
        "    # This is a bad idea of calculating sum of elements in array(Not  Pythonic style)\n",
        "    total = 0                          # Defining a variable\n",
        "    for j in range(m):                 # iterating over rows\n",
        "        for i in range(n):             # iterating over columns\n",
        "            total += array[j, i]       # calculating the sum\n",
        "    return total                       # returning the sum of elements of an array"
      ],
      "id": "welcome-manhattan",
      "execution_count": 15,
      "outputs": []
    },
    {
      "cell_type": "code",
      "metadata": {
        "id": "furnished-cartoon",
        "colab": {
          "base_uri": "https://localhost:8080/"
        },
        "outputId": "3e01fbe5-091d-4da4-bbd1-32c9f6c01d2b"
      },
      "source": [
        "# Calling the above defined function and timing it\n",
        "%timeit ArraySum(A)"
      ],
      "id": "furnished-cartoon",
      "execution_count": 16,
      "outputs": [
        {
          "output_type": "stream",
          "name": "stdout",
          "text": [
            "59.6 µs ± 375 ns per loop (mean ± std. dev. of 7 runs, 10000 loops each)\n"
          ]
        }
      ]
    },
    {
      "cell_type": "markdown",
      "metadata": {
        "id": "single-tactics"
      },
      "source": [
        "#### Compilation flags for jit\n",
        "\n",
        "There are two other main compilation flags for @jit\n",
        "\n",
        "**a. cache mode**\n",
        "\n",
        "if we don't always want to be caught up in compile time for each run, we could use cache mode. This will actually save the compiled function into something like a pyc file in your \\_\\_pycache\\_\\_ directory, so even between sessions we should have fast performance of the function / code."
      ],
      "id": "single-tactics"
    },
    {
      "cell_type": "code",
      "metadata": {
        "id": "persistent-alliance",
        "colab": {
          "base_uri": "https://localhost:8080/"
        },
        "outputId": "b5f90859-c6ab-42cc-f6cb-20078d8856b1"
      },
      "source": [
        "@jit(cache=True)\n",
        "# Defining a function\n",
        "def ArraySum(array):\n",
        "    m, n = array.shape                 # shape of a array\n",
        "    # This is a bad idea of calculating sum of elements in array(Not  Pythonic style)\n",
        "    total = 0                          # Defining a variable\n",
        "    for j in range(m):                 # iterating over rows\n",
        "        for i in range(n):             # iterating over columns\n",
        "            total += array[j, i]       # calculating the sum\n",
        "    return total                       # returning the sum of elements of an array"
      ],
      "id": "persistent-alliance",
      "execution_count": 17,
      "outputs": [
        {
          "output_type": "stream",
          "name": "stderr",
          "text": [
            "<ipython-input-17-f55d6c38a09f>:1: NumbaDeprecationWarning: The 'nopython' keyword argument was not supplied to the 'numba.jit' decorator. The implicit default value for this argument is currently False, but it will be changed to True in Numba 0.59.0. See https://numba.readthedocs.io/en/stable/reference/deprecation.html#deprecation-of-object-mode-fall-back-behaviour-when-using-jit for details.\n",
            "  @jit(cache=True)\n"
          ]
        }
      ]
    },
    {
      "cell_type": "code",
      "metadata": {
        "id": "identified-shooting",
        "colab": {
          "base_uri": "https://localhost:8080/"
        },
        "outputId": "02ed564e-9a82-4e40-9690-e2fb88760271"
      },
      "source": [
        "# Calling the above defined function and timing it\n",
        "%timeit ArraySum(A)"
      ],
      "id": "identified-shooting",
      "execution_count": 18,
      "outputs": [
        {
          "output_type": "stream",
          "name": "stdout",
          "text": [
            "60.7 µs ± 1.12 µs per loop (mean ± std. dev. of 7 runs, 10000 loops each)\n"
          ]
        }
      ]
    },
    {
      "cell_type": "markdown",
      "metadata": {
        "id": "furnished-mongolia"
      },
      "source": [
        "**b. nogil mode**\n",
        "\n",
        "Whenever Numba optimizes Python code to native code that only works on native types and variables (rather than Python objects), it is not necessary anymore to hold Python's global interpreter lock (GIL). Numba will release the GIL when entering such a compiled function if you passed `nogil=True`.\n",
        "\n",
        "To know more about nogil mode click [here](https://docs.python.org/3/glossary.html#term-global-interpreter-lock)"
      ],
      "id": "furnished-mongolia"
    },
    {
      "cell_type": "code",
      "metadata": {
        "id": "headed-prime",
        "colab": {
          "base_uri": "https://localhost:8080/"
        },
        "outputId": "ff136810-1dc2-4082-a139-16edf75f6534"
      },
      "source": [
        "# Performing multi-threading using nogil\n",
        "\n",
        "@jit(nogil=True)  # Option to release the gil\n",
        "# Defining a function\n",
        "def ArraySum(array):\n",
        "    m, n = array.shape                 # shape of a array\n",
        "    # This is a bad idea of calculating sum of elements in array(Not  Pythonic style)\n",
        "    total = 0                          # Defining a variable\n",
        "    for j in range(m):                 # iterating over rows\n",
        "        for i in range(n):             # iterating over columns\n",
        "            total += array[j, i]       # calculating the sum\n",
        "    return total                       # returning the sum of elements of an array"
      ],
      "id": "headed-prime",
      "execution_count": 19,
      "outputs": [
        {
          "output_type": "stream",
          "name": "stderr",
          "text": [
            "<ipython-input-19-282d807fa209>:3: NumbaDeprecationWarning: The 'nopython' keyword argument was not supplied to the 'numba.jit' decorator. The implicit default value for this argument is currently False, but it will be changed to True in Numba 0.59.0. See https://numba.readthedocs.io/en/stable/reference/deprecation.html#deprecation-of-object-mode-fall-back-behaviour-when-using-jit for details.\n",
            "  @jit(nogil=True)  # Option to release the gil\n"
          ]
        }
      ]
    },
    {
      "cell_type": "code",
      "metadata": {
        "id": "velvet-belief",
        "colab": {
          "base_uri": "https://localhost:8080/"
        },
        "outputId": "be6180ff-173b-48f0-e8b3-caeeb7b063f9"
      },
      "source": [
        "# Calling the above defined function and timing it\n",
        "%timeit ArraySum(A)"
      ],
      "id": "velvet-belief",
      "execution_count": 20,
      "outputs": [
        {
          "output_type": "stream",
          "name": "stdout",
          "text": [
            "59.2 µs ± 152 ns per loop (mean ± std. dev. of 7 runs, 10000 loops each)\n"
          ]
        }
      ]
    },
    {
      "cell_type": "markdown",
      "metadata": {
        "id": "improving-blade"
      },
      "source": [
        "Now let us add Add `fastmath=True` to trade accuracy for speed in some computations and time it"
      ],
      "id": "improving-blade"
    },
    {
      "cell_type": "code",
      "metadata": {
        "id": "arbitrary-lambda",
        "colab": {
          "base_uri": "https://localhost:8080/"
        },
        "outputId": "91f712c4-98dc-4de5-9e1c-77461e18199f"
      },
      "source": [
        "@jit(fastmath=True)\n",
        "# Defining a function\n",
        "def ArraySum(array):\n",
        "    m, n = array.shape                 # shape of a array\n",
        "    # This is a bad idea of calculating sum of elements in array(Not  Pythonic style)\n",
        "    total = 0                          # Defining a variable\n",
        "    for j in range(m):                 # iterating over rows\n",
        "        for i in range(n):             # iterating over columns\n",
        "            total += array[j, i]       # calculating the sum\n",
        "    return total                       # returning the sum of elements of an array"
      ],
      "id": "arbitrary-lambda",
      "execution_count": 21,
      "outputs": [
        {
          "output_type": "stream",
          "name": "stderr",
          "text": [
            "<ipython-input-21-6643f3f10e45>:1: NumbaDeprecationWarning: The 'nopython' keyword argument was not supplied to the 'numba.jit' decorator. The implicit default value for this argument is currently False, but it will be changed to True in Numba 0.59.0. See https://numba.readthedocs.io/en/stable/reference/deprecation.html#deprecation-of-object-mode-fall-back-behaviour-when-using-jit for details.\n",
            "  @jit(fastmath=True)\n"
          ]
        }
      ]
    },
    {
      "cell_type": "code",
      "metadata": {
        "id": "soviet-reach",
        "colab": {
          "base_uri": "https://localhost:8080/"
        },
        "outputId": "226aaa69-d98b-449d-9cc9-e6211dc04adc"
      },
      "source": [
        "# Calling the above defined function and timing it\n",
        "%timeit ArraySum(A)"
      ],
      "id": "soviet-reach",
      "execution_count": 22,
      "outputs": [
        {
          "output_type": "stream",
          "name": "stdout",
          "text": [
            "8.03 µs ± 286 ns per loop (mean ± std. dev. of 7 runs, 100000 loops each)\n"
          ]
        }
      ]
    },
    {
      "cell_type": "markdown",
      "metadata": {
        "id": "deadly-queen"
      },
      "source": [
        "#### ParallelAccelerator\n",
        "\n",
        "- ParallelAccelerator is a special compiler pass contributed by Intel Labs\n",
        "    - Todd A. Anderson, Ehsan Totoni, Paul Liu\n",
        "    - Based on similar contribution to Julia\n",
        "- Automatically generates mulithreaded code in a Numba compiled-function:\n",
        "    - Array expressions and reductions\n",
        "    - Random functions\n",
        "    - Dot products\n",
        "    - Reductions\n",
        "    - Explicit loops indicated with prange() call\n",
        "    \n",
        "To know more about Parallel Accelerator click [here](https://numba.pydata.org/numba-doc/dev/user/parallel.html)\n"
      ],
      "id": "deadly-queen"
    },
    {
      "cell_type": "markdown",
      "metadata": {
        "id": "broad-batman"
      },
      "source": [
        "Now let us add `Parallel = True` tag in the @jil to use multi-core CPU via threading and to perform automatic parallelization"
      ],
      "id": "broad-batman"
    },
    {
      "cell_type": "code",
      "metadata": {
        "id": "deluxe-status",
        "colab": {
          "base_uri": "https://localhost:8080/"
        },
        "outputId": "ba3a1d22-74f4-4a72-8dc9-6ee05292060b"
      },
      "source": [
        "# without using parallel tag\n",
        "\n",
        "@jit\n",
        "def f(x): # Defining a function\n",
        "    return np.cos(x) ** 2 + np.sin(x) ** 2        # calculating the value"
      ],
      "id": "deluxe-status",
      "execution_count": 23,
      "outputs": [
        {
          "output_type": "stream",
          "name": "stderr",
          "text": [
            "<ipython-input-23-0698ddb40470>:3: NumbaDeprecationWarning: The 'nopython' keyword argument was not supplied to the 'numba.jit' decorator. The implicit default value for this argument is currently False, but it will be changed to True in Numba 0.59.0. See https://numba.readthedocs.io/en/stable/reference/deprecation.html#deprecation-of-object-mode-fall-back-behaviour-when-using-jit for details.\n",
            "  @jit\n"
          ]
        }
      ]
    },
    {
      "cell_type": "code",
      "metadata": {
        "id": "cultural-bunny"
      },
      "source": [
        "data = np.random.random((10000000))"
      ],
      "id": "cultural-bunny",
      "execution_count": 24,
      "outputs": []
    },
    {
      "cell_type": "code",
      "metadata": {
        "id": "major-alabama",
        "colab": {
          "base_uri": "https://localhost:8080/"
        },
        "outputId": "f1db6fdb-f4ff-4b5c-9bb0-4a3e075373ce"
      },
      "source": [
        "%timeit f(data)"
      ],
      "id": "major-alabama",
      "execution_count": 25,
      "outputs": [
        {
          "output_type": "stream",
          "name": "stdout",
          "text": [
            "248 ms ± 7.5 ms per loop (mean ± std. dev. of 7 runs, 1 loop each)\n"
          ]
        }
      ]
    },
    {
      "cell_type": "code",
      "metadata": {
        "id": "accurate-efficiency",
        "colab": {
          "base_uri": "https://localhost:8080/"
        },
        "outputId": "4502cba7-240f-46aa-8152-1b64e626b043"
      },
      "source": [
        "# Using parallel tag\n",
        "\n",
        "@jit(parallel=True)\n",
        "def f(x):\n",
        "    return np.cos(x) ** 2 + np.sin(x) ** 2"
      ],
      "id": "accurate-efficiency",
      "execution_count": 26,
      "outputs": [
        {
          "output_type": "stream",
          "name": "stderr",
          "text": [
            "<ipython-input-26-0084edba7a68>:3: NumbaDeprecationWarning: The 'nopython' keyword argument was not supplied to the 'numba.jit' decorator. The implicit default value for this argument is currently False, but it will be changed to True in Numba 0.59.0. See https://numba.readthedocs.io/en/stable/reference/deprecation.html#deprecation-of-object-mode-fall-back-behaviour-when-using-jit for details.\n",
            "  @jit(parallel=True)\n"
          ]
        }
      ]
    },
    {
      "cell_type": "code",
      "metadata": {
        "id": "meaningful-finding",
        "colab": {
          "base_uri": "https://localhost:8080/"
        },
        "outputId": "90aaa8ea-5a9d-43a5-8e0d-231615d09ae3"
      },
      "source": [
        "%timeit f(data)"
      ],
      "id": "meaningful-finding",
      "execution_count": 27,
      "outputs": [
        {
          "output_type": "stream",
          "name": "stdout",
          "text": [
            "214 ms ± 9.58 ms per loop (mean ± std. dev. of 7 runs, 1 loop each)\n"
          ]
        }
      ]
    },
    {
      "cell_type": "markdown",
      "metadata": {
        "id": "featured-voluntary"
      },
      "source": [
        "Before we drive deep into Numba, let us try to understand few limitations of Numba"
      ],
      "id": "featured-voluntary"
    },
    {
      "cell_type": "code",
      "metadata": {
        "id": "forbidden-contemporary",
        "colab": {
          "base_uri": "https://localhost:8080/"
        },
        "outputId": "a16ea3d9-c058-45c3-91ff-e0e49ca87c6f"
      },
      "source": [
        "# Example 1\n",
        "@jit\n",
        "def hello(n):\n",
        "    return [\"hell0\", 44] * 4"
      ],
      "id": "forbidden-contemporary",
      "execution_count": 28,
      "outputs": [
        {
          "output_type": "stream",
          "name": "stderr",
          "text": [
            "<ipython-input-28-364a2ba326fc>:2: NumbaDeprecationWarning: The 'nopython' keyword argument was not supplied to the 'numba.jit' decorator. The implicit default value for this argument is currently False, but it will be changed to True in Numba 0.59.0. See https://numba.readthedocs.io/en/stable/reference/deprecation.html#deprecation-of-object-mode-fall-back-behaviour-when-using-jit for details.\n",
            "  @jit\n"
          ]
        }
      ]
    },
    {
      "cell_type": "code",
      "metadata": {
        "id": "anm-I3kBTgIB",
        "colab": {
          "base_uri": "https://localhost:8080/"
        },
        "outputId": "72703e2b-e798-4d18-c3e6-7a4d1423217b"
      },
      "source": [
        "%timeit hello(1)"
      ],
      "id": "anm-I3kBTgIB",
      "execution_count": 29,
      "outputs": [
        {
          "output_type": "stream",
          "name": "stderr",
          "text": [
            "<ipython-input-28-364a2ba326fc>:2: NumbaWarning: \n",
            "Compilation is falling back to object mode WITH looplifting enabled because Function \"hello\" failed type inference due to: No implementation of function Function(<built-in function mul>) found for signature:\n",
            " \n",
            " >>> mul(LiteralList((Literal[str](hell0), Literal[int](44))), Literal[int](4))\n",
            " \n",
            "There are 14 candidate implementations:\n",
            "  - Of which 7 did not match due to:\n",
            "  Overload in function 'MulList.generic': File: numba/core/typing/listdecl.py: Line 114.\n",
            "    With argument(s): '(Poison<LiteralList((Literal[str](hell0), Literal[int](44)))>, int64)':\n",
            "   Rejected as the implementation raised a specific error:\n",
            "     TypingError: Poison type used in arguments; got Poison<LiteralList((Literal[str](hell0), Literal[int](44)))>\n",
            "  raised from /usr/local/lib/python3.11/dist-packages/numba/core/types/functions.py:236\n",
            "  - Of which 6 did not match due to:\n",
            "  Overload of function 'mul': File: <numerous>: Line N/A.\n",
            "    With argument(s): '(LiteralList((Literal[str](hell0), Literal[int](44))), Literal[int](4))':\n",
            "   No match.\n",
            "  - Of which 1 did not match due to:\n",
            "  Operator Overload in function 'mul': File: unknown: Line unknown.\n",
            "    With argument(s): '(LiteralList((Literal[str](hell0), Literal[int](44))), Literal[int](4))':\n",
            "   No match for registered cases:\n",
            "    * (int64, int64) -> int64\n",
            "    * (int64, uint64) -> int64\n",
            "    * (uint64, int64) -> int64\n",
            "    * (uint64, uint64) -> uint64\n",
            "    * (float32, float32) -> float32\n",
            "    * (float64, float64) -> float64\n",
            "    * (complex64, complex64) -> complex64\n",
            "    * (complex128, complex128) -> complex128\n",
            "\n",
            "During: typing of intrinsic-call at <ipython-input-28-364a2ba326fc> (4)\n",
            "\n",
            "File \"<ipython-input-28-364a2ba326fc>\", line 4:\n",
            "def hello(n):\n",
            "    return [\"hell0\", 44] * 4\n",
            "    ^\n",
            "\n",
            "  @jit\n",
            "/usr/local/lib/python3.11/dist-packages/numba/core/object_mode_passes.py:151: NumbaWarning: Function \"hello\" was compiled in object mode without forceobj=True.\n",
            "\n",
            "File \"<ipython-input-28-364a2ba326fc>\", line 3:\n",
            "@jit\n",
            "def hello(n):\n",
            "^\n",
            "\n",
            "  warnings.warn(errors.NumbaWarning(warn_msg,\n",
            "/usr/local/lib/python3.11/dist-packages/numba/core/object_mode_passes.py:161: NumbaDeprecationWarning: \n",
            "Fall-back from the nopython compilation path to the object mode compilation path has been detected. This is deprecated behaviour that will be removed in Numba 0.59.0.\n",
            "\n",
            "For more information visit https://numba.readthedocs.io/en/stable/reference/deprecation.html#deprecation-of-object-mode-fall-back-behaviour-when-using-jit\n",
            "\n",
            "File \"<ipython-input-28-364a2ba326fc>\", line 3:\n",
            "@jit\n",
            "def hello(n):\n",
            "^\n",
            "\n",
            "  warnings.warn(errors.NumbaDeprecationWarning(msg,\n"
          ]
        },
        {
          "output_type": "stream",
          "name": "stdout",
          "text": [
            "340 ns ± 10.8 ns per loop (mean ± std. dev. of 7 runs, 1000000 loops each)\n"
          ]
        }
      ]
    },
    {
      "cell_type": "markdown",
      "metadata": {
        "id": "overall-environment"
      },
      "source": [
        "After the above code, we will get the desired output but with a warning as Compilation is falling back to object mode. Now let us run the above code in nopython mode to see the limitation."
      ],
      "id": "overall-environment"
    },
    {
      "cell_type": "code",
      "metadata": {
        "id": "broadband-tuning"
      },
      "source": [
        "# Example 1\n",
        "@jit(nopython=True)\n",
        "def hello(n):\n",
        "    return [\"hell0\", 44]"
      ],
      "id": "broadband-tuning",
      "execution_count": 30,
      "outputs": []
    },
    {
      "cell_type": "code",
      "metadata": {
        "id": "understood-cutting"
      },
      "source": [
        "# Example 2\n",
        "@jit(nopython=True)\n",
        "def display():\n",
        "    data = {\"numbers\":[1, 3, 4], \"evens\":[2, 4, 6]}\n",
        "    return data[\"numbers\"]"
      ],
      "id": "understood-cutting",
      "execution_count": 31,
      "outputs": []
    },
    {
      "cell_type": "markdown",
      "metadata": {
        "id": "special-offense"
      },
      "source": [
        "To know more about limitations of Numba click [here](https://www.oreilly.com/library/view/python-high-performance/9781787282896/6e5cc5c4-ad53-4657-b502-6630dd9efced.xhtml)"
      ],
      "id": "special-offense"
    },
    {
      "cell_type": "markdown",
      "metadata": {
        "id": "sporting-charter"
      },
      "source": [
        "#### Universal Functions (Ufuncs)"
      ],
      "id": "sporting-charter"
    },
    {
      "cell_type": "markdown",
      "metadata": {
        "id": "extra-survival"
      },
      "source": [
        "- Ufuncs are a core concept in NumPy for array-oriented computing.\n",
        "- A function with scalar inputs is broadcast across the elements of the input arrays:\n",
        "    - np.add([1, 2, 3], 5) = [6, 7, 8]\n",
        "- Parallelism is present, by construction. Numba will generate loops and can automatically multi-thread if requested.\n",
        "\n",
        "To know more about Numpy Ufuncs click [here](https://numpy.org/doc/stable/reference/ufuncs.html)"
      ],
      "id": "extra-survival"
    },
    {
      "cell_type": "code",
      "metadata": {
        "id": "stunning-length",
        "colab": {
          "base_uri": "https://localhost:8080/"
        },
        "outputId": "0eaf13d5-464e-4a49-f4b4-99ebc632a82c"
      },
      "source": [
        "# Numpy ufuncs\n",
        "print(np.add(4, 5))             # Adding two numbers\n",
        "print(np.add([1, 4, 5], 6))     # Adding 6 to the elements in the list\n",
        "print(np.add(1, [3, 4]))        # Adding 1 to the elements in the list\n",
        "print(np.add.accumulate([4, 5, 7, 2, 4]))       # Accumulate the result of applying the operator to all elements."
      ],
      "id": "stunning-length",
      "execution_count": 32,
      "outputs": [
        {
          "output_type": "stream",
          "name": "stdout",
          "text": [
            "9\n",
            "[ 7 10 11]\n",
            "[4 5]\n",
            "[ 4  9 16 18 22]\n"
          ]
        }
      ]
    },
    {
      "cell_type": "code",
      "metadata": {
        "id": "destroyed-merit"
      },
      "source": [
        "# Numba ufuncs\n",
        "# Function to add two values\n",
        "@vectorize(\"(int64, int64)\")\n",
        "def add(x, y):\n",
        "    # adding the values\n",
        "    return x + y"
      ],
      "id": "destroyed-merit",
      "execution_count": 33,
      "outputs": []
    },
    {
      "cell_type": "code",
      "metadata": {
        "id": "fitting-founder",
        "colab": {
          "base_uri": "https://localhost:8080/"
        },
        "outputId": "2e4e3a20-6c38-4323-d2dd-2f0f777435a5"
      },
      "source": [
        "print(add(4, 5))              # Adding two numbers\n",
        "print(add([1, 4, 5], 6))      # Adding 6 to the elements in the list\n",
        "print(add(1, [3, 4]))         # Adding 1 to the elements in the list\n",
        "print(add.accumulate([4, 5, 7, 2, 4])) # Accumulate the result of applying the operator to all elements."
      ],
      "id": "fitting-founder",
      "execution_count": 34,
      "outputs": [
        {
          "output_type": "stream",
          "name": "stdout",
          "text": [
            "9\n",
            "[ 7 10 11]\n",
            "[4 5]\n",
            "[ 4  9 16 18 22]\n"
          ]
        }
      ]
    },
    {
      "cell_type": "markdown",
      "metadata": {
        "id": "previous-indie"
      },
      "source": [
        "To know more about vectorize decorator click [here](https://numba.pydata.org/numba-doc/dev/user/vectorize.html)"
      ],
      "id": "previous-indie"
    },
    {
      "cell_type": "markdown",
      "metadata": {
        "id": "confident-hacker"
      },
      "source": [
        "#### Research Question\n",
        "\n",
        "1. Write a code to approximate $\\pi$ by Monte Carlo and, compare speed with and without Numba when the sample size is large.\n",
        "\n",
        "    To know about $\\pi$ by Monte Carlo click [here](https://drive.google.com/file/d/1S1Jo-WAllaBh6JhRPIIc3kLSufgaPRjn/view?usp=sharing)"
      ],
      "id": "confident-hacker"
    },
    {
      "cell_type": "markdown",
      "metadata": {
        "id": "VHfHdGCP_n6Y"
      },
      "source": [
        "### Please answer the questions below to complete the experiment:\n",
        "\n",
        "\n"
      ],
      "id": "VHfHdGCP_n6Y"
    },
    {
      "cell_type": "code",
      "metadata": {
        "id": "VgSwVENIPcM6"
      },
      "source": [
        "# @title Select the FALSE statement below: { run: \"auto\", form-width: \"500px\", display-mode: \"form\" }\n",
        "Answer = \"Numba is a library that performs JIT compilation that translates pure python code to optimized machine code at runtime using the LLVM industry standard compiler\" #@param [\"\",\"Just-in-time (JIT) compilation means compilation of a function at execution time, as opposed to compilation of a function in a separate step before running the program code\", \"nopython=True compiles the decorated function so that it will run entirely with the involvement of the Python interpreter\", \"Numba is a library that performs JIT compilation that translates pure python code to optimized machine code at runtime using the LLVM industry standard compiler\"]"
      ],
      "id": "VgSwVENIPcM6",
      "execution_count": 35,
      "outputs": []
    },
    {
      "cell_type": "code",
      "metadata": {
        "id": "NMzKSbLIgFzQ"
      },
      "source": [
        "#@title How was the experiment? { run: \"auto\", form-width: \"500px\", display-mode: \"form\" }\n",
        "Complexity = \"Good and Challenging for me\" #@param [\"\",\"Too Simple, I am wasting time\", \"Good, But Not Challenging for me\", \"Good and Challenging for me\", \"Was Tough, but I did it\", \"Too Difficult for me\"]\n"
      ],
      "id": "NMzKSbLIgFzQ",
      "execution_count": 36,
      "outputs": []
    },
    {
      "cell_type": "code",
      "metadata": {
        "id": "DjcH1VWSFI2l"
      },
      "source": [
        "#@title If it was too easy, what more would you have liked to be added? If it was very difficult, what would you have liked to have been removed? { run: \"auto\", display-mode: \"form\" }\n",
        "Additional = \"Nothing\" #@param {type:\"string\"}\n"
      ],
      "id": "DjcH1VWSFI2l",
      "execution_count": 37,
      "outputs": []
    },
    {
      "cell_type": "code",
      "metadata": {
        "id": "4VBk_4VTAxCM"
      },
      "source": [
        "#@title Can you identify the concepts from the lecture which this experiment covered? { run: \"auto\", vertical-output: true, display-mode: \"form\" }\n",
        "Concepts = \"Yes\" #@param [\"\",\"Yes\", \"No\"]\n"
      ],
      "id": "4VBk_4VTAxCM",
      "execution_count": 38,
      "outputs": []
    },
    {
      "cell_type": "code",
      "metadata": {
        "id": "XH91cL1JWH7m"
      },
      "source": [
        "#@title  Text and image description/explanation and code comments within the experiment: { run: \"auto\", vertical-output: true, display-mode: \"form\" }\n",
        "Comments = \"Very Useful\" #@param [\"\",\"Very Useful\", \"Somewhat Useful\", \"Not Useful\", \"Didn't use\"]\n"
      ],
      "id": "XH91cL1JWH7m",
      "execution_count": 39,
      "outputs": []
    },
    {
      "cell_type": "code",
      "metadata": {
        "id": "z8xLqj7VWIKW"
      },
      "source": [
        "#@title Mentor Support: { run: \"auto\", vertical-output: true, display-mode: \"form\" }\n",
        "Mentor_support = \"Very Useful\" #@param [\"\",\"Very Useful\", \"Somewhat Useful\", \"Not Useful\", \"Didn't use\"]\n"
      ],
      "id": "z8xLqj7VWIKW",
      "execution_count": 40,
      "outputs": []
    },
    {
      "cell_type": "code",
      "metadata": {
        "id": "FzAZHt1zw-Y-",
        "cellView": "form",
        "colab": {
          "base_uri": "https://localhost:8080/"
        },
        "outputId": "30f9f340-4f97-4559-b497-807ae040ca2b"
      },
      "source": [
        "#@title Run this cell to submit your notebook for grading { vertical-output: true }\n",
        "try:\n",
        "  if submission_id:\n",
        "      return_id = submit_notebook()\n",
        "      if return_id : submission_id = return_id\n",
        "  else:\n",
        "      print(\"Please complete the setup first.\")\n",
        "except NameError:\n",
        "  print (\"Please complete the setup first.\")"
      ],
      "id": "FzAZHt1zw-Y-",
      "execution_count": 41,
      "outputs": [
        {
          "output_type": "stream",
          "name": "stdout",
          "text": [
            "Your submission is successful.\n",
            "Ref Id: 7204\n",
            "Date of submission:  18 May 2025\n",
            "Time of submission:  09:59:25\n",
            "View your submissions: https://aimlops-iisc.talentsprint.com/notebook_submissions\n"
          ]
        }
      ]
    }
  ]
}