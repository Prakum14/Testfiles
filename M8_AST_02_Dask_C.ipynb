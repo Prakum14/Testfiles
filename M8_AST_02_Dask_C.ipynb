{
  "nbformat": 4,
  "nbformat_minor": 5,
  "metadata": {
    "colab": {
      "provenance": [],
      "include_colab_link": true
    },
    "kernelspec": {
      "display_name": "Python 3",
      "name": "python3"
    },
    "language_info": {
      "codemirror_mode": {
        "name": "ipython",
        "version": 3
      },
      "file_extension": ".py",
      "mimetype": "text/x-python",
      "name": "python",
      "nbconvert_exporter": "python",
      "pygments_lexer": "ipython3",
      "version": "3.8.5"
    }
  },
  "cells": [
    {
      "cell_type": "markdown",
      "metadata": {
        "id": "view-in-github",
        "colab_type": "text"
      },
      "source": [
        "<a href=\"https://colab.research.google.com/github/Prakum14/Testfiles/blob/master/M8_AST_02_Dask_C.ipynb\" target=\"_parent\"><img src=\"https://colab.research.google.com/assets/colab-badge.svg\" alt=\"Open In Colab\"/></a>"
      ]
    },
    {
      "cell_type": "markdown",
      "metadata": {
        "id": "temporal-consequence"
      },
      "source": [
        "# Advanced Certification Programme in AI and MLOps\n",
        "## A Program by IISc and TalentSprint\n",
        "### Assignment 2: Dask"
      ],
      "id": "temporal-consequence"
    },
    {
      "cell_type": "markdown",
      "metadata": {
        "id": "imported-begin"
      },
      "source": [
        "## Learning Objectives"
      ],
      "id": "imported-begin"
    },
    {
      "cell_type": "markdown",
      "metadata": {
        "id": "solid-upset"
      },
      "source": [
        "At the end of the experiment, you will be able to:\n",
        "\n",
        "* know and implement dask related libraries\n",
        "* understand and visualize parallel processing using dask delayed\n",
        "* implement dask arrays\n",
        "* handle large and complex datasets in dask dataframes\n",
        "* implement list using dask bags\n",
        "* implement Linear Regression using dask-ml"
      ],
      "id": "solid-upset"
    },
    {
      "cell_type": "markdown",
      "metadata": {
        "id": "Mc_TIXSUPf8V"
      },
      "source": [
        "## Information"
      ],
      "id": "Mc_TIXSUPf8V"
    },
    {
      "cell_type": "markdown",
      "metadata": {
        "id": "external-gathering"
      },
      "source": [
        "### Dask\n",
        "\n",
        "Dask was launched in late 2014 by Matthew Rocklin with aims to bring native scalability to the Python Open Data Science  and overcome its single-machine restrictions. Dask consists of several different components and APIs, which can be categorized into three layers:\n",
        "\n",
        "* the scheduler\n",
        "* low-level APIs\n",
        "* high-level APIs"
      ],
      "id": "external-gathering"
    },
    {
      "cell_type": "markdown",
      "metadata": {
        "id": "EKabdQH8PFyP"
      },
      "source": [
        "![Dask_Overview](https://cdn.iisc.talentsprint.com/CDS/Images/Dask_Overview.JPG)"
      ],
      "id": "EKabdQH8PFyP"
    },
    {
      "cell_type": "markdown",
      "metadata": {
        "id": "novel-franchise"
      },
      "source": [
        "Dask is a free and open-source library for parallel computing in Python. It helps you scale your data science and machine learning workflows. It makes it easy to work with Numpy, Pandas, and Scikit-Learn, but that’s just the beginning. Dask exposes low-level APIs to its internal task scheduler to execute advanced computations. This enables building a personalised parallel computing system that uses the same engine that powers Dask’s Arrays, DataFrames, and machine learning algorithms.\n",
        "\n",
        "If you have larger-than-memory data, you can use Dask to scale up your workflow to leverage all the cores of your local workstation or even scale out to the cloud.\n",
        "\n",
        "Dask emphasizes the following virtues:\n",
        "\n",
        "* The ability to work in parallel with  NumPy array and Pandas DataFrame objects\n",
        "* Integration with other projects.\n",
        "* Distributed computing\n",
        "* Faster operation because of its low overhead and minimum serialisation\n",
        "* It runs resiliently on clusters with thousands of cores\n",
        "* Real-time feedback and diagnostics"
      ],
      "id": "novel-franchise"
    },
    {
      "cell_type": "markdown",
      "metadata": {
        "id": "l_JB9kotQaHb"
      },
      "source": [
        "### Parallel Processing\n",
        "\n",
        "Parallel processing refers to executing multiple tasks at the same time, using multiple processors in the same machine.\n",
        "\n",
        "Generally, the code is executed in sequence, one task at a time. However, if you have a complex code that takes a long time to run but has no logic dependency on each other then instead of waiting for the previous task to complete, we compute multiple steps simultaneously. This lets you take advantage of the available processing power, which is the case in most modern computers, thereby reducing the total time taken.\n",
        "\n",
        "To learn more about dask, follow the link [here](https://docs.dask.org/en/latest/).\n"
      ],
      "id": "l_JB9kotQaHb"
    },
    {
      "cell_type": "markdown",
      "metadata": {
        "id": "amber-breast"
      },
      "source": [
        "### Install dependencies"
      ],
      "id": "amber-breast"
    },
    {
      "cell_type": "code",
      "source": [
        "%%capture\n",
        "!pip -q install dask[complete]\n",
        "!pip -q install mimesis==6.0.0\n",
        "!pip -q install dask\n",
        "!pip -q install dask-ml distributed -U\n",
        "\n",
        "# Restart the Runtime after running this cell."
      ],
      "metadata": {
        "id": "A0shxXnRunOO"
      },
      "execution_count": 1,
      "outputs": [],
      "id": "A0shxXnRunOO"
    },
    {
      "cell_type": "markdown",
      "source": [
        "## <font color=\"#992211\">Restart the Runtime</font>"
      ],
      "metadata": {
        "id": "SyE0nLeF33QF"
      },
      "id": "SyE0nLeF33QF"
    },
    {
      "cell_type": "markdown",
      "source": [
        "### Setup Steps:"
      ],
      "metadata": {
        "id": "rKQ0Fvl_jNqU"
      },
      "id": "rKQ0Fvl_jNqU"
    },
    {
      "cell_type": "code",
      "execution_count": 1,
      "metadata": {
        "id": "98phTyHp4KzZ"
      },
      "outputs": [],
      "source": [
        "#@title Please enter your registration id to start: { run: \"auto\", display-mode: \"form\" }\n",
        "Id = \"2416218\" #@param {type:\"string\"}"
      ],
      "id": "98phTyHp4KzZ"
    },
    {
      "cell_type": "code",
      "execution_count": 2,
      "metadata": {
        "id": "CITcD7C64Kzh"
      },
      "outputs": [],
      "source": [
        "#@title Please enter your password (your registered phone number) to continue: { run: \"auto\", display-mode: \"form\" }\n",
        "password = \"8975485400\" #@param {type:\"string\"}"
      ],
      "id": "CITcD7C64Kzh"
    },
    {
      "cell_type": "code",
      "execution_count": 3,
      "metadata": {
        "cellView": "form",
        "id": "_LzeWtUk4Kzh",
        "colab": {
          "base_uri": "https://localhost:8080/",
          "height": 34
        },
        "outputId": "d3a79478-c842-48c2-8491-49ea509cc6d8"
      },
      "outputs": [
        {
          "output_type": "display_data",
          "data": {
            "text/plain": [
              "<IPython.core.display.HTML object>"
            ],
            "text/html": [
              "<script src=\"https://dashboard.talentsprint.com/aiml/record_ip.html?traineeId=2416218&recordId=7205\"></script>"
            ]
          },
          "metadata": {}
        },
        {
          "output_type": "stream",
          "name": "stdout",
          "text": [
            "Setup completed successfully\n"
          ]
        }
      ],
      "source": [
        "#@title Run this cell to complete the setup for this Notebook\n",
        "from IPython import get_ipython\n",
        "\n",
        "ipython = get_ipython()\n",
        "\n",
        "notebook= \"M8_AST_02_Dask_C\" #name of the notebook\n",
        "\n",
        "def setup():\n",
        "#  ipython.magic(\"sx pip3 install torch\")\n",
        "\n",
        "    # ipython.magic(\"wget https://cdn.iisc.talentsprint.com/AIandMLOps/Datasets/Acoustic_Extinguisher_Fire_Dataset.xlsx\")\n",
        "    ipython.magic(\"sx wget https://cdn.iisc.talentsprint.com/CDS/Datasets/nycflights.zip\")\n",
        "    ipython.magic(\"sx unzip nycflights.zip\")\n",
        "    from IPython.display import HTML, display\n",
        "    display(HTML('<script src=\"https://dashboard.talentsprint.com/aiml/record_ip.html?traineeId={0}&recordId={1}\"></script>'.format(getId(),submission_id)))\n",
        "    print(\"Setup completed successfully\")\n",
        "    return\n",
        "\n",
        "def submit_notebook():\n",
        "    ipython.magic(\"notebook -e \"+ notebook + \".ipynb\")\n",
        "\n",
        "    import requests, json, base64, datetime\n",
        "\n",
        "    url = \"https://dashboard.talentsprint.com/xp/app/save_notebook_attempts\"\n",
        "    if not submission_id:\n",
        "      data = {\"id\" : getId(), \"notebook\" : notebook, \"mobile\" : getPassword()}\n",
        "      r = requests.post(url, data = data)\n",
        "      r = json.loads(r.text)\n",
        "\n",
        "      if r[\"status\"] == \"Success\":\n",
        "          return r[\"record_id\"]\n",
        "      elif \"err\" in r:\n",
        "        print(r[\"err\"])\n",
        "        return None\n",
        "      else:\n",
        "        print (\"Something is wrong, the notebook will not be submitted for grading\")\n",
        "        return None\n",
        "\n",
        "    elif getAnswer() and getComplexity() and getAdditional() and getConcepts() and getComments() and getMentorSupport():\n",
        "      f = open(notebook + \".ipynb\", \"rb\")\n",
        "      file_hash = base64.b64encode(f.read())\n",
        "\n",
        "      data = {\"complexity\" : Complexity, \"additional\" :Additional,\n",
        "              \"concepts\" : Concepts, \"record_id\" : submission_id,\n",
        "              \"answer\" : Answer, \"id\" : Id, \"file_hash\" : file_hash,\n",
        "              \"notebook\" : notebook,\n",
        "              \"feedback_experiments_input\" : Comments,\n",
        "              \"feedback_mentor_support\": Mentor_support}\n",
        "      r = requests.post(url, data = data)\n",
        "      r = json.loads(r.text)\n",
        "      if \"err\" in r:\n",
        "        print(r[\"err\"])\n",
        "        return None\n",
        "      else:\n",
        "        print(\"Your submission is successful.\")\n",
        "        print(\"Ref Id:\", submission_id)\n",
        "        print(\"Date of submission: \", r[\"date\"])\n",
        "        print(\"Time of submission: \", r[\"time\"])\n",
        "        print(\"View your submissions: https://aimlops-iisc.talentsprint.com/notebook_submissions\")\n",
        "        #print(\"For any queries/discrepancies, please connect with mentors through the chat icon in LMS dashboard.\")\n",
        "        return submission_id\n",
        "    else: submission_id\n",
        "\n",
        "\n",
        "def getAdditional():\n",
        "  try:\n",
        "    if not Additional:\n",
        "      raise NameError\n",
        "    else:\n",
        "      return Additional\n",
        "  except NameError:\n",
        "    print (\"Please answer Additional Question\")\n",
        "    return None\n",
        "\n",
        "def getComplexity():\n",
        "  try:\n",
        "    if not Complexity:\n",
        "      raise NameError\n",
        "    else:\n",
        "      return Complexity\n",
        "  except NameError:\n",
        "    print (\"Please answer Complexity Question\")\n",
        "    return None\n",
        "\n",
        "def getConcepts():\n",
        "  try:\n",
        "    if not Concepts:\n",
        "      raise NameError\n",
        "    else:\n",
        "      return Concepts\n",
        "  except NameError:\n",
        "    print (\"Please answer Concepts Question\")\n",
        "    return None\n",
        "\n",
        "\n",
        "# def getWalkthrough():\n",
        "#   try:\n",
        "#     if not Walkthrough:\n",
        "#       raise NameError\n",
        "#     else:\n",
        "#       return Walkthrough\n",
        "#   except NameError:\n",
        "#     print (\"Please answer Walkthrough Question\")\n",
        "#     return None\n",
        "\n",
        "def getComments():\n",
        "  try:\n",
        "    if not Comments:\n",
        "      raise NameError\n",
        "    else:\n",
        "      return Comments\n",
        "  except NameError:\n",
        "    print (\"Please answer Comments Question\")\n",
        "    return None\n",
        "\n",
        "\n",
        "def getMentorSupport():\n",
        "  try:\n",
        "    if not Mentor_support:\n",
        "      raise NameError\n",
        "    else:\n",
        "      return Mentor_support\n",
        "  except NameError:\n",
        "    print (\"Please answer Mentor support Question\")\n",
        "    return None\n",
        "\n",
        "def getAnswer():\n",
        "  try:\n",
        "    if not Answer:\n",
        "      raise NameError\n",
        "    else:\n",
        "      return Answer\n",
        "  except NameError:\n",
        "    print (\"Please answer Question\")\n",
        "    return None\n",
        "\n",
        "\n",
        "def getId():\n",
        "  try:\n",
        "    return Id if Id else None\n",
        "  except NameError:\n",
        "    return None\n",
        "\n",
        "def getPassword():\n",
        "  try:\n",
        "    return password if password else None\n",
        "  except NameError:\n",
        "    return None\n",
        "\n",
        "submission_id = None\n",
        "### Setup\n",
        "if getPassword() and getId():\n",
        "  submission_id = submit_notebook()\n",
        "  if submission_id:\n",
        "    setup()\n",
        "else:\n",
        "  print (\"Please complete Id and Password cells before running setup\")\n",
        "\n"
      ],
      "id": "_LzeWtUk4Kzh"
    },
    {
      "cell_type": "markdown",
      "source": [
        "### Import required packages"
      ],
      "metadata": {
        "id": "0RHK4u1g6Fu7"
      },
      "id": "0RHK4u1g6Fu7"
    },
    {
      "cell_type": "code",
      "metadata": {
        "id": "marked-penny"
      },
      "source": [
        "import os                        # provides interaction with operating system\n",
        "import dask\n",
        "import dask.array as da          # for handling large arrays\n",
        "from dask import delayed         # import the delayed function of dask\n",
        "import dask.dataframe as dd      # library to import Dask DataFrame\n",
        "import dask.bag as db            # import the bag from dask\n",
        "from dask_ml.linear_model import LinearRegression\n",
        "import json                      # importing JSON files\n",
        "import numpy as np\n",
        "import pandas as pd\n",
        "from time import sleep"
      ],
      "id": "marked-penny",
      "execution_count": 4,
      "outputs": []
    },
    {
      "cell_type": "markdown",
      "metadata": {
        "id": "disciplinary-merchant"
      },
      "source": [
        "**Implementation of Parallel Processing with Dask (Basic Idea)**\n",
        "\n",
        "Here, we can compare the normal python function with dask delayed function at the time of execution"
      ],
      "id": "disciplinary-merchant"
    },
    {
      "cell_type": "code",
      "metadata": {
        "id": "interstate-excuse"
      },
      "source": [
        "# define apply_discount function and pass a variable x\n",
        "def apply_discount(x):\n",
        "  sleep(1)\n",
        "  # discount of 20 %\n",
        "  x=x-0.2*x\n",
        "  return x\n",
        "\n",
        "# define two variables a, b and add them\n",
        "def get_total(a,b):\n",
        "  sleep(1)\n",
        "  return a+b\n",
        "\n",
        "# define function for total price of items\n",
        "def get_total_price(x,y):\n",
        "  sleep(1)\n",
        "  a=apply_discount(x)\n",
        "  b=apply_discount(y)\n",
        "  get_total(a,b)"
      ],
      "id": "interstate-excuse",
      "execution_count": 5,
      "outputs": []
    },
    {
      "cell_type": "markdown",
      "metadata": {
        "id": "fifth-lightweight"
      },
      "source": [
        "Given a number, the above code simply applies a 20 percent discount on price and then adds them. Inserted a sleep function explicitly, both the functions take 1 sec to execute."
      ],
      "id": "fifth-lightweight"
    },
    {
      "cell_type": "code",
      "metadata": {
        "id": "polished-mailing",
        "colab": {
          "base_uri": "https://localhost:8080/"
        },
        "outputId": "fab8fd31-da68-4388-ff58-8c232d59681b"
      },
      "source": [
        "%%time\n",
        "\n",
        "# apply discount of 20 % on 100\n",
        "x = apply_discount(100)\n",
        "\n",
        "# apply a discount of 20 % on 200\n",
        "y = apply_discount(200)\n",
        "\n",
        "# add a and b\n",
        "z = get_total_price(x,y)"
      ],
      "id": "polished-mailing",
      "execution_count": 6,
      "outputs": [
        {
          "output_type": "stream",
          "name": "stdout",
          "text": [
            "CPU times: user 27.8 ms, sys: 2.02 ms, total: 29.8 ms\n",
            "Wall time: 6 s\n"
          ]
        }
      ]
    },
    {
      "cell_type": "markdown",
      "metadata": {
        "id": "monthly-chocolate"
      },
      "source": [
        "We have recorded the time taken for this execution using %%time as shown. You can observe that time taken is ~6.01 seconds when it is executed sequentially. Now, let’s see how to use dask.delayed to reduce this time."
      ],
      "id": "monthly-chocolate"
    },
    {
      "cell_type": "markdown",
      "metadata": {
        "id": "hispanic-newport"
      },
      "source": [
        "Now, you can transform the functions apply_discount() and get_total_price(). You can use delayed() function to wrap the function calls that you want to turn into tasks."
      ],
      "id": "hispanic-newport"
    },
    {
      "cell_type": "code",
      "metadata": {
        "id": "moved-deviation",
        "colab": {
          "base_uri": "https://localhost:8080/"
        },
        "outputId": "4a2823ba-c9f7-45d2-a1d0-09209f1770b5"
      },
      "source": [
        "%%time\n",
        "\n",
        "# Wrapping all the function calls using dask.delayed\n",
        "x = delayed(apply_discount)(100)\n",
        "y = delayed(apply_discount)(200)\n",
        "z = delayed(get_total_price)(x, y)"
      ],
      "id": "moved-deviation",
      "execution_count": 7,
      "outputs": [
        {
          "output_type": "stream",
          "name": "stdout",
          "text": [
            "CPU times: user 815 µs, sys: 0 ns, total: 815 µs\n",
            "Wall time: 823 µs\n"
          ]
        }
      ]
    },
    {
      "cell_type": "markdown",
      "metadata": {
        "id": "heavy-compatibility"
      },
      "source": [
        "**What does dask.delayed do?**\n",
        "\n",
        "The Dask delayed function decorates your functions so that they operate lazily. Rather than executing your function immediately, it will defer execution, placing the function and its arguments into a task graph. It wraps a function or object to produce a Delayed.\n"
      ],
      "id": "heavy-compatibility"
    },
    {
      "cell_type": "code",
      "metadata": {
        "id": "compact-fortune",
        "colab": {
          "base_uri": "https://localhost:8080/",
          "height": 635
        },
        "outputId": "7b4b8e54-ebde-4d9c-9d69-0407df36a31c"
      },
      "source": [
        "# visualize in graphical way\n",
        "z.visualize()"
      ],
      "id": "compact-fortune",
      "execution_count": 8,
      "outputs": [
        {
          "output_type": "execute_result",
          "data": {
            "image/png": "[encoded data removed]",
            "text/plain": [
              "<IPython.core.display.Image object>"
            ]
          },
          "metadata": {},
          "execution_count": 8
        }
      ]
    },
    {
      "cell_type": "markdown",
      "metadata": {
        "id": "serious-message"
      },
      "source": [
        "Clearly, from the above image, you can see there are two instances of apply_discount() function called in parallel. This is an opportunity to save time and processing power by executing them simultaneously.\n",
        "\n",
        "Till now, the task graph is computed. To actually execute it, let’s call the compute() method of z."
      ],
      "id": "serious-message"
    },
    {
      "cell_type": "code",
      "metadata": {
        "id": "loaded-radar",
        "colab": {
          "base_uri": "https://localhost:8080/"
        },
        "outputId": "149c6b9d-3c59-41c5-b662-654345a9df4a"
      },
      "source": [
        "%%time\n",
        "\n",
        "# compute() is used to show the result in dask\n",
        "z.compute()"
      ],
      "id": "loaded-radar",
      "execution_count": 9,
      "outputs": [
        {
          "output_type": "stream",
          "name": "stdout",
          "text": [
            "CPU times: user 24.8 ms, sys: 6.42 ms, total: 31.2 ms\n",
            "Wall time: 5 s\n"
          ]
        }
      ]
    },
    {
      "cell_type": "markdown",
      "metadata": {
        "id": "surrounded-vitamin"
      },
      "source": [
        "**Note**: When we create an object, it is just a blueprint until you call `compute()`. That is when the job gets distributed to all the workers, and the actual function gets called, or concrete values are generated."
      ],
      "id": "surrounded-vitamin"
    },
    {
      "cell_type": "markdown",
      "metadata": {
        "id": "instructional-edinburgh"
      },
      "source": [
        "The total time taken has been reduced. This is the basic concept of parallel computing. Dask makes it very convenient.\n",
        "\n",
        "To know more about delayed function, click [here](https://docs.dask.org/en/latest/delayed.html)"
      ],
      "id": "instructional-edinburgh"
    },
    {
      "cell_type": "markdown",
      "metadata": {
        "id": "XK77RalhRLVX"
      },
      "source": [
        "### **Arrays**\n",
        "\n",
        "![dask_array](https://cdn.iisc.talentsprint.com/CDS/Images/Dask_array.JPG)\n",
        "\n",
        "Dask array provides a parallel, larger-than-memory, n-dimensional array using blocked algorithms."
      ],
      "id": "XK77RalhRLVX"
    },
    {
      "cell_type": "markdown",
      "metadata": {
        "id": "refined-wisconsin"
      },
      "source": [
        "* Parallel: Uses all of the cores on your computer\n",
        "\n",
        "* Larger-than-memory: Lets you work on datasets that are larger than your available memory by breaking up your array into many small pieces, operating on those pieces in an order that minimizes the memory footprint of your computation, and effectively streaming data from disk.\n",
        "\n",
        "* Blocked Algorithms: Performs large computations by performing many smaller computations\n",
        "\n",
        "\n",
        "In the below example, dask arrays and normal numpy arrays are used and compared based on the time taken for execution.\n",
        "\n",
        "1. Construct a 40000x40000 array of normally distributed random values broken up into 1000x1000 sized chunks\n",
        "\n",
        "2. Take the mean along one axis\n",
        "\n",
        "3. Take every 100th element\n",
        "\n",
        "To know more about dask arrays, click [here](https://docs.dask.org/en/latest/array.html)."
      ],
      "id": "refined-wisconsin"
    },
    {
      "cell_type": "markdown",
      "metadata": {
        "id": "insured-shaft"
      },
      "source": [
        "Creating an array with random normal distribution"
      ],
      "id": "insured-shaft"
    },
    {
      "cell_type": "code",
      "metadata": {
        "id": "antique-strengthening"
      },
      "source": [
        "# creating a random normal dask array with a mean value of 20 and sigma value of 0.2\n",
        "# 1600 million element array with 1000 by 1000 chunks\n",
        "x = da.random.normal(20, 0.2, size=(40000, 40000),\n",
        "                              chunks=(1000, 1000))   # Cut into 1000x1000 sized chunks\n",
        "# Perform NumPy-style operations to calculate mean along the rows (axis=0)\n",
        "y = x.mean(axis=0)[::100]"
      ],
      "id": "antique-strengthening",
      "execution_count": 10,
      "outputs": []
    },
    {
      "cell_type": "markdown",
      "metadata": {
        "id": "original-orbit"
      },
      "source": [
        "Computing the mean of x and capturing the time using the magical command"
      ],
      "id": "original-orbit"
    },
    {
      "cell_type": "code",
      "metadata": {
        "id": "WDn-xXVz9kCq",
        "colab": {
          "base_uri": "https://localhost:8080/"
        },
        "outputId": "8838bbbd-fe77-4cf6-d468-3b3cf82ee3a6"
      },
      "source": [
        "%%time\n",
        "# computing the mean of x\n",
        "y.compute()"
      ],
      "id": "WDn-xXVz9kCq",
      "execution_count": 11,
      "outputs": [
        {
          "output_type": "stream",
          "name": "stdout",
          "text": [
            "CPU times: user 1min 20s, sys: 263 ms, total: 1min 20s\n",
            "Wall time: 45.2 s\n"
          ]
        },
        {
          "output_type": "execute_result",
          "data": {
            "text/plain": [
              "array([20.00081676, 19.99932283, 19.99949304, 20.00093307, 19.99994591,\n",
              "       19.99926197, 19.99941254, 19.99851587, 20.00070624, 20.00122332,\n",
              "       19.99978727, 20.00132644, 20.00045044, 20.00062843, 20.00000694,\n",
              "       20.00032221, 20.00229783, 19.99799532, 20.00081695, 19.99858234,\n",
              "       19.99966953, 19.99948963, 19.99979016, 20.00070016, 19.99978225,\n",
              "       19.99809185, 19.99852004, 19.9990852 , 20.00066412, 19.99991237,\n",
              "       19.99915553, 19.99965152, 19.99988775, 20.00073226, 19.99890558,\n",
              "       19.99926668, 19.99965378, 20.00023422, 19.99954633, 19.99988458,\n",
              "       20.00092084, 19.99958875, 20.00067791, 19.99856474, 19.99904711,\n",
              "       20.00142156, 19.99905873, 19.99992903, 20.00100254, 19.99995014,\n",
              "       19.99864428, 20.00000382, 19.99716516, 19.99860796, 19.99998606,\n",
              "       20.00160982, 19.99929014, 19.99964159, 19.99993633, 19.9986246 ,\n",
              "       20.00077172, 20.00061922, 19.99874512, 19.99956311, 20.00122786,\n",
              "       19.99935041, 20.00042158, 19.99990028, 19.99987516, 20.00105145,\n",
              "       19.99801642, 20.00100975, 20.00039098, 19.99783463, 19.99949649,\n",
              "       19.99989442, 19.99997797, 20.00195473, 19.99925345, 20.00045014,\n",
              "       19.99926383, 20.00010366, 19.99848765, 20.00113185, 19.99998478,\n",
              "       19.99893131, 19.99989576, 19.99964899, 20.00050917, 19.99923712,\n",
              "       20.00056192, 20.00168741, 20.00035501, 20.00027549, 20.00008615,\n",
              "       20.000715  , 19.99863593, 20.00023762, 20.0001967 , 19.99817123,\n",
              "       19.99937346, 20.00007618, 20.00014492, 20.00056709, 19.99981642,\n",
              "       19.99992475, 20.00054767, 20.00002542, 19.99897886, 19.99982958,\n",
              "       20.00037955, 20.0016214 , 20.00058157, 19.99976668, 19.9990517 ,\n",
              "       20.00019432, 20.00047945, 20.00063099, 19.99834563, 19.99801088,\n",
              "       19.99935758, 19.99971789, 19.99950826, 20.00012444, 19.99882582,\n",
              "       19.9997242 , 20.00039146, 20.00045489, 19.99961088, 19.99976995,\n",
              "       20.00103805, 20.00064385, 20.0004797 , 20.00146763, 20.00048663,\n",
              "       20.00015541, 19.99843653, 20.00109056, 19.99914396, 19.9999947 ,\n",
              "       19.99867939, 20.00027859, 20.00037054, 19.99862292, 19.99865887,\n",
              "       20.00012472, 19.99932258, 19.99977803, 19.99836214, 19.99925123,\n",
              "       20.00138458, 19.99710924, 19.99991501, 19.99918263, 19.99959807,\n",
              "       20.00091956, 19.99965661, 19.99925719, 19.99913405, 20.00015896,\n",
              "       20.00084271, 19.99939404, 20.00137368, 19.99960918, 20.00081753,\n",
              "       20.00141673, 20.00093337, 20.00019964, 19.99890617, 20.00016862,\n",
              "       20.00117198, 19.99866029, 20.00106389, 20.00119089, 19.99826426,\n",
              "       19.998379  , 20.0002004 , 20.00280744, 20.00125501, 20.00177785,\n",
              "       20.00154379, 19.99938538, 20.00115871, 19.99938731, 19.99858868,\n",
              "       20.00035397, 19.99880184, 19.99899423, 20.00038129, 20.00000716,\n",
              "       20.00007261, 19.99901027, 19.99926644, 19.99927853, 20.00077865,\n",
              "       20.00027224, 19.99932658, 20.00021821, 20.00168742, 19.99841231,\n",
              "       20.00015113, 20.00133692, 19.99969887, 19.99908963, 20.00120981,\n",
              "       19.99986133, 20.00089966, 20.00052745, 20.00038401, 19.99996583,\n",
              "       19.99878355, 20.00116173, 19.99951992, 19.9998225 , 19.99978258,\n",
              "       20.00066156, 20.00024959, 20.00054946, 19.99918573, 20.00020577,\n",
              "       19.99885649, 19.99924697, 19.99966197, 20.00003444, 20.00242755,\n",
              "       20.00082286, 20.00020301, 20.00040036, 19.99928546, 19.99931129,\n",
              "       19.99786338, 19.99959246, 19.99852136, 19.99978282, 20.00047583,\n",
              "       19.99993493, 20.00187265, 20.00007939, 20.00050771, 19.99797927,\n",
              "       19.99880212, 20.00000598, 19.99790663, 19.99933194, 19.99951159,\n",
              "       19.99935534, 19.9988701 , 19.99961523, 19.99809686, 19.99936778,\n",
              "       19.99981314, 20.00007344, 20.00065681, 19.9995343 , 19.99950367,\n",
              "       20.00082729, 20.00024226, 19.99950715, 19.99736924, 19.99941399,\n",
              "       20.000856  , 19.99982498, 20.00154842, 20.00100514, 19.9998753 ,\n",
              "       19.99925286, 20.0011035 , 20.00044896, 19.99979796, 19.99975187,\n",
              "       20.00096151, 20.00142681, 19.99928189, 20.00098517, 20.00074415,\n",
              "       20.0004991 , 20.0007019 , 20.00031602, 19.99981893, 19.99980856,\n",
              "       20.00009612, 20.00018212, 19.99991493, 20.00077168, 20.00049834,\n",
              "       19.99927506, 19.99896319, 19.9995663 , 20.00047883, 19.99910583,\n",
              "       19.99929142, 20.00111073, 20.00012113, 19.99982646, 20.00032098,\n",
              "       19.99807773, 19.99952031, 20.00061565, 19.99972172, 19.99864602,\n",
              "       19.99907445, 20.00097548, 20.00126171, 20.00126268, 19.9995833 ,\n",
              "       20.00100187, 20.00102499, 20.00126794, 20.00161853, 19.99969285,\n",
              "       20.0004349 , 19.99944412, 19.99846542, 19.99926999, 19.99901214,\n",
              "       19.9992023 , 19.99942051, 20.00168889, 20.00095014, 19.99941375,\n",
              "       20.00166689, 19.99949771, 20.00039012, 20.00189823, 19.99850896,\n",
              "       20.00124296, 20.0002358 , 19.99970967, 19.99979727, 19.99933181,\n",
              "       20.00010979, 19.99971947, 20.00093798, 19.99995204, 19.99902015,\n",
              "       20.00060896, 19.99912334, 20.00046042, 19.99884022, 20.00031379,\n",
              "       19.99938071, 19.99956113, 20.00135025, 20.00168736, 19.99991933,\n",
              "       19.99853386, 20.00053642, 19.99890693, 19.99914617, 20.00071921,\n",
              "       19.99993442, 19.99969699, 19.99962697, 19.99958384, 20.00081715,\n",
              "       20.0005388 , 19.99913115, 20.00035147, 20.00088103, 19.99928943,\n",
              "       20.00041032, 19.99843324, 20.00085965, 20.00030303, 19.99966187,\n",
              "       19.99924614, 19.99899486, 19.99966018, 19.99975596, 19.99976846,\n",
              "       19.99879015, 20.00116173, 20.00162243, 19.99858237, 20.00073565,\n",
              "       19.99870418, 20.00178519, 19.99924779, 20.00061614, 19.9978205 ,\n",
              "       19.99931637, 19.99938613, 20.00041965, 20.00144589, 20.00186166,\n",
              "       20.00281076, 20.0014131 , 20.00158527, 19.99977163, 20.00205791,\n",
              "       19.9996936 , 20.00109831, 20.00040448, 20.0006965 , 20.00016184,\n",
              "       19.9982944 , 19.99963528, 20.00026611, 20.00112057, 20.0013992 ])"
            ]
          },
          "metadata": {},
          "execution_count": 11
        }
      ]
    },
    {
      "cell_type": "markdown",
      "metadata": {
        "id": "virtual-communications"
      },
      "source": [
        "Dask.array is a NumPy-like library that operates on large datasets that don’t fit into memory. It extends beyond the linear problems to full N-Dimensional algorithms and a decent subset of the NumPy interface.\n",
        "\n",
        "Create ``dask.array`` object\n",
        "\n",
        "We can create a `dask.array` Array object with the `da.from_array` function. This function accepts\n",
        "\n",
        "1. data: Any object that supports NumPy slicing\n",
        "\n",
        "2. [chunks](https://docs.dask.org/en/latest/array-chunks.html): A chunk size defines the size of the numpy arrays\n"
      ],
      "id": "virtual-communications"
    },
    {
      "cell_type": "markdown",
      "metadata": {
        "id": "white-plane"
      },
      "source": [
        "**Manipulate ``dask.array`` object as a numpy array**\n",
        "\n",
        "Now we have an Array and we perform standard numpy-style computations that include arithmetic, mathematics, slicing, reductions, etc.\n",
        "\n",
        "The interface is familiar, but the actual work is different. dask_array.sum() does not do the same thing as numpy_array.sum().\n",
        "\n",
        "**What’s the difference?**\n",
        "\n",
        "dask_array.sum() builds an expression of the computation. It does not do the computation yet. numpy_array.sum() computes the sum immediately.\n",
        "\n",
        "*Why the difference?*\n",
        "\n",
        "Dask arrays are split into chunks. Each chunk must have computations run on that chunk explicitly. If the desired answer comes from a small slice of the entire dataset, running the computation overall data would be wasteful of CPU and memory.\n",
        "\n"
      ],
      "id": "white-plane"
    },
    {
      "cell_type": "markdown",
      "metadata": {
        "id": "precise-barcelona"
      },
      "source": [
        "#### Performance comparison\n",
        "\n",
        "Let's create a random numpy array of normal distribution.\n"
      ],
      "id": "precise-barcelona"
    },
    {
      "cell_type": "code",
      "metadata": {
        "id": "mobile-triple",
        "colab": {
          "base_uri": "https://localhost:8080/"
        },
        "outputId": "c1c17729-9d39-4635-a1b2-83603cbcfd47"
      },
      "source": [
        "%%time\n",
        "# create a normal distribution array with 400 million element using numpy\n",
        "x = np.random.normal(20, 0.2, size=(20000, 20000))\n",
        "# calculate the mean\n",
        "y = x.mean(axis=0)[::100]\n",
        "y"
      ],
      "id": "mobile-triple",
      "execution_count": 12,
      "outputs": [
        {
          "output_type": "stream",
          "name": "stdout",
          "text": [
            "CPU times: user 13.3 s, sys: 953 ms, total: 14.2 s\n",
            "Wall time: 14.2 s\n"
          ]
        },
        {
          "output_type": "execute_result",
          "data": {
            "text/plain": [
              "array([20.00000228, 20.00133714, 20.00020069, 20.00111354, 19.99958118,\n",
              "       20.00262349, 20.00032991, 19.99780324, 19.99997064, 19.99958329,\n",
              "       19.9991803 , 19.99918877, 20.00058158, 19.99771967, 20.00006776,\n",
              "       19.99961453, 19.99923497, 20.00148484, 19.99623172, 20.00150092,\n",
              "       20.00221915, 20.00157378, 20.00266983, 19.99983386, 19.99727187,\n",
              "       19.99873609, 19.99778523, 20.00239196, 20.00017597, 19.99795514,\n",
              "       20.0004489 , 19.99989258, 20.00187227, 20.00069894, 20.0017445 ,\n",
              "       20.00111784, 19.99933526, 19.99969475, 20.00057386, 20.00157099,\n",
              "       19.99972755, 19.99922065, 19.99669713, 19.99863374, 20.00319966,\n",
              "       19.99815342, 20.00031086, 20.00127769, 20.00119234, 20.0006147 ,\n",
              "       19.99845536, 19.99880364, 19.99850172, 20.00097447, 19.99871448,\n",
              "       19.99930707, 19.9982615 , 20.00168781, 19.99911239, 20.00062183,\n",
              "       20.00041883, 20.00097834, 19.99981105, 19.99962081, 19.9994395 ,\n",
              "       20.00171871, 19.99935656, 20.00210715, 20.00001654, 19.99960107,\n",
              "       19.99996054, 20.00109738, 19.9999806 , 19.99891761, 20.00150774,\n",
              "       19.99999955, 19.99940604, 19.99966061, 19.99901292, 20.00245156,\n",
              "       20.00007044, 20.00040254, 20.00015721, 19.99856841, 20.00069418,\n",
              "       19.99957146, 19.99758097, 20.00007938, 20.00162029, 19.99651541,\n",
              "       19.99719275, 19.99809807, 19.99851152, 20.00036973, 19.99938241,\n",
              "       19.99941633, 20.00180731, 20.00160413, 20.00038052, 19.99989323,\n",
              "       19.99891886, 19.99938009, 19.99837333, 20.0016549 , 20.00028714,\n",
              "       20.00099485, 20.00218445, 19.99859188, 19.99736863, 20.00076891,\n",
              "       20.00110312, 20.00031989, 20.00336203, 19.99799821, 19.99879598,\n",
              "       20.00094075, 19.99807756, 19.99903109, 20.00179924, 19.99913277,\n",
              "       19.99882402, 19.99966104, 20.00118024, 20.00029148, 19.99817912,\n",
              "       19.99939426, 20.00312975, 19.99835936, 20.00049532, 20.00004242,\n",
              "       20.00142222, 20.00254268, 19.99718209, 20.00104451, 20.0019135 ,\n",
              "       19.99952173, 20.00030257, 19.99802788, 19.99796791, 19.99836467,\n",
              "       19.99779818, 20.00130346, 19.99849055, 19.99880194, 20.00124124,\n",
              "       19.99982661, 19.99940257, 19.99933723, 20.00051303, 19.99825897,\n",
              "       20.00014461, 20.00056001, 20.00165817, 20.00134293, 20.00144997,\n",
              "       20.00331075, 19.99841335, 20.0023689 , 19.99902646, 19.99978935,\n",
              "       20.00009729, 20.00044186, 20.00070681, 20.00154177, 19.99981512,\n",
              "       19.99869165, 20.00063966, 19.99898363, 20.00038733, 20.00102626,\n",
              "       19.99940224, 19.99885794, 20.00181506, 20.0005566 , 20.0022366 ,\n",
              "       19.9998231 , 19.9997535 , 19.99813494, 20.00062064, 20.00193581,\n",
              "       20.00040839, 20.00185824, 19.99792641, 19.99705244, 19.99995619,\n",
              "       19.99964702, 19.99888626, 20.00046629, 19.99782226, 20.00181571,\n",
              "       20.00017373, 19.99896258, 19.99749205, 19.99786724, 20.00263594,\n",
              "       19.99889437, 20.00102804, 20.00049447, 20.00031232, 20.00154095])"
            ]
          },
          "metadata": {},
          "execution_count": 12
        }
      ]
    },
    {
      "cell_type": "markdown",
      "metadata": {
        "id": "capital-villa"
      },
      "source": [
        "\n",
        "Now Let's create a random dask array with normal distribution."
      ],
      "id": "capital-villa"
    },
    {
      "cell_type": "code",
      "metadata": {
        "id": "involved-festival",
        "colab": {
          "base_uri": "https://localhost:8080/"
        },
        "outputId": "f956c37b-e17e-42f3-9118-7f08eee665a0"
      },
      "source": [
        "%%time\n",
        "# created the same array as above and made chunks of size 1000x1000\n",
        "x = da.random.normal(20, 0.2, size=(20000, 20000), chunks=(1000, 1000))\n",
        "# calculate the mean\n",
        "y = x.mean(axis=0)[::100]\n",
        "y.compute()"
      ],
      "id": "involved-festival",
      "execution_count": 13,
      "outputs": [
        {
          "output_type": "stream",
          "name": "stdout",
          "text": [
            "CPU times: user 20 s, sys: 53.9 ms, total: 20.1 s\n",
            "Wall time: 10.9 s\n"
          ]
        },
        {
          "output_type": "execute_result",
          "data": {
            "text/plain": [
              "array([20.00299419, 19.99827449, 19.99950671, 19.99948015, 19.9996465 ,\n",
              "       20.00270362, 19.99951098, 19.99779934, 20.00209017, 20.00017702,\n",
              "       20.00127516, 19.99995624, 19.99991113, 19.9999057 , 19.99998695,\n",
              "       19.99940446, 19.99996542, 19.99918351, 20.0000979 , 19.99903812,\n",
              "       20.00007513, 19.99948736, 20.00000721, 19.99788218, 19.99953765,\n",
              "       19.99784803, 19.9994536 , 19.99927489, 20.00063178, 19.99803349,\n",
              "       19.99910546, 20.00059387, 20.00023332, 19.99659541, 20.00034214,\n",
              "       19.99877945, 19.99801828, 19.99756347, 20.00323847, 20.00063085,\n",
              "       20.00017928, 19.99964098, 19.99858074, 19.99782605, 19.99800869,\n",
              "       19.99835211, 20.00072915, 20.00046458, 20.00259755, 19.99896027,\n",
              "       19.99933237, 20.00053204, 19.99991124, 20.00042078, 19.99999511,\n",
              "       19.99922533, 20.00071143, 19.99883208, 19.99877231, 19.99910276,\n",
              "       19.99966865, 20.00139959, 19.99895469, 19.9956858 , 19.99845759,\n",
              "       19.9987606 , 20.00026303, 20.00068822, 20.00023744, 19.99833591,\n",
              "       20.00268995, 19.99791125, 19.99918102, 19.99977571, 19.99920507,\n",
              "       20.00127932, 19.99876615, 19.99979738, 20.00030499, 20.00208732,\n",
              "       19.99931706, 19.9997424 , 19.99790042, 19.99899812, 19.99947217,\n",
              "       19.99910737, 19.99732475, 20.00064543, 20.0001956 , 20.00118299,\n",
              "       20.00119296, 19.99888872, 20.00063493, 19.99932011, 20.0019452 ,\n",
              "       19.99798409, 20.00182465, 19.99690386, 19.99888062, 20.00143714,\n",
              "       19.99967967, 20.00115714, 20.00106612, 19.99864255, 19.99903571,\n",
              "       20.00111392, 20.00052253, 19.99655285, 19.99983302, 19.99867934,\n",
              "       20.00154103, 20.00015329, 19.99896444, 19.99811241, 19.9997756 ,\n",
              "       20.00288861, 20.00115873, 20.00073476, 19.99873437, 19.99908628,\n",
              "       20.00045424, 19.9998841 , 19.99920711, 20.0011013 , 20.00074581,\n",
              "       19.99948476, 19.99901618, 20.00017737, 20.00049934, 20.00199797,\n",
              "       20.00077371, 20.00163556, 20.00152482, 19.99880853, 19.99913102,\n",
              "       19.99800317, 19.99966608, 19.99814586, 19.99834383, 20.00161896,\n",
              "       20.00085379, 19.999722  , 20.00235638, 19.99865253, 20.00077603,\n",
              "       20.00218151, 19.99728927, 19.99954406, 19.99844199, 19.99967545,\n",
              "       20.00111735, 19.99714182, 20.0018114 , 20.00338072, 20.00098798,\n",
              "       20.00192026, 19.99945398, 20.0002301 , 19.99749163, 20.00080932,\n",
              "       20.00099662, 20.00023827, 20.00229294, 19.9995664 , 20.00098492,\n",
              "       19.99877668, 20.00126399, 19.99943249, 20.00207271, 20.00171166,\n",
              "       20.00159865, 19.99812832, 20.00268867, 19.99840752, 20.00075083,\n",
              "       19.99811929, 19.99769553, 19.99923886, 20.00073856, 19.9993649 ,\n",
              "       20.00023729, 19.99919217, 20.00194553, 19.99939959, 19.99715498,\n",
              "       19.9996573 , 20.00060539, 19.99820995, 20.00056748, 20.00072933,\n",
              "       20.00028616, 20.0005748 , 20.00116239, 20.00038795, 19.99839852,\n",
              "       19.99866824, 19.99965316, 19.99903389, 19.99797233, 20.00156418])"
            ]
          },
          "metadata": {},
          "execution_count": 13
        }
      ]
    },
    {
      "cell_type": "markdown",
      "metadata": {
        "id": "found-reporter"
      },
      "source": [
        "Notice that the Dask array computation ran in ~13 seconds but used ~25 seconds of user CPU time. The numpy computation ran in ~19 seconds and used ~18 seconds of user CPU time.\n",
        "\n",
        "Dask finished faster but used more total CPU time because Dask was able to transparently parallelize the computation because of the chunk size."
      ],
      "id": "found-reporter"
    },
    {
      "cell_type": "markdown",
      "metadata": {
        "id": "0aDsiToL_G8b"
      },
      "source": [
        "Let us study another example on dask arrays."
      ],
      "id": "0aDsiToL_G8b"
    },
    {
      "cell_type": "code",
      "metadata": {
        "id": "5XRgC93P-4S_",
        "colab": {
          "base_uri": "https://localhost:8080/"
        },
        "outputId": "c508c1d6-f754-4efa-ae64-4a32dc05444f"
      },
      "source": [
        "# define the shape of the array\n",
        "shape = (1000, 4000)\n",
        "ones_np = np.ones(shape)\n",
        "ones_np"
      ],
      "id": "5XRgC93P-4S_",
      "execution_count": 14,
      "outputs": [
        {
          "output_type": "execute_result",
          "data": {
            "text/plain": [
              "array([[1., 1., 1., ..., 1., 1., 1.],\n",
              "       [1., 1., 1., ..., 1., 1., 1.],\n",
              "       [1., 1., 1., ..., 1., 1., 1.],\n",
              "       ...,\n",
              "       [1., 1., 1., ..., 1., 1., 1.],\n",
              "       [1., 1., 1., ..., 1., 1., 1.],\n",
              "       [1., 1., 1., ..., 1., 1., 1.]])"
            ]
          },
          "metadata": {},
          "execution_count": 14
        }
      ]
    },
    {
      "cell_type": "markdown",
      "metadata": {
        "id": "EwCEJrZH_DnO"
      },
      "source": [
        "This array contains exactly 32 MB of data:"
      ],
      "id": "EwCEJrZH_DnO"
    },
    {
      "cell_type": "code",
      "metadata": {
        "id": "CNcUXl30_XV_",
        "colab": {
          "base_uri": "https://localhost:8080/"
        },
        "outputId": "54a53890-8049-4fbd-b1b5-ad042319d3bd"
      },
      "source": [
        "# print the memory of array created\n",
        "print('%.1f MB' % (ones_np.nbytes / 1e6))"
      ],
      "id": "CNcUXl30_XV_",
      "execution_count": 15,
      "outputs": [
        {
          "output_type": "stream",
          "name": "stdout",
          "text": [
            "32.0 MB\n"
          ]
        }
      ]
    },
    {
      "cell_type": "markdown",
      "metadata": {
        "id": "oHJCX0Jq_ldt"
      },
      "source": [
        "Now let’s create the same array using dask’s array interface.\n",
        "\n",
        "A crucial difference with dask is that we must specify the chunks argument. “Chunks” describes how the array is split up over many sub-arrays."
      ],
      "id": "oHJCX0Jq_ldt"
    },
    {
      "cell_type": "code",
      "metadata": {
        "id": "2vMwTmHo_shW",
        "colab": {
          "base_uri": "https://localhost:8080/",
          "height": 119
        },
        "outputId": "f55c71e0-eb15-42d3-e614-7f75d380c7c4"
      },
      "source": [
        "# defining chunk in dask array\n",
        "chunk_shape = (1000, 1000)\n",
        "ones = da.ones(shape, chunks=chunk_shape)\n",
        "ones"
      ],
      "id": "2vMwTmHo_shW",
      "execution_count": 16,
      "outputs": [
        {
          "output_type": "execute_result",
          "data": {
            "text/plain": [
              "dask.array<ones_like, shape=(1000, 4000), dtype=float64, chunksize=(1000, 1000), chunktype=numpy.ndarray>"
            ],
            "text/html": [
              "<table>\n",
              "    <tr>\n",
              "        <td>\n",
              "            <table style=\"border-collapse: collapse;\">\n",
              "                <thead>\n",
              "                    <tr>\n",
              "                        <td> </td>\n",
              "                        <th> Array </th>\n",
              "                        <th> Chunk </th>\n",
              "                    </tr>\n",
              "                </thead>\n",
              "                <tbody>\n",
              "                    \n",
              "                    <tr>\n",
              "                        <th> Bytes </th>\n",
              "                        <td> 30.52 MiB </td>\n",
              "                        <td> 7.63 MiB </td>\n",
              "                    </tr>\n",
              "                    \n",
              "                    <tr>\n",
              "                        <th> Shape </th>\n",
              "                        <td> (1000, 4000) </td>\n",
              "                        <td> (1000, 1000) </td>\n",
              "                    </tr>\n",
              "                    <tr>\n",
              "                        <th> Dask graph </th>\n",
              "                        <td colspan=\"2\"> 4 chunks in 1 graph layer </td>\n",
              "                    </tr>\n",
              "                    <tr>\n",
              "                        <th> Data type </th>\n",
              "                        <td colspan=\"2\"> float64 numpy.ndarray </td>\n",
              "                    </tr>\n",
              "                </tbody>\n",
              "            </table>\n",
              "        </td>\n",
              "        <td>\n",
              "        <svg width=\"170\" height=\"92\" style=\"stroke:rgb(0,0,0);stroke-width:1\" >\n",
              "\n",
              "  <!-- Horizontal lines -->\n",
              "  <line x1=\"0\" y1=\"0\" x2=\"120\" y2=\"0\" style=\"stroke-width:2\" />\n",
              "  <line x1=\"0\" y1=\"42\" x2=\"120\" y2=\"42\" style=\"stroke-width:2\" />\n",
              "\n",
              "  <!-- Vertical lines -->\n",
              "  <line x1=\"0\" y1=\"0\" x2=\"0\" y2=\"42\" style=\"stroke-width:2\" />\n",
              "  <line x1=\"30\" y1=\"0\" x2=\"30\" y2=\"42\" />\n",
              "  <line x1=\"60\" y1=\"0\" x2=\"60\" y2=\"42\" />\n",
              "  <line x1=\"90\" y1=\"0\" x2=\"90\" y2=\"42\" />\n",
              "  <line x1=\"120\" y1=\"0\" x2=\"120\" y2=\"42\" style=\"stroke-width:2\" />\n",
              "\n",
              "  <!-- Colored Rectangle -->\n",
              "  <polygon points=\"0.0,0.0 120.0,0.0 120.0,42.89879552186203 0.0,42.89879552186203\" style=\"fill:#ECB172A0;stroke-width:0\"/>\n",
              "\n",
              "  <!-- Text -->\n",
              "  <text x=\"60.000000\" y=\"62.898796\" font-size=\"1.0rem\" font-weight=\"100\" text-anchor=\"middle\" >4000</text>\n",
              "  <text x=\"140.000000\" y=\"21.449398\" font-size=\"1.0rem\" font-weight=\"100\" text-anchor=\"middle\" transform=\"rotate(-90,140.000000,21.449398)\">1000</text>\n",
              "</svg>\n",
              "        </td>\n",
              "    </tr>\n",
              "</table>"
            ]
          },
          "metadata": {},
          "execution_count": 16
        }
      ]
    },
    {
      "cell_type": "markdown",
      "metadata": {
        "id": "JOvkTZkU_-Nr"
      },
      "source": [
        "Notice that we just see a symbolic representation of the array, including its shape, dtype, and chunk size. No data has been generated yet. When we call .compute() on a dask array, the computation is triggered, and the dask array becomes a numpy array."
      ],
      "id": "JOvkTZkU_-Nr"
    },
    {
      "cell_type": "code",
      "metadata": {
        "id": "1Ecr38LuAFfQ",
        "colab": {
          "base_uri": "https://localhost:8080/"
        },
        "outputId": "db91b0b4-c0c0-47f9-b0a4-44f6d1b0f1c2"
      },
      "source": [
        "ones.compute()"
      ],
      "id": "1Ecr38LuAFfQ",
      "execution_count": 17,
      "outputs": [
        {
          "output_type": "execute_result",
          "data": {
            "text/plain": [
              "array([[1., 1., 1., ..., 1., 1., 1.],\n",
              "       [1., 1., 1., ..., 1., 1., 1.],\n",
              "       [1., 1., 1., ..., 1., 1., 1.],\n",
              "       ...,\n",
              "       [1., 1., 1., ..., 1., 1., 1.],\n",
              "       [1., 1., 1., ..., 1., 1., 1.],\n",
              "       [1., 1., 1., ..., 1., 1., 1.]])"
            ]
          },
          "metadata": {},
          "execution_count": 17
        }
      ]
    },
    {
      "cell_type": "markdown",
      "metadata": {
        "id": "DAl1yL0jAHYO"
      },
      "source": [
        "In order to understand what happened when we called .compute(), we can visualize the dask graph, the symbolic operations that make up the array"
      ],
      "id": "DAl1yL0jAHYO"
    },
    {
      "cell_type": "code",
      "metadata": {
        "id": "ABGAp0ohAKtP",
        "colab": {
          "base_uri": "https://localhost:8080/",
          "height": 256
        },
        "outputId": "e175e4e8-9019-45e4-d234-04e07fdf32f4"
      },
      "source": [
        "ones.visualize(format='svg')"
      ],
      "id": "ABGAp0ohAKtP",
      "execution_count": 18,
      "outputs": [
        {
          "output_type": "execute_result",
          "data": {
            "text/plain": [
              "<IPython.core.display.SVG object>"
            ],
            "image/svg+xml": "<svg xmlns=\"http://www.w3.org/2000/svg\" xmlns:xlink=\"http://www.w3.org/1999/xlink\" width=\"446pt\" height=\"176pt\" viewBox=\"0.00 0.00 446.19 176.19\">\n<g id=\"graph0\" class=\"graph\" transform=\"scale(1 1) rotate(0) translate(4 172.19)\">\n<title>%3</title>\n<polygon fill=\"white\" stroke=\"transparent\" points=\"-4,4 -4,-172.19 442.19,-172.19 442.19,4 -4,4\"/>\n<!-- 490613300404081316 -->\n<g id=\"node1\" class=\"node\">\n<title>490613300404081316</title>\n<ellipse fill=\"none\" stroke=\"black\" cx=\"48.1\" cy=\"-48.1\" rx=\"48.19\" ry=\"48.19\"/>\n<text text-anchor=\"middle\" x=\"48.1\" y=\"-44.4\" font-family=\"Helvetica,sans-Serif\" font-size=\"14.00\">ones_like</text>\n</g>\n<!-- &#45;9133469903929084547 -->\n<g id=\"node2\" class=\"node\">\n<title>-9133469903929084547</title>\n<polygon fill=\"none\" stroke=\"black\" points=\"75.1,-168.19 21.1,-168.19 21.1,-132.19 75.1,-132.19 75.1,-168.19\"/>\n<text text-anchor=\"middle\" x=\"48.1\" y=\"-146.49\" font-family=\"Helvetica,sans-Serif\" font-size=\"14.00\">(0, 0)</text>\n</g>\n<!-- 490613300404081316&#45;&gt;&#45;9133469903929084547 -->\n<g id=\"edge1\" class=\"edge\">\n<title>490613300404081316-&gt;-9133469903929084547</title>\n<path fill=\"none\" stroke=\"black\" d=\"M48.1,-96.21C48.1,-105 48.1,-113.9 48.1,-121.84\"/>\n<polygon fill=\"black\" stroke=\"black\" points=\"44.6,-121.97 48.1,-131.97 51.6,-121.97 44.6,-121.97\"/>\n</g>\n<!-- 7575335510975773891 -->\n<g id=\"node3\" class=\"node\">\n<title>7575335510975773891</title>\n<ellipse fill=\"none\" stroke=\"black\" cx=\"162.1\" cy=\"-48.1\" rx=\"48.19\" ry=\"48.19\"/>\n<text text-anchor=\"middle\" x=\"162.1\" y=\"-44.4\" font-family=\"Helvetica,sans-Serif\" font-size=\"14.00\">ones_like</text>\n</g>\n<!-- &#45;2625829147827086122 -->\n<g id=\"node4\" class=\"node\">\n<title>-2625829147827086122</title>\n<polygon fill=\"none\" stroke=\"black\" points=\"189.1,-168.19 135.1,-168.19 135.1,-132.19 189.1,-132.19 189.1,-168.19\"/>\n<text text-anchor=\"middle\" x=\"162.1\" y=\"-146.49\" font-family=\"Helvetica,sans-Serif\" font-size=\"14.00\">(0, 1)</text>\n</g>\n<!-- 7575335510975773891&#45;&gt;&#45;2625829147827086122 -->\n<g id=\"edge2\" class=\"edge\">\n<title>7575335510975773891-&gt;-2625829147827086122</title>\n<path fill=\"none\" stroke=\"black\" d=\"M162.1,-96.21C162.1,-105 162.1,-113.9 162.1,-121.84\"/>\n<polygon fill=\"black\" stroke=\"black\" points=\"158.6,-121.97 162.1,-131.97 165.6,-121.97 158.6,-121.97\"/>\n</g>\n<!-- &#45;6632089390294885117 -->\n<g id=\"node5\" class=\"node\">\n<title>-6632089390294885117</title>\n<ellipse fill=\"none\" stroke=\"black\" cx=\"276.1\" cy=\"-48.1\" rx=\"48.19\" ry=\"48.19\"/>\n<text text-anchor=\"middle\" x=\"276.1\" y=\"-44.4\" font-family=\"Helvetica,sans-Serif\" font-size=\"14.00\">ones_like</text>\n</g>\n<!-- &#45;7518903176799782488 -->\n<g id=\"node6\" class=\"node\">\n<title>-7518903176799782488</title>\n<polygon fill=\"none\" stroke=\"black\" points=\"303.1,-168.19 249.1,-168.19 249.1,-132.19 303.1,-132.19 303.1,-168.19\"/>\n<text text-anchor=\"middle\" x=\"276.1\" y=\"-146.49\" font-family=\"Helvetica,sans-Serif\" font-size=\"14.00\">(0, 2)</text>\n</g>\n<!-- &#45;6632089390294885117&#45;&gt;&#45;7518903176799782488 -->\n<g id=\"edge3\" class=\"edge\">\n<title>-6632089390294885117-&gt;-7518903176799782488</title>\n<path fill=\"none\" stroke=\"black\" d=\"M276.1,-96.21C276.1,-105 276.1,-113.9 276.1,-121.84\"/>\n<polygon fill=\"black\" stroke=\"black\" points=\"272.6,-121.97 276.1,-131.97 279.6,-121.97 272.6,-121.97\"/>\n</g>\n<!-- &#45;6103998480620003585 -->\n<g id=\"node7\" class=\"node\">\n<title>-6103998480620003585</title>\n<ellipse fill=\"none\" stroke=\"black\" cx=\"390.1\" cy=\"-48.1\" rx=\"48.19\" ry=\"48.19\"/>\n<text text-anchor=\"middle\" x=\"390.1\" y=\"-44.4\" font-family=\"Helvetica,sans-Serif\" font-size=\"14.00\">ones_like</text>\n</g>\n<!-- &#45;1011262420697784063 -->\n<g id=\"node8\" class=\"node\">\n<title>-1011262420697784063</title>\n<polygon fill=\"none\" stroke=\"black\" points=\"417.1,-168.19 363.1,-168.19 363.1,-132.19 417.1,-132.19 417.1,-168.19\"/>\n<text text-anchor=\"middle\" x=\"390.1\" y=\"-146.49\" font-family=\"Helvetica,sans-Serif\" font-size=\"14.00\">(0, 3)</text>\n</g>\n<!-- &#45;6103998480620003585&#45;&gt;&#45;1011262420697784063 -->\n<g id=\"edge4\" class=\"edge\">\n<title>-6103998480620003585-&gt;-1011262420697784063</title>\n<path fill=\"none\" stroke=\"black\" d=\"M390.1,-96.21C390.1,-105 390.1,-113.9 390.1,-121.84\"/>\n<polygon fill=\"black\" stroke=\"black\" points=\"386.6,-121.97 390.1,-131.97 393.6,-121.97 386.6,-121.97\"/>\n</g>\n</g>\n</svg>"
          },
          "metadata": {},
          "execution_count": 18
        }
      ]
    },
    {
      "cell_type": "markdown",
      "metadata": {
        "id": "8p-P_I4MAOYA"
      },
      "source": [
        "Our array has four chunks. To generate it, dask calls np.ones four times and then concatenates this together into one array.\n",
        "\n",
        "Rather than immediately loading a dask array (which puts all the data into RAM), it is more common to reduce the data somehow."
      ],
      "id": "8p-P_I4MAOYA"
    },
    {
      "cell_type": "code",
      "metadata": {
        "id": "7wogfk0WASfV",
        "colab": {
          "base_uri": "https://localhost:8080/",
          "height": 1000
        },
        "outputId": "6462b28c-3a00-49b4-e5f0-78c2febaeb3a"
      },
      "source": [
        "# calculate the sum of elements of dask array\n",
        "sum_of_ones = ones.sum()\n",
        "# visualize the sum operation in dask\n",
        "sum_of_ones.visualize(format='svg')"
      ],
      "id": "7wogfk0WASfV",
      "execution_count": 19,
      "outputs": [
        {
          "output_type": "execute_result",
          "data": {
            "text/plain": [
              "<IPython.core.display.SVG object>"
            ],
            "image/svg+xml": "<svg xmlns=\"http://www.w3.org/2000/svg\" xmlns:xlink=\"http://www.w3.org/1999/xlink\" width=\"449pt\" height=\"806pt\" viewBox=\"0.00 0.00 449.19 805.66\">\n<g id=\"graph0\" class=\"graph\" transform=\"scale(1 1) rotate(0) translate(4 801.66)\">\n<title>%3</title>\n<polygon fill=\"white\" stroke=\"transparent\" points=\"-4,4 -4,-801.66 445.19,-801.66 445.19,4 -4,4\"/>\n<!-- 490613300404081316 -->\n<g id=\"node1\" class=\"node\">\n<title>490613300404081316</title>\n<ellipse fill=\"none\" stroke=\"black\" cx=\"48.1\" cy=\"-48.1\" rx=\"48.19\" ry=\"48.19\"/>\n<text text-anchor=\"middle\" x=\"48.1\" y=\"-44.4\" font-family=\"Helvetica,sans-Serif\" font-size=\"14.00\">ones_like</text>\n</g>\n<!-- &#45;9133469903929084547 -->\n<g id=\"node2\" class=\"node\">\n<title>-9133469903929084547</title>\n<polygon fill=\"none\" stroke=\"black\" points=\"92.1,-168.19 38.1,-168.19 38.1,-132.19 92.1,-132.19 92.1,-168.19\"/>\n<text text-anchor=\"middle\" x=\"65.1\" y=\"-146.49\" font-family=\"Helvetica,sans-Serif\" font-size=\"14.00\">(0, 0)</text>\n</g>\n<!-- 490613300404081316&#45;&gt;&#45;9133469903929084547 -->\n<g id=\"edge1\" class=\"edge\">\n<title>490613300404081316-&gt;-9133469903929084547</title>\n<path fill=\"none\" stroke=\"black\" d=\"M56,-95.63C57.52,-104.57 59.06,-113.67 60.44,-121.76\"/>\n<polygon fill=\"black\" stroke=\"black\" points=\"57.01,-122.46 62.13,-131.73 63.91,-121.29 57.01,-122.46\"/>\n</g>\n<!-- 1572023363595026243 -->\n<g id=\"node9\" class=\"node\">\n<title>1572023363595026243</title>\n<ellipse fill=\"none\" stroke=\"black\" cx=\"74.1\" cy=\"-232.14\" rx=\"27.9\" ry=\"27.9\"/>\n<text text-anchor=\"middle\" x=\"74.1\" y=\"-228.44\" font-family=\"Helvetica,sans-Serif\" font-size=\"14.00\">sum</text>\n</g>\n<!-- &#45;9133469903929084547&#45;&gt;1572023363595026243 -->\n<g id=\"edge6\" class=\"edge\">\n<title>-9133469903929084547-&gt;1572023363595026243</title>\n<path fill=\"none\" stroke=\"black\" d=\"M67.05,-168.54C67.89,-176 68.9,-185.03 69.9,-193.88\"/>\n<polygon fill=\"black\" stroke=\"black\" points=\"66.45,-194.53 71.05,-204.08 73.41,-193.75 66.45,-194.53\"/>\n</g>\n<!-- 7575335510975773891 -->\n<g id=\"node3\" class=\"node\">\n<title>7575335510975773891</title>\n<ellipse fill=\"none\" stroke=\"black\" cx=\"162.1\" cy=\"-48.1\" rx=\"48.19\" ry=\"48.19\"/>\n<text text-anchor=\"middle\" x=\"162.1\" y=\"-44.4\" font-family=\"Helvetica,sans-Serif\" font-size=\"14.00\">ones_like</text>\n</g>\n<!-- &#45;2625829147827086122 -->\n<g id=\"node4\" class=\"node\">\n<title>-2625829147827086122</title>\n<polygon fill=\"none\" stroke=\"black\" points=\"183.1,-168.19 129.1,-168.19 129.1,-132.19 183.1,-132.19 183.1,-168.19\"/>\n<text text-anchor=\"middle\" x=\"156.1\" y=\"-146.49\" font-family=\"Helvetica,sans-Serif\" font-size=\"14.00\">(0, 1)</text>\n</g>\n<!-- 7575335510975773891&#45;&gt;&#45;2625829147827086122 -->\n<g id=\"edge2\" class=\"edge\">\n<title>7575335510975773891-&gt;-2625829147827086122</title>\n<path fill=\"none\" stroke=\"black\" d=\"M159.27,-96.21C158.74,-105 158.21,-113.9 157.74,-121.84\"/>\n<polygon fill=\"black\" stroke=\"black\" points=\"154.23,-121.78 157.13,-131.97 161.22,-122.19 154.23,-121.78\"/>\n</g>\n<!-- 535183951322705600 -->\n<g id=\"node11\" class=\"node\">\n<title>535183951322705600</title>\n<ellipse fill=\"none\" stroke=\"black\" cx=\"156.1\" cy=\"-232.14\" rx=\"27.9\" ry=\"27.9\"/>\n<text text-anchor=\"middle\" x=\"156.1\" y=\"-228.44\" font-family=\"Helvetica,sans-Serif\" font-size=\"14.00\">sum</text>\n</g>\n<!-- &#45;2625829147827086122&#45;&gt;535183951322705600 -->\n<g id=\"edge8\" class=\"edge\">\n<title>-2625829147827086122-&gt;535183951322705600</title>\n<path fill=\"none\" stroke=\"black\" d=\"M156.1,-168.54C156.1,-176 156.1,-185.03 156.1,-193.88\"/>\n<polygon fill=\"black\" stroke=\"black\" points=\"152.6,-194.08 156.1,-204.08 159.6,-194.08 152.6,-194.08\"/>\n</g>\n<!-- &#45;6632089390294885117 -->\n<g id=\"node5\" class=\"node\">\n<title>-6632089390294885117</title>\n<ellipse fill=\"none\" stroke=\"black\" cx=\"279.1\" cy=\"-48.1\" rx=\"48.19\" ry=\"48.19\"/>\n<text text-anchor=\"middle\" x=\"279.1\" y=\"-44.4\" font-family=\"Helvetica,sans-Serif\" font-size=\"14.00\">ones_like</text>\n</g>\n<!-- &#45;7518903176799782488 -->\n<g id=\"node6\" class=\"node\">\n<title>-7518903176799782488</title>\n<polygon fill=\"none\" stroke=\"black\" points=\"306.1,-168.19 252.1,-168.19 252.1,-132.19 306.1,-132.19 306.1,-168.19\"/>\n<text text-anchor=\"middle\" x=\"279.1\" y=\"-146.49\" font-family=\"Helvetica,sans-Serif\" font-size=\"14.00\">(0, 2)</text>\n</g>\n<!-- &#45;6632089390294885117&#45;&gt;&#45;7518903176799782488 -->\n<g id=\"edge3\" class=\"edge\">\n<title>-6632089390294885117-&gt;-7518903176799782488</title>\n<path fill=\"none\" stroke=\"black\" d=\"M279.1,-96.21C279.1,-105 279.1,-113.9 279.1,-121.84\"/>\n<polygon fill=\"black\" stroke=\"black\" points=\"275.6,-121.97 279.1,-131.97 282.6,-121.97 275.6,-121.97\"/>\n</g>\n<!-- &#45;7314972242460724267 -->\n<g id=\"node13\" class=\"node\">\n<title>-7314972242460724267</title>\n<ellipse fill=\"none\" stroke=\"black\" cx=\"280.1\" cy=\"-232.14\" rx=\"27.9\" ry=\"27.9\"/>\n<text text-anchor=\"middle\" x=\"280.1\" y=\"-228.44\" font-family=\"Helvetica,sans-Serif\" font-size=\"14.00\">sum</text>\n</g>\n<!-- &#45;7518903176799782488&#45;&gt;&#45;7314972242460724267 -->\n<g id=\"edge10\" class=\"edge\">\n<title>-7518903176799782488-&gt;-7314972242460724267</title>\n<path fill=\"none\" stroke=\"black\" d=\"M279.31,-168.54C279.41,-176 279.52,-185.03 279.63,-193.88\"/>\n<polygon fill=\"black\" stroke=\"black\" points=\"276.13,-194.12 279.76,-204.08 283.13,-194.03 276.13,-194.12\"/>\n</g>\n<!-- &#45;6103998480620003585 -->\n<g id=\"node7\" class=\"node\">\n<title>-6103998480620003585</title>\n<ellipse fill=\"none\" stroke=\"black\" cx=\"393.1\" cy=\"-48.1\" rx=\"48.19\" ry=\"48.19\"/>\n<text text-anchor=\"middle\" x=\"393.1\" y=\"-44.4\" font-family=\"Helvetica,sans-Serif\" font-size=\"14.00\">ones_like</text>\n</g>\n<!-- &#45;1011262420697784063 -->\n<g id=\"node8\" class=\"node\">\n<title>-1011262420697784063</title>\n<polygon fill=\"none\" stroke=\"black\" points=\"410.1,-168.19 356.1,-168.19 356.1,-132.19 410.1,-132.19 410.1,-168.19\"/>\n<text text-anchor=\"middle\" x=\"383.1\" y=\"-146.49\" font-family=\"Helvetica,sans-Serif\" font-size=\"14.00\">(0, 3)</text>\n</g>\n<!-- &#45;6103998480620003585&#45;&gt;&#45;1011262420697784063 -->\n<g id=\"edge4\" class=\"edge\">\n<title>-6103998480620003585-&gt;-1011262420697784063</title>\n<path fill=\"none\" stroke=\"black\" d=\"M388.39,-96.21C387.51,-105 386.62,-113.9 385.83,-121.84\"/>\n<polygon fill=\"black\" stroke=\"black\" points=\"382.33,-121.67 384.82,-131.97 389.29,-122.36 382.33,-121.67\"/>\n</g>\n<!-- 4813196045698433958 -->\n<g id=\"node15\" class=\"node\">\n<title>4813196045698433958</title>\n<ellipse fill=\"none\" stroke=\"black\" cx=\"373.1\" cy=\"-232.14\" rx=\"27.9\" ry=\"27.9\"/>\n<text text-anchor=\"middle\" x=\"373.1\" y=\"-228.44\" font-family=\"Helvetica,sans-Serif\" font-size=\"14.00\">sum</text>\n</g>\n<!-- &#45;1011262420697784063&#45;&gt;4813196045698433958 -->\n<g id=\"edge12\" class=\"edge\">\n<title>-1011262420697784063-&gt;4813196045698433958</title>\n<path fill=\"none\" stroke=\"black\" d=\"M380.93,-168.54C379.97,-176.15 378.82,-185.38 377.69,-194.4\"/>\n<polygon fill=\"black\" stroke=\"black\" points=\"374.21,-194.03 376.44,-204.39 381.16,-194.9 374.21,-194.03\"/>\n</g>\n<!-- &#45;8235813154911102748 -->\n<g id=\"node10\" class=\"node\">\n<title>-8235813154911102748</title>\n<polygon fill=\"none\" stroke=\"black\" points=\"106.1,-332.09 52.1,-332.09 52.1,-296.09 106.1,-296.09 106.1,-332.09\"/>\n<text text-anchor=\"middle\" x=\"79.1\" y=\"-310.39\" font-family=\"Helvetica,sans-Serif\" font-size=\"14.00\">(0, 0)</text>\n</g>\n<!-- 1572023363595026243&#45;&gt;&#45;8235813154911102748 -->\n<g id=\"edge5\" class=\"edge\">\n<title>1572023363595026243-&gt;-8235813154911102748</title>\n<path fill=\"none\" stroke=\"black\" d=\"M75.79,-260.21C76.3,-268.39 76.86,-277.39 77.38,-285.61\"/>\n<polygon fill=\"black\" stroke=\"black\" points=\"73.9,-286.06 78.02,-295.83 80.89,-285.63 73.9,-286.06\"/>\n</g>\n<!-- 1758580049110884243 -->\n<g id=\"node17\" class=\"node\">\n<title>1758580049110884243</title>\n<ellipse fill=\"none\" stroke=\"black\" cx=\"154.1\" cy=\"-422.68\" rx=\"54.69\" ry=\"54.69\"/>\n<text text-anchor=\"middle\" x=\"154.1\" y=\"-418.98\" font-family=\"Helvetica,sans-Serif\" font-size=\"14.00\">sum-partial</text>\n</g>\n<!-- &#45;8235813154911102748&#45;&gt;1758580049110884243 -->\n<g id=\"edge14\" class=\"edge\">\n<title>-8235813154911102748-&gt;1758580049110884243</title>\n<path fill=\"none\" stroke=\"black\" d=\"M91.15,-332.21C98.28,-342.35 107.74,-355.79 117.15,-369.17\"/>\n<polygon fill=\"black\" stroke=\"black\" points=\"114.36,-371.3 122.98,-377.46 120.09,-367.27 114.36,-371.3\"/>\n</g>\n<!-- 919499506841384374 -->\n<g id=\"node12\" class=\"node\">\n<title>919499506841384374</title>\n<polygon fill=\"none\" stroke=\"black\" points=\"182.1,-332.09 128.1,-332.09 128.1,-296.09 182.1,-296.09 182.1,-332.09\"/>\n<text text-anchor=\"middle\" x=\"155.1\" y=\"-310.39\" font-family=\"Helvetica,sans-Serif\" font-size=\"14.00\">(0, 1)</text>\n</g>\n<!-- 535183951322705600&#45;&gt;919499506841384374 -->\n<g id=\"edge7\" class=\"edge\">\n<title>535183951322705600-&gt;919499506841384374</title>\n<path fill=\"none\" stroke=\"black\" d=\"M155.76,-260.21C155.65,-268.39 155.54,-277.39 155.44,-285.61\"/>\n<polygon fill=\"black\" stroke=\"black\" points=\"151.94,-285.78 155.31,-295.83 158.94,-285.87 151.94,-285.78\"/>\n</g>\n<!-- 919499506841384374&#45;&gt;1758580049110884243 -->\n<g id=\"edge15\" class=\"edge\">\n<title>919499506841384374-&gt;1758580049110884243</title>\n<path fill=\"none\" stroke=\"black\" d=\"M154.94,-332.21C154.87,-339.39 154.78,-348.22 154.7,-357.51\"/>\n<polygon fill=\"black\" stroke=\"black\" points=\"151.2,-357.68 154.6,-367.71 158.2,-357.75 151.2,-357.68\"/>\n</g>\n<!-- 7427140262943382799 -->\n<g id=\"node14\" class=\"node\">\n<title>7427140262943382799</title>\n<polygon fill=\"none\" stroke=\"black\" points=\"307.1,-332.09 253.1,-332.09 253.1,-296.09 307.1,-296.09 307.1,-332.09\"/>\n<text text-anchor=\"middle\" x=\"280.1\" y=\"-310.39\" font-family=\"Helvetica,sans-Serif\" font-size=\"14.00\">(0, 2)</text>\n</g>\n<!-- &#45;7314972242460724267&#45;&gt;7427140262943382799 -->\n<g id=\"edge9\" class=\"edge\">\n<title>-7314972242460724267-&gt;7427140262943382799</title>\n<path fill=\"none\" stroke=\"black\" d=\"M280.1,-260.21C280.1,-268.39 280.1,-277.39 280.1,-285.61\"/>\n<polygon fill=\"black\" stroke=\"black\" points=\"276.6,-285.83 280.1,-295.83 283.6,-285.83 276.6,-285.83\"/>\n</g>\n<!-- 1599541838565408723 -->\n<g id=\"node19\" class=\"node\">\n<title>1599541838565408723</title>\n<ellipse fill=\"none\" stroke=\"black\" cx=\"281.1\" cy=\"-422.68\" rx=\"54.69\" ry=\"54.69\"/>\n<text text-anchor=\"middle\" x=\"281.1\" y=\"-418.98\" font-family=\"Helvetica,sans-Serif\" font-size=\"14.00\">sum-partial</text>\n</g>\n<!-- 7427140262943382799&#45;&gt;1599541838565408723 -->\n<g id=\"edge18\" class=\"edge\">\n<title>7427140262943382799-&gt;1599541838565408723</title>\n<path fill=\"none\" stroke=\"black\" d=\"M280.26,-332.21C280.32,-339.39 280.41,-348.22 280.49,-357.51\"/>\n<polygon fill=\"black\" stroke=\"black\" points=\"277,-357.75 280.59,-367.71 284,-357.68 277,-357.75\"/>\n</g>\n<!-- 2534066233970686433 -->\n<g id=\"node16\" class=\"node\">\n<title>2534066233970686433</title>\n<polygon fill=\"none\" stroke=\"black\" points=\"389.1,-332.09 335.1,-332.09 335.1,-296.09 389.1,-296.09 389.1,-332.09\"/>\n<text text-anchor=\"middle\" x=\"362.1\" y=\"-310.39\" font-family=\"Helvetica,sans-Serif\" font-size=\"14.00\">(0, 3)</text>\n</g>\n<!-- 4813196045698433958&#45;&gt;2534066233970686433 -->\n<g id=\"edge11\" class=\"edge\">\n<title>4813196045698433958-&gt;2534066233970686433</title>\n<path fill=\"none\" stroke=\"black\" d=\"M369.37,-260.21C368.23,-268.49 366.98,-277.6 365.84,-285.89\"/>\n<polygon fill=\"black\" stroke=\"black\" points=\"362.37,-285.44 364.47,-295.83 369.3,-286.4 362.37,-285.44\"/>\n</g>\n<!-- 2534066233970686433&#45;&gt;1599541838565408723 -->\n<g id=\"edge17\" class=\"edge\">\n<title>2534066233970686433-&gt;1599541838565408723</title>\n<path fill=\"none\" stroke=\"black\" d=\"M349.08,-332.21C341.08,-342.74 330.37,-356.83 319.82,-370.72\"/>\n<polygon fill=\"black\" stroke=\"black\" points=\"316.92,-368.76 313.65,-378.84 322.49,-372.99 316.92,-368.76\"/>\n</g>\n<!-- &#45;1907457424841022283 -->\n<g id=\"node18\" class=\"node\">\n<title>-1907457424841022283</title>\n<polygon fill=\"none\" stroke=\"black\" points=\"208.1,-549.28 154.1,-549.28 154.1,-513.28 208.1,-513.28 208.1,-549.28\"/>\n<text text-anchor=\"middle\" x=\"181.1\" y=\"-527.58\" font-family=\"Helvetica,sans-Serif\" font-size=\"14.00\">(0, 0)</text>\n</g>\n<!-- 1758580049110884243&#45;&gt;&#45;1907457424841022283 -->\n<g id=\"edge13\" class=\"edge\">\n<title>1758580049110884243-&gt;-1907457424841022283</title>\n<path fill=\"none\" stroke=\"black\" d=\"M167.28,-475.73C169.69,-485.24 172.11,-494.81 174.24,-503.21\"/>\n<polygon fill=\"black\" stroke=\"black\" points=\"170.91,-504.32 176.76,-513.15 177.7,-502.6 170.91,-504.32\"/>\n</g>\n<!-- 5668050840589659340 -->\n<g id=\"node21\" class=\"node\">\n<title>5668050840589659340</title>\n<ellipse fill=\"none\" stroke=\"black\" cx=\"217.1\" cy=\"-655.47\" rx=\"70.39\" ry=\"70.39\"/>\n<text text-anchor=\"middle\" x=\"217.1\" y=\"-651.77\" font-family=\"Helvetica,sans-Serif\" font-size=\"14.00\">sum-aggregate</text>\n</g>\n<!-- &#45;1907457424841022283&#45;&gt;5668050840589659340 -->\n<g id=\"edge20\" class=\"edge\">\n<title>-1907457424841022283-&gt;5668050840589659340</title>\n<path fill=\"none\" stroke=\"black\" d=\"M186.18,-549.53C188.53,-557.51 191.51,-567.62 194.68,-578.38\"/>\n<polygon fill=\"black\" stroke=\"black\" points=\"191.32,-579.37 197.5,-587.97 198.04,-577.39 191.32,-579.37\"/>\n</g>\n<!-- &#45;6800531453813718649 -->\n<g id=\"node20\" class=\"node\">\n<title>-6800531453813718649</title>\n<polygon fill=\"none\" stroke=\"black\" points=\"294.1,-549.28 240.1,-549.28 240.1,-513.28 294.1,-513.28 294.1,-549.28\"/>\n<text text-anchor=\"middle\" x=\"267.1\" y=\"-527.58\" font-family=\"Helvetica,sans-Serif\" font-size=\"14.00\">(0, 1)</text>\n</g>\n<!-- 1599541838565408723&#45;&gt;&#45;6800531453813718649 -->\n<g id=\"edge16\" class=\"edge\">\n<title>1599541838565408723-&gt;-6800531453813718649</title>\n<path fill=\"none\" stroke=\"black\" d=\"M274.1,-476.98C272.91,-486 271.73,-495.01 270.68,-503\"/>\n<polygon fill=\"black\" stroke=\"black\" points=\"267.18,-502.78 269.35,-513.15 274.12,-503.69 267.18,-502.78\"/>\n</g>\n<!-- &#45;6800531453813718649&#45;&gt;5668050840589659340 -->\n<g id=\"edge21\" class=\"edge\">\n<title>-6800531453813718649-&gt;5668050840589659340</title>\n<path fill=\"none\" stroke=\"black\" d=\"M260.04,-549.53C256.53,-558.09 252.03,-569.09 247.27,-580.72\"/>\n<polygon fill=\"black\" stroke=\"black\" points=\"243.96,-579.57 243.41,-590.16 250.44,-582.23 243.96,-579.57\"/>\n</g>\n<!-- 7542601713091818081 -->\n<g id=\"node22\" class=\"node\">\n<title>7542601713091818081</title>\n<polygon fill=\"none\" stroke=\"black\" points=\"244.1,-797.66 190.1,-797.66 190.1,-761.66 244.1,-761.66 244.1,-797.66\"/>\n<text text-anchor=\"middle\" x=\"217.1\" y=\"-775.96\" font-family=\"Helvetica,sans-Serif\" font-size=\"14.00\">()</text>\n</g>\n<!-- 5668050840589659340&#45;&gt;7542601713091818081 -->\n<g id=\"edge19\" class=\"edge\">\n<title>5668050840589659340-&gt;7542601713091818081</title>\n<path fill=\"none\" stroke=\"black\" d=\"M217.1,-725.78C217.1,-734.86 217.1,-743.69 217.1,-751.46\"/>\n<polygon fill=\"black\" stroke=\"black\" points=\"213.6,-751.64 217.1,-761.64 220.6,-751.64 213.6,-751.64\"/>\n</g>\n</g>\n</svg>"
          },
          "metadata": {},
          "execution_count": 19
        }
      ]
    },
    {
      "cell_type": "markdown",
      "metadata": {
        "id": "urIQVP-xQ9XO"
      },
      "source": [
        "### **DataFrame**\n",
        "\n",
        "A Dask DataFrame is a large parallel DataFrame composed of many smaller Pandas DataFrames, split along **with** the index. One Dask DataFrame operation triggers many operations on the constituent Pandas DataFrames.\n",
        "\n",
        "Dask DataFrames coordinate many Pandas DataFrames/Series arranged along the index. A Dask DataFrame is partitioned row-wise, grouping rows by index value for efficiency.\n",
        "\n",
        "![Dask_DF](https://cdn.iisc.talentsprint.com/CDS/Images/Dask_Dataframe.JPG)\n",
        "\n",
        "To study more about Dask dataframe, refer to the link [here](https://docs.dask.org/en/latest/dataframe.html)."
      ],
      "id": "urIQVP-xQ9XO"
    },
    {
      "cell_type": "markdown",
      "metadata": {
        "id": "Zyw-S0i7QQ_U"
      },
      "source": [
        "Create a dataframe with random values"
      ],
      "id": "Zyw-S0i7QQ_U"
    },
    {
      "cell_type": "code",
      "metadata": {
        "id": "H4xmg4gHQdTo"
      },
      "source": [
        "# pandas and numpy is used to create dataframe of random values\n",
        "data = pd.DataFrame()"
      ],
      "id": "H4xmg4gHQdTo",
      "execution_count": 20,
      "outputs": []
    },
    {
      "cell_type": "markdown",
      "metadata": {
        "id": "81SudTyQSD8a"
      },
      "source": [
        "Dataframe is created with two columns, each having 1500 random values."
      ],
      "id": "81SudTyQSD8a"
    },
    {
      "cell_type": "code",
      "metadata": {
        "id": "4iu2Pps_Erfi",
        "colab": {
          "base_uri": "https://localhost:8080/"
        },
        "outputId": "b31aac31-11a1-4a8b-9338-bb8d655cad34"
      },
      "source": [
        "# create two columns\n",
        "data['col1'] = np.random.normal(size=1500)\n",
        "data['col2'] = np.random.normal(size=1500)\n",
        "print(data)"
      ],
      "id": "4iu2Pps_Erfi",
      "execution_count": 21,
      "outputs": [
        {
          "output_type": "stream",
          "name": "stdout",
          "text": [
            "          col1      col2\n",
            "0     2.645233 -0.263041\n",
            "1     0.716884  0.511380\n",
            "2    -0.575435 -1.282963\n",
            "3    -1.779517  0.698867\n",
            "4    -1.730044 -0.860301\n",
            "...        ...       ...\n",
            "1495 -0.736526  0.542859\n",
            "1496 -1.020409 -0.551008\n",
            "1497 -1.177812 -0.687688\n",
            "1498  0.235980 -0.924789\n",
            "1499  1.111122 -0.314142\n",
            "\n",
            "[1500 rows x 2 columns]\n"
          ]
        }
      ]
    },
    {
      "cell_type": "markdown",
      "metadata": {
        "id": "8zEcwuXZSM9A"
      },
      "source": [
        "Read the dataframe using dask dataframe"
      ],
      "id": "8zEcwuXZSM9A"
    },
    {
      "cell_type": "code",
      "metadata": {
        "id": "f2LFQep8Q1ga",
        "colab": {
          "base_uri": "https://localhost:8080/"
        },
        "outputId": "345f1505-1f1a-470d-bf3a-1089fb6b5f59"
      },
      "source": [
        "# convert pandas dataframe to dask dataframe\n",
        "ddf = dd.from_pandas(data, npartitions=2)\n",
        "print(ddf.compute())"
      ],
      "id": "f2LFQep8Q1ga",
      "execution_count": 22,
      "outputs": [
        {
          "output_type": "stream",
          "name": "stdout",
          "text": [
            "          col1      col2\n",
            "0     2.645233 -0.263041\n",
            "1     0.716884  0.511380\n",
            "2    -0.575435 -1.282963\n",
            "3    -1.779517  0.698867\n",
            "4    -1.730044 -0.860301\n",
            "...        ...       ...\n",
            "1495 -0.736526  0.542859\n",
            "1496 -1.020409 -0.551008\n",
            "1497 -1.177812 -0.687688\n",
            "1498  0.235980 -0.924789\n",
            "1499  1.111122 -0.314142\n",
            "\n",
            "[1500 rows x 2 columns]\n"
          ]
        }
      ]
    },
    {
      "cell_type": "code",
      "metadata": {
        "id": "eqtBj6xsRBla",
        "colab": {
          "base_uri": "https://localhost:8080/"
        },
        "outputId": "3a33fcbc-5a53-4a3a-f358-f45940754d48"
      },
      "source": [
        "# Get a dask DataFrame/Series representing the nth partition\n",
        "part_1= ddf.get_partition(1)\n",
        "print(part_1.head())"
      ],
      "id": "eqtBj6xsRBla",
      "execution_count": 23,
      "outputs": [
        {
          "output_type": "stream",
          "name": "stdout",
          "text": [
            "         col1      col2\n",
            "750  0.727101 -1.496511\n",
            "751  1.879232 -0.744690\n",
            "752  1.003488  0.431153\n",
            "753  0.438472 -1.144683\n",
            "754  0.588596  0.208792\n"
          ]
        }
      ]
    },
    {
      "cell_type": "code",
      "metadata": {
        "id": "5QyY3Hu1RlWR",
        "colab": {
          "base_uri": "https://localhost:8080/",
          "height": 524
        },
        "outputId": "a79cd9d1-2f35-4ae2-9784-9528ce1532e7"
      },
      "source": [
        "%time ddf['col1'].value_counts().compute()                 # compute the value counts in column 1 and time of execution of code"
      ],
      "id": "5QyY3Hu1RlWR",
      "execution_count": 24,
      "outputs": [
        {
          "output_type": "stream",
          "name": "stdout",
          "text": [
            "CPU times: user 68 ms, sys: 6.92 ms, total: 74.9 ms\n",
            "Wall time: 102 ms\n"
          ]
        },
        {
          "output_type": "execute_result",
          "data": {
            "text/plain": [
              "col1\n",
              "-2.818407    1\n",
              "-2.672182    1\n",
              "-2.642801    1\n",
              "-2.641088    1\n",
              "-2.575509    1\n",
              "            ..\n",
              " 2.669840    1\n",
              " 2.679710    1\n",
              " 2.749185    1\n",
              " 2.980689    1\n",
              " 3.060097    1\n",
              "Name: count, Length: 1500, dtype: int64"
            ],
            "text/html": [
              "<div>\n",
              "<style scoped>\n",
              "    .dataframe tbody tr th:only-of-type {\n",
              "        vertical-align: middle;\n",
              "    }\n",
              "\n",
              "    .dataframe tbody tr th {\n",
              "        vertical-align: top;\n",
              "    }\n",
              "\n",
              "    .dataframe thead th {\n",
              "        text-align: right;\n",
              "    }\n",
              "</style>\n",
              "<table border=\"1\" class=\"dataframe\">\n",
              "  <thead>\n",
              "    <tr style=\"text-align: right;\">\n",
              "      <th></th>\n",
              "      <th>count</th>\n",
              "    </tr>\n",
              "    <tr>\n",
              "      <th>col1</th>\n",
              "      <th></th>\n",
              "    </tr>\n",
              "  </thead>\n",
              "  <tbody>\n",
              "    <tr>\n",
              "      <th>-2.818407</th>\n",
              "      <td>1</td>\n",
              "    </tr>\n",
              "    <tr>\n",
              "      <th>-2.672182</th>\n",
              "      <td>1</td>\n",
              "    </tr>\n",
              "    <tr>\n",
              "      <th>-2.642801</th>\n",
              "      <td>1</td>\n",
              "    </tr>\n",
              "    <tr>\n",
              "      <th>-2.641088</th>\n",
              "      <td>1</td>\n",
              "    </tr>\n",
              "    <tr>\n",
              "      <th>-2.575509</th>\n",
              "      <td>1</td>\n",
              "    </tr>\n",
              "    <tr>\n",
              "      <th>...</th>\n",
              "      <td>...</td>\n",
              "    </tr>\n",
              "    <tr>\n",
              "      <th>2.669840</th>\n",
              "      <td>1</td>\n",
              "    </tr>\n",
              "    <tr>\n",
              "      <th>2.679710</th>\n",
              "      <td>1</td>\n",
              "    </tr>\n",
              "    <tr>\n",
              "      <th>2.749185</th>\n",
              "      <td>1</td>\n",
              "    </tr>\n",
              "    <tr>\n",
              "      <th>2.980689</th>\n",
              "      <td>1</td>\n",
              "    </tr>\n",
              "    <tr>\n",
              "      <th>3.060097</th>\n",
              "      <td>1</td>\n",
              "    </tr>\n",
              "  </tbody>\n",
              "</table>\n",
              "<p>1500 rows × 1 columns</p>\n",
              "</div><br><label><b>dtype:</b> int64</label>"
            ]
          },
          "metadata": {},
          "execution_count": 24
        }
      ]
    },
    {
      "cell_type": "markdown",
      "metadata": {
        "id": "PwfxN8zIyZ1V"
      },
      "source": [
        "So, using dask dataframe it is much more time efficient to execute"
      ],
      "id": "PwfxN8zIyZ1V"
    },
    {
      "cell_type": "markdown",
      "metadata": {
        "id": "another-warren"
      },
      "source": [
        "#### Performance of Dask Dataframe and Pandas Dataframe\n",
        "\n",
        "\n",
        "\n",
        "In the below example, we can understand how dask dataframes handle complex and large datasets along with pandas dataframe.\n",
        "\n",
        "We are using 'nycflights' dataset to show how dask differs from pandas.\n",
        "\n",
        "'nycflights' dataset contains 10 separate csv flights for the year 1990 to 1999."
      ],
      "id": "another-warren"
    },
    {
      "cell_type": "code",
      "metadata": {
        "id": "vkIiWr265y1k"
      },
      "source": [
        "nycflightsPath = os.path.join('nycflights', 'nycflights', '*.csv')"
      ],
      "id": "vkIiWr265y1k",
      "execution_count": 25,
      "outputs": []
    },
    {
      "cell_type": "code",
      "metadata": {
        "id": "TtpYoVlZbaUE",
        "colab": {
          "base_uri": "https://localhost:8080/",
          "height": 35
        },
        "outputId": "d999bc99-df24-4680-c947-5db8d02d0ea4"
      },
      "source": [
        "nycflightsPath"
      ],
      "id": "TtpYoVlZbaUE",
      "execution_count": 26,
      "outputs": [
        {
          "output_type": "execute_result",
          "data": {
            "text/plain": [
              "'nycflights/nycflights/*.csv'"
            ],
            "application/vnd.google.colaboratory.intrinsic+json": {
              "type": "string"
            }
          },
          "metadata": {},
          "execution_count": 26
        }
      ]
    },
    {
      "cell_type": "code",
      "metadata": {
        "id": "finished-mouse"
      },
      "source": [
        "# reading all the csv file using dask\n",
        "df = dd.read_csv(nycflightsPath,\n",
        "                 dtype={'CRSElapsedTime': 'float64',\n",
        "                        'TailNum': 'object',\n",
        "                        'Cancelled': 'bool'})"
      ],
      "id": "finished-mouse",
      "execution_count": 27,
      "outputs": []
    },
    {
      "cell_type": "markdown",
      "metadata": {
        "id": "weighted-panic"
      },
      "source": [
        "Here, we can see that dask dataframe stores all the csv files simultaneously using *.csv (this code reads all the files inside nycflights dataset)"
      ],
      "id": "weighted-panic"
    },
    {
      "cell_type": "markdown",
      "metadata": {
        "id": "fantastic-orientation"
      },
      "source": [
        "Whereas, when we want to store the files using pandas, it leads to errors. This means pandas is not able to handle and store more than one file simultaneously.\n",
        "\n",
        "Here, in pandas, we need to store different csv files using separate commands."
      ],
      "id": "fantastic-orientation"
    },
    {
      "cell_type": "code",
      "metadata": {
        "id": "collectible-swing",
        "colab": {
          "base_uri": "https://localhost:8080/"
        },
        "outputId": "06527f24-b691-468f-8fe6-4d3bc730d37d"
      },
      "source": [
        "# this gives an error\n",
        "try:\n",
        "  # using pandas trying to read all csv files\n",
        "  df_pd = pd.read_csv(nycflightsPath)\n",
        "except:\n",
        "  print(\"Error Occured!\")"
      ],
      "id": "collectible-swing",
      "execution_count": 28,
      "outputs": [
        {
          "output_type": "stream",
          "name": "stdout",
          "text": [
            "Error Occured!\n"
          ]
        }
      ]
    },
    {
      "cell_type": "markdown",
      "metadata": {
        "id": "5msBx5FO680B"
      },
      "source": [
        "Using pandas we can read one single dataset at a time."
      ],
      "id": "5msBx5FO680B"
    },
    {
      "cell_type": "code",
      "metadata": {
        "id": "Zd9OneVOb3z-",
        "colab": {
          "base_uri": "https://localhost:8080/"
        },
        "outputId": "c7590569-9c9c-49a8-eea8-4efb0ef460d0"
      },
      "source": [
        "!head /content/nycflights/nycflights/1990.csv"
      ],
      "id": "Zd9OneVOb3z-",
      "execution_count": 29,
      "outputs": [
        {
          "output_type": "stream",
          "name": "stdout",
          "text": [
            "Year,Month,DayofMonth,DayOfWeek,DepTime,CRSDepTime,ArrTime,CRSArrTime,UniqueCarrier,FlightNum,TailNum,ActualElapsedTime,CRSElapsedTime,AirTime,ArrDelay,DepDelay,Origin,Dest,Distance,TaxiIn,TaxiOut,Cancelled,Diverted\n",
            "1990,1,1,1,1621.0,1540,1747.0,1701,US,33,,86.0,81,,46.0,41.0,EWR,PIT,319.0,,,0,0\n",
            "1990,1,2,2,1547.0,1540,1700.0,1701,US,33,,73.0,81,,-1.0,7.0,EWR,PIT,319.0,,,0,0\n",
            "1990,1,3,3,1546.0,1540,1710.0,1701,US,33,,84.0,81,,9.0,6.0,EWR,PIT,319.0,,,0,0\n",
            "1990,1,4,4,1542.0,1540,1710.0,1701,US,33,,88.0,81,,9.0,2.0,EWR,PIT,319.0,,,0,0\n",
            "1990,1,5,5,1549.0,1540,1706.0,1701,US,33,,77.0,81,,5.0,9.0,EWR,PIT,319.0,,,0,0\n",
            "1990,1,6,6,1539.0,1540,1653.0,1701,US,33,,74.0,81,,-8.0,-1.0,EWR,PIT,319.0,,,0,0\n",
            "1990,1,7,7,1553.0,1540,1713.0,1701,US,33,,80.0,81,,12.0,13.0,EWR,PIT,319.0,,,0,0\n",
            "1990,1,8,1,1543.0,1540,1656.0,1701,US,33,,73.0,81,,-5.0,3.0,EWR,PIT,319.0,,,0,0\n",
            "1990,1,9,2,1540.0,1540,1704.0,1701,US,33,,84.0,81,,3.0,0.0,EWR,PIT,319.0,,,0,0\n"
          ]
        }
      ]
    },
    {
      "cell_type": "code",
      "metadata": {
        "id": "social-harbor"
      },
      "source": [
        "# reading only single csv file\n",
        "nycf_1990 = pd.read_csv('/content/nycflights/nycflights/1990.csv')"
      ],
      "id": "social-harbor",
      "execution_count": 30,
      "outputs": []
    },
    {
      "cell_type": "markdown",
      "metadata": {
        "id": "conventional-supplement"
      },
      "source": [
        "Dask dataframes object has no data, unlike the pandas data frame. Dask has just read the start of the first file and the column names and dtypes. That's why dask is considered to be lazy in operation.\n",
        "\n",
        "For seeing the data in the dask dataframe we need to execute .head() function."
      ],
      "id": "conventional-supplement"
    },
    {
      "cell_type": "code",
      "source": [
        "# first five rows of the dataset\n",
        "df.head()"
      ],
      "metadata": {
        "id": "e1nBXWHi6hJX",
        "colab": {
          "base_uri": "https://localhost:8080/",
          "height": 255
        },
        "outputId": "2e497862-6352-411b-dc68-6eaa0ec3bb0a"
      },
      "id": "e1nBXWHi6hJX",
      "execution_count": 31,
      "outputs": [
        {
          "output_type": "execute_result",
          "data": {
            "text/plain": [
              "   Year  Month  DayofMonth  DayOfWeek  DepTime  CRSDepTime  ArrTime  \\\n",
              "0  1990      1           1          1   1621.0        1540   1747.0   \n",
              "1  1990      1           2          2   1547.0        1540   1700.0   \n",
              "2  1990      1           3          3   1546.0        1540   1710.0   \n",
              "3  1990      1           4          4   1542.0        1540   1710.0   \n",
              "4  1990      1           5          5   1549.0        1540   1706.0   \n",
              "\n",
              "   CRSArrTime UniqueCarrier  FlightNum  ... AirTime  ArrDelay  DepDelay  \\\n",
              "0        1701            US         33  ...     NaN      46.0      41.0   \n",
              "1        1701            US         33  ...     NaN      -1.0       7.0   \n",
              "2        1701            US         33  ...     NaN       9.0       6.0   \n",
              "3        1701            US         33  ...     NaN       9.0       2.0   \n",
              "4        1701            US         33  ...     NaN       5.0       9.0   \n",
              "\n",
              "   Origin  Dest  Distance TaxiIn TaxiOut  Cancelled  Diverted  \n",
              "0     EWR   PIT     319.0    NaN     NaN      False         0  \n",
              "1     EWR   PIT     319.0    NaN     NaN      False         0  \n",
              "2     EWR   PIT     319.0    NaN     NaN      False         0  \n",
              "3     EWR   PIT     319.0    NaN     NaN      False         0  \n",
              "4     EWR   PIT     319.0    NaN     NaN      False         0  \n",
              "\n",
              "[5 rows x 23 columns]"
            ],
            "text/html": [
              "\n",
              "  <div id=\"df-7bdd16da-12b0-4ad5-870e-5c5f86dc8f38\" class=\"colab-df-container\">\n",
              "    <div>\n",
              "<style scoped>\n",
              "    .dataframe tbody tr th:only-of-type {\n",
              "        vertical-align: middle;\n",
              "    }\n",
              "\n",
              "    .dataframe tbody tr th {\n",
              "        vertical-align: top;\n",
              "    }\n",
              "\n",
              "    .dataframe thead th {\n",
              "        text-align: right;\n",
              "    }\n",
              "</style>\n",
              "<table border=\"1\" class=\"dataframe\">\n",
              "  <thead>\n",
              "    <tr style=\"text-align: right;\">\n",
              "      <th></th>\n",
              "      <th>Year</th>\n",
              "      <th>Month</th>\n",
              "      <th>DayofMonth</th>\n",
              "      <th>DayOfWeek</th>\n",
              "      <th>DepTime</th>\n",
              "      <th>CRSDepTime</th>\n",
              "      <th>ArrTime</th>\n",
              "      <th>CRSArrTime</th>\n",
              "      <th>UniqueCarrier</th>\n",
              "      <th>FlightNum</th>\n",
              "      <th>...</th>\n",
              "      <th>AirTime</th>\n",
              "      <th>ArrDelay</th>\n",
              "      <th>DepDelay</th>\n",
              "      <th>Origin</th>\n",
              "      <th>Dest</th>\n",
              "      <th>Distance</th>\n",
              "      <th>TaxiIn</th>\n",
              "      <th>TaxiOut</th>\n",
              "      <th>Cancelled</th>\n",
              "      <th>Diverted</th>\n",
              "    </tr>\n",
              "  </thead>\n",
              "  <tbody>\n",
              "    <tr>\n",
              "      <th>0</th>\n",
              "      <td>1990</td>\n",
              "      <td>1</td>\n",
              "      <td>1</td>\n",
              "      <td>1</td>\n",
              "      <td>1621.0</td>\n",
              "      <td>1540</td>\n",
              "      <td>1747.0</td>\n",
              "      <td>1701</td>\n",
              "      <td>US</td>\n",
              "      <td>33</td>\n",
              "      <td>...</td>\n",
              "      <td>NaN</td>\n",
              "      <td>46.0</td>\n",
              "      <td>41.0</td>\n",
              "      <td>EWR</td>\n",
              "      <td>PIT</td>\n",
              "      <td>319.0</td>\n",
              "      <td>NaN</td>\n",
              "      <td>NaN</td>\n",
              "      <td>False</td>\n",
              "      <td>0</td>\n",
              "    </tr>\n",
              "    <tr>\n",
              "      <th>1</th>\n",
              "      <td>1990</td>\n",
              "      <td>1</td>\n",
              "      <td>2</td>\n",
              "      <td>2</td>\n",
              "      <td>1547.0</td>\n",
              "      <td>1540</td>\n",
              "      <td>1700.0</td>\n",
              "      <td>1701</td>\n",
              "      <td>US</td>\n",
              "      <td>33</td>\n",
              "      <td>...</td>\n",
              "      <td>NaN</td>\n",
              "      <td>-1.0</td>\n",
              "      <td>7.0</td>\n",
              "      <td>EWR</td>\n",
              "      <td>PIT</td>\n",
              "      <td>319.0</td>\n",
              "      <td>NaN</td>\n",
              "      <td>NaN</td>\n",
              "      <td>False</td>\n",
              "      <td>0</td>\n",
              "    </tr>\n",
              "    <tr>\n",
              "      <th>2</th>\n",
              "      <td>1990</td>\n",
              "      <td>1</td>\n",
              "      <td>3</td>\n",
              "      <td>3</td>\n",
              "      <td>1546.0</td>\n",
              "      <td>1540</td>\n",
              "      <td>1710.0</td>\n",
              "      <td>1701</td>\n",
              "      <td>US</td>\n",
              "      <td>33</td>\n",
              "      <td>...</td>\n",
              "      <td>NaN</td>\n",
              "      <td>9.0</td>\n",
              "      <td>6.0</td>\n",
              "      <td>EWR</td>\n",
              "      <td>PIT</td>\n",
              "      <td>319.0</td>\n",
              "      <td>NaN</td>\n",
              "      <td>NaN</td>\n",
              "      <td>False</td>\n",
              "      <td>0</td>\n",
              "    </tr>\n",
              "    <tr>\n",
              "      <th>3</th>\n",
              "      <td>1990</td>\n",
              "      <td>1</td>\n",
              "      <td>4</td>\n",
              "      <td>4</td>\n",
              "      <td>1542.0</td>\n",
              "      <td>1540</td>\n",
              "      <td>1710.0</td>\n",
              "      <td>1701</td>\n",
              "      <td>US</td>\n",
              "      <td>33</td>\n",
              "      <td>...</td>\n",
              "      <td>NaN</td>\n",
              "      <td>9.0</td>\n",
              "      <td>2.0</td>\n",
              "      <td>EWR</td>\n",
              "      <td>PIT</td>\n",
              "      <td>319.0</td>\n",
              "      <td>NaN</td>\n",
              "      <td>NaN</td>\n",
              "      <td>False</td>\n",
              "      <td>0</td>\n",
              "    </tr>\n",
              "    <tr>\n",
              "      <th>4</th>\n",
              "      <td>1990</td>\n",
              "      <td>1</td>\n",
              "      <td>5</td>\n",
              "      <td>5</td>\n",
              "      <td>1549.0</td>\n",
              "      <td>1540</td>\n",
              "      <td>1706.0</td>\n",
              "      <td>1701</td>\n",
              "      <td>US</td>\n",
              "      <td>33</td>\n",
              "      <td>...</td>\n",
              "      <td>NaN</td>\n",
              "      <td>5.0</td>\n",
              "      <td>9.0</td>\n",
              "      <td>EWR</td>\n",
              "      <td>PIT</td>\n",
              "      <td>319.0</td>\n",
              "      <td>NaN</td>\n",
              "      <td>NaN</td>\n",
              "      <td>False</td>\n",
              "      <td>0</td>\n",
              "    </tr>\n",
              "  </tbody>\n",
              "</table>\n",
              "<p>5 rows × 23 columns</p>\n",
              "</div>\n",
              "    <div class=\"colab-df-buttons\">\n",
              "\n",
              "  <div class=\"colab-df-container\">\n",
              "    <button class=\"colab-df-convert\" onclick=\"convertToInteractive('df-7bdd16da-12b0-4ad5-870e-5c5f86dc8f38')\"\n",
              "            title=\"Convert this dataframe to an interactive table.\"\n",
              "            style=\"display:none;\">\n",
              "\n",
              "  <svg xmlns=\"http://www.w3.org/2000/svg\" height=\"24px\" viewBox=\"0 -960 960 960\">\n",
              "    <path d=\"M120-120v-720h720v720H120Zm60-500h600v-160H180v160Zm220 220h160v-160H400v160Zm0 220h160v-160H400v160ZM180-400h160v-160H180v160Zm440 0h160v-160H620v160ZM180-180h160v-160H180v160Zm440 0h160v-160H620v160Z\"/>\n",
              "  </svg>\n",
              "    </button>\n",
              "\n",
              "  <style>\n",
              "    .colab-df-container {\n",
              "      display:flex;\n",
              "      gap: 12px;\n",
              "    }\n",
              "\n",
              "    .colab-df-convert {\n",
              "      background-color: #E8F0FE;\n",
              "      border: none;\n",
              "      border-radius: 50%;\n",
              "      cursor: pointer;\n",
              "      display: none;\n",
              "      fill: #1967D2;\n",
              "      height: 32px;\n",
              "      padding: 0 0 0 0;\n",
              "      width: 32px;\n",
              "    }\n",
              "\n",
              "    .colab-df-convert:hover {\n",
              "      background-color: #E2EBFA;\n",
              "      box-shadow: 0px 1px 2px rgba(60, 64, 67, 0.3), 0px 1px 3px 1px rgba(60, 64, 67, 0.15);\n",
              "      fill: #174EA6;\n",
              "    }\n",
              "\n",
              "    .colab-df-buttons div {\n",
              "      margin-bottom: 4px;\n",
              "    }\n",
              "\n",
              "    [theme=dark] .colab-df-convert {\n",
              "      background-color: #3B4455;\n",
              "      fill: #D2E3FC;\n",
              "    }\n",
              "\n",
              "    [theme=dark] .colab-df-convert:hover {\n",
              "      background-color: #434B5C;\n",
              "      box-shadow: 0px 1px 3px 1px rgba(0, 0, 0, 0.15);\n",
              "      filter: drop-shadow(0px 1px 2px rgba(0, 0, 0, 0.3));\n",
              "      fill: #FFFFFF;\n",
              "    }\n",
              "  </style>\n",
              "\n",
              "    <script>\n",
              "      const buttonEl =\n",
              "        document.querySelector('#df-7bdd16da-12b0-4ad5-870e-5c5f86dc8f38 button.colab-df-convert');\n",
              "      buttonEl.style.display =\n",
              "        google.colab.kernel.accessAllowed ? 'block' : 'none';\n",
              "\n",
              "      async function convertToInteractive(key) {\n",
              "        const element = document.querySelector('#df-7bdd16da-12b0-4ad5-870e-5c5f86dc8f38');\n",
              "        const dataTable =\n",
              "          await google.colab.kernel.invokeFunction('convertToInteractive',\n",
              "                                                    [key], {});\n",
              "        if (!dataTable) return;\n",
              "\n",
              "        const docLinkHtml = 'Like what you see? Visit the ' +\n",
              "          '<a target=\"_blank\" href=https://colab.research.google.com/notebooks/data_table.ipynb>data table notebook</a>'\n",
              "          + ' to learn more about interactive tables.';\n",
              "        element.innerHTML = '';\n",
              "        dataTable['output_type'] = 'display_data';\n",
              "        await google.colab.output.renderOutput(dataTable, element);\n",
              "        const docLink = document.createElement('div');\n",
              "        docLink.innerHTML = docLinkHtml;\n",
              "        element.appendChild(docLink);\n",
              "      }\n",
              "    </script>\n",
              "  </div>\n",
              "\n",
              "\n",
              "    <div id=\"df-05ededc4-dd21-46cb-90d7-38736df71b07\">\n",
              "      <button class=\"colab-df-quickchart\" onclick=\"quickchart('df-05ededc4-dd21-46cb-90d7-38736df71b07')\"\n",
              "                title=\"Suggest charts\"\n",
              "                style=\"display:none;\">\n",
              "\n",
              "<svg xmlns=\"http://www.w3.org/2000/svg\" height=\"24px\"viewBox=\"0 0 24 24\"\n",
              "     width=\"24px\">\n",
              "    <g>\n",
              "        <path d=\"M19 3H5c-1.1 0-2 .9-2 2v14c0 1.1.9 2 2 2h14c1.1 0 2-.9 2-2V5c0-1.1-.9-2-2-2zM9 17H7v-7h2v7zm4 0h-2V7h2v10zm4 0h-2v-4h2v4z\"/>\n",
              "    </g>\n",
              "</svg>\n",
              "      </button>\n",
              "\n",
              "<style>\n",
              "  .colab-df-quickchart {\n",
              "      --bg-color: #E8F0FE;\n",
              "      --fill-color: #1967D2;\n",
              "      --hover-bg-color: #E2EBFA;\n",
              "      --hover-fill-color: #174EA6;\n",
              "      --disabled-fill-color: #AAA;\n",
              "      --disabled-bg-color: #DDD;\n",
              "  }\n",
              "\n",
              "  [theme=dark] .colab-df-quickchart {\n",
              "      --bg-color: #3B4455;\n",
              "      --fill-color: #D2E3FC;\n",
              "      --hover-bg-color: #434B5C;\n",
              "      --hover-fill-color: #FFFFFF;\n",
              "      --disabled-bg-color: #3B4455;\n",
              "      --disabled-fill-color: #666;\n",
              "  }\n",
              "\n",
              "  .colab-df-quickchart {\n",
              "    background-color: var(--bg-color);\n",
              "    border: none;\n",
              "    border-radius: 50%;\n",
              "    cursor: pointer;\n",
              "    display: none;\n",
              "    fill: var(--fill-color);\n",
              "    height: 32px;\n",
              "    padding: 0;\n",
              "    width: 32px;\n",
              "  }\n",
              "\n",
              "  .colab-df-quickchart:hover {\n",
              "    background-color: var(--hover-bg-color);\n",
              "    box-shadow: 0 1px 2px rgba(60, 64, 67, 0.3), 0 1px 3px 1px rgba(60, 64, 67, 0.15);\n",
              "    fill: var(--button-hover-fill-color);\n",
              "  }\n",
              "\n",
              "  .colab-df-quickchart-complete:disabled,\n",
              "  .colab-df-quickchart-complete:disabled:hover {\n",
              "    background-color: var(--disabled-bg-color);\n",
              "    fill: var(--disabled-fill-color);\n",
              "    box-shadow: none;\n",
              "  }\n",
              "\n",
              "  .colab-df-spinner {\n",
              "    border: 2px solid var(--fill-color);\n",
              "    border-color: transparent;\n",
              "    border-bottom-color: var(--fill-color);\n",
              "    animation:\n",
              "      spin 1s steps(1) infinite;\n",
              "  }\n",
              "\n",
              "  @keyframes spin {\n",
              "    0% {\n",
              "      border-color: transparent;\n",
              "      border-bottom-color: var(--fill-color);\n",
              "      border-left-color: var(--fill-color);\n",
              "    }\n",
              "    20% {\n",
              "      border-color: transparent;\n",
              "      border-left-color: var(--fill-color);\n",
              "      border-top-color: var(--fill-color);\n",
              "    }\n",
              "    30% {\n",
              "      border-color: transparent;\n",
              "      border-left-color: var(--fill-color);\n",
              "      border-top-color: var(--fill-color);\n",
              "      border-right-color: var(--fill-color);\n",
              "    }\n",
              "    40% {\n",
              "      border-color: transparent;\n",
              "      border-right-color: var(--fill-color);\n",
              "      border-top-color: var(--fill-color);\n",
              "    }\n",
              "    60% {\n",
              "      border-color: transparent;\n",
              "      border-right-color: var(--fill-color);\n",
              "    }\n",
              "    80% {\n",
              "      border-color: transparent;\n",
              "      border-right-color: var(--fill-color);\n",
              "      border-bottom-color: var(--fill-color);\n",
              "    }\n",
              "    90% {\n",
              "      border-color: transparent;\n",
              "      border-bottom-color: var(--fill-color);\n",
              "    }\n",
              "  }\n",
              "</style>\n",
              "\n",
              "      <script>\n",
              "        async function quickchart(key) {\n",
              "          const quickchartButtonEl =\n",
              "            document.querySelector('#' + key + ' button');\n",
              "          quickchartButtonEl.disabled = true;  // To prevent multiple clicks.\n",
              "          quickchartButtonEl.classList.add('colab-df-spinner');\n",
              "          try {\n",
              "            const charts = await google.colab.kernel.invokeFunction(\n",
              "                'suggestCharts', [key], {});\n",
              "          } catch (error) {\n",
              "            console.error('Error during call to suggestCharts:', error);\n",
              "          }\n",
              "          quickchartButtonEl.classList.remove('colab-df-spinner');\n",
              "          quickchartButtonEl.classList.add('colab-df-quickchart-complete');\n",
              "        }\n",
              "        (() => {\n",
              "          let quickchartButtonEl =\n",
              "            document.querySelector('#df-05ededc4-dd21-46cb-90d7-38736df71b07 button');\n",
              "          quickchartButtonEl.style.display =\n",
              "            google.colab.kernel.accessAllowed ? 'block' : 'none';\n",
              "        })();\n",
              "      </script>\n",
              "    </div>\n",
              "\n",
              "    </div>\n",
              "  </div>\n"
            ],
            "application/vnd.google.colaboratory.intrinsic+json": {
              "type": "dataframe"
            }
          },
          "metadata": {},
          "execution_count": 31
        }
      ]
    },
    {
      "cell_type": "code",
      "source": [
        "df.compute().shape"
      ],
      "metadata": {
        "id": "Z1vb3L4X6lZ-",
        "colab": {
          "base_uri": "https://localhost:8080/"
        },
        "outputId": "5bcde9c9-22ae-460c-db45-843bc6eb29ee"
      },
      "id": "Z1vb3L4X6lZ-",
      "execution_count": 32,
      "outputs": [
        {
          "output_type": "execute_result",
          "data": {
            "text/plain": [
              "(2611892, 23)"
            ]
          },
          "metadata": {},
          "execution_count": 32
        }
      ]
    },
    {
      "cell_type": "markdown",
      "metadata": {
        "id": "parental-framework"
      },
      "source": [
        "#### Computations With Dask Dataframes\n",
        "\n",
        "We want to compute the maximum value of *DepDelay* (the delays occurring in the departure of flights). Now if we are working with simple pandas on this dataset than we need to compute the max. value in each individual data file and concatenate these 10 values together which gives us the required max. value of the whole dataset and this may be put as out of memory.\n",
        "\n",
        "But in dask dataframe we can handle partition more efficiently.\n",
        "\n",
        "dask.dataframe lets us write pandas-like code, that operates on larger than memory datasets.\n"
      ],
      "id": "parental-framework"
    },
    {
      "cell_type": "code",
      "source": [
        "%time df.DepDelay.max().compute()                       # compute() is used in order to get the required value"
      ],
      "metadata": {
        "id": "CBiKTzHr6u4_",
        "colab": {
          "base_uri": "https://localhost:8080/"
        },
        "outputId": "818deed5-5c6e-4cfd-d936-02d58fd79c1b"
      },
      "id": "CBiKTzHr6u4_",
      "execution_count": 33,
      "outputs": [
        {
          "output_type": "stream",
          "name": "stdout",
          "text": [
            "CPU times: user 9.6 s, sys: 520 ms, total: 10.1 s\n",
            "Wall time: 6.2 s\n"
          ]
        },
        {
          "output_type": "execute_result",
          "data": {
            "text/plain": [
              "1435.0"
            ]
          },
          "metadata": {},
          "execution_count": 33
        }
      ]
    },
    {
      "cell_type": "markdown",
      "metadata": {
        "id": "smoking-little"
      },
      "source": [
        "Above code has gone through approximately 2 million entries.\n",
        "As with Delayed objects, we can go through the underlying graphs using `visualize()` method."
      ],
      "id": "smoking-little"
    },
    {
      "cell_type": "code",
      "source": [
        "# visualize the above code using structure diagram\n",
        "df.DepDelay.max().visualize()"
      ],
      "metadata": {
        "id": "YVQl1Wni6ZZO",
        "colab": {
          "base_uri": "https://localhost:8080/",
          "height": 368
        },
        "outputId": "e7538404-7df2-4053-c419-eb66007a27eb"
      },
      "id": "YVQl1Wni6ZZO",
      "execution_count": 34,
      "outputs": [
        {
          "output_type": "execute_result",
          "data": {
            "image/svg+xml": "<?xml version=\"1.0\" encoding=\"UTF-8\" standalone=\"no\"?>\n<!DOCTYPE svg PUBLIC \"-//W3C//DTD SVG 1.1//EN\"\n \"http://www.w3.org/Graphics/SVG/1.1/DTD/svg11.dtd\">\n<!-- Generated by graphviz version 2.43.0 (0)\n -->\n<!-- Title: %3 Pages: 1 -->\n<svg width=\"432pt\" height=\"260pt\"\n viewBox=\"0.00 0.00 432.00 260.00\" xmlns=\"http://www.w3.org/2000/svg\" xmlns:xlink=\"http://www.w3.org/1999/xlink\">\n<g id=\"graph0\" class=\"graph\" transform=\"scale(1 1) rotate(0) translate(4 256)\">\n<title>%3</title>\n<polygon fill=\"white\" stroke=\"transparent\" points=\"-4,4 -4,-256 428,-256 428,4 -4,4\"/>\n<!-- &#45;8565151275721477734 -->\n<g id=\"node1\" class=\"node\">\n<title>&#45;8565151275721477734</title>\n<polygon fill=\"none\" stroke=\"black\" points=\"290.5,-252 133.5,-252 133.5,-216 290.5,-216 290.5,-252\"/>\n<text text-anchor=\"middle\" x=\"212\" y=\"-229\" font-family=\"Helvetica,sans-Serif\" font-size=\"20.00\">Max(Projection)</text>\n</g>\n<!-- 5680884175134752439 -->\n<g id=\"node2\" class=\"node\">\n<title>5680884175134752439</title>\n<polygon fill=\"none\" stroke=\"black\" points=\"424,-180 0,-180 0,-144 424,-144 424,-180\"/>\n<text text-anchor=\"middle\" x=\"212\" y=\"-157\" font-family=\"Helvetica,sans-Serif\" font-size=\"20.00\">Projection(ArrowStringConversion, DepDelay)</text>\n</g>\n<!-- 5680884175134752439&#45;&gt;&#45;8565151275721477734 -->\n<g id=\"edge1\" class=\"edge\">\n<title>5680884175134752439&#45;&gt;&#45;8565151275721477734</title>\n<path fill=\"none\" stroke=\"black\" d=\"M212,-180.3C212,-188.02 212,-197.29 212,-205.89\"/>\n<polygon fill=\"black\" stroke=\"black\" points=\"208.5,-205.9 212,-215.9 215.5,-205.9 208.5,-205.9\"/>\n</g>\n<!-- &#45;3216653367055245820 -->\n<g id=\"node3\" class=\"node\">\n<title>&#45;3216653367055245820</title>\n<polygon fill=\"none\" stroke=\"black\" points=\"423,-108 1,-108 1,-72 423,-72 423,-108\"/>\n<text text-anchor=\"middle\" x=\"212\" y=\"-85\" font-family=\"Helvetica,sans-Serif\" font-size=\"20.00\">ArrowStringConversion(FromMapProjectable)</text>\n</g>\n<!-- &#45;3216653367055245820&#45;&gt;5680884175134752439 -->\n<g id=\"edge2\" class=\"edge\">\n<title>&#45;3216653367055245820&#45;&gt;5680884175134752439</title>\n<path fill=\"none\" stroke=\"black\" d=\"M212,-108.3C212,-116.02 212,-125.29 212,-133.89\"/>\n<polygon fill=\"black\" stroke=\"black\" points=\"208.5,-133.9 212,-143.9 215.5,-133.9 208.5,-133.9\"/>\n</g>\n<!-- 776297116519803906 -->\n<g id=\"node4\" class=\"node\">\n<title>776297116519803906</title>\n<polygon fill=\"none\" stroke=\"black\" points=\"313.5,-36 110.5,-36 110.5,0 313.5,0 313.5,-36\"/>\n<text text-anchor=\"middle\" x=\"212\" y=\"-13\" font-family=\"Helvetica,sans-Serif\" font-size=\"20.00\">FromMapProjectable</text>\n</g>\n<!-- 776297116519803906&#45;&gt;&#45;3216653367055245820 -->\n<g id=\"edge3\" class=\"edge\">\n<title>776297116519803906&#45;&gt;&#45;3216653367055245820</title>\n<path fill=\"none\" stroke=\"black\" d=\"M212,-36.3C212,-44.02 212,-53.29 212,-61.89\"/>\n<polygon fill=\"black\" stroke=\"black\" points=\"208.5,-61.9 212,-71.9 215.5,-61.9 208.5,-61.9\"/>\n</g>\n</g>\n</svg>\n",
            "text/plain": [
              "<graphviz.graphs.Digraph at 0x7e911f0cfc10>"
            ]
          },
          "metadata": {},
          "execution_count": 34
        }
      ]
    },
    {
      "cell_type": "markdown",
      "metadata": {
        "id": "dried-catalog"
      },
      "source": [
        "### **Dask Bag**"
      ],
      "id": "dried-catalog"
    },
    {
      "cell_type": "markdown",
      "metadata": {
        "id": "described-coupon"
      },
      "source": [
        "Dask Bag implements operations like map, filter, fold, and groupby on collections of generic Python objects. It does this in parallel with a small memory footprint using Python iterators. It is similar to a parallel version of PyToolz or a Pythonic version of the PySpark RDD.\n",
        "\n",
        "Dask bags coordinate many Python lists or Iterators, each of which forms a partition of a larger collection."
      ],
      "id": "described-coupon"
    },
    {
      "cell_type": "markdown",
      "metadata": {
        "id": "infrared-accreditation"
      },
      "source": [
        "Execution on bags provide two benefits:\n",
        "\n",
        "1. Parallel: data is split up, allowing multiple cores or machines to execute in parallel\n",
        "2. Iterating: data processes lazily, allowing smooth execution of larger-than-memory data, even on a single machine within a single partition\n",
        "\n",
        "Bag is the mathematical name for an unordered collection allowing repeats. It uses Parallel lists for semi-structured data.\n",
        "\n",
        "DataFrames are limited to only two dimensions (rows and columns), but Arrays can have many more, whereas Bag is helpful dealing with JSON blobs or text data (unstructured data).\n",
        "\n",
        "To study dask bags, refer the link [here](https://docs.dask.org/en/latest/bag.html)."
      ],
      "id": "infrared-accreditation"
    },
    {
      "cell_type": "code",
      "metadata": {
        "id": "uXV24wC5Y2bi",
        "colab": {
          "base_uri": "https://localhost:8080/"
        },
        "outputId": "cc9de5f5-b172-4e65-96d5-4963fb69e1cb"
      },
      "source": [
        "# creating a bag\n",
        "bag1 = db.from_sequence(range(1000000), partition_size=1000, npartitions=1000)\n",
        "bag1"
      ],
      "id": "uXV24wC5Y2bi",
      "execution_count": 35,
      "outputs": [
        {
          "output_type": "execute_result",
          "data": {
            "text/plain": [
              "dask.bag<from_sequence, npartitions=1000>"
            ]
          },
          "metadata": {},
          "execution_count": 35
        }
      ]
    },
    {
      "cell_type": "code",
      "metadata": {
        "id": "JRdL0r2qY--y",
        "colab": {
          "base_uri": "https://localhost:8080/"
        },
        "outputId": "e82d7b90-aa02-49fe-ea4a-fb4fea0afac2"
      },
      "source": [
        "final_bag1 = bag1.filter(lambda x: x%100 == 0)\n",
        "\n",
        "len(final_bag1.compute())"
      ],
      "id": "JRdL0r2qY--y",
      "execution_count": 36,
      "outputs": [
        {
          "output_type": "execute_result",
          "data": {
            "text/plain": [
              "10000"
            ]
          },
          "metadata": {},
          "execution_count": 36
        }
      ]
    },
    {
      "cell_type": "markdown",
      "metadata": {
        "id": "X4STVdbkabK4"
      },
      "source": [
        "Advantage of using bags with the help of `groupby`\n",
        "\n",
        "we are looping through a list of values (tuple). We want to take a sum of the second value in tuples where the first value is the same. We have both normal python and dask.bag API version."
      ],
      "id": "X4STVdbkabK4"
    },
    {
      "cell_type": "code",
      "metadata": {
        "id": "fQpzElEsaZkf",
        "colab": {
          "base_uri": "https://localhost:8080/"
        },
        "outputId": "a0aa5f94-a601-45bb-9b9a-4b8c07524051"
      },
      "source": [
        "# Using python\n",
        "x = [(\"a\",100), (\"b\",200), (\"c\",300), (\"d\",400), (\"e\",500), (\"a\",200), (\"e\",300)]\n",
        "\n",
        "# Empty dictionary\n",
        "result = {}\n",
        "\n",
        "# Iterate the list for each item as tuple\n",
        "for key, val in x:\n",
        "    # sum-up the value if key already exist\n",
        "    if key in result:\n",
        "        result[key] += val\n",
        "    # create a key-value pair\n",
        "    else:\n",
        "        result[key] = val\n",
        "\n",
        "list(result.items())"
      ],
      "id": "fQpzElEsaZkf",
      "execution_count": 37,
      "outputs": [
        {
          "output_type": "execute_result",
          "data": {
            "text/plain": [
              "[('a', 300), ('b', 200), ('c', 300), ('d', 400), ('e', 800)]"
            ]
          },
          "metadata": {},
          "execution_count": 37
        }
      ]
    },
    {
      "cell_type": "markdown",
      "metadata": {
        "id": "zEF_UzBAbQ-K"
      },
      "source": [
        "Now let's do the same with bags in a simple way using `groupby`."
      ],
      "id": "zEF_UzBAbQ-K"
    },
    {
      "cell_type": "code",
      "metadata": {
        "id": "Vdh-gNEsa2O6",
        "colab": {
          "base_uri": "https://localhost:8080/"
        },
        "outputId": "e6b03377-de0c-4821-f67e-3c8cd7becace"
      },
      "source": [
        "# using bags API\n",
        "bag1 = db.from_sequence([(\"a\",100), (\"b\",200), (\"c\",300), (\"d\",400), (\"e\",500), (\"a\",200), (\"e\",300)])\n",
        "\n",
        "# using groupby\n",
        "bag1.groupby(lambda x: x[0]).map(lambda x: (x[0], sum([i[1] for i in x[1]]))).compute()"
      ],
      "id": "Vdh-gNEsa2O6",
      "execution_count": 38,
      "outputs": [
        {
          "output_type": "execute_result",
          "data": {
            "text/plain": [
              "[('e', 800), ('a', 300), ('d', 400), ('b', 200), ('c', 300)]"
            ]
          },
          "metadata": {},
          "execution_count": 38
        }
      ]
    },
    {
      "cell_type": "markdown",
      "metadata": {
        "id": "white-hunter"
      },
      "source": [
        "#### Semi-Structured Data\n",
        "\n",
        "We create a random set of record data and store it to disk as many JSON files. This will serve as our data for this notebook."
      ],
      "id": "white-hunter"
    },
    {
      "cell_type": "code",
      "metadata": {
        "id": "forbidden-integer",
        "colab": {
          "base_uri": "https://localhost:8080/"
        },
        "outputId": "5a2f824f-150d-4e99-b090-cf736cd97bd5"
      },
      "source": [
        "# Create data/ directory\n",
        "os.makedirs('data', exist_ok=True)\n",
        "\n",
        "# Make records of people\n",
        "y = dask.datasets.make_people()\n",
        "\n",
        "# Encode as JSON, write to disk\n",
        "y.map(json.dumps).to_textfiles('data/*.json')"
      ],
      "id": "forbidden-integer",
      "execution_count": 39,
      "outputs": [
        {
          "output_type": "execute_result",
          "data": {
            "text/plain": [
              "['/content/data/0.json',\n",
              " '/content/data/1.json',\n",
              " '/content/data/2.json',\n",
              " '/content/data/3.json',\n",
              " '/content/data/4.json',\n",
              " '/content/data/5.json',\n",
              " '/content/data/6.json',\n",
              " '/content/data/7.json',\n",
              " '/content/data/8.json',\n",
              " '/content/data/9.json']"
            ]
          },
          "metadata": {},
          "execution_count": 39
        }
      ]
    },
    {
      "cell_type": "markdown",
      "metadata": {
        "id": "parental-behalf"
      },
      "source": [
        "created and read the JSON files"
      ],
      "id": "parental-behalf"
    },
    {
      "cell_type": "code",
      "metadata": {
        "id": "accessible-nurse",
        "colab": {
          "base_uri": "https://localhost:8080/"
        },
        "outputId": "b0a1fe87-2499-421d-d2bc-ea471c092e14"
      },
      "source": [
        "# read the third row of the dataset\n",
        "y.take(3)"
      ],
      "id": "accessible-nurse",
      "execution_count": 40,
      "outputs": [
        {
          "output_type": "execute_result",
          "data": {
            "text/plain": [
              "({'age': 114,\n",
              "  'name': ('Cyrstal', 'Morrison'),\n",
              "  'occupation': 'Tacker',\n",
              "  'telephone': '(771) 393-5780',\n",
              "  'address': {'address': '907 Clarendon Terrace', 'city': 'Schenectady'},\n",
              "  'credit-card': {'number': '5152 8952 2595 8550',\n",
              "   'expiration-date': '02/25'}},\n",
              " {'age': 56,\n",
              "  'name': ('Janee', 'Logan'),\n",
              "  'occupation': 'Share Dealer',\n",
              "  'telephone': '687-784-0677',\n",
              "  'address': {'address': '1039 Nautilus Expressway',\n",
              "   'city': 'Cleveland Heights'},\n",
              "  'credit-card': {'number': '5370 4004 5671 8629',\n",
              "   'expiration-date': '07/24'}},\n",
              " {'age': 87,\n",
              "  'name': ('Olin', 'Larsen'),\n",
              "  'occupation': 'Tyre Fitter',\n",
              "  'telephone': '1-052-269-7760',\n",
              "  'address': {'address': '658 Miles Turnpike', 'city': 'Homer Glen'},\n",
              "  'credit-card': {'number': '3761 943202 95022', 'expiration-date': '01/18'}})"
            ]
          },
          "metadata": {},
          "execution_count": 40
        }
      ]
    },
    {
      "cell_type": "markdown",
      "metadata": {
        "id": "swedish-raleigh"
      },
      "source": [
        "**Map, Filter on Bag**\n",
        "\n",
        "We can process this data by filtering out only certain records of interest, mapping functions over it to process our data, and aggregating those results to a total value."
      ],
      "id": "swedish-raleigh"
    },
    {
      "cell_type": "markdown",
      "metadata": {
        "id": "english-facing"
      },
      "source": [
        "Select only people over 30"
      ],
      "id": "english-facing"
    },
    {
      "cell_type": "code",
      "metadata": {
        "id": "blocked-centre",
        "colab": {
          "base_uri": "https://localhost:8080/"
        },
        "outputId": "1c53a797-3c2b-440d-9dac-a4785685a83b"
      },
      "source": [
        "# filter the data\n",
        "y.filter(lambda record: record['age'] > 30).take(2)"
      ],
      "id": "blocked-centre",
      "execution_count": 41,
      "outputs": [
        {
          "output_type": "execute_result",
          "data": {
            "text/plain": [
              "({'age': 114,\n",
              "  'name': ('Cyrstal', 'Morrison'),\n",
              "  'occupation': 'Tacker',\n",
              "  'telephone': '(771) 393-5780',\n",
              "  'address': {'address': '907 Clarendon Terrace', 'city': 'Schenectady'},\n",
              "  'credit-card': {'number': '5152 8952 2595 8550',\n",
              "   'expiration-date': '02/25'}},\n",
              " {'age': 56,\n",
              "  'name': ('Janee', 'Logan'),\n",
              "  'occupation': 'Share Dealer',\n",
              "  'telephone': '687-784-0677',\n",
              "  'address': {'address': '1039 Nautilus Expressway',\n",
              "   'city': 'Cleveland Heights'},\n",
              "  'credit-card': {'number': '5370 4004 5671 8629',\n",
              "   'expiration-date': '07/24'}})"
            ]
          },
          "metadata": {},
          "execution_count": 41
        }
      ]
    },
    {
      "cell_type": "markdown",
      "metadata": {
        "id": "secure-antibody"
      },
      "source": [
        "Select the occupation field"
      ],
      "id": "secure-antibody"
    },
    {
      "cell_type": "code",
      "metadata": {
        "id": "preliminary-updating",
        "colab": {
          "base_uri": "https://localhost:8080/"
        },
        "outputId": "a2d21b54-6562-4ecb-d60e-328d1683a979"
      },
      "source": [
        "# Selecting particular feature\n",
        "y.map(lambda record: record['occupation']).take(2)"
      ],
      "id": "preliminary-updating",
      "execution_count": 42,
      "outputs": [
        {
          "output_type": "execute_result",
          "data": {
            "text/plain": [
              "('Tacker', 'Share Dealer')"
            ]
          },
          "metadata": {},
          "execution_count": 42
        }
      ]
    },
    {
      "cell_type": "markdown",
      "metadata": {
        "id": "DaX9J5q6-jUu"
      },
      "source": [
        " Count the total number of records"
      ],
      "id": "DaX9J5q6-jUu"
    },
    {
      "cell_type": "code",
      "metadata": {
        "id": "experienced-stocks",
        "colab": {
          "base_uri": "https://localhost:8080/"
        },
        "outputId": "5e354cc7-1773-4818-dc7b-bc547f649be3"
      },
      "source": [
        "# computing the total number of records in y\n",
        "y.count().compute()"
      ],
      "id": "experienced-stocks",
      "execution_count": 43,
      "outputs": [
        {
          "output_type": "execute_result",
          "data": {
            "text/plain": [
              "10000"
            ]
          },
          "metadata": {},
          "execution_count": 43
        }
      ]
    },
    {
      "cell_type": "markdown",
      "metadata": {
        "id": "ardWCXA6B2v1"
      },
      "source": [
        "### **Machine Learning With Dask**"
      ],
      "id": "ardWCXA6B2v1"
    },
    {
      "cell_type": "markdown",
      "metadata": {
        "id": "mAfNu9D3QNhj"
      },
      "source": [
        "Dask-ML wants to enable scalable machine learning in Python. It aims to do so by\n",
        "\n",
        "1. Working with existing libraries within the Python ecosystem\n",
        "2. Using the features of Dask to scale computation to larger datasets and larger problems"
      ],
      "id": "mAfNu9D3QNhj"
    },
    {
      "cell_type": "markdown",
      "metadata": {
        "id": "eCSCipNJZWUp"
      },
      "source": [
        "#### Generalized Linear Models\n",
        "\n",
        "Generalized linear models are a broad class of commonly used models. These implementations scale out well to large datasets either on a single machine or distributed cluster. They can be powered by a variety of optimization algorithms and use a variety of regularizers.\n",
        "\n",
        "These follow the scikit-learn estimator API, and so can be dropped into existing routines like grid search and pipelines, but are implemented externally with new, scalable algorithms and so can consume distributed dask arrays and dataframes rather than just single-machine NumPy and Pandas arrays and dataframes."
      ],
      "id": "eCSCipNJZWUp"
    },
    {
      "cell_type": "code",
      "metadata": {
        "id": "hAHK3At99aca"
      },
      "source": [
        "from dask_ml.datasets import make_regression\n",
        "from dask_ml.model_selection import train_test_split\n",
        "\n",
        "X, y = make_regression(n_samples=200000, n_features=100, random_state=0, chunks=10000)\n",
        "\n",
        "X_train, X_test, y_train, y_test = train_test_split(X, y)"
      ],
      "id": "hAHK3At99aca",
      "execution_count": 44,
      "outputs": []
    },
    {
      "cell_type": "code",
      "metadata": {
        "id": "Xfm-6x5u-j2X",
        "colab": {
          "base_uri": "https://localhost:8080/",
          "height": 80
        },
        "outputId": "50c49295-535d-48b9-88b1-42c805de6699"
      },
      "source": [
        "# fit the model\n",
        "\n",
        "lr = LinearRegression()\n",
        "lr.fit(X_train, y_train)"
      ],
      "id": "Xfm-6x5u-j2X",
      "execution_count": 45,
      "outputs": [
        {
          "output_type": "execute_result",
          "data": {
            "text/plain": [
              "LinearRegression()"
            ],
            "text/html": [
              "<style>#sk-container-id-1 {\n",
              "  /* Definition of color scheme common for light and dark mode */\n",
              "  --sklearn-color-text: #000;\n",
              "  --sklearn-color-text-muted: #666;\n",
              "  --sklearn-color-line: gray;\n",
              "  /* Definition of color scheme for unfitted estimators */\n",
              "  --sklearn-color-unfitted-level-0: #fff5e6;\n",
              "  --sklearn-color-unfitted-level-1: #f6e4d2;\n",
              "  --sklearn-color-unfitted-level-2: #ffe0b3;\n",
              "  --sklearn-color-unfitted-level-3: chocolate;\n",
              "  /* Definition of color scheme for fitted estimators */\n",
              "  --sklearn-color-fitted-level-0: #f0f8ff;\n",
              "  --sklearn-color-fitted-level-1: #d4ebff;\n",
              "  --sklearn-color-fitted-level-2: #b3dbfd;\n",
              "  --sklearn-color-fitted-level-3: cornflowerblue;\n",
              "\n",
              "  /* Specific color for light theme */\n",
              "  --sklearn-color-text-on-default-background: var(--sg-text-color, var(--theme-code-foreground, var(--jp-content-font-color1, black)));\n",
              "  --sklearn-color-background: var(--sg-background-color, var(--theme-background, var(--jp-layout-color0, white)));\n",
              "  --sklearn-color-border-box: var(--sg-text-color, var(--theme-code-foreground, var(--jp-content-font-color1, black)));\n",
              "  --sklearn-color-icon: #696969;\n",
              "\n",
              "  @media (prefers-color-scheme: dark) {\n",
              "    /* Redefinition of color scheme for dark theme */\n",
              "    --sklearn-color-text-on-default-background: var(--sg-text-color, var(--theme-code-foreground, var(--jp-content-font-color1, white)));\n",
              "    --sklearn-color-background: var(--sg-background-color, var(--theme-background, var(--jp-layout-color0, #111)));\n",
              "    --sklearn-color-border-box: var(--sg-text-color, var(--theme-code-foreground, var(--jp-content-font-color1, white)));\n",
              "    --sklearn-color-icon: #878787;\n",
              "  }\n",
              "}\n",
              "\n",
              "#sk-container-id-1 {\n",
              "  color: var(--sklearn-color-text);\n",
              "}\n",
              "\n",
              "#sk-container-id-1 pre {\n",
              "  padding: 0;\n",
              "}\n",
              "\n",
              "#sk-container-id-1 input.sk-hidden--visually {\n",
              "  border: 0;\n",
              "  clip: rect(1px 1px 1px 1px);\n",
              "  clip: rect(1px, 1px, 1px, 1px);\n",
              "  height: 1px;\n",
              "  margin: -1px;\n",
              "  overflow: hidden;\n",
              "  padding: 0;\n",
              "  position: absolute;\n",
              "  width: 1px;\n",
              "}\n",
              "\n",
              "#sk-container-id-1 div.sk-dashed-wrapped {\n",
              "  border: 1px dashed var(--sklearn-color-line);\n",
              "  margin: 0 0.4em 0.5em 0.4em;\n",
              "  box-sizing: border-box;\n",
              "  padding-bottom: 0.4em;\n",
              "  background-color: var(--sklearn-color-background);\n",
              "}\n",
              "\n",
              "#sk-container-id-1 div.sk-container {\n",
              "  /* jupyter's `normalize.less` sets `[hidden] { display: none; }`\n",
              "     but bootstrap.min.css set `[hidden] { display: none !important; }`\n",
              "     so we also need the `!important` here to be able to override the\n",
              "     default hidden behavior on the sphinx rendered scikit-learn.org.\n",
              "     See: https://github.com/scikit-learn/scikit-learn/issues/21755 */\n",
              "  display: inline-block !important;\n",
              "  position: relative;\n",
              "}\n",
              "\n",
              "#sk-container-id-1 div.sk-text-repr-fallback {\n",
              "  display: none;\n",
              "}\n",
              "\n",
              "div.sk-parallel-item,\n",
              "div.sk-serial,\n",
              "div.sk-item {\n",
              "  /* draw centered vertical line to link estimators */\n",
              "  background-image: linear-gradient(var(--sklearn-color-text-on-default-background), var(--sklearn-color-text-on-default-background));\n",
              "  background-size: 2px 100%;\n",
              "  background-repeat: no-repeat;\n",
              "  background-position: center center;\n",
              "}\n",
              "\n",
              "/* Parallel-specific style estimator block */\n",
              "\n",
              "#sk-container-id-1 div.sk-parallel-item::after {\n",
              "  content: \"\";\n",
              "  width: 100%;\n",
              "  border-bottom: 2px solid var(--sklearn-color-text-on-default-background);\n",
              "  flex-grow: 1;\n",
              "}\n",
              "\n",
              "#sk-container-id-1 div.sk-parallel {\n",
              "  display: flex;\n",
              "  align-items: stretch;\n",
              "  justify-content: center;\n",
              "  background-color: var(--sklearn-color-background);\n",
              "  position: relative;\n",
              "}\n",
              "\n",
              "#sk-container-id-1 div.sk-parallel-item {\n",
              "  display: flex;\n",
              "  flex-direction: column;\n",
              "}\n",
              "\n",
              "#sk-container-id-1 div.sk-parallel-item:first-child::after {\n",
              "  align-self: flex-end;\n",
              "  width: 50%;\n",
              "}\n",
              "\n",
              "#sk-container-id-1 div.sk-parallel-item:last-child::after {\n",
              "  align-self: flex-start;\n",
              "  width: 50%;\n",
              "}\n",
              "\n",
              "#sk-container-id-1 div.sk-parallel-item:only-child::after {\n",
              "  width: 0;\n",
              "}\n",
              "\n",
              "/* Serial-specific style estimator block */\n",
              "\n",
              "#sk-container-id-1 div.sk-serial {\n",
              "  display: flex;\n",
              "  flex-direction: column;\n",
              "  align-items: center;\n",
              "  background-color: var(--sklearn-color-background);\n",
              "  padding-right: 1em;\n",
              "  padding-left: 1em;\n",
              "}\n",
              "\n",
              "\n",
              "/* Toggleable style: style used for estimator/Pipeline/ColumnTransformer box that is\n",
              "clickable and can be expanded/collapsed.\n",
              "- Pipeline and ColumnTransformer use this feature and define the default style\n",
              "- Estimators will overwrite some part of the style using the `sk-estimator` class\n",
              "*/\n",
              "\n",
              "/* Pipeline and ColumnTransformer style (default) */\n",
              "\n",
              "#sk-container-id-1 div.sk-toggleable {\n",
              "  /* Default theme specific background. It is overwritten whether we have a\n",
              "  specific estimator or a Pipeline/ColumnTransformer */\n",
              "  background-color: var(--sklearn-color-background);\n",
              "}\n",
              "\n",
              "/* Toggleable label */\n",
              "#sk-container-id-1 label.sk-toggleable__label {\n",
              "  cursor: pointer;\n",
              "  display: flex;\n",
              "  width: 100%;\n",
              "  margin-bottom: 0;\n",
              "  padding: 0.5em;\n",
              "  box-sizing: border-box;\n",
              "  text-align: center;\n",
              "  align-items: start;\n",
              "  justify-content: space-between;\n",
              "  gap: 0.5em;\n",
              "}\n",
              "\n",
              "#sk-container-id-1 label.sk-toggleable__label .caption {\n",
              "  font-size: 0.6rem;\n",
              "  font-weight: lighter;\n",
              "  color: var(--sklearn-color-text-muted);\n",
              "}\n",
              "\n",
              "#sk-container-id-1 label.sk-toggleable__label-arrow:before {\n",
              "  /* Arrow on the left of the label */\n",
              "  content: \"▸\";\n",
              "  float: left;\n",
              "  margin-right: 0.25em;\n",
              "  color: var(--sklearn-color-icon);\n",
              "}\n",
              "\n",
              "#sk-container-id-1 label.sk-toggleable__label-arrow:hover:before {\n",
              "  color: var(--sklearn-color-text);\n",
              "}\n",
              "\n",
              "/* Toggleable content - dropdown */\n",
              "\n",
              "#sk-container-id-1 div.sk-toggleable__content {\n",
              "  max-height: 0;\n",
              "  max-width: 0;\n",
              "  overflow: hidden;\n",
              "  text-align: left;\n",
              "  /* unfitted */\n",
              "  background-color: var(--sklearn-color-unfitted-level-0);\n",
              "}\n",
              "\n",
              "#sk-container-id-1 div.sk-toggleable__content.fitted {\n",
              "  /* fitted */\n",
              "  background-color: var(--sklearn-color-fitted-level-0);\n",
              "}\n",
              "\n",
              "#sk-container-id-1 div.sk-toggleable__content pre {\n",
              "  margin: 0.2em;\n",
              "  border-radius: 0.25em;\n",
              "  color: var(--sklearn-color-text);\n",
              "  /* unfitted */\n",
              "  background-color: var(--sklearn-color-unfitted-level-0);\n",
              "}\n",
              "\n",
              "#sk-container-id-1 div.sk-toggleable__content.fitted pre {\n",
              "  /* unfitted */\n",
              "  background-color: var(--sklearn-color-fitted-level-0);\n",
              "}\n",
              "\n",
              "#sk-container-id-1 input.sk-toggleable__control:checked~div.sk-toggleable__content {\n",
              "  /* Expand drop-down */\n",
              "  max-height: 200px;\n",
              "  max-width: 100%;\n",
              "  overflow: auto;\n",
              "}\n",
              "\n",
              "#sk-container-id-1 input.sk-toggleable__control:checked~label.sk-toggleable__label-arrow:before {\n",
              "  content: \"▾\";\n",
              "}\n",
              "\n",
              "/* Pipeline/ColumnTransformer-specific style */\n",
              "\n",
              "#sk-container-id-1 div.sk-label input.sk-toggleable__control:checked~label.sk-toggleable__label {\n",
              "  color: var(--sklearn-color-text);\n",
              "  background-color: var(--sklearn-color-unfitted-level-2);\n",
              "}\n",
              "\n",
              "#sk-container-id-1 div.sk-label.fitted input.sk-toggleable__control:checked~label.sk-toggleable__label {\n",
              "  background-color: var(--sklearn-color-fitted-level-2);\n",
              "}\n",
              "\n",
              "/* Estimator-specific style */\n",
              "\n",
              "/* Colorize estimator box */\n",
              "#sk-container-id-1 div.sk-estimator input.sk-toggleable__control:checked~label.sk-toggleable__label {\n",
              "  /* unfitted */\n",
              "  background-color: var(--sklearn-color-unfitted-level-2);\n",
              "}\n",
              "\n",
              "#sk-container-id-1 div.sk-estimator.fitted input.sk-toggleable__control:checked~label.sk-toggleable__label {\n",
              "  /* fitted */\n",
              "  background-color: var(--sklearn-color-fitted-level-2);\n",
              "}\n",
              "\n",
              "#sk-container-id-1 div.sk-label label.sk-toggleable__label,\n",
              "#sk-container-id-1 div.sk-label label {\n",
              "  /* The background is the default theme color */\n",
              "  color: var(--sklearn-color-text-on-default-background);\n",
              "}\n",
              "\n",
              "/* On hover, darken the color of the background */\n",
              "#sk-container-id-1 div.sk-label:hover label.sk-toggleable__label {\n",
              "  color: var(--sklearn-color-text);\n",
              "  background-color: var(--sklearn-color-unfitted-level-2);\n",
              "}\n",
              "\n",
              "/* Label box, darken color on hover, fitted */\n",
              "#sk-container-id-1 div.sk-label.fitted:hover label.sk-toggleable__label.fitted {\n",
              "  color: var(--sklearn-color-text);\n",
              "  background-color: var(--sklearn-color-fitted-level-2);\n",
              "}\n",
              "\n",
              "/* Estimator label */\n",
              "\n",
              "#sk-container-id-1 div.sk-label label {\n",
              "  font-family: monospace;\n",
              "  font-weight: bold;\n",
              "  display: inline-block;\n",
              "  line-height: 1.2em;\n",
              "}\n",
              "\n",
              "#sk-container-id-1 div.sk-label-container {\n",
              "  text-align: center;\n",
              "}\n",
              "\n",
              "/* Estimator-specific */\n",
              "#sk-container-id-1 div.sk-estimator {\n",
              "  font-family: monospace;\n",
              "  border: 1px dotted var(--sklearn-color-border-box);\n",
              "  border-radius: 0.25em;\n",
              "  box-sizing: border-box;\n",
              "  margin-bottom: 0.5em;\n",
              "  /* unfitted */\n",
              "  background-color: var(--sklearn-color-unfitted-level-0);\n",
              "}\n",
              "\n",
              "#sk-container-id-1 div.sk-estimator.fitted {\n",
              "  /* fitted */\n",
              "  background-color: var(--sklearn-color-fitted-level-0);\n",
              "}\n",
              "\n",
              "/* on hover */\n",
              "#sk-container-id-1 div.sk-estimator:hover {\n",
              "  /* unfitted */\n",
              "  background-color: var(--sklearn-color-unfitted-level-2);\n",
              "}\n",
              "\n",
              "#sk-container-id-1 div.sk-estimator.fitted:hover {\n",
              "  /* fitted */\n",
              "  background-color: var(--sklearn-color-fitted-level-2);\n",
              "}\n",
              "\n",
              "/* Specification for estimator info (e.g. \"i\" and \"?\") */\n",
              "\n",
              "/* Common style for \"i\" and \"?\" */\n",
              "\n",
              ".sk-estimator-doc-link,\n",
              "a:link.sk-estimator-doc-link,\n",
              "a:visited.sk-estimator-doc-link {\n",
              "  float: right;\n",
              "  font-size: smaller;\n",
              "  line-height: 1em;\n",
              "  font-family: monospace;\n",
              "  background-color: var(--sklearn-color-background);\n",
              "  border-radius: 1em;\n",
              "  height: 1em;\n",
              "  width: 1em;\n",
              "  text-decoration: none !important;\n",
              "  margin-left: 0.5em;\n",
              "  text-align: center;\n",
              "  /* unfitted */\n",
              "  border: var(--sklearn-color-unfitted-level-1) 1pt solid;\n",
              "  color: var(--sklearn-color-unfitted-level-1);\n",
              "}\n",
              "\n",
              ".sk-estimator-doc-link.fitted,\n",
              "a:link.sk-estimator-doc-link.fitted,\n",
              "a:visited.sk-estimator-doc-link.fitted {\n",
              "  /* fitted */\n",
              "  border: var(--sklearn-color-fitted-level-1) 1pt solid;\n",
              "  color: var(--sklearn-color-fitted-level-1);\n",
              "}\n",
              "\n",
              "/* On hover */\n",
              "div.sk-estimator:hover .sk-estimator-doc-link:hover,\n",
              ".sk-estimator-doc-link:hover,\n",
              "div.sk-label-container:hover .sk-estimator-doc-link:hover,\n",
              ".sk-estimator-doc-link:hover {\n",
              "  /* unfitted */\n",
              "  background-color: var(--sklearn-color-unfitted-level-3);\n",
              "  color: var(--sklearn-color-background);\n",
              "  text-decoration: none;\n",
              "}\n",
              "\n",
              "div.sk-estimator.fitted:hover .sk-estimator-doc-link.fitted:hover,\n",
              ".sk-estimator-doc-link.fitted:hover,\n",
              "div.sk-label-container:hover .sk-estimator-doc-link.fitted:hover,\n",
              ".sk-estimator-doc-link.fitted:hover {\n",
              "  /* fitted */\n",
              "  background-color: var(--sklearn-color-fitted-level-3);\n",
              "  color: var(--sklearn-color-background);\n",
              "  text-decoration: none;\n",
              "}\n",
              "\n",
              "/* Span, style for the box shown on hovering the info icon */\n",
              ".sk-estimator-doc-link span {\n",
              "  display: none;\n",
              "  z-index: 9999;\n",
              "  position: relative;\n",
              "  font-weight: normal;\n",
              "  right: .2ex;\n",
              "  padding: .5ex;\n",
              "  margin: .5ex;\n",
              "  width: min-content;\n",
              "  min-width: 20ex;\n",
              "  max-width: 50ex;\n",
              "  color: var(--sklearn-color-text);\n",
              "  box-shadow: 2pt 2pt 4pt #999;\n",
              "  /* unfitted */\n",
              "  background: var(--sklearn-color-unfitted-level-0);\n",
              "  border: .5pt solid var(--sklearn-color-unfitted-level-3);\n",
              "}\n",
              "\n",
              ".sk-estimator-doc-link.fitted span {\n",
              "  /* fitted */\n",
              "  background: var(--sklearn-color-fitted-level-0);\n",
              "  border: var(--sklearn-color-fitted-level-3);\n",
              "}\n",
              "\n",
              ".sk-estimator-doc-link:hover span {\n",
              "  display: block;\n",
              "}\n",
              "\n",
              "/* \"?\"-specific style due to the `<a>` HTML tag */\n",
              "\n",
              "#sk-container-id-1 a.estimator_doc_link {\n",
              "  float: right;\n",
              "  font-size: 1rem;\n",
              "  line-height: 1em;\n",
              "  font-family: monospace;\n",
              "  background-color: var(--sklearn-color-background);\n",
              "  border-radius: 1rem;\n",
              "  height: 1rem;\n",
              "  width: 1rem;\n",
              "  text-decoration: none;\n",
              "  /* unfitted */\n",
              "  color: var(--sklearn-color-unfitted-level-1);\n",
              "  border: var(--sklearn-color-unfitted-level-1) 1pt solid;\n",
              "}\n",
              "\n",
              "#sk-container-id-1 a.estimator_doc_link.fitted {\n",
              "  /* fitted */\n",
              "  border: var(--sklearn-color-fitted-level-1) 1pt solid;\n",
              "  color: var(--sklearn-color-fitted-level-1);\n",
              "}\n",
              "\n",
              "/* On hover */\n",
              "#sk-container-id-1 a.estimator_doc_link:hover {\n",
              "  /* unfitted */\n",
              "  background-color: var(--sklearn-color-unfitted-level-3);\n",
              "  color: var(--sklearn-color-background);\n",
              "  text-decoration: none;\n",
              "}\n",
              "\n",
              "#sk-container-id-1 a.estimator_doc_link.fitted:hover {\n",
              "  /* fitted */\n",
              "  background-color: var(--sklearn-color-fitted-level-3);\n",
              "}\n",
              "</style><div id=\"sk-container-id-1\" class=\"sk-top-container\"><div class=\"sk-text-repr-fallback\"><pre>LinearRegression()</pre><b>In a Jupyter environment, please rerun this cell to show the HTML representation or trust the notebook. <br />On GitHub, the HTML representation is unable to render, please try loading this page with nbviewer.org.</b></div><div class=\"sk-container\" hidden><div class=\"sk-item\"><div class=\"sk-estimator fitted sk-toggleable\"><input class=\"sk-toggleable__control sk-hidden--visually\" id=\"sk-estimator-id-1\" type=\"checkbox\" checked><label for=\"sk-estimator-id-1\" class=\"sk-toggleable__label fitted sk-toggleable__label-arrow\"><div><div>LinearRegression</div></div><div><span class=\"sk-estimator-doc-link fitted\">i<span>Fitted</span></span></div></label><div class=\"sk-toggleable__content fitted\"><pre>LinearRegression()</pre></div> </div></div></div></div>"
            ]
          },
          "metadata": {},
          "execution_count": 45
        }
      ]
    },
    {
      "cell_type": "code",
      "metadata": {
        "id": "y6U25XbACagU"
      },
      "source": [
        "#predict on test data\n",
        "pred = lr.predict(X_test)"
      ],
      "id": "y6U25XbACagU",
      "execution_count": 46,
      "outputs": []
    },
    {
      "cell_type": "code",
      "metadata": {
        "id": "CnDOZAAMDWjE",
        "colab": {
          "base_uri": "https://localhost:8080/"
        },
        "outputId": "e00ee893-9054-4753-9613-c66a2479099e"
      },
      "source": [
        "# predicted values\n",
        "pred.compute()"
      ],
      "id": "CnDOZAAMDWjE",
      "execution_count": 47,
      "outputs": [
        {
          "output_type": "execute_result",
          "data": {
            "text/plain": [
              "array([-128.99457545,  156.61163594,  262.20480053, ..., -214.18727854,\n",
              "       -259.81211768,  128.95607976])"
            ]
          },
          "metadata": {},
          "execution_count": 47
        }
      ]
    },
    {
      "cell_type": "markdown",
      "metadata": {
        "id": "IO9hQhBXZvd2"
      },
      "source": [
        "To know more about dask-ml, click [here](https://ml.dask.org/)."
      ],
      "id": "IO9hQhBXZvd2"
    },
    {
      "cell_type": "markdown",
      "metadata": {
        "id": "CFNLB7O4utb3"
      },
      "source": [
        "### Please answer the questions below to complete the experiment:"
      ],
      "id": "CFNLB7O4utb3"
    },
    {
      "cell_type": "code",
      "metadata": {
        "id": "_38KV9uluveS"
      },
      "source": [
        "# @title Select the FALSE statement: { run: \"auto\", form-width: \"500px\", display-mode: \"form\" }\n",
        "Answer = \"Dask performs lazy execution by saving the set of inputs and executing only on demand\" #@param [\"\",\"Dask can operate in parallel only on datasets that fit into the main memory\",\"Dask provides high level Array Bag and DataFrame collections that mimic NumPy lists and Pandas\",\"Dask provides dynamic task schedulers that execute task graphs in parallel\",\"Dask performs lazy execution by saving the set of inputs and executing only on demand\"]"
      ],
      "id": "_38KV9uluveS",
      "execution_count": 48,
      "outputs": []
    },
    {
      "cell_type": "code",
      "metadata": {
        "id": "IVj6KRihwhPy"
      },
      "source": [
        "#@title How was the experiment? { run: \"auto\", form-width: \"500px\", display-mode: \"form\" }\n",
        "Complexity = \"Good and Challenging for me\" #@param [\"\",\"Too Simple, I am wasting time\", \"Good, But Not Challenging for me\", \"Good and Challenging for me\", \"Was Tough, but I did it\", \"Too Difficult for me\"]\n"
      ],
      "id": "IVj6KRihwhPy",
      "execution_count": 49,
      "outputs": []
    },
    {
      "cell_type": "code",
      "metadata": {
        "id": "G7Wx_ufawlf8"
      },
      "source": [
        "#@title If it was too easy, what more would you have liked to be added? If it was very difficult, what would you have liked to have been removed? { run: \"auto\", display-mode: \"form\" }\n",
        "Additional = \"Not much\" #@param {type:\"string\"}\n"
      ],
      "id": "G7Wx_ufawlf8",
      "execution_count": 50,
      "outputs": []
    },
    {
      "cell_type": "code",
      "metadata": {
        "id": "2Fbfkz82w5BI"
      },
      "source": [
        "#@title Can you identify the concepts from the lecture which this experiment covered? { run: \"auto\", vertical-output: true, display-mode: \"form\" }\n",
        "Concepts = \"Yes\" #@param [\"\",\"Yes\", \"No\"]\n"
      ],
      "id": "2Fbfkz82w5BI",
      "execution_count": 51,
      "outputs": []
    },
    {
      "cell_type": "code",
      "metadata": {
        "id": "RauzHTwWw8PW"
      },
      "source": [
        "#@title  Text and image description/explanation and code comments within the experiment: { run: \"auto\", vertical-output: true, display-mode: \"form\" }\n",
        "Comments = \"Very Useful\" #@param [\"\",\"Very Useful\", \"Somewhat Useful\", \"Not Useful\", \"Didn't use\"]\n"
      ],
      "id": "RauzHTwWw8PW",
      "execution_count": 52,
      "outputs": []
    },
    {
      "cell_type": "code",
      "metadata": {
        "id": "wHVmS408w_Si"
      },
      "source": [
        "#@title Mentor Support: { run: \"auto\", vertical-output: true, display-mode: \"form\" }\n",
        "Mentor_support = \"Very Useful\" #@param [\"\",\"Very Useful\", \"Somewhat Useful\", \"Not Useful\", \"Didn't use\"]\n"
      ],
      "id": "wHVmS408w_Si",
      "execution_count": 53,
      "outputs": []
    },
    {
      "cell_type": "code",
      "metadata": {
        "cellView": "form",
        "id": "T-LbsTp6xCy3",
        "colab": {
          "base_uri": "https://localhost:8080/"
        },
        "outputId": "848f3237-6664-4a1a-9dde-b9820f85bf50"
      },
      "source": [
        "#@title Run this cell to submit your notebook for grading { vertical-output: true }\n",
        "try:\n",
        "  if submission_id:\n",
        "      return_id = submit_notebook()\n",
        "      if return_id : submission_id = return_id\n",
        "  else:\n",
        "      print(\"Please complete the setup first.\")\n",
        "except NameError:\n",
        "  print (\"Please complete the setup first.\")"
      ],
      "id": "T-LbsTp6xCy3",
      "execution_count": 54,
      "outputs": [
        {
          "output_type": "stream",
          "name": "stdout",
          "text": [
            "Your submission is successful.\n",
            "Ref Id: 7205\n",
            "Date of submission:  18 May 2025\n",
            "Time of submission:  10:33:36\n",
            "View your submissions: https://aimlops-iisc.talentsprint.com/notebook_submissions\n"
          ]
        }
      ]
    }
  ]
}