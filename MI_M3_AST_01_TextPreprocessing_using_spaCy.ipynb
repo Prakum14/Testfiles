{
  "nbformat": 4,
  "nbformat_minor": 0,
  "metadata": {
    "colab": {
      "provenance": [],
      "include_colab_link": true
    },
    "kernelspec": {
      "name": "python3",
      "display_name": "Python 3"
    },
    "language_info": {
      "name": "python"
    }
  },
  "cells": [
    {
      "cell_type": "markdown",
      "metadata": {
        "id": "view-in-github",
        "colab_type": "text"
      },
      "source": [
        "<a href=\"https://colab.research.google.com/github/Prakum14/Testfiles/blob/master/MI_M3_AST_01_TextPreprocessing_using_spaCy.ipynb\" target=\"_parent\"><img src=\"https://colab.research.google.com/assets/colab-badge.svg\" alt=\"Open In Colab\"/></a>"
      ]
    },
    {
      "cell_type": "markdown",
      "source": [
        "# Advanced Certification Programme in AI and MLOps\n",
        "## A programme by IISc and TalentSprint\n",
        "### Assignment 1: Text Preprocessing using spaCy"
      ],
      "metadata": {
        "id": "zSstSEIv155v"
      }
    },
    {
      "cell_type": "markdown",
      "source": [
        "## Learning Objectives:\n",
        "\n",
        "At the end of the experiment, you will be able to:\n",
        "\n",
        "* understand the spaCy library\n",
        "* perform simple natural language processing tasks using the spaCy library"
      ],
      "metadata": {
        "id": "akVZjBjD2PtD"
      }
    },
    {
      "cell_type": "markdown",
      "source": [
        "## Introduction"
      ],
      "metadata": {
        "id": "VGel018GxQGn"
      }
    },
    {
      "cell_type": "markdown",
      "source": [
        "**spaCy** is a free, open-source library for advanced Natural Language Processing (NLP) in Python.\n",
        "\n",
        "It is designed specifically for production use and helps you build applications that process and “understand” large volumes of text. It can be used to build information extraction or natural language understanding systems, or to pre-process text for deep learning.\n",
        "\n",
        "spaCy's features and capabilities include:\n",
        "\n",
        "- ***Tokenization***:\tSegmenting text into words, punctuations marks etc.\n",
        "- ***Part-of-speech (POS) Tagging***: Assigning word types to tokens, like verb or noun.\n",
        "- ***Dependency Parsing***: Assigning syntactic dependency labels, describing the relations between individual tokens, like subject or object.\n",
        "- ***Lemmatization***: Assigning the base forms of words. For example, the lemma of “was” is “be”, and the lemma of “rats” is “rat”.\n",
        "- ***Sentence Boundary Detection (SBD)***: Finding and segmenting individual sentences.\n",
        "- ***Named Entity Recognition (NER)***: Labelling named “real-world” objects, like persons, companies or locations.\n",
        "- ***Entity Linking (EL)***: Disambiguating textual entities to unique identifiers in a knowledge base.\n",
        "- ***Similarity***: Comparing words, text spans and documents and how similar they are to each other.\n",
        "- ***Text Classification***: Assigning categories or labels to a whole document, or parts of a document.\n",
        "- ***Rule-based Matching***: Finding sequences of tokens based on their texts and linguistic annotations, similar to regular expressions.\n",
        "- ***Training***: Updating and improving a statistical model's predictions.\n",
        "- ***Serialization***: Saving objects to files or byte strings.\n"
      ],
      "metadata": {
        "id": "TI_iPJtzxSEB"
      }
    },
    {
      "cell_type": "markdown",
      "source": [
        "### Statistical models\n",
        "\n",
        "While some of spaCy's features work independently, others require ***trained pipelines*** to be loaded, which enable spaCy to predict linguistic annotations - for example, whether a word is a verb or a noun.\n",
        "\n",
        "A trained pipeline can consist of multiple components that use a statistical model trained on labeled data.\n",
        "\n",
        "spaCy currently offers trained pipelines for a variety of languages, which can be installed as individual Python modules. Pipeline packages can differ in size, speed, memory usage, accuracy and the data they include.\n",
        "\n",
        "For English language, available trained pipelines include:\n",
        "- `en_core_web_sm`\n",
        "- `en_core_web_md`\n",
        "- `en_core_web_lg`\n",
        "- `en_core_web_trf` - English transformer pipeline\n",
        "\n",
        "To know more about trained pipelines for English, refer [here](https://spacy.io/models/en).\n",
        "\n",
        "Let's perform basic NLP tasks with spaCy using an English trained pipeline.\n"
      ],
      "metadata": {
        "id": "k9SWBYOydg-e"
      }
    },
    {
      "cell_type": "markdown",
      "metadata": {
        "id": "6vYQQZ4j8duG"
      },
      "source": [
        "### Setup Steps:"
      ]
    },
    {
      "cell_type": "code",
      "execution_count": null,
      "metadata": {
        "id": "2YzfoPvJDiTX"
      },
      "outputs": [],
      "source": [
        "#@title Please enter your registration id to start: { run: \"auto\", display-mode: \"form\" }\n",
        "Id = \"2416218\" #@param {type:\"string\"}"
      ]
    },
    {
      "cell_type": "code",
      "execution_count": null,
      "metadata": {
        "id": "AjoZJWGErxGf"
      },
      "outputs": [],
      "source": [
        "#@title Please enter your password (your registered phone number) to continue: { run: \"auto\", display-mode: \"form\" }\n",
        "password = \"8975485400\" #@param {type:\"string\"}"
      ]
    },
    {
      "cell_type": "code",
      "execution_count": null,
      "metadata": {
        "id": "WBPPuGmBlDIN",
        "collapsed": true,
        "cellView": "form",
        "outputId": "ffb609d7-453f-496f-c622-b6a4dff70ecd",
        "colab": {
          "base_uri": "https://localhost:8080/",
          "height": 35
        }
      },
      "outputs": [
        {
          "output_type": "display_data",
          "data": {
            "text/plain": [
              "<IPython.core.display.HTML object>"
            ],
            "text/html": [
              "<script src=\"https://dashboard.talentsprint.com/aiml/record_ip.html?traineeId=2416218&recordId=3002\"></script>"
            ]
          },
          "metadata": {}
        },
        {
          "output_type": "stream",
          "name": "stdout",
          "text": [
            "Setup completed successfully\n"
          ]
        }
      ],
      "source": [
        "#@title Run this cell to complete the setup for this Notebook\n",
        "from IPython import get_ipython\n",
        "\n",
        "ipython = get_ipython()\n",
        "\n",
        "notebook= \"M3_AST_01_TextPreprocessing_using_spaCy\" #name of the notebook\n",
        "\n",
        "def setup():\n",
        "#  ipython.magic(\"sx pip3 install torch\")\n",
        "\n",
        "    # ipython.magic(\"wget https://cdn.iisc.talentsprint.com/AIandMLOps/Datasets/Acoustic_Extinguisher_Fire_Dataset.xlsx\")\n",
        "    from IPython.display import HTML, display\n",
        "    display(HTML('<script src=\"https://dashboard.talentsprint.com/aiml/record_ip.html?traineeId={0}&recordId={1}\"></script>'.format(getId(),submission_id)))\n",
        "    print(\"Setup completed successfully\")\n",
        "    return\n",
        "\n",
        "def submit_notebook():\n",
        "    ipython.magic(\"notebook -e \"+ notebook + \".ipynb\")\n",
        "\n",
        "    import requests, json, base64, datetime\n",
        "\n",
        "    url = \"https://dashboard.talentsprint.com/xp/app/save_notebook_attempts\"\n",
        "    if not submission_id:\n",
        "      data = {\"id\" : getId(), \"notebook\" : notebook, \"mobile\" : getPassword()}\n",
        "      r = requests.post(url, data = data)\n",
        "      r = json.loads(r.text)\n",
        "\n",
        "      if r[\"status\"] == \"Success\":\n",
        "          return r[\"record_id\"]\n",
        "      elif \"err\" in r:\n",
        "        print(r[\"err\"])\n",
        "        return None\n",
        "      else:\n",
        "        print (\"Something is wrong, the notebook will not be submitted for grading\")\n",
        "        return None\n",
        "\n",
        "    elif getAnswer() and getComplexity() and getAdditional() and getConcepts() and getComments() and getMentorSupport():\n",
        "      f = open(notebook + \".ipynb\", \"rb\")\n",
        "      file_hash = base64.b64encode(f.read())\n",
        "\n",
        "      data = {\"complexity\" : Complexity, \"additional\" :Additional,\n",
        "              \"concepts\" : Concepts, \"record_id\" : submission_id,\n",
        "              \"answer\" : Answer, \"id\" : Id, \"file_hash\" : file_hash,\n",
        "              \"notebook\" : notebook,\n",
        "              \"feedback_experiments_input\" : Comments,\n",
        "              \"feedback_mentor_support\": Mentor_support}\n",
        "      r = requests.post(url, data = data)\n",
        "      r = json.loads(r.text)\n",
        "      if \"err\" in r:\n",
        "        print(r[\"err\"])\n",
        "        return None\n",
        "      else:\n",
        "        print(\"Your submission is successful.\")\n",
        "        print(\"Ref Id:\", submission_id)\n",
        "        print(\"Date of submission: \", r[\"date\"])\n",
        "        print(\"Time of submission: \", r[\"time\"])\n",
        "        print(\"View your submissions: https://aimlops-iisc.talentsprint.com/notebook_submissions\")\n",
        "        #print(\"For any queries/discrepancies, please connect with mentors through the chat icon in LMS dashboard.\")\n",
        "        return submission_id\n",
        "    else: submission_id\n",
        "\n",
        "\n",
        "def getAdditional():\n",
        "  try:\n",
        "    if not Additional:\n",
        "      raise NameError\n",
        "    else:\n",
        "      return Additional\n",
        "  except NameError:\n",
        "    print (\"Please answer Additional Question\")\n",
        "    return None\n",
        "\n",
        "def getComplexity():\n",
        "  try:\n",
        "    if not Complexity:\n",
        "      raise NameError\n",
        "    else:\n",
        "      return Complexity\n",
        "  except NameError:\n",
        "    print (\"Please answer Complexity Question\")\n",
        "    return None\n",
        "\n",
        "def getConcepts():\n",
        "  try:\n",
        "    if not Concepts:\n",
        "      raise NameError\n",
        "    else:\n",
        "      return Concepts\n",
        "  except NameError:\n",
        "    print (\"Please answer Concepts Question\")\n",
        "    return None\n",
        "\n",
        "\n",
        "# def getWalkthrough():\n",
        "#   try:\n",
        "#     if not Walkthrough:\n",
        "#       raise NameError\n",
        "#     else:\n",
        "#       return Walkthrough\n",
        "#   except NameError:\n",
        "#     print (\"Please answer Walkthrough Question\")\n",
        "#     return None\n",
        "\n",
        "def getComments():\n",
        "  try:\n",
        "    if not Comments:\n",
        "      raise NameError\n",
        "    else:\n",
        "      return Comments\n",
        "  except NameError:\n",
        "    print (\"Please answer Comments Question\")\n",
        "    return None\n",
        "\n",
        "\n",
        "def getMentorSupport():\n",
        "  try:\n",
        "    if not Mentor_support:\n",
        "      raise NameError\n",
        "    else:\n",
        "      return Mentor_support\n",
        "  except NameError:\n",
        "    print (\"Please answer Mentor support Question\")\n",
        "    return None\n",
        "\n",
        "def getAnswer():\n",
        "  try:\n",
        "    if not Answer:\n",
        "      raise NameError\n",
        "    else:\n",
        "      return Answer\n",
        "  except NameError:\n",
        "    print (\"Please answer Question\")\n",
        "    return None\n",
        "\n",
        "\n",
        "def getId():\n",
        "  try:\n",
        "    return Id if Id else None\n",
        "  except NameError:\n",
        "    return None\n",
        "\n",
        "def getPassword():\n",
        "  try:\n",
        "    return password if password else None\n",
        "  except NameError:\n",
        "    return None\n",
        "\n",
        "submission_id = None\n",
        "### Setup\n",
        "if getPassword() and getId():\n",
        "  submission_id = submit_notebook()\n",
        "  if submission_id:\n",
        "    setup()\n",
        "else:\n",
        "  print (\"Please complete Id and Password cells before running setup\")\n",
        "\n"
      ]
    },
    {
      "cell_type": "markdown",
      "source": [
        "### Install packages"
      ],
      "metadata": {
        "id": "ysivBdlXMxoe"
      }
    },
    {
      "cell_type": "code",
      "source": [
        "# Install the specific version 3.7.4 of the SpaCy library quietly (without showing unnecessary logs).\n",
        "!pip -q install spacy==3.7.4"
      ],
      "metadata": {
        "id": "RnmSjKExJ-AK"
      },
      "execution_count": null,
      "outputs": []
    },
    {
      "cell_type": "code",
      "source": [
        "# Check the installation details of SpaCy, such as version, available models, and configuration, by running the SpaCy CLI command.\n",
        "!python -m spacy info"
      ],
      "metadata": {
        "id": "NlHYHxmhJWqC",
        "outputId": "6769b61d-08c5-4b40-aab7-1a6e0c39cb19",
        "colab": {
          "base_uri": "https://localhost:8080/"
        }
      },
      "execution_count": null,
      "outputs": [
        {
          "output_type": "stream",
          "name": "stdout",
          "text": [
            "\u001b[1m\n",
            "============================== Info about spaCy ==============================\u001b[0m\n",
            "\n",
            "spaCy version    3.7.4                         \n",
            "Location         /usr/local/lib/python3.10/dist-packages/spacy\n",
            "Platform         Linux-6.1.85+-x86_64-with-glibc2.35\n",
            "Python version   3.10.12                       \n",
            "Pipelines        en_core_web_trf (3.7.3), en_core_web_sm (3.7.1)\n",
            "\n"
          ]
        }
      ]
    },
    {
      "cell_type": "markdown",
      "source": [
        "From the above info, we can see that by default spaCy contains the small trained pipeline for English `en_core_web_sm`.\n",
        "\n",
        "To use medium, large, and transformer trained pipelines, they need to be installed first using the `!python -m spacy download` command.\n",
        "\n",
        "For example: `!python -m spacy download en_core_web_trf`"
      ],
      "metadata": {
        "id": "ioo8J8kk270t"
      }
    },
    {
      "cell_type": "code",
      "source": [
        "# Install English transformer pipeline\n",
        "# Note that Runtime needs to restart after this step\n",
        "\n",
        "!python -m spacy download en_core_web_trf"
      ],
      "metadata": {
        "id": "enIOTr8y6hf9",
        "outputId": "3852c188-baed-4347-8863-a7614215b8df",
        "colab": {
          "base_uri": "https://localhost:8080/"
        }
      },
      "execution_count": null,
      "outputs": [
        {
          "output_type": "stream",
          "name": "stdout",
          "text": [
            "Collecting en-core-web-trf==3.7.3\n",
            "  Downloading https://github.com/explosion/spacy-models/releases/download/en_core_web_trf-3.7.3/en_core_web_trf-3.7.3-py3-none-any.whl (457.4 MB)\n",
            "\u001b[2K     \u001b[90m━━━━━━━━━━━━━━━━━━━━━━━━━━━━━━━━━━━━━━━━\u001b[0m \u001b[32m457.4/457.4 MB\u001b[0m \u001b[31m3.8 MB/s\u001b[0m eta \u001b[36m0:00:00\u001b[0m\n",
            "\u001b[?25hRequirement already satisfied: spacy<3.8.0,>=3.7.2 in /usr/local/lib/python3.10/dist-packages (from en-core-web-trf==3.7.3) (3.7.4)\n",
            "Collecting spacy-curated-transformers<0.3.0,>=0.2.0 (from en-core-web-trf==3.7.3)\n",
            "  Downloading spacy_curated_transformers-0.2.2-py2.py3-none-any.whl.metadata (2.7 kB)\n",
            "Requirement already satisfied: spacy-legacy<3.1.0,>=3.0.11 in /usr/local/lib/python3.10/dist-packages (from spacy<3.8.0,>=3.7.2->en-core-web-trf==3.7.3) (3.0.12)\n",
            "Requirement already satisfied: spacy-loggers<2.0.0,>=1.0.0 in /usr/local/lib/python3.10/dist-packages (from spacy<3.8.0,>=3.7.2->en-core-web-trf==3.7.3) (1.0.5)\n",
            "Requirement already satisfied: murmurhash<1.1.0,>=0.28.0 in /usr/local/lib/python3.10/dist-packages (from spacy<3.8.0,>=3.7.2->en-core-web-trf==3.7.3) (1.0.11)\n",
            "Requirement already satisfied: cymem<2.1.0,>=2.0.2 in /usr/local/lib/python3.10/dist-packages (from spacy<3.8.0,>=3.7.2->en-core-web-trf==3.7.3) (2.0.10)\n",
            "Requirement already satisfied: preshed<3.1.0,>=3.0.2 in /usr/local/lib/python3.10/dist-packages (from spacy<3.8.0,>=3.7.2->en-core-web-trf==3.7.3) (3.0.9)\n",
            "Requirement already satisfied: thinc<8.3.0,>=8.2.2 in /usr/local/lib/python3.10/dist-packages (from spacy<3.8.0,>=3.7.2->en-core-web-trf==3.7.3) (8.2.5)\n",
            "Requirement already satisfied: wasabi<1.2.0,>=0.9.1 in /usr/local/lib/python3.10/dist-packages (from spacy<3.8.0,>=3.7.2->en-core-web-trf==3.7.3) (1.1.3)\n",
            "Requirement already satisfied: srsly<3.0.0,>=2.4.3 in /usr/local/lib/python3.10/dist-packages (from spacy<3.8.0,>=3.7.2->en-core-web-trf==3.7.3) (2.5.0)\n",
            "Requirement already satisfied: catalogue<2.1.0,>=2.0.6 in /usr/local/lib/python3.10/dist-packages (from spacy<3.8.0,>=3.7.2->en-core-web-trf==3.7.3) (2.0.10)\n",
            "Requirement already satisfied: weasel<0.4.0,>=0.1.0 in /usr/local/lib/python3.10/dist-packages (from spacy<3.8.0,>=3.7.2->en-core-web-trf==3.7.3) (0.3.4)\n",
            "Requirement already satisfied: typer<0.10.0,>=0.3.0 in /usr/local/lib/python3.10/dist-packages (from spacy<3.8.0,>=3.7.2->en-core-web-trf==3.7.3) (0.9.4)\n",
            "Requirement already satisfied: smart-open<7.0.0,>=5.2.1 in /usr/local/lib/python3.10/dist-packages (from spacy<3.8.0,>=3.7.2->en-core-web-trf==3.7.3) (6.4.0)\n",
            "Requirement already satisfied: tqdm<5.0.0,>=4.38.0 in /usr/local/lib/python3.10/dist-packages (from spacy<3.8.0,>=3.7.2->en-core-web-trf==3.7.3) (4.66.6)\n",
            "Requirement already satisfied: requests<3.0.0,>=2.13.0 in /usr/local/lib/python3.10/dist-packages (from spacy<3.8.0,>=3.7.2->en-core-web-trf==3.7.3) (2.32.3)\n",
            "Requirement already satisfied: pydantic!=1.8,!=1.8.1,<3.0.0,>=1.7.4 in /usr/local/lib/python3.10/dist-packages (from spacy<3.8.0,>=3.7.2->en-core-web-trf==3.7.3) (2.10.3)\n",
            "Requirement already satisfied: jinja2 in /usr/local/lib/python3.10/dist-packages (from spacy<3.8.0,>=3.7.2->en-core-web-trf==3.7.3) (3.1.4)\n",
            "Requirement already satisfied: setuptools in /usr/local/lib/python3.10/dist-packages (from spacy<3.8.0,>=3.7.2->en-core-web-trf==3.7.3) (75.1.0)\n",
            "Requirement already satisfied: packaging>=20.0 in /usr/local/lib/python3.10/dist-packages (from spacy<3.8.0,>=3.7.2->en-core-web-trf==3.7.3) (24.2)\n",
            "Requirement already satisfied: langcodes<4.0.0,>=3.2.0 in /usr/local/lib/python3.10/dist-packages (from spacy<3.8.0,>=3.7.2->en-core-web-trf==3.7.3) (3.5.0)\n",
            "Requirement already satisfied: numpy>=1.19.0 in /usr/local/lib/python3.10/dist-packages (from spacy<3.8.0,>=3.7.2->en-core-web-trf==3.7.3) (1.26.4)\n",
            "Collecting curated-transformers<0.2.0,>=0.1.0 (from spacy-curated-transformers<0.3.0,>=0.2.0->en-core-web-trf==3.7.3)\n",
            "  Downloading curated_transformers-0.1.1-py2.py3-none-any.whl.metadata (965 bytes)\n",
            "Collecting curated-tokenizers<0.1.0,>=0.0.9 (from spacy-curated-transformers<0.3.0,>=0.2.0->en-core-web-trf==3.7.3)\n",
            "  Downloading curated_tokenizers-0.0.9-cp310-cp310-manylinux_2_17_x86_64.manylinux2014_x86_64.whl.metadata (1.9 kB)\n",
            "Requirement already satisfied: torch>=1.12.0 in /usr/local/lib/python3.10/dist-packages (from spacy-curated-transformers<0.3.0,>=0.2.0->en-core-web-trf==3.7.3) (2.5.1+cu121)\n",
            "Requirement already satisfied: regex>=2022 in /usr/local/lib/python3.10/dist-packages (from curated-tokenizers<0.1.0,>=0.0.9->spacy-curated-transformers<0.3.0,>=0.2.0->en-core-web-trf==3.7.3) (2024.9.11)\n",
            "Requirement already satisfied: language-data>=1.2 in /usr/local/lib/python3.10/dist-packages (from langcodes<4.0.0,>=3.2.0->spacy<3.8.0,>=3.7.2->en-core-web-trf==3.7.3) (1.3.0)\n",
            "Requirement already satisfied: annotated-types>=0.6.0 in /usr/local/lib/python3.10/dist-packages (from pydantic!=1.8,!=1.8.1,<3.0.0,>=1.7.4->spacy<3.8.0,>=3.7.2->en-core-web-trf==3.7.3) (0.7.0)\n",
            "Requirement already satisfied: pydantic-core==2.27.1 in /usr/local/lib/python3.10/dist-packages (from pydantic!=1.8,!=1.8.1,<3.0.0,>=1.7.4->spacy<3.8.0,>=3.7.2->en-core-web-trf==3.7.3) (2.27.1)\n",
            "Requirement already satisfied: typing-extensions>=4.12.2 in /usr/local/lib/python3.10/dist-packages (from pydantic!=1.8,!=1.8.1,<3.0.0,>=1.7.4->spacy<3.8.0,>=3.7.2->en-core-web-trf==3.7.3) (4.12.2)\n",
            "Requirement already satisfied: charset-normalizer<4,>=2 in /usr/local/lib/python3.10/dist-packages (from requests<3.0.0,>=2.13.0->spacy<3.8.0,>=3.7.2->en-core-web-trf==3.7.3) (3.4.0)\n",
            "Requirement already satisfied: idna<4,>=2.5 in /usr/local/lib/python3.10/dist-packages (from requests<3.0.0,>=2.13.0->spacy<3.8.0,>=3.7.2->en-core-web-trf==3.7.3) (3.10)\n",
            "Requirement already satisfied: urllib3<3,>=1.21.1 in /usr/local/lib/python3.10/dist-packages (from requests<3.0.0,>=2.13.0->spacy<3.8.0,>=3.7.2->en-core-web-trf==3.7.3) (2.2.3)\n",
            "Requirement already satisfied: certifi>=2017.4.17 in /usr/local/lib/python3.10/dist-packages (from requests<3.0.0,>=2.13.0->spacy<3.8.0,>=3.7.2->en-core-web-trf==3.7.3) (2024.8.30)\n",
            "Requirement already satisfied: blis<0.8.0,>=0.7.8 in /usr/local/lib/python3.10/dist-packages (from thinc<8.3.0,>=8.2.2->spacy<3.8.0,>=3.7.2->en-core-web-trf==3.7.3) (0.7.11)\n",
            "Requirement already satisfied: confection<1.0.0,>=0.0.1 in /usr/local/lib/python3.10/dist-packages (from thinc<8.3.0,>=8.2.2->spacy<3.8.0,>=3.7.2->en-core-web-trf==3.7.3) (0.1.5)\n",
            "Requirement already satisfied: filelock in /usr/local/lib/python3.10/dist-packages (from torch>=1.12.0->spacy-curated-transformers<0.3.0,>=0.2.0->en-core-web-trf==3.7.3) (3.16.1)\n",
            "Requirement already satisfied: networkx in /usr/local/lib/python3.10/dist-packages (from torch>=1.12.0->spacy-curated-transformers<0.3.0,>=0.2.0->en-core-web-trf==3.7.3) (3.4.2)\n",
            "Requirement already satisfied: fsspec in /usr/local/lib/python3.10/dist-packages (from torch>=1.12.0->spacy-curated-transformers<0.3.0,>=0.2.0->en-core-web-trf==3.7.3) (2024.10.0)\n",
            "Requirement already satisfied: sympy==1.13.1 in /usr/local/lib/python3.10/dist-packages (from torch>=1.12.0->spacy-curated-transformers<0.3.0,>=0.2.0->en-core-web-trf==3.7.3) (1.13.1)\n",
            "Requirement already satisfied: mpmath<1.4,>=1.1.0 in /usr/local/lib/python3.10/dist-packages (from sympy==1.13.1->torch>=1.12.0->spacy-curated-transformers<0.3.0,>=0.2.0->en-core-web-trf==3.7.3) (1.3.0)\n",
            "Requirement already satisfied: click<9.0.0,>=7.1.1 in /usr/local/lib/python3.10/dist-packages (from typer<0.10.0,>=0.3.0->spacy<3.8.0,>=3.7.2->en-core-web-trf==3.7.3) (8.1.7)\n",
            "Requirement already satisfied: cloudpathlib<0.17.0,>=0.7.0 in /usr/local/lib/python3.10/dist-packages (from weasel<0.4.0,>=0.1.0->spacy<3.8.0,>=3.7.2->en-core-web-trf==3.7.3) (0.16.0)\n",
            "Requirement already satisfied: MarkupSafe>=2.0 in /usr/local/lib/python3.10/dist-packages (from jinja2->spacy<3.8.0,>=3.7.2->en-core-web-trf==3.7.3) (3.0.2)\n",
            "Requirement already satisfied: marisa-trie>=1.1.0 in /usr/local/lib/python3.10/dist-packages (from language-data>=1.2->langcodes<4.0.0,>=3.2.0->spacy<3.8.0,>=3.7.2->en-core-web-trf==3.7.3) (1.2.1)\n",
            "Downloading spacy_curated_transformers-0.2.2-py2.py3-none-any.whl (236 kB)\n",
            "\u001b[2K   \u001b[90m━━━━━━━━━━━━━━━━━━━━━━━━━━━━━━━━━━━━━━━━\u001b[0m \u001b[32m236.3/236.3 kB\u001b[0m \u001b[31m5.8 MB/s\u001b[0m eta \u001b[36m0:00:00\u001b[0m\n",
            "\u001b[?25hDownloading curated_tokenizers-0.0.9-cp310-cp310-manylinux_2_17_x86_64.manylinux2014_x86_64.whl (731 kB)\n",
            "\u001b[2K   \u001b[90m━━━━━━━━━━━━━━━━━━━━━━━━━━━━━━━━━━━━━━━━\u001b[0m \u001b[32m731.6/731.6 kB\u001b[0m \u001b[31m25.4 MB/s\u001b[0m eta \u001b[36m0:00:00\u001b[0m\n",
            "\u001b[?25hDownloading curated_transformers-0.1.1-py2.py3-none-any.whl (25 kB)\n",
            "Installing collected packages: curated-tokenizers, curated-transformers, spacy-curated-transformers, en-core-web-trf\n",
            "Successfully installed curated-tokenizers-0.0.9 curated-transformers-0.1.1 en-core-web-trf-3.7.3 spacy-curated-transformers-0.2.2\n",
            "\u001b[38;5;2m✔ Download and installation successful\u001b[0m\n",
            "You can now load the package via spacy.load('en_core_web_trf')\n",
            "\u001b[38;5;3m⚠ Restart to reload dependencies\u001b[0m\n",
            "If you are in a Jupyter or Colab notebook, you may need to restart Python in\n",
            "order to load all the package's dependencies. You can do this by selecting the\n",
            "'Restart kernel' or 'Restart runtime' option.\n"
          ]
        }
      ]
    },
    {
      "cell_type": "markdown",
      "source": [
        "**Restart the Runtime/Session**"
      ],
      "metadata": {
        "id": "HpB5KKWSKkby"
      }
    },
    {
      "cell_type": "code",
      "source": [
        "!python -m spacy info"
      ],
      "metadata": {
        "id": "x83z3TOfNGS-",
        "outputId": "1f4f7c1c-480e-4c62-88be-a1cb1c52d20f",
        "colab": {
          "base_uri": "https://localhost:8080/"
        }
      },
      "execution_count": null,
      "outputs": [
        {
          "output_type": "stream",
          "name": "stdout",
          "text": [
            "\u001b[1m\n",
            "============================== Info about spaCy ==============================\u001b[0m\n",
            "\n",
            "spaCy version    3.7.4                         \n",
            "Location         /usr/local/lib/python3.10/dist-packages/spacy\n",
            "Platform         Linux-6.1.85+-x86_64-with-glibc2.35\n",
            "Python version   3.10.12                       \n",
            "Pipelines        en_core_web_trf (3.7.3), en_core_web_sm (3.7.1)\n",
            "\n"
          ]
        }
      ]
    },
    {
      "cell_type": "markdown",
      "source": [
        "### Import required packages"
      ],
      "metadata": {
        "id": "d6wPl_vwqL6Y"
      }
    },
    {
      "cell_type": "code",
      "execution_count": null,
      "metadata": {
        "id": "FFOiNNeP0giN"
      },
      "outputs": [],
      "source": [
        "# Import the SpaCy library to perform NLP tasks and its visualization tool, displaCy, for rendering annotations and dependency parses.\n",
        "import spacy  # The main SpaCy library for Natural Language Processing (NLP).\n",
        "from spacy import displacy  # displacy is a SpaCy module used for visualizing text annotations like entity recognition and syntactic dependencies."
      ]
    },
    {
      "cell_type": "markdown",
      "source": [
        "### Load the trained pipeline\n",
        "\n",
        "Once you've downloaded and installed a trained pipeline, you can load it via `spacy.load()`. This will return a *Language object* containing all components and data needed to process text. We usually call it `nlp`.\n"
      ],
      "metadata": {
        "id": "OoRmCXB55X3l"
      }
    },
    {
      "cell_type": "code",
      "source": [
        "# Load transformer pipeline for English\n",
        "nlp = spacy.load(\"en_core_web_trf\")\n",
        "\n",
        "# This gives us a Language object\n",
        "nlp"
      ],
      "metadata": {
        "id": "GGlQY8Ro2hw6",
        "outputId": "4fdc3a46-4d91-4dbc-98da-e705e734b60e",
        "colab": {
          "base_uri": "https://localhost:8080/"
        }
      },
      "execution_count": null,
      "outputs": [
        {
          "output_type": "stream",
          "name": "stderr",
          "text": [
            "/usr/local/lib/python3.10/dist-packages/thinc/shims/pytorch.py:253: FutureWarning: You are using `torch.load` with `weights_only=False` (the current default value), which uses the default pickle module implicitly. It is possible to construct malicious pickle data which will execute arbitrary code during unpickling (See https://github.com/pytorch/pytorch/blob/main/SECURITY.md#untrusted-models for more details). In a future release, the default value for `weights_only` will be flipped to `True`. This limits the functions that could be executed during unpickling. Arbitrary objects will no longer be allowed to be loaded via this mode unless they are explicitly allowlisted by the user via `torch.serialization.add_safe_globals`. We recommend you start setting `weights_only=True` for any use case where you don't have full control of the loaded file. Please open an issue on GitHub for any issues related to this experimental feature.\n",
            "  model.load_state_dict(torch.load(filelike, map_location=device))\n"
          ]
        },
        {
          "output_type": "execute_result",
          "data": {
            "text/plain": [
              "<spacy.lang.en.English at 0x7ae0b4403700>"
            ]
          },
          "metadata": {},
          "execution_count": 3
        }
      ]
    },
    {
      "cell_type": "markdown",
      "source": [
        "Esentially, spaCy's *Language* object is a pipeline that uses the language model to perform a number of natural language processing tasks such as *tokenization*, *part-of-speech tagging*, *syntactic parsing*, *named entity recognition*, etc.\n",
        "\n",
        "<br>\n",
        "<img src='https://cdn.iisc.talentsprint.com/AIandMLOps/Images/spacy_pipeline.png' width=800px>\n",
        "\n",
        "<br>"
      ],
      "metadata": {
        "id": "UeGDyVaDpczn"
      }
    },
    {
      "cell_type": "code",
      "source": [
        "# Pipeline names\n",
        "nlp.pipe_names"
      ],
      "metadata": {
        "id": "grxmbI2H6H5Q",
        "outputId": "801a5a69-e376-4ced-e7bd-c340ce2bdaff",
        "colab": {
          "base_uri": "https://localhost:8080/"
        }
      },
      "execution_count": null,
      "outputs": [
        {
          "output_type": "execute_result",
          "data": {
            "text/plain": [
              "['transformer', 'tagger', 'parser', 'attribute_ruler', 'lemmatizer', 'ner']"
            ]
          },
          "metadata": {},
          "execution_count": 4
        }
      ]
    },
    {
      "cell_type": "markdown",
      "source": [
        "## Performing basic NLP tasks using spaCy"
      ],
      "metadata": {
        "id": "cVztM7aSHg-N"
      }
    },
    {
      "cell_type": "markdown",
      "metadata": {
        "id": "BWwX8KlNK3NX"
      },
      "source": [
        "Calling the Language object, `nlp`, on a string of text will return a processed *Doc*."
      ]
    },
    {
      "cell_type": "code",
      "execution_count": null,
      "metadata": {
        "id": "QLEKXAxxK3NX",
        "outputId": "ad22235f-4fcf-4a43-c8d2-ba9c27762534",
        "colab": {
          "base_uri": "https://localhost:8080/",
          "height": 36
        }
      },
      "outputs": [
        {
          "output_type": "execute_result",
          "data": {
            "text/plain": [
              "'Apple is looking at buying U.K. startup for $1 billion.'"
            ],
            "application/vnd.google.colaboratory.intrinsic+json": {
              "type": "string"
            }
          },
          "metadata": {},
          "execution_count": 5
        }
      ],
      "source": [
        "# An example sentence\n",
        "text = \"Apple is looking at buying U.K. startup for $1 billion.\"\n",
        "text"
      ]
    },
    {
      "cell_type": "code",
      "execution_count": null,
      "metadata": {
        "id": "beDKSs4XK3NY",
        "outputId": "cf1d5ed1-70ba-4e4a-f271-5353092a442a",
        "colab": {
          "base_uri": "https://localhost:8080/"
        }
      },
      "outputs": [
        {
          "output_type": "stream",
          "name": "stderr",
          "text": [
            "/usr/local/lib/python3.10/dist-packages/thinc/shims/pytorch.py:114: FutureWarning: `torch.cuda.amp.autocast(args...)` is deprecated. Please use `torch.amp.autocast('cuda', args...)` instead.\n",
            "  with torch.cuda.amp.autocast(self._mixed_precision):\n"
          ]
        }
      ],
      "source": [
        "# Feed the string object under 'text' to the Language object under 'nlp'\n",
        "# Store the result under the variable 'doc'\n",
        "doc = nlp(text)"
      ]
    },
    {
      "cell_type": "code",
      "source": [
        "type(doc)"
      ],
      "metadata": {
        "id": "-d28toejq29Y",
        "outputId": "524892a9-7932-4465-da46-1dd89acaf15f",
        "colab": {
          "base_uri": "https://localhost:8080/"
        }
      },
      "execution_count": null,
      "outputs": [
        {
          "output_type": "execute_result",
          "data": {
            "text/plain": [
              "spacy.tokens.doc.Doc"
            ]
          },
          "metadata": {},
          "execution_count": 7
        }
      ]
    },
    {
      "cell_type": "markdown",
      "metadata": {
        "id": "_xDMhpziK3NX"
      },
      "source": [
        "Passing the variable `text` to the _Language_ object `nlp` returns a spaCy *Doc* object, short for document.\n",
        "\n",
        "This object contains both the input text stored under `text` and the results of natural language processing using spaCy."
      ]
    },
    {
      "cell_type": "code",
      "execution_count": null,
      "metadata": {
        "id": "69rWTI8oK3NY",
        "outputId": "010143d1-35fc-4645-95b8-6bf92d499817",
        "colab": {
          "base_uri": "https://localhost:8080/"
        }
      },
      "outputs": [
        {
          "output_type": "execute_result",
          "data": {
            "text/plain": [
              "Apple is looking at buying U.K. startup for $1 billion."
            ]
          },
          "metadata": {},
          "execution_count": 8
        }
      ],
      "source": [
        "# Call the variable to examine the object\n",
        "doc"
      ]
    },
    {
      "cell_type": "markdown",
      "metadata": {
        "id": "hLU_RXJuK3NZ"
      },
      "source": [
        "Calling the variable `doc` returns the contents of the object.\n",
        "\n",
        "Although the output resembles that of a Python string, the *Doc* object contains a wealth of information about its linguistic structure, which spaCy generated by passing the text through the NLP pipeline.\n",
        "\n",
        "Let's examine the tasks that were performed under the hood after the input sentence was provided to the language model."
      ]
    },
    {
      "cell_type": "markdown",
      "metadata": {
        "id": "vhcEc6AiK3NZ"
      },
      "source": [
        "### Tokenization"
      ]
    },
    {
      "cell_type": "markdown",
      "metadata": {
        "id": "ybAUeP7dK3Na"
      },
      "source": [
        "*Tokenization* breaks the text down into words, punctuation and so on.\n",
        "\n",
        "The diagram below outlines the tasks that spaCy can perform after a text has been tokenised, such as *part-of-speech tagging*, *syntactic parsing* and *named entity recognition*.\n",
        "\n",
        "<img src='https://cdn.iisc.talentsprint.com/AIandMLOps/Images/spacy_pipeline.png' width=800px>\n",
        "\n",
        "Each *Doc* consists of individual tokens, and we can iterate over them.\n",
        "\n",
        "Let's print out each *Token* object stored in the _Doc_ object `doc`."
      ]
    },
    {
      "cell_type": "code",
      "execution_count": null,
      "metadata": {
        "id": "OxUEyrg8K3Nb",
        "outputId": "fba84b31-0ad7-4fd5-f3a3-a1a97d56bcf2",
        "colab": {
          "base_uri": "https://localhost:8080/"
        }
      },
      "outputs": [
        {
          "output_type": "stream",
          "name": "stdout",
          "text": [
            "Token\n",
            "====================\n",
            "Apple\n",
            "is\n",
            "looking\n",
            "at\n",
            "buying\n",
            "U.K.\n",
            "startup\n",
            "for\n",
            "$\n",
            "1\n",
            "billion\n",
            ".\n"
          ]
        }
      ],
      "source": [
        "# Tokens present inside the document\n",
        "\n",
        "# Print the header \"Token\" followed by a separator line, then iterate through the tokens in the processed text (doc) and print each token's text.\n",
        "print(\"Token\\n\" + '='*20)  # Display \"Token\" as a header with a line of '=' for clarity.\n",
        "\n",
        "for token in doc:  # Loop through each token in the SpaCy Doc object.\n",
        "    print(token.text)  # Print the actual text of each token.\n"
      ]
    },
    {
      "cell_type": "markdown",
      "metadata": {
        "id": "2KJaYn-3K3Nc"
      },
      "source": [
        "### Part-of-speech tagging"
      ]
    },
    {
      "cell_type": "markdown",
      "metadata": {
        "id": "NnGIsQRHK3Nd"
      },
      "source": [
        "Part-of-speech (POS) tagging is the task of determining the word class of a token. This is crucial for *disambiguation*, because different parts of speech may have similar forms.\n",
        "\n",
        ">Consider the example: *The sailor dogs the hatch*.<br>\n",
        ">The present tense of the verb *dog* (to fasten something with something) is precisely the same as the plural form of the noun *dog*: *dogs*.\n",
        "\n",
        "To identify the correct word class, we must examine the context in which the word appears.\n",
        "\n",
        "spaCy provides two types of part-of-speech tags, coarse and fine-grained, which are stored under the attributes `pos_` and `tag_`, respectively.\n",
        "\n",
        "To access the results of POS tagging, let's loop over the *Doc* object `doc` and print each *Token* and its part-of-speech tags."
      ]
    },
    {
      "cell_type": "code",
      "source": [
        "# Print the token, its coarse-grained (general) POS tag, and fine-grained (detailed) POS tag for each token in the processed text.\n",
        "\n",
        "# Header for the table with proper formatting for alignment\n",
        "print(f\"{' ':<30}POS tag\\n{' ':<20}{'-'*25}\")  # Display a header for \"POS tag\" section with a separator.\n",
        "print(f\"{'Token':<20}{'Coarse':<13}Fine-grained\\n{'='*45}\")  # Define columns: \"Token\", \"Coarse\" (POS), and \"Fine-grained\" tags.\n",
        "\n",
        "for token in doc:  # Iterate over each token in the SpaCy Doc object.\n",
        "    coarse = token.pos_  # Retrieve the coarse-grained POS tag (e.g., NOUN, VERB).\n",
        "    fine = token.tag_  # Retrieve the fine-grained POS tag (e.g., singular noun or past-tense verb).\n",
        "\n",
        "    # Print each token's text, coarse POS tag, and fine-grained POS tag in formatted columns.\n",
        "    print(f\"{token.text:<20}{coarse:<13}{fine}\")\n"
      ],
      "metadata": {
        "id": "Va5tmZcItRvH",
        "outputId": "e64e7c10-3a26-4132-a991-30168bd95c12",
        "colab": {
          "base_uri": "https://localhost:8080/"
        }
      },
      "execution_count": null,
      "outputs": [
        {
          "output_type": "stream",
          "name": "stdout",
          "text": [
            "                              POS tag\n",
            "                    -------------------------\n",
            "Token               Coarse       Fine-grained\n",
            "=============================================\n",
            "Apple               PROPN        NNP\n",
            "is                  AUX          VBZ\n",
            "looking             VERB         VBG\n",
            "at                  ADP          IN\n",
            "buying              VERB         VBG\n",
            "U.K.                PROPN        NNP\n",
            "startup             NOUN         NN\n",
            "for                 ADP          IN\n",
            "$                   SYM          $\n",
            "1                   NUM          CD\n",
            "billion             NUM          CD\n",
            ".                   PUNCT        .\n"
          ]
        }
      ]
    },
    {
      "cell_type": "markdown",
      "metadata": {
        "id": "l8u4RTfgK3Ny"
      },
      "source": [
        "### Lemmatization"
      ]
    },
    {
      "cell_type": "markdown",
      "metadata": {
        "id": "KcxwD63HK3Nz"
      },
      "source": [
        "A **lemma** is the base form of a word.\n",
        "\n",
        "Unless explicitly instructed, computers cannot tell the difference between singular and plural forms of words, but treat them as distinct tokens, because their forms differ.\n",
        "\n",
        "For instance, if we want to count the occurrences of words, a process known as _lemmatization_ is needed to group together the different forms of the same token.\n",
        "\n",
        "Lemmas are available for each _Token_ under the attribute `lemma_`."
      ]
    },
    {
      "cell_type": "code",
      "execution_count": null,
      "metadata": {
        "id": "JtMeYKd4K3Nz",
        "outputId": "ea21a61b-4c6d-4555-9ce5-74f063359bda",
        "colab": {
          "base_uri": "https://localhost:8080/"
        }
      },
      "outputs": [
        {
          "output_type": "stream",
          "name": "stdout",
          "text": [
            "Token                Lemma\n",
            "==============================\n",
            "Apple                Apple\n",
            "is                   be\n",
            "looking              look\n",
            "at                   at\n",
            "buying               buy\n",
            "U.K.                 U.K.\n",
            "startup              startup\n",
            "for                  for\n",
            "$                    $\n",
            "1                    1\n",
            "billion              billion\n",
            ".                    .\n"
          ]
        }
      ],
      "source": [
        "# Print each token along with its base form (lemma) from the processed text.\n",
        "\n",
        "# Header for the table with proper formatting\n",
        "print(f\"{'Token':<20} Lemma\\n{'='*30}\")  # Define columns: \"Token\" and \"Lemma\" with a separator.\n",
        "\n",
        "for token in doc:  # Iterate over each token in the SpaCy Doc object.\n",
        "    lemma = token.lemma_  # Retrieve the lemma (base form) of the token.\n",
        "\n",
        "    # Print the token's text and its corresponding lemma in formatted columns.\n",
        "    print(f\"{token.text:<20} {lemma}\")\n"
      ]
    },
    {
      "cell_type": "markdown",
      "source": [
        "### Removing punctuations, stop words, converting to lowercase"
      ],
      "metadata": {
        "id": "qnstEWPGR_5U"
      }
    },
    {
      "cell_type": "code",
      "source": [
        "# Access and print the stop words list provided by SpaCy for English.\n",
        "\n",
        "# Retrieve SpaCy's predefined set of English stop words.\n",
        "spacy_stopwords = spacy.lang.en.stop_words.STOP_WORDS\n",
        "\n",
        "# Print the total number of stop words in the set.\n",
        "print(len(spacy_stopwords))\n",
        "\n",
        "# Print the complete list of stop words.\n",
        "print(spacy_stopwords)\n"
      ],
      "metadata": {
        "id": "jPZjVnY-SUET",
        "outputId": "00ab24c9-14a5-4e12-e423-e62ee0ca22b2",
        "colab": {
          "base_uri": "https://localhost:8080/"
        }
      },
      "execution_count": null,
      "outputs": [
        {
          "output_type": "stream",
          "name": "stdout",
          "text": [
            "326\n",
            "{'much', 'perhaps', 'hereupon', 'under', 'up', 'them', 'the', 'whence', 'while', 'call', 'regarding', 'seeming', 'still', 'cannot', 'doing', 'either', 'show', 'really', '‘s', 'made', 'within', \"'d\", 'others', 'full', 'whereafter', 'ever', 'yourselves', 'formerly', 'whom', 'became', 'are', 'becoming', 'nine', 'we', 'being', 'anywhere', 'moreover', 'empty', 'nor', 'through', 'everyone', 'or', 'on', \"'re\", 'yours', 'quite', 'next', 'each', 'however', 'now', 'over', 'already', 'they', 'unless', 'do', 'be', 'enough', 'whether', '’ve', 'sometimes', 'beforehand', 'also', 'thru', 'eleven', 'often', 'besides', 'together', 'that', '‘ll', 'one', '’ll', 'everywhere', 'such', 'whereby', '‘m', 'whereupon', 'many', 'himself', 'move', 'nowhere', 'own', 'above', 'something', 'first', 'than', 'six', 'indeed', 'its', 'too', 'another', 'only', 'several', 'whither', 'could', 'did', 'four', 'into', 'hers', 'by', 'who', 'used', 'make', 'about', 'everything', 'themselves', 'when', 'should', 'how', 'same', \"'ll\", 'down', 'get', 'no', 'become', 'meanwhile', 'during', 'none', 'fifty', 'never', 'herself', \"'ve\", 'some', 'therein', 'latter', 'keep', 'but', 'three', 'various', 'along', 'always', 'myself', 'whose', 'thus', 'per', 'he', 'as', 'side', 'an', 'else', '‘d', 'beyond', 'why', '’re', 'these', 're', 'amount', 'bottom', 'their', 'nevertheless', 'third', 'at', 'hereby', 'throughout', 'take', 'him', 'might', 'whereas', 'us', 'two', 'what', 'yet', 'whatever', 'my', 'anyhow', 'so', 'ours', 'using', 'among', 'was', 'n‘t', 'seemed', 'noone', 'any', 'name', 'upon', 'twelve', 'ourselves', 'you', 'therefore', 'whenever', 'few', 'can', 'all', 'where', 'between', 'here', 'somehow', 'nobody', '‘re', 'both', 'nothing', 'whoever', 'via', 'because', 'wherein', 'n’t', 'must', 'very', 'see', 'every', 'a', 'becomes', 'otherwise', 'once', 'even', 'hereafter', 'least', 'wherever', 'his', 'for', 'behind', 'she', 'across', 'done', 'against', 'seems', 'less', '’m', 'almost', 'me', 'thereby', 'someone', 'those', 'sometime', 'please', 'and', 'may', 'had', 'although', 'will', 'mostly', 'other', 'were', 'does', 'if', 'give', \"'m\", 'put', 'back', 'just', 'your', 'this', '‘ve', 'been', 'serious', 'twenty', 'more', 'off', 'latterly', 'top', 'in', 'alone', 'say', 'before', 'namely', 'part', 'afterwards', 'which', '’s', 'onto', 'then', 'amongst', 'itself', 'of', 'to', 'mine', 'elsewhere', 'anyway', 'ca', 'seem', 'without', 'yourself', 'hundred', 'front', 'toward', 'due', 'i', 'there', 'eight', 'have', 'anything', 'from', 'again', \"n't\", \"'s\", 'has', 'herein', 'though', 'sixty', 'well', 'former', 'thence', 'out', 'somewhere', 'am', 'most', 'neither', 'five', 'until', 'thereafter', 'her', 'since', 'except', 'it', '’d', 'would', 'further', 'below', 'towards', 'with', 'fifteen', 'thereupon', 'hence', 'rather', 'go', 'whole', 'is', 'after', 'beside', 'anyone', 'our', 'around', 'last', 'not', 'ten', 'forty'}\n"
          ]
        }
      ]
    },
    {
      "cell_type": "code",
      "source": [
        "# Check and print whether each token is a stop word or a punctuation mark.\n",
        "\n",
        "# Header for the table with proper formatting\n",
        "print(f\"{'Token':<20} {'Is stopword':<15} Is Punctuation\\n{'='*55}\")\n",
        "# Define columns: \"Token\", \"Is stopword\", and \"Is Punctuation\" with a separator line.\n",
        "\n",
        "for token in doc:  # Iterate through each token in the SpaCy Doc object.\n",
        "    stop = token.is_stop  # Check if the token is a stop word (returns True/False).\n",
        "    punct = token.is_punct  # Check if the token is a punctuation mark (returns True/False).\n",
        "\n",
        "    # Print the token's text, whether it's a stop word, and whether it's a punctuation mark.\n",
        "    print(f\"{token.text:<20} {stop:<15} {punct}\")\n"
      ],
      "metadata": {
        "id": "PntYPVjkVOfb",
        "outputId": "b77bca8d-3b25-42c2-ddfb-e2fafd10b4a3",
        "colab": {
          "base_uri": "https://localhost:8080/"
        }
      },
      "execution_count": null,
      "outputs": [
        {
          "output_type": "stream",
          "name": "stdout",
          "text": [
            "Token                Is stopword     Is Punctuation\n",
            "=======================================================\n",
            "Apple                0               False\n",
            "is                   1               False\n",
            "looking              0               False\n",
            "at                   1               False\n",
            "buying               0               False\n",
            "U.K.                 0               False\n",
            "startup              0               False\n",
            "for                  1               False\n",
            "$                    0               False\n",
            "1                    0               False\n",
            "billion              0               False\n",
            ".                    0               True\n"
          ]
        }
      ]
    },
    {
      "cell_type": "code",
      "source": [
        "def preprocess_token(token):\n",
        "\n",
        "    \"\"\" If a token is not a stop word and not a punctuation,\n",
        "        then reduce it to its base form, remove trailing spaces, and covert to lowercase. \"\"\"\n",
        "\n",
        "    if not token.is_stop and not token.is_punct:  # Check if the token is neither a stop word nor punctuation.\n",
        "        return token.lemma_.strip().lower()  # Return the lemmatized, trimmed, and lowercase version of the token."
      ],
      "metadata": {
        "id": "11yH1FR4XAdq"
      },
      "execution_count": null,
      "outputs": []
    },
    {
      "cell_type": "code",
      "source": [
        "# Preprocess each token in the text and print both the original token and the preprocessed version.\n",
        "\n",
        "# Header for the output table with proper formatting\n",
        "print(f\"{'Token':<20} Preprocessed token\\n{'='*40}\")\n",
        "# Define columns: \"Token\" (original text) and \"Preprocessed token\" with a separator line.\n",
        "\n",
        "for token in doc:  # Iterate through each token in the SpaCy Doc object.\n",
        "    output = preprocess_token(token)  # Call the preprocess_token function to process the token.\n",
        "\n",
        "    # Print the original token text and its preprocessed version.\n",
        "    # If the token is a stop word or punctuation, the preprocessed version will be None.\n",
        "    print(f\"{token.text:<20} {output}\")\n"
      ],
      "metadata": {
        "id": "ZoCOU8gSXz_h",
        "outputId": "03c8af54-59a6-4d27-e14b-6338488a74d3",
        "colab": {
          "base_uri": "https://localhost:8080/"
        }
      },
      "execution_count": null,
      "outputs": [
        {
          "output_type": "stream",
          "name": "stdout",
          "text": [
            "Token                Preprocessed token\n",
            "========================================\n",
            "Apple                apple\n",
            "is                   None\n",
            "looking              look\n",
            "at                   None\n",
            "buying               buy\n",
            "U.K.                 u.k.\n",
            "startup              startup\n",
            "for                  None\n",
            "$                    $\n",
            "1                    1\n",
            "billion              billion\n",
            ".                    None\n"
          ]
        }
      ]
    },
    {
      "cell_type": "markdown",
      "metadata": {
        "id": "lyeCdI6iK3Nz"
      },
      "source": [
        "### Named Entity Recognition (NER)"
      ]
    },
    {
      "cell_type": "markdown",
      "metadata": {
        "id": "mv2U9VEzK3N0"
      },
      "source": [
        "Named entity recognition (NER) is the task of recognising and classifying entities named in a text.\n",
        "\n",
        "spaCy can recognise the named entities such as persons, geographic locations, and products as these were annotated in the dataset its trained on (OntoNotes 5 corpus).\n",
        "\n",
        "We can use the *Doc* object's `.ents` attribute to get the named entities."
      ]
    },
    {
      "cell_type": "code",
      "execution_count": null,
      "metadata": {
        "id": "9wn523SiK3N0",
        "outputId": "ee424edc-2a60-4b2c-9be2-f575ce29e39f",
        "colab": {
          "base_uri": "https://localhost:8080/"
        }
      },
      "outputs": [
        {
          "output_type": "execute_result",
          "data": {
            "text/plain": [
              "(Apple, U.K., $1 billion)"
            ]
          },
          "metadata": {},
          "execution_count": 16
        }
      ],
      "source": [
        "# Access and display the named entities in the processed text (doc).\n",
        "doc.ents  # This returns a list of all named entities recognized by SpaCy in the processed text."
      ]
    },
    {
      "cell_type": "markdown",
      "source": [
        "This returns a tuple with the named entities.\n",
        "\n",
        "Each item in the tuple is a spaCy *Span* object. *Span* objects can consist of multiple *Token* objects, as many named entities span multiple *Tokens*."
      ],
      "metadata": {
        "id": "oM4MeyX2qlas"
      }
    },
    {
      "cell_type": "code",
      "source": [
        "# Check the type of the object that stores the named entities\n",
        "type(doc.ents[0])  # This will return the type of the first entity in the list of named entities."
      ],
      "metadata": {
        "id": "NGs7oHNjqMGu",
        "outputId": "1e1e189c-2fd5-45f7-8b1e-c3541c27e08d",
        "colab": {
          "base_uri": "https://localhost:8080/"
        }
      },
      "execution_count": null,
      "outputs": [
        {
          "output_type": "execute_result",
          "data": {
            "text/plain": [
              "spacy.tokens.span.Span"
            ]
          },
          "metadata": {},
          "execution_count": 17
        }
      ]
    },
    {
      "cell_type": "markdown",
      "metadata": {
        "id": "yaCzY90CK3N0"
      },
      "source": [
        "The named entities and their types are stored under the attributes `.text` and `.label_` of each *Span* object.\n",
        "\n",
        "Let's loop over the *Span* objects in the tuple and print out both attributes."
      ]
    },
    {
      "cell_type": "code",
      "execution_count": null,
      "metadata": {
        "id": "yveeIWxXK3N0",
        "outputId": "98920acd-ef8a-43fb-82ae-97d264ab2b7a",
        "colab": {
          "base_uri": "https://localhost:8080/"
        }
      },
      "outputs": [
        {
          "output_type": "stream",
          "name": "stdout",
          "text": [
            "Text                 Entity_label     Explanation\n",
            "================================================================================\n",
            "Apple                ORG              Companies, agencies, institutions, etc.\n",
            "U.K.                 GPE              Countries, cities, states\n",
            "$1 billion           MONEY            Monetary values, including unit\n"
          ]
        }
      ],
      "source": [
        "# Loop over the named entities in the Doc object, and print each entity with its label and explanation.\n",
        "\n",
        "# Header for the output table with proper formatting\n",
        "print(f\"{'Text':<20} {'Entity_label':<16} Explanation\\n{'='*80}\")\n",
        "# Define columns: \"Text\" (named entity), \"Entity_label\" (entity type), and \"Explanation\" (label description).\n",
        "\n",
        "for ent in doc.ents:  # Iterate over each named entity in the doc.ents list.\n",
        "    ent_text = ent.text           # Get the text of the named entity (e.g., 'Apple Inc.')\n",
        "    ent_label = ent.label_        # Get the entity label (e.g., 'ORG' for organization)\n",
        "    ent_label_val = spacy.explain(ent_label)  # Get the explanation of the entity label (e.g., 'Organization')\n",
        "\n",
        "    # Print the entity text, its label, and the explanation of the label.\n",
        "    print(f\"{ent_text:<20} {ent_label:<16} {ent_label_val}\")\n"
      ]
    },
    {
      "cell_type": "markdown",
      "metadata": {
        "id": "1GCgHkJ7K3N1"
      },
      "source": [
        "As you can see, named entities like '$1 billion' identified in the *Doc* consist of multiple *Tokens*, which is why they are represented as *Span* objects."
      ]
    },
    {
      "cell_type": "markdown",
      "metadata": {
        "id": "qGjkG8m3K3N2"
      },
      "source": [
        "spaCy [*Span*](https://spacy.io/api/span) objects contain several useful arguments.\n",
        "\n",
        "Most importantly, the attributes `start` and `end` return the indices of _Tokens_, which determine where the _Span_ starts and ends in the *Doc* object."
      ]
    },
    {
      "cell_type": "code",
      "execution_count": null,
      "metadata": {
        "id": "kPwNfX-VK3N2",
        "outputId": "c86e0190-d7f3-4883-ef4f-1feef84dd619",
        "colab": {
          "base_uri": "https://localhost:8080/"
        }
      },
      "outputs": [
        {
          "output_type": "stream",
          "name": "stdout",
          "text": [
            "$1 billion 8 11\n"
          ]
        }
      ],
      "source": [
        "# Print the named entity and its start and end token indices in the Doc.\n",
        "print(doc.ents[2], doc.ents[2].start, doc.ents[2].end)\n",
        "# doc.ents[2] accesses the third named entity in the Doc (indexing starts at 0).\n",
        "# doc.ents[2].start gives the index of the first token of the named entity.\n",
        "# doc.ents[2].end gives the index of the token just after the last token of the named entity.\n"
      ]
    },
    {
      "cell_type": "markdown",
      "metadata": {
        "id": "Z29gu0lwK3N3"
      },
      "source": [
        "The named entity starts at index 8 and ends at index 11 in the *Doc* object."
      ]
    },
    {
      "cell_type": "markdown",
      "source": [
        "#### Visualize Named Entities"
      ],
      "metadata": {
        "id": "3ycEVv9KrNkZ"
      }
    },
    {
      "cell_type": "markdown",
      "metadata": {
        "id": "FTKE_TnYK3N4"
      },
      "source": [
        "We can also render the named entities using *displacy*, the spaCy module we used for visualising dependency parses above.\n",
        "\n",
        "Note that we must pass the string `ent` to the `style` argument to indicate that we wish to visualise named entities."
      ]
    },
    {
      "cell_type": "code",
      "execution_count": null,
      "metadata": {
        "id": "lUN9_a2KK3N5",
        "outputId": "24efa03a-a82f-4ec1-93db-b3444d649d27",
        "colab": {
          "base_uri": "https://localhost:8080/",
          "height": 52
        }
      },
      "outputs": [
        {
          "output_type": "display_data",
          "data": {
            "text/plain": [
              "<IPython.core.display.HTML object>"
            ],
            "text/html": [
              "<span class=\"tex2jax_ignore\"><div class=\"entities\" style=\"line-height: 2.5; direction: ltr\">\n",
              "<mark class=\"entity\" style=\"background: #7aecec; padding: 0.45em 0.6em; margin: 0 0.25em; line-height: 1; border-radius: 0.35em;\">\n",
              "    Apple\n",
              "    <span style=\"font-size: 0.8em; font-weight: bold; line-height: 1; border-radius: 0.35em; vertical-align: middle; margin-left: 0.5rem\">ORG</span>\n",
              "</mark>\n",
              " is looking at buying \n",
              "<mark class=\"entity\" style=\"background: #feca74; padding: 0.45em 0.6em; margin: 0 0.25em; line-height: 1; border-radius: 0.35em;\">\n",
              "    U.K.\n",
              "    <span style=\"font-size: 0.8em; font-weight: bold; line-height: 1; border-radius: 0.35em; vertical-align: middle; margin-left: 0.5rem\">GPE</span>\n",
              "</mark>\n",
              " startup for \n",
              "<mark class=\"entity\" style=\"background: #e4e7d2; padding: 0.45em 0.6em; margin: 0 0.25em; line-height: 1; border-radius: 0.35em;\">\n",
              "    $1 billion\n",
              "    <span style=\"font-size: 0.8em; font-weight: bold; line-height: 1; border-radius: 0.35em; vertical-align: middle; margin-left: 0.5rem\">MONEY</span>\n",
              "</mark>\n",
              ".</div></span>"
            ]
          },
          "metadata": {}
        }
      ],
      "source": [
        "# Visualize the named entities in the document using SpaCy's displacy visualizer.\n",
        "spacy.displacy.render(doc, style='ent')\n",
        "# `style='ent'` specifies that we want to visualize the named entities in the document.\n",
        "# This will highlight and display the named entities with their labels (e.g., ORG, PERSON, GPE) in the text."
      ]
    },
    {
      "cell_type": "markdown",
      "source": [
        "**Test another example 2:**"
      ],
      "metadata": {
        "id": "I5fLOBFpxSt1"
      }
    },
    {
      "cell_type": "code",
      "source": [
        "# Visualize named entities in a new sample text using SpaCy's displacy visualizer.\n",
        "\n",
        "text2 = \"On 3rd Feb, Ram was in Delhi.\\nLater he traveled to Mumbai via Air India flight reading a Time magazine to meet Raj.\\nAfter 10 days, he went again back to Delhi wearing a Timex watch.\"\n",
        "# This is a new sample text to analyze.\n",
        "\n",
        "doc2 = nlp(text2)  # Process the new text using the SpaCy NLP pipeline (the `nlp` object).\n",
        "spacy.displacy.render(doc2, style='ent')\n",
        "# Render the named entities in the new `doc2`, highlighting and labeling them in the text."
      ],
      "metadata": {
        "id": "kZLngerFvbL7",
        "outputId": "3d5ac0b4-1db2-4c9c-8deb-356ce4d537be",
        "colab": {
          "base_uri": "https://localhost:8080/",
          "height": 122
        }
      },
      "execution_count": null,
      "outputs": [
        {
          "output_type": "display_data",
          "data": {
            "text/plain": [
              "<IPython.core.display.HTML object>"
            ],
            "text/html": [
              "<span class=\"tex2jax_ignore\"><div class=\"entities\" style=\"line-height: 2.5; direction: ltr\">On \n",
              "<mark class=\"entity\" style=\"background: #bfe1d9; padding: 0.45em 0.6em; margin: 0 0.25em; line-height: 1; border-radius: 0.35em;\">\n",
              "    3rd Feb\n",
              "    <span style=\"font-size: 0.8em; font-weight: bold; line-height: 1; border-radius: 0.35em; vertical-align: middle; margin-left: 0.5rem\">DATE</span>\n",
              "</mark>\n",
              ", \n",
              "<mark class=\"entity\" style=\"background: #aa9cfc; padding: 0.45em 0.6em; margin: 0 0.25em; line-height: 1; border-radius: 0.35em;\">\n",
              "    Ram\n",
              "    <span style=\"font-size: 0.8em; font-weight: bold; line-height: 1; border-radius: 0.35em; vertical-align: middle; margin-left: 0.5rem\">PERSON</span>\n",
              "</mark>\n",
              " was in \n",
              "<mark class=\"entity\" style=\"background: #feca74; padding: 0.45em 0.6em; margin: 0 0.25em; line-height: 1; border-radius: 0.35em;\">\n",
              "    Delhi\n",
              "    <span style=\"font-size: 0.8em; font-weight: bold; line-height: 1; border-radius: 0.35em; vertical-align: middle; margin-left: 0.5rem\">GPE</span>\n",
              "</mark>\n",
              ".<br>Later he traveled to \n",
              "<mark class=\"entity\" style=\"background: #feca74; padding: 0.45em 0.6em; margin: 0 0.25em; line-height: 1; border-radius: 0.35em;\">\n",
              "    Mumbai\n",
              "    <span style=\"font-size: 0.8em; font-weight: bold; line-height: 1; border-radius: 0.35em; vertical-align: middle; margin-left: 0.5rem\">GPE</span>\n",
              "</mark>\n",
              " via \n",
              "<mark class=\"entity\" style=\"background: #7aecec; padding: 0.45em 0.6em; margin: 0 0.25em; line-height: 1; border-radius: 0.35em;\">\n",
              "    Air India\n",
              "    <span style=\"font-size: 0.8em; font-weight: bold; line-height: 1; border-radius: 0.35em; vertical-align: middle; margin-left: 0.5rem\">ORG</span>\n",
              "</mark>\n",
              " flight reading a \n",
              "<mark class=\"entity\" style=\"background: #7aecec; padding: 0.45em 0.6em; margin: 0 0.25em; line-height: 1; border-radius: 0.35em;\">\n",
              "    Time\n",
              "    <span style=\"font-size: 0.8em; font-weight: bold; line-height: 1; border-radius: 0.35em; vertical-align: middle; margin-left: 0.5rem\">ORG</span>\n",
              "</mark>\n",
              " magazine to meet \n",
              "<mark class=\"entity\" style=\"background: #aa9cfc; padding: 0.45em 0.6em; margin: 0 0.25em; line-height: 1; border-radius: 0.35em;\">\n",
              "    Raj\n",
              "    <span style=\"font-size: 0.8em; font-weight: bold; line-height: 1; border-radius: 0.35em; vertical-align: middle; margin-left: 0.5rem\">PERSON</span>\n",
              "</mark>\n",
              ".<br>After \n",
              "<mark class=\"entity\" style=\"background: #bfe1d9; padding: 0.45em 0.6em; margin: 0 0.25em; line-height: 1; border-radius: 0.35em;\">\n",
              "    10 days\n",
              "    <span style=\"font-size: 0.8em; font-weight: bold; line-height: 1; border-radius: 0.35em; vertical-align: middle; margin-left: 0.5rem\">DATE</span>\n",
              "</mark>\n",
              ", he went again back to \n",
              "<mark class=\"entity\" style=\"background: #feca74; padding: 0.45em 0.6em; margin: 0 0.25em; line-height: 1; border-radius: 0.35em;\">\n",
              "    Delhi\n",
              "    <span style=\"font-size: 0.8em; font-weight: bold; line-height: 1; border-radius: 0.35em; vertical-align: middle; margin-left: 0.5rem\">GPE</span>\n",
              "</mark>\n",
              " wearing a \n",
              "<mark class=\"entity\" style=\"background: #7aecec; padding: 0.45em 0.6em; margin: 0 0.25em; line-height: 1; border-radius: 0.35em;\">\n",
              "    Timex\n",
              "    <span style=\"font-size: 0.8em; font-weight: bold; line-height: 1; border-radius: 0.35em; vertical-align: middle; margin-left: 0.5rem\">ORG</span>\n",
              "</mark>\n",
              " watch.</div></span>"
            ]
          },
          "metadata": {}
        }
      ]
    },
    {
      "cell_type": "markdown",
      "source": [
        "If a particular tag used for a named entity is unfamiliar, you can check it's explanation."
      ],
      "metadata": {
        "id": "ogdrSb382R3J"
      }
    },
    {
      "cell_type": "code",
      "source": [
        "# Get the explanation for the 'DATE' entity label using SpaCy's explain function.\n",
        "spacy.explain('DATE')\n",
        "# This will return a human-readable explanation for the entity label 'DATE'."
      ],
      "metadata": {
        "id": "D-dFic41xMda",
        "outputId": "451c6fe6-3457-4f17-e2dd-28aca6bd506d",
        "colab": {
          "base_uri": "https://localhost:8080/",
          "height": 36
        }
      },
      "execution_count": null,
      "outputs": [
        {
          "output_type": "execute_result",
          "data": {
            "text/plain": [
              "'Absolute or relative dates or periods'"
            ],
            "application/vnd.google.colaboratory.intrinsic+json": {
              "type": "string"
            }
          },
          "metadata": {},
          "execution_count": 22
        }
      ]
    },
    {
      "cell_type": "code",
      "source": [
        "# Get the explanation for the 'PERSON' entity label using SpaCy's explain function.\n",
        "spacy.explain('PERSON')\n",
        "# This will return a human-readable explanation for the entity label 'PERSON'."
      ],
      "metadata": {
        "id": "IBp1zyMXxnJ6",
        "outputId": "1bab0a0b-7c58-4855-8227-cf8bbc7f3916",
        "colab": {
          "base_uri": "https://localhost:8080/",
          "height": 36
        }
      },
      "execution_count": null,
      "outputs": [
        {
          "output_type": "execute_result",
          "data": {
            "text/plain": [
              "'People, including fictional'"
            ],
            "application/vnd.google.colaboratory.intrinsic+json": {
              "type": "string"
            }
          },
          "metadata": {},
          "execution_count": 23
        }
      ]
    },
    {
      "cell_type": "markdown",
      "source": [
        "**Test another example 3:**"
      ],
      "metadata": {
        "id": "XAvWA3882Ues"
      }
    },
    {
      "cell_type": "code",
      "source": [
        "# Visualize named entities in another sample text using SpaCy's displacy visualizer.\n",
        "\n",
        "text3 = \"Holmes solves his another case while sitting at his home in Baker Street, without moving a single inch.\"\n",
        "# This is another sample text to analyze, mentioning a character and a location.\n",
        "\n",
        "doc3 = nlp(text3)  # Process the new text using the SpaCy NLP pipeline (the `nlp` object).\n",
        "spacy.displacy.render(doc3, style='ent')\n",
        "# Render the named entities in the new `doc3`, highlighting and labeling them in the text.\n"
      ],
      "metadata": {
        "id": "UV6e_njh1LKX",
        "outputId": "ddb2cfe9-ca77-4702-d3fc-e7af439bb32a",
        "colab": {
          "base_uri": "https://localhost:8080/",
          "height": 52
        }
      },
      "execution_count": null,
      "outputs": [
        {
          "output_type": "display_data",
          "data": {
            "text/plain": [
              "<IPython.core.display.HTML object>"
            ],
            "text/html": [
              "<span class=\"tex2jax_ignore\"><div class=\"entities\" style=\"line-height: 2.5; direction: ltr\">\n",
              "<mark class=\"entity\" style=\"background: #aa9cfc; padding: 0.45em 0.6em; margin: 0 0.25em; line-height: 1; border-radius: 0.35em;\">\n",
              "    Holmes\n",
              "    <span style=\"font-size: 0.8em; font-weight: bold; line-height: 1; border-radius: 0.35em; vertical-align: middle; margin-left: 0.5rem\">PERSON</span>\n",
              "</mark>\n",
              " solves his another case while sitting at his home in \n",
              "<mark class=\"entity\" style=\"background: #9cc9cc; padding: 0.45em 0.6em; margin: 0 0.25em; line-height: 1; border-radius: 0.35em;\">\n",
              "    Baker Street\n",
              "    <span style=\"font-size: 0.8em; font-weight: bold; line-height: 1; border-radius: 0.35em; vertical-align: middle; margin-left: 0.5rem\">FAC</span>\n",
              "</mark>\n",
              ", without moving \n",
              "<mark class=\"entity\" style=\"background: #e4e7d2; padding: 0.45em 0.6em; margin: 0 0.25em; line-height: 1; border-radius: 0.35em;\">\n",
              "    a single inch\n",
              "    <span style=\"font-size: 0.8em; font-weight: bold; line-height: 1; border-radius: 0.35em; vertical-align: middle; margin-left: 0.5rem\">QUANTITY</span>\n",
              "</mark>\n",
              ".</div></span>"
            ]
          },
          "metadata": {}
        }
      ]
    },
    {
      "cell_type": "code",
      "source": [
        "# Get the explanation for the 'FAC' entity label using SpaCy's explain function.\n",
        "spacy.explain('FAC')\n",
        "# This will return a human-readable explanation for the entity label 'FAC'."
      ],
      "metadata": {
        "id": "L76wtVpb1n6a",
        "outputId": "e8e8a0e0-2b24-4066-ba5c-807d86e67948",
        "colab": {
          "base_uri": "https://localhost:8080/",
          "height": 36
        }
      },
      "execution_count": null,
      "outputs": [
        {
          "output_type": "execute_result",
          "data": {
            "text/plain": [
              "'Buildings, airports, highways, bridges, etc.'"
            ],
            "application/vnd.google.colaboratory.intrinsic+json": {
              "type": "string"
            }
          },
          "metadata": {},
          "execution_count": 25
        }
      ]
    },
    {
      "cell_type": "markdown",
      "source": [
        "References:\n",
        "* https://spacy.io/usage/spacy-101"
      ],
      "metadata": {
        "id": "YFXGM68ARzhb"
      }
    },
    {
      "cell_type": "markdown",
      "metadata": {
        "id": "VHfHdGCP_n6Y"
      },
      "source": [
        "### Please answer the questions below to complete the experiment:\n",
        "\n",
        "\n"
      ]
    },
    {
      "cell_type": "code",
      "execution_count": null,
      "metadata": {
        "id": "VgSwVENIPcM6"
      },
      "outputs": [],
      "source": [
        "#@title Which of the following is a technique to convert a word into its base form? { run: \"auto\", form-width: \"500px\", display-mode: \"form\" }\n",
        "Answer = \"Lemmatization\" #@param [\"\", \"Tokenization\", \"Part-of-Speech Tagging\", \"Lemmatization\", \"Named Entity Recognition\"]"
      ]
    },
    {
      "cell_type": "code",
      "execution_count": null,
      "metadata": {
        "id": "NMzKSbLIgFzQ"
      },
      "outputs": [],
      "source": [
        "#@title How was the experiment? { run: \"auto\", form-width: \"500px\", display-mode: \"form\" }\n",
        "Complexity = \"Good and Challenging for me\" #@param [\"\",\"Too Simple, I am wasting time\", \"Good, But Not Challenging for me\", \"Good and Challenging for me\", \"Was Tough, but I did it\", \"Too Difficult for me\"]\n"
      ]
    },
    {
      "cell_type": "code",
      "execution_count": null,
      "metadata": {
        "id": "DjcH1VWSFI2l"
      },
      "outputs": [],
      "source": [
        "#@title If it was too easy, what more would you have liked to be added? If it was very difficult, what would you have liked to have been removed? { run: \"auto\", display-mode: \"form\" }\n",
        "Additional = \"Nothing, its good.\" #@param {type:\"string\"}\n"
      ]
    },
    {
      "cell_type": "code",
      "execution_count": null,
      "metadata": {
        "id": "4VBk_4VTAxCM"
      },
      "outputs": [],
      "source": [
        "#@title Can you identify the concepts from the lecture which this experiment covered? { run: \"auto\", vertical-output: true, display-mode: \"form\" }\n",
        "Concepts = \"Yes\" #@param [\"\",\"Yes\", \"No\"]\n"
      ]
    },
    {
      "cell_type": "code",
      "execution_count": null,
      "metadata": {
        "id": "XH91cL1JWH7m"
      },
      "outputs": [],
      "source": [
        "#@title  Text and image description/explanation and code comments within the experiment: { run: \"auto\", vertical-output: true, display-mode: \"form\" }\n",
        "Comments = \"Very Useful\" #@param [\"\",\"Very Useful\", \"Somewhat Useful\", \"Not Useful\", \"Didn't use\"]\n"
      ]
    },
    {
      "cell_type": "code",
      "execution_count": null,
      "metadata": {
        "id": "z8xLqj7VWIKW"
      },
      "outputs": [],
      "source": [
        "#@title Mentor Support: { run: \"auto\", vertical-output: true, display-mode: \"form\" }\n",
        "Mentor_support = \"Very Useful\" #@param [\"\",\"Very Useful\", \"Somewhat Useful\", \"Not Useful\", \"Didn't use\"]\n"
      ]
    },
    {
      "cell_type": "code",
      "execution_count": null,
      "metadata": {
        "cellView": "form",
        "id": "FzAZHt1zw-Y-",
        "outputId": "52ebdb4c-a9de-4b5b-fbb8-c78b4dd70871",
        "colab": {
          "base_uri": "https://localhost:8080/"
        }
      },
      "outputs": [
        {
          "output_type": "stream",
          "name": "stdout",
          "text": [
            "Your submission is successful.\n",
            "Ref Id: 3002\n",
            "Date of submission:  18 Dec 2024\n",
            "Time of submission:  14:39:22\n",
            "View your submissions: https://aimlops-iisc.talentsprint.com/notebook_submissions\n"
          ]
        }
      ],
      "source": [
        "#@title Run this cell to submit your notebook for grading { vertical-output: true }\n",
        "try:\n",
        "  if submission_id:\n",
        "      return_id = submit_notebook()\n",
        "      if return_id : submission_id = return_id\n",
        "  else:\n",
        "      print(\"Please complete the setup first.\")\n",
        "except NameError:\n",
        "  print (\"Please complete the setup first.\")"
      ]
    }
  ]
}