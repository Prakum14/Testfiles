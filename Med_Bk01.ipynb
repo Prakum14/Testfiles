{
  "nbformat": 4,
  "nbformat_minor": 0,
  "metadata": {
    "colab": {
      "provenance": [],
      "authorship_tag": "ABX9TyOo6I+DPKXV9H8pT7Ww2GRY",
      "include_colab_link": true
    },
    "kernelspec": {
      "name": "python3",
      "display_name": "Python 3"
    },
    "language_info": {
      "name": "python"
    }
  },
  "cells": [
    {
      "cell_type": "markdown",
      "metadata": {
        "id": "view-in-github",
        "colab_type": "text"
      },
      "source": [
        "<a href=\"https://colab.research.google.com/github/Prakum14/Testfiles/blob/master/Med_Bk01.ipynb\" target=\"_parent\"><img src=\"https://colab.research.google.com/assets/colab-badge.svg\" alt=\"Open In Colab\"/></a>"
      ]
    },
    {
      "cell_type": "code",
      "source": [
        "from IPython import get_ipython\n",
        "from IPython.display import display"
      ],
      "metadata": {
        "id": "8sxgsggd8K7K"
      },
      "execution_count": 18,
      "outputs": []
    },
    {
      "cell_type": "code",
      "source": [
        "!pip install python-docx\n",
        "!pip install fpdf"
      ],
      "metadata": {
        "colab": {
          "base_uri": "https://localhost:8080/"
        },
        "id": "oxGZR9AY5-Ch",
        "outputId": "9c5cafc4-0a8c-4795-c14f-b7515ead132a"
      },
      "execution_count": 3,
      "outputs": [
        {
          "output_type": "stream",
          "name": "stdout",
          "text": [
            "Collecting python-docx\n",
            "  Downloading python_docx-1.1.2-py3-none-any.whl.metadata (2.0 kB)\n",
            "Requirement already satisfied: lxml>=3.1.0 in /usr/local/lib/python3.10/dist-packages (from python-docx) (5.3.0)\n",
            "Requirement already satisfied: typing-extensions>=4.9.0 in /usr/local/lib/python3.10/dist-packages (from python-docx) (4.12.2)\n",
            "Downloading python_docx-1.1.2-py3-none-any.whl (244 kB)\n",
            "\u001b[?25l   \u001b[90m━━━━━━━━━━━━━━━━━━━━━━━━━━━━━━━━━━━━━━━━\u001b[0m \u001b[32m0.0/244.3 kB\u001b[0m \u001b[31m?\u001b[0m eta \u001b[36m-:--:--\u001b[0m\r\u001b[2K   \u001b[90m━━━━━━━━━━━━━━━━━━━━━━━━━━━━━━━━━━━━━━━━\u001b[0m \u001b[32m244.3/244.3 kB\u001b[0m \u001b[31m12.3 MB/s\u001b[0m eta \u001b[36m0:00:00\u001b[0m\n",
            "\u001b[?25hInstalling collected packages: python-docx\n",
            "Successfully installed python-docx-1.1.2\n",
            "Collecting fpdf\n",
            "  Downloading fpdf-1.7.2.tar.gz (39 kB)\n",
            "  Preparing metadata (setup.py) ... \u001b[?25l\u001b[?25hdone\n",
            "Building wheels for collected packages: fpdf\n",
            "  Building wheel for fpdf (setup.py) ... \u001b[?25l\u001b[?25hdone\n",
            "  Created wheel for fpdf: filename=fpdf-1.7.2-py2.py3-none-any.whl size=40704 sha256=b0b61cd2ea748bdc6fc495fef5e47534089d2d0d4dfa0413ff899e83208cc1e0\n",
            "  Stored in directory: /root/.cache/pip/wheels/f9/95/ba/f418094659025eb9611f17cbcaf2334236bf39a0c3453ea455\n",
            "Successfully built fpdf\n",
            "Installing collected packages: fpdf\n",
            "Successfully installed fpdf-1.7.2\n"
          ]
        }
      ]
    },
    {
      "cell_type": "code",
      "execution_count": 4,
      "metadata": {
        "id": "FgGxFvtp4yQX"
      },
      "outputs": [],
      "source": [
        "from docx import Document\n",
        "from fpdf import FPDF\n",
        "\n"
      ]
    },
    {
      "cell_type": "code",
      "source": [
        "# Load the Word document\n",
        "doc = Document(\"/content/Book01.docx\")\n",
        "\n",
        "# Clean and process the content\n",
        "def clean_text(text):\n",
        "    replacements = {\n",
        "        \"—\": \"-\", \"‘\": \"'\", \"’\": \"'\", \"“\": '\"', \"”\": '\"', \"…\": \"...\",\n",
        "    }\n",
        "    for old, new in replacements.items():\n",
        "        text = text.replace(old, new)\n",
        "    return text.strip()\n",
        "\n",
        "content = [clean_text(paragraph.text) for paragraph in doc.paragraphs if paragraph.text.strip()]"
      ],
      "metadata": {
        "id": "0xJg8WrM5n2B"
      },
      "execution_count": 40,
      "outputs": []
    },
    {
      "cell_type": "code",
      "source": [
        "import re\n",
        "\n",
        "def clean_text_for_fpdf(text):\n",
        "    # Remove non-latin-1 characters (including emojis and other Unicode symbols)\n",
        "    return re.sub(r'[^\\x00-\\xFF]+', '', text)\n",
        "\n",
        "content_cleaned = [clean_text_for_fpdf(paragraph.text.strip()) for paragraph in doc.paragraphs if paragraph.text.strip()]\n",
        "\n",
        "# Add cleaned content to PDF\n",
        "for paragraph in content_cleaned:\n",
        "    pdf.multi_cell(0, 10, paragraph)\n",
        "    pdf.ln(5)\n",
        "\n"
      ],
      "metadata": {
        "id": "QPJDBVTL_7bR"
      },
      "execution_count": 41,
      "outputs": []
    },
    {
      "cell_type": "code",
      "source": [
        "\n",
        "\n",
        "# Create the PDF\n",
        "class PDF(FPDF):\n",
        "    def header(self):\n",
        "        if self.page_no() == 1:\n",
        "            self.set_font(\"Arial\", \"B\", 16)\n",
        "            self.cell(0, 10, \"The Emotion That Moves Universes: LOVE\", ln=True, align=\"C\")\n",
        "        elif self.page_no() == 2:\n",
        "            self.set_font(\"Arial\", \"B\", 14)\n",
        "            self.cell(0, 10, \"Introduction\", ln=True, align=\"C\")\n",
        "        elif self.page_no() == 3:\n",
        "            self.set_font(\"Arial\", \"B\", 14)\n",
        "            self.cell(0, 10, \"Table of Contents\", ln=True, align=\"C\")\n",
        "\n",
        "    def footer(self):\n",
        "        self.set_y(-15)\n",
        "        self.set_font(\"Arial\", \"I\", 10)\n",
        "        self.cell(0, 10, f\"Page {self.page_no()}\", align=\"C\")\n",
        "\n",
        "pdf = PDF()\n",
        "pdf.set_auto_page_break(auto=True, margin=15)\n",
        "\n"
      ],
      "metadata": {
        "id": "2WtYZ3iU6KNF"
      },
      "execution_count": 42,
      "outputs": []
    },
    {
      "cell_type": "code",
      "source": [
        "# Add introduction\n",
        "pdf.add_page()\n",
        "intro_text = \"LOVE is universal, shaping lives and connections. This book explores its many dimensions.\"\n",
        "pdf.set_font(\"Arial\", \"\", 12)\n",
        "pdf.multi_cell(0, 10, intro_text)\n",
        "\n"
      ],
      "metadata": {
        "colab": {
          "base_uri": "https://localhost:8080/"
        },
        "id": "ucJEEwZ66Sup",
        "outputId": "c4d57ea0-56f7-4b5c-a711-19fd93f91ba7"
      },
      "execution_count": 43,
      "outputs": [
        {
          "output_type": "execute_result",
          "data": {
            "text/plain": [
              "[]"
            ]
          },
          "metadata": {},
          "execution_count": 43
        }
      ]
    },
    {
      "cell_type": "code",
      "source": [
        "# Add Table of Contents\n",
        "pdf.add_page()\n",
        "table_of_contents = [\n",
        "    \"1. A Love Story Lost\", \"2. The Unofficial Guide to Extra Marital Affairs\"\n",
        "]\n",
        "for item in table_of_contents:\n",
        "    pdf.cell(0, 10, item, ln=True)\n",
        "\n"
      ],
      "metadata": {
        "id": "kFSCqMYA6YL8"
      },
      "execution_count": 44,
      "outputs": []
    },
    {
      "cell_type": "code",
      "source": [
        "#class PDF(FPDF):\n",
        " #pdf = PDF()\n",
        "#pdf.set_auto_page_break(auto=True, margin=15)"
      ],
      "metadata": {
        "id": "hASn96ki7Je4"
      },
      "execution_count": 15,
      "outputs": []
    },
    {
      "cell_type": "code",
      "source": [
        "from os import replace\n",
        "# Add content\n",
        "pdf.add_page()\n",
        "for paragraph in content_cleaned:\n",
        "  safe_paragraph = paragraph.encode('utf-8', 'replace').decode('utf-8')\n",
        "  pdf.multi_cell(0, 10, safe_paragraph)\n",
        "  pdf.ln(5)\n",
        "\n",
        "# Save PDF\n",
        "pdf.output(\"Love and Relationships:Tales of HeartBreak, Betrayal and Second Chances.pdf\")"
      ],
      "metadata": {
        "colab": {
          "base_uri": "https://localhost:8080/",
          "height": 36
        },
        "id": "cPb3JIFj6ZpZ",
        "outputId": "f91dfe51-0605-4f43-b175-36e128b52a76"
      },
      "execution_count": 45,
      "outputs": [
        {
          "output_type": "execute_result",
          "data": {
            "text/plain": [
              "''"
            ],
            "application/vnd.google.colaboratory.intrinsic+json": {
              "type": "string"
            }
          },
          "metadata": {},
          "execution_count": 45
        }
      ]
    }
  ]
}